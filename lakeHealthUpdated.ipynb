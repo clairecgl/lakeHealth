{
 "cells": [
  {
   "cell_type": "code",
   "execution_count": 5,
   "id": "5c7d9411",
   "metadata": {},
   "outputs": [
    {
     "name": "stdout",
     "output_type": "stream",
     "text": [
      "Requirement already satisfied: statsmodels in c:\\users\\clair\\appdata\\local\\programs\\python\\python310\\lib\\site-packages (0.13.2)\n",
      "Requirement already satisfied: packaging>=21.3 in c:\\users\\clair\\appdata\\local\\programs\\python\\python310\\lib\\site-packages (from statsmodels) (21.3)\n",
      "Requirement already satisfied: scipy>=1.3 in c:\\users\\clair\\appdata\\local\\programs\\python\\python310\\lib\\site-packages (from statsmodels) (1.8.1)\n",
      "Requirement already satisfied: patsy>=0.5.2 in c:\\users\\clair\\appdata\\local\\programs\\python\\python310\\lib\\site-packages (from statsmodels) (0.5.2)\n",
      "Requirement already satisfied: pandas>=0.25 in c:\\users\\clair\\appdata\\local\\programs\\python\\python310\\lib\\site-packages (from statsmodels) (1.4.3)\n",
      "Requirement already satisfied: numpy>=1.17 in c:\\users\\clair\\appdata\\local\\programs\\python\\python310\\lib\\site-packages (from statsmodels) (1.23.0)\n",
      "Requirement already satisfied: pyparsing!=3.0.5,>=2.0.2 in c:\\users\\clair\\appdata\\local\\programs\\python\\python310\\lib\\site-packages (from packaging>=21.3->statsmodels) (3.0.9)\n",
      "Requirement already satisfied: pytz>=2020.1 in c:\\users\\clair\\appdata\\local\\programs\\python\\python310\\lib\\site-packages (from pandas>=0.25->statsmodels) (2022.1)\n",
      "Requirement already satisfied: python-dateutil>=2.8.1 in c:\\users\\clair\\appdata\\local\\programs\\python\\python310\\lib\\site-packages (from pandas>=0.25->statsmodels) (2.8.2)\n",
      "Requirement already satisfied: six in c:\\users\\clair\\appdata\\local\\programs\\python\\python310\\lib\\site-packages (from patsy>=0.5.2->statsmodels) (1.16.0)\n",
      "\n",
      "[notice] A new release of pip available: 22.1.2 -> 22.2.1\n",
      "[notice] To update, run: python.exe -m pip install --upgrade pip\n",
      "Requirement already satisfied: dash==2.6.0 in c:\\users\\clair\\appdata\\local\\programs\\python\\python310\\lib\\site-packages (2.6.0)\n",
      "Requirement already satisfied: plotly>=5.0.0 in c:\\users\\clair\\appdata\\local\\programs\\python\\python310\\lib\\site-packages (from dash==2.6.0) (5.9.0)\n",
      "Requirement already satisfied: dash-table==5.0.0 in c:\\users\\clair\\appdata\\local\\programs\\python\\python310\\lib\\site-packages (from dash==2.6.0) (5.0.0)\n",
      "Requirement already satisfied: Flask>=1.0.4 in c:\\users\\clair\\appdata\\local\\programs\\python\\python310\\lib\\site-packages (from dash==2.6.0) (2.1.3)\n",
      "Requirement already satisfied: dash-core-components==2.0.0 in c:\\users\\clair\\appdata\\local\\programs\\python\\python310\\lib\\site-packages (from dash==2.6.0) (2.0.0)\n",
      "Requirement already satisfied: dash-html-components==2.0.0 in c:\\users\\clair\\appdata\\local\\programs\\python\\python310\\lib\\site-packages (from dash==2.6.0) (2.0.0)\n",
      "Requirement already satisfied: flask-compress in c:\\users\\clair\\appdata\\local\\programs\\python\\python310\\lib\\site-packages (from dash==2.6.0) (1.12)\n",
      "Requirement already satisfied: click>=8.0 in c:\\users\\clair\\appdata\\local\\programs\\python\\python310\\lib\\site-packages (from Flask>=1.0.4->dash==2.6.0) (8.1.3)\n",
      "Requirement already satisfied: itsdangerous>=2.0 in c:\\users\\clair\\appdata\\local\\programs\\python\\python310\\lib\\site-packages (from Flask>=1.0.4->dash==2.6.0) (2.1.2)\n",
      "Requirement already satisfied: Werkzeug>=2.0 in c:\\users\\clair\\appdata\\local\\programs\\python\\python310\\lib\\site-packages (from Flask>=1.0.4->dash==2.6.0) (2.2.0)\n",
      "Requirement already satisfied: Jinja2>=3.0 in c:\\users\\clair\\appdata\\local\\programs\\python\\python310\\lib\\site-packages (from Flask>=1.0.4->dash==2.6.0) (3.1.2)\n",
      "Requirement already satisfied: tenacity>=6.2.0 in c:\\users\\clair\\appdata\\local\\programs\\python\\python310\\lib\\site-packages (from plotly>=5.0.0->dash==2.6.0) (8.0.1)\n",
      "Requirement already satisfied: brotli in c:\\users\\clair\\appdata\\local\\programs\\python\\python310\\lib\\site-packages (from flask-compress->dash==2.6.0) (1.0.9)\n",
      "Requirement already satisfied: colorama in c:\\users\\clair\\appdata\\local\\programs\\python\\python310\\lib\\site-packages (from click>=8.0->Flask>=1.0.4->dash==2.6.0) (0.4.5)\n",
      "Requirement already satisfied: MarkupSafe>=2.0 in c:\\users\\clair\\appdata\\local\\programs\\python\\python310\\lib\\site-packages (from Jinja2>=3.0->Flask>=1.0.4->dash==2.6.0) (2.1.1)\n",
      "\n",
      "[notice] A new release of pip available: 22.1.2 -> 22.2.1\n",
      "[notice] To update, run: python.exe -m pip install --upgrade pip\n"
     ]
    }
   ],
   "source": [
    "import pandas as pd\n",
    "import sqlite3\n",
    "import seaborn as sns\n",
    "import numpy as np\n",
    "import matplotlib.pyplot as plt \n",
    "from mpl_toolkits.mplot3d import Axes3D\n",
    "from scipy import stats\n",
    "from scipy.stats import ranksums\n",
    "!pip install statsmodels\n",
    "!pip install dash==2.6.0\n",
    "#!pip install mysql\n",
    "import statsmodels.api as sm\n",
    "from statsmodels.formula.api import ols\n",
    "from statsmodels.stats.multicomp import pairwise_tukeyhsd\n",
    "from matplotlib.colors import ListedColormap\n",
    "from sklearn.cluster import KMeans\n",
    "from sklearn.preprocessing import MinMaxScaler\n",
    "from sklearn.linear_model import LinearRegression\n",
    "from sklearn import datasets\n",
    "import plotly.graph_objects as go\n",
    "import dash\n",
    "import dash_core_components as dcc\n",
    "import dash_html_components as html\n",
    "from sklearn.model_selection import train_test_split \n",
    "from sklearn.linear_model import LinearRegression\n",
    "from sklearn import metrics\n",
    "import time\n",
    "import datetime\n",
    "%matplotlib inline\n",
    "\n",
    "con = sqlite3.connect('Downloads/MIRAMAR_trial_FULL.db')\n",
    "cur = con.cursor()"
   ]
  },
  {
   "cell_type": "markdown",
   "id": "461edf84",
   "metadata": {},
   "source": [
    "Creating one table that includes all of the different values which are initially stored in separate tables"
   ]
  },
  {
   "cell_type": "code",
   "execution_count": 6,
   "id": "ff8349f0",
   "metadata": {},
   "outputs": [
    {
     "data": {
      "text/html": [
       "<div>\n",
       "<style scoped>\n",
       "    .dataframe tbody tr th:only-of-type {\n",
       "        vertical-align: middle;\n",
       "    }\n",
       "\n",
       "    .dataframe tbody tr th {\n",
       "        vertical-align: top;\n",
       "    }\n",
       "\n",
       "    .dataframe thead th {\n",
       "        text-align: right;\n",
       "    }\n",
       "</style>\n",
       "<table border=\"1\" class=\"dataframe\">\n",
       "  <thead>\n",
       "    <tr style=\"text-align: right;\">\n",
       "      <th></th>\n",
       "      <th>level</th>\n",
       "      <th>timestamp</th>\n",
       "      <th>lat</th>\n",
       "      <th>lon</th>\n",
       "      <th>boat_id</th>\n",
       "      <th>degree</th>\n",
       "      <th>ppm</th>\n",
       "    </tr>\n",
       "  </thead>\n",
       "  <tbody>\n",
       "    <tr>\n",
       "      <th>292</th>\n",
       "      <td>6.61</td>\n",
       "      <td>2022-07-29 13:34:22-07:00</td>\n",
       "      <td>32.914089</td>\n",
       "      <td>-117.100055</td>\n",
       "      <td>1.0</td>\n",
       "      <td>25.50</td>\n",
       "      <td>1068.22</td>\n",
       "    </tr>\n",
       "    <tr>\n",
       "      <th>293</th>\n",
       "      <td>6.56</td>\n",
       "      <td>2022-07-29 13:34:24-07:00</td>\n",
       "      <td>32.914091</td>\n",
       "      <td>-117.100052</td>\n",
       "      <td>1.0</td>\n",
       "      <td>25.94</td>\n",
       "      <td>1062.56</td>\n",
       "    </tr>\n",
       "    <tr>\n",
       "      <th>294</th>\n",
       "      <td>6.37</td>\n",
       "      <td>2022-07-29 13:34:26-07:00</td>\n",
       "      <td>32.914090</td>\n",
       "      <td>-117.100050</td>\n",
       "      <td>1.0</td>\n",
       "      <td>26.38</td>\n",
       "      <td>1053.53</td>\n",
       "    </tr>\n",
       "    <tr>\n",
       "      <th>295</th>\n",
       "      <td>5.81</td>\n",
       "      <td>2022-07-29 13:34:28-07:00</td>\n",
       "      <td>32.914093</td>\n",
       "      <td>-117.100048</td>\n",
       "      <td>1.0</td>\n",
       "      <td>26.69</td>\n",
       "      <td>1057.95</td>\n",
       "    </tr>\n",
       "    <tr>\n",
       "      <th>296</th>\n",
       "      <td>5.89</td>\n",
       "      <td>2022-07-29 13:34:30-07:00</td>\n",
       "      <td>32.914093</td>\n",
       "      <td>-117.100047</td>\n",
       "      <td>1.0</td>\n",
       "      <td>26.94</td>\n",
       "      <td>1044.65</td>\n",
       "    </tr>\n",
       "  </tbody>\n",
       "</table>\n",
       "</div>"
      ],
      "text/plain": [
       "     level                 timestamp        lat         lon  boat_id  degree  \\\n",
       "292   6.61 2022-07-29 13:34:22-07:00  32.914089 -117.100055      1.0   25.50   \n",
       "293   6.56 2022-07-29 13:34:24-07:00  32.914091 -117.100052      1.0   25.94   \n",
       "294   6.37 2022-07-29 13:34:26-07:00  32.914090 -117.100050      1.0   26.38   \n",
       "295   5.81 2022-07-29 13:34:28-07:00  32.914093 -117.100048      1.0   26.69   \n",
       "296   5.89 2022-07-29 13:34:30-07:00  32.914093 -117.100047      1.0   26.94   \n",
       "\n",
       "         ppm  \n",
       "292  1068.22  \n",
       "293  1062.56  \n",
       "294  1053.53  \n",
       "295  1057.95  \n",
       "296  1044.65  "
      ]
     },
     "execution_count": 6,
     "metadata": {},
     "output_type": "execute_result"
    }
   ],
   "source": [
    "# joined_table\n",
    "sql = '''\n",
    "SELECT ph.level, lt.timestamp, lt.lat, lt.lon, lt.boat_id, temperature.degree, dissolved_solids.ppm\n",
    "FROM location_time AS lt \n",
    "INNER JOIN ph\n",
    "ON ph.locationtime_id = lt.id\n",
    "INNER JOIN temperature\n",
    "ON temperature.locationtime_id = lt.id\n",
    "INNER JOIN dissolved_solids\n",
    "ON dissolved_solids.locationtime_id = lt.id\n",
    "'''\n",
    "df_wtr = pd.read_sql(sql, con)\n",
    "df_wtr.head()\n",
    "\n",
    "df_wtr['ppm'] = pd.to_numeric(df_wtr['ppm'], errors = 'coerce')\n",
    "df_wtr['degree'] = pd.to_numeric(df_wtr['degree'], errors = 'coerce')\n",
    "df_wtr.dropna(inplace = True)\n",
    "\n",
    "import pytz\n",
    "from datetime import timezone\n",
    "from pytz import timezone, utc\n",
    "from datetime import datetime\n",
    "\n",
    "df_wtr.timestamp = pd.to_datetime(df_wtr.timestamp,format= '%Y-%m-%d %H:%M:%S')\n",
    "df_wtr['timestamp'] = df_wtr['timestamp'].dt.tz_localize('GMT').dt.tz_convert('America/Los_Angeles')\n",
    "df_wtr['level'] = df_wtr['level'] - 9\n",
    "df_wtr = df_wtr[df_wtr['level'] >= 4]  \n",
    "df_wtr.round(2)\n",
    "df_wtr.head()\n"
   ]
  },
  {
   "cell_type": "markdown",
   "id": "3306cac3",
   "metadata": {},
   "source": [
    "### Exploratory Data Analysis(EDA)\n",
    "Charts, graphs, relationships between features"
   ]
  },
  {
   "cell_type": "code",
   "execution_count": 7,
   "id": "9c2842d5",
   "metadata": {},
   "outputs": [
    {
     "data": {
      "image/png": "[encoded data removed]",
      "text/plain": [
       "<Figure size 576x108 with 3 Axes>"
      ]
     },
     "metadata": {
      "needs_background": "light"
     },
     "output_type": "display_data"
    }
   ],
   "source": [
    "# Establish a 3 column facet for temp, pH, and TDS\n",
    "fig, axs = plt.subplots(ncols=3, figsize=(8,1.5))\n",
    "fig.tight_layout(h_pad=10)\n",
    "\n",
    "g1 = sns.lineplot(\n",
    "    data= df_wtr, \n",
    "    x=\"timestamp\", \n",
    "    y=\"degree\",\n",
    "    ax=axs[0]\n",
    ")\n",
    "g1.figure.autofmt_xdate()\n",
    "g1.set(\n",
    "    xlabel='Timestamp (DD HH:MM)',\n",
    "    ylabel='Temperature (°C)'\n",
    ")\n",
    "\n",
    "g2 = sns.lineplot(\n",
    "    data= df_wtr, \n",
    "    x=\"timestamp\", \n",
    "    y=\"level\",\n",
    "    ax=axs[1]\n",
    ")\n",
    "g2.set(\n",
    "    xlabel='Timestamp (DD HH:MM)',\n",
    "    ylabel='pH'\n",
    ")\n",
    "g2.figure.autofmt_xdate()\n",
    "\n",
    "g3 = sns.lineplot(\n",
    "    data= df_wtr, \n",
    "    x=\"timestamp\", \n",
    "    y=\"ppm\",\n",
    "    ax=axs[2]\n",
    ")\n",
    "g3.set(\n",
    "    xlabel='Timestamp (DD HH:MM)',\n",
    "    ylabel='TDS (ppm)'\n",
    ")\n",
    "g3.figure.autofmt_xdate()"
   ]
  },
  {
   "cell_type": "code",
   "execution_count": 8,
   "id": "6e608a83",
   "metadata": {},
   "outputs": [
    {
     "data": {
      "text/html": [
       "<div>\n",
       "<style scoped>\n",
       "    .dataframe tbody tr th:only-of-type {\n",
       "        vertical-align: middle;\n",
       "    }\n",
       "\n",
       "    .dataframe tbody tr th {\n",
       "        vertical-align: top;\n",
       "    }\n",
       "\n",
       "    .dataframe thead th {\n",
       "        text-align: right;\n",
       "    }\n",
       "</style>\n",
       "<table border=\"1\" class=\"dataframe\">\n",
       "  <thead>\n",
       "    <tr style=\"text-align: right;\">\n",
       "      <th></th>\n",
       "      <th>level</th>\n",
       "      <th>timestamp</th>\n",
       "      <th>lat</th>\n",
       "      <th>lon</th>\n",
       "      <th>boat_id</th>\n",
       "      <th>degree</th>\n",
       "      <th>ppm</th>\n",
       "      <th>transect category</th>\n",
       "      <th>transect</th>\n",
       "    </tr>\n",
       "  </thead>\n",
       "  <tbody>\n",
       "    <tr>\n",
       "      <th>292</th>\n",
       "      <td>6.61</td>\n",
       "      <td>2022-07-29 13:34:22-07:00</td>\n",
       "      <td>32.914089</td>\n",
       "      <td>-117.100055</td>\n",
       "      <td>1.0</td>\n",
       "      <td>25.50</td>\n",
       "      <td>1068.22</td>\n",
       "      <td>Transect 1</td>\n",
       "      <td>transect category</td>\n",
       "    </tr>\n",
       "    <tr>\n",
       "      <th>293</th>\n",
       "      <td>6.56</td>\n",
       "      <td>2022-07-29 13:34:24-07:00</td>\n",
       "      <td>32.914091</td>\n",
       "      <td>-117.100052</td>\n",
       "      <td>1.0</td>\n",
       "      <td>25.94</td>\n",
       "      <td>1062.56</td>\n",
       "      <td>Transect 1</td>\n",
       "      <td>transect category</td>\n",
       "    </tr>\n",
       "    <tr>\n",
       "      <th>294</th>\n",
       "      <td>6.37</td>\n",
       "      <td>2022-07-29 13:34:26-07:00</td>\n",
       "      <td>32.914090</td>\n",
       "      <td>-117.100050</td>\n",
       "      <td>1.0</td>\n",
       "      <td>26.38</td>\n",
       "      <td>1053.53</td>\n",
       "      <td>Transect 1</td>\n",
       "      <td>transect category</td>\n",
       "    </tr>\n",
       "    <tr>\n",
       "      <th>295</th>\n",
       "      <td>5.81</td>\n",
       "      <td>2022-07-29 13:34:28-07:00</td>\n",
       "      <td>32.914093</td>\n",
       "      <td>-117.100048</td>\n",
       "      <td>1.0</td>\n",
       "      <td>26.69</td>\n",
       "      <td>1057.95</td>\n",
       "      <td>Transect 1</td>\n",
       "      <td>transect category</td>\n",
       "    </tr>\n",
       "    <tr>\n",
       "      <th>296</th>\n",
       "      <td>5.89</td>\n",
       "      <td>2022-07-29 13:34:30-07:00</td>\n",
       "      <td>32.914093</td>\n",
       "      <td>-117.100047</td>\n",
       "      <td>1.0</td>\n",
       "      <td>26.94</td>\n",
       "      <td>1044.65</td>\n",
       "      <td>Transect 1</td>\n",
       "      <td>transect category</td>\n",
       "    </tr>\n",
       "  </tbody>\n",
       "</table>\n",
       "</div>"
      ],
      "text/plain": [
       "     level                 timestamp        lat         lon  boat_id  degree  \\\n",
       "292   6.61 2022-07-29 13:34:22-07:00  32.914089 -117.100055      1.0   25.50   \n",
       "293   6.56 2022-07-29 13:34:24-07:00  32.914091 -117.100052      1.0   25.94   \n",
       "294   6.37 2022-07-29 13:34:26-07:00  32.914090 -117.100050      1.0   26.38   \n",
       "295   5.81 2022-07-29 13:34:28-07:00  32.914093 -117.100048      1.0   26.69   \n",
       "296   5.89 2022-07-29 13:34:30-07:00  32.914093 -117.100047      1.0   26.94   \n",
       "\n",
       "         ppm transect category           transect  \n",
       "292  1068.22        Transect 1  transect category  \n",
       "293  1062.56        Transect 1  transect category  \n",
       "294  1053.53        Transect 1  transect category  \n",
       "295  1057.95        Transect 1  transect category  \n",
       "296  1044.65        Transect 1  transect category  "
      ]
     },
     "execution_count": 8,
     "metadata": {},
     "output_type": "execute_result"
    }
   ],
   "source": [
    "df_wtr['transect category'] = \"Transect 1\"\n",
    "df_wtr.loc[df_wtr['timestamp'] > \"2022-07-29 13:45:00\", \"transect category\"] = \"Transect 2\"\n",
    "df_wtr.loc[df_wtr['timestamp'] > \"2022-07-29 14:35:00\", \"transect category\"] = \"Transect 3\"\n",
    "df_wtr['transect'] = \"transect category\"\n",
    "df_wtr.head()"
   ]
  },
  {
   "cell_type": "markdown",
   "id": "5f333de2",
   "metadata": {},
   "source": [
    "### Pairplot \n",
    "to see if one of the features seems to be able to predict another"
   ]
  },
  {
   "cell_type": "code",
   "execution_count": 9,
   "id": "08d5d4eb",
   "metadata": {},
   "outputs": [
    {
     "data": {
      "text/plain": [
       "<seaborn.axisgrid.PairGrid at 0x1e4474d1630>"
      ]
     },
     "execution_count": 9,
     "metadata": {},
     "output_type": "execute_result"
    },
    {
     "data": {
      "image/png": "[encoded data removed]",
      "text/plain": [
       "<Figure size 744.375x432 with 12 Axes>"
      ]
     },
     "metadata": {
      "needs_background": "light"
     },
     "output_type": "display_data"
    }
   ],
   "source": [
    "df_wtr_features = df_wtr[['level', 'degree', 'ppm', 'transect category']]\n",
    "sns.pairplot(\n",
    "    data = df_wtr_features,\n",
    "  #  palette=sns.color_palette(palette = colors, n_colors=2),\n",
    "    height = 2, \n",
    "    aspect = 1.5,\n",
    "    hue = \"transect category\"\n",
    ")"
   ]
  },
  {
   "cell_type": "markdown",
   "id": "36c59a9c",
   "metadata": {},
   "source": [
    "level vs ppm appears to have a positive linear correlation. No other relationships are clear at this point. "
   ]
  },
  {
   "cell_type": "markdown",
   "id": "b8eee438",
   "metadata": {},
   "source": [
    "### Correlation Plot"
   ]
  },
  {
   "cell_type": "code",
   "execution_count": 10,
   "id": "801c4b31",
   "metadata": {},
   "outputs": [
    {
     "name": "stderr",
     "output_type": "stream",
     "text": [
      "C:\\Users\\clair\\AppData\\Local\\Temp\\ipykernel_20752\\3221601038.py:2: FutureWarning: this method is deprecated in favour of `Styler.format(precision=..)`\n",
      "  corr.style.background_gradient(cmap='coolwarm').set_precision(2)\n"
     ]
    },
    {
     "data": {
      "text/html": [
       "<style type=\"text/css\">\n",
       "#T_1de00_row0_col0, #T_1de00_row1_col1, #T_1de00_row2_col2 {\n",
       "  background-color: #b40426;\n",
       "  color: #f1f1f1;\n",
       "}\n",
       "#T_1de00_row0_col1 {\n",
       "  background-color: #82a6fb;\n",
       "  color: #f1f1f1;\n",
       "}\n",
       "#T_1de00_row0_col2 {\n",
       "  background-color: #81a4fb;\n",
       "  color: #f1f1f1;\n",
       "}\n",
       "#T_1de00_row1_col0, #T_1de00_row1_col2, #T_1de00_row2_col0, #T_1de00_row2_col1 {\n",
       "  background-color: #3b4cc0;\n",
       "  color: #f1f1f1;\n",
       "}\n",
       "</style>\n",
       "<table id=\"T_1de00\">\n",
       "  <thead>\n",
       "    <tr>\n",
       "      <th class=\"blank level0\" >&nbsp;</th>\n",
       "      <th id=\"T_1de00_level0_col0\" class=\"col_heading level0 col0\" >level</th>\n",
       "      <th id=\"T_1de00_level0_col1\" class=\"col_heading level0 col1\" >degree</th>\n",
       "      <th id=\"T_1de00_level0_col2\" class=\"col_heading level0 col2\" >ppm</th>\n",
       "    </tr>\n",
       "  </thead>\n",
       "  <tbody>\n",
       "    <tr>\n",
       "      <th id=\"T_1de00_level0_row0\" class=\"row_heading level0 row0\" >level</th>\n",
       "      <td id=\"T_1de00_row0_col0\" class=\"data row0 col0\" >1.00</td>\n",
       "      <td id=\"T_1de00_row0_col1\" class=\"data row0 col1\" >0.20</td>\n",
       "      <td id=\"T_1de00_row0_col2\" class=\"data row0 col2\" >0.19</td>\n",
       "    </tr>\n",
       "    <tr>\n",
       "      <th id=\"T_1de00_level0_row1\" class=\"row_heading level0 row1\" >degree</th>\n",
       "      <td id=\"T_1de00_row1_col0\" class=\"data row1 col0\" >0.20</td>\n",
       "      <td id=\"T_1de00_row1_col1\" class=\"data row1 col1\" >1.00</td>\n",
       "      <td id=\"T_1de00_row1_col2\" class=\"data row1 col2\" >-0.03</td>\n",
       "    </tr>\n",
       "    <tr>\n",
       "      <th id=\"T_1de00_level0_row2\" class=\"row_heading level0 row2\" >ppm</th>\n",
       "      <td id=\"T_1de00_row2_col0\" class=\"data row2 col0\" >0.19</td>\n",
       "      <td id=\"T_1de00_row2_col1\" class=\"data row2 col1\" >-0.03</td>\n",
       "      <td id=\"T_1de00_row2_col2\" class=\"data row2 col2\" >1.00</td>\n",
       "    </tr>\n",
       "  </tbody>\n",
       "</table>\n"
      ],
      "text/plain": [
       "<pandas.io.formats.style.Styler at 0x1e446b482b0>"
      ]
     },
     "execution_count": 10,
     "metadata": {},
     "output_type": "execute_result"
    }
   ],
   "source": [
    "corr = df_wtr[['level', 'degree', 'ppm']].corr()\n",
    "corr.style.background_gradient(cmap='coolwarm').set_precision(2)"
   ]
  },
  {
   "cell_type": "markdown",
   "id": "833b5c2a",
   "metadata": {},
   "source": [
    "### Density map \n",
    "to display severity of features at correct lon and lat on map"
   ]
  },
  {
   "cell_type": "code",
   "execution_count": 31,
   "id": "f9f93aad",
   "metadata": {},
   "outputs": [
    {
     "data": {
      "application/vnd.plotly.v1+json": {
       "config": {
        "plotlyServerURL": "https://plot.ly"
       },
       "data": [
        {
         "customdata": [
          [
           1,
           6.609999999999999,
           25.5,
           1068.22,
           "2022-07-29T13:34:22-07:00",
           "Transect 1"
          ],
          [
           1,
           6.5600000000000005,
           25.94,
           1062.56,
           "2022-07-29T13:34:24-07:00",
           "Transect 1"
          ],
          [
           1,
           6.369999999999999,
           26.38,
           1053.53,
           "2022-07-29T13:34:26-07:00",
           "Transect 1"
          ],
          [
           1,
           5.8100000000000005,
           26.69,
           1057.95,
           "2022-07-29T13:34:28-07:00",
           "Transect 1"
          ],
          [
           1,
           5.890000000000001,
           26.94,
           1044.65,
           "2022-07-29T13:34:30-07:00",
           "Transect 1"
          ],
          [
           1,
           5.35,
           27.06,
           1050.34,
           "2022-07-29T13:34:32-07:00",
           "Transect 1"
          ],
          [
           1,
           6.0600000000000005,
           27.25,
           1052.56,
           "2022-07-29T13:34:32-07:00",
           "Transect 1"
          ],
          [
           1,
           6.17,
           27.19,
           1051.3,
           "2022-07-29T13:34:38-07:00",
           "Transect 1"
          ],
          [
           1,
           5.960000000000001,
           27.38,
           1044.08,
           "2022-07-29T13:34:38-07:00",
           "Transect 1"
          ],
          [
           1,
           6.41,
           27.38,
           1046.57,
           "2022-07-29T13:34:42-07:00",
           "Transect 1"
          ],
          [
           1,
           6.02,
           27.5,
           1032.23,
           "2022-07-29T13:34:42-07:00",
           "Transect 1"
          ],
          [
           1,
           5.91,
           27.56,
           1032.23,
           "2022-07-29T13:34:46-07:00",
           "Transect 1"
          ],
          [
           1,
           6.3100000000000005,
           27.5,
           1034.69,
           "2022-07-29T13:34:46-07:00",
           "Transect 1"
          ],
          [
           1,
           6.029999999999999,
           27.63,
           1031.01,
           "2022-07-29T13:34:50-07:00",
           "Transect 1"
          ],
          [
           1,
           6.140000000000001,
           27.63,
           1045.05,
           "2022-07-29T13:34:50-07:00",
           "Transect 1"
          ],
          [
           1,
           6.09,
           27.63,
           1031.01,
           "2022-07-29T13:34:50-07:00",
           "Transect 1"
          ],
          [
           1,
           5.85,
           27.63,
           1035.68,
           "2022-07-29T13:34:56-07:00",
           "Transect 1"
          ],
          [
           1,
           5.720000000000001,
           27.56,
           1039.13,
           "2022-07-29T13:34:58-07:00",
           "Transect 1"
          ],
          [
           1,
           5.93,
           27.56,
           1034.45,
           "2022-07-29T13:35:00-07:00",
           "Transect 1"
          ],
          [
           1,
           6.0600000000000005,
           27.56,
           1029.78,
           "2022-07-29T13:35:02-07:00",
           "Transect 1"
          ],
          [
           1,
           5.42,
           27.69,
           1037.89,
           "2022-07-29T13:35:04-07:00",
           "Transect 1"
          ],
          [
           1,
           5.77,
           27.69,
           1034.45,
           "2022-07-29T13:35:06-07:00",
           "Transect 1"
          ],
          [
           1,
           5.84,
           27.75,
           1028.56,
           "2022-07-29T13:35:08-07:00",
           "Transect 1"
          ],
          [
           1,
           5.65,
           27.75,
           1033.22,
           "2022-07-29T13:35:08-07:00",
           "Transect 1"
          ],
          [
           1,
           5.460000000000001,
           27.63,
           1042.58,
           "2022-07-29T13:35:14-07:00",
           "Transect 1"
          ],
          [
           1,
           5.84,
           27.75,
           983.79,
           "2022-07-29T13:35:14-07:00",
           "Transect 1"
          ],
          [
           1,
           6.43,
           27.69,
           975.88,
           "2022-07-29T13:35:18-07:00",
           "Transect 1"
          ],
          [
           1,
           6.140000000000001,
           27.75,
           984.96,
           "2022-07-29T13:35:18-07:00",
           "Transect 1"
          ],
          [
           1,
           6.07,
           27.75,
           1033.22,
           "2022-07-29T13:35:22-07:00",
           "Transect 1"
          ],
          [
           1,
           5.890000000000001,
           27.75,
           1042.58,
           "2022-07-29T13:35:22-07:00",
           "Transect 1"
          ],
          [
           1,
           5.9399999999999995,
           27.75,
           1037.89,
           "2022-07-29T13:35:26-07:00",
           "Transect 1"
          ],
          [
           1,
           6.16,
           27.63,
           1042.58,
           "2022-07-29T13:35:26-07:00",
           "Transect 1"
          ],
          [
           1,
           5.76,
           27.75,
           1037.89,
           "2022-07-29T13:35:26-07:00",
           "Transect 1"
          ],
          [
           1,
           5.49,
           27.63,
           1037.89,
           "2022-07-29T13:35:32-07:00",
           "Transect 1"
          ],
          [
           1,
           5.99,
           27.81,
           1037.89,
           "2022-07-29T13:35:34-07:00",
           "Transect 1"
          ],
          [
           1,
           6.3100000000000005,
           27.69,
           1037.89,
           "2022-07-29T13:35:36-07:00",
           "Transect 1"
          ],
          [
           1,
           6.5600000000000005,
           27.75,
           1037.89,
           "2022-07-29T13:35:38-07:00",
           "Transect 1"
          ],
          [
           1,
           7.629999999999999,
           25.5,
           1023.87,
           "2022-07-29T13:36:08-07:00",
           "Transect 1"
          ],
          [
           1,
           7.27,
           26,
           1068.68,
           "2022-07-29T13:36:10-07:00",
           "Transect 1"
          ],
          [
           1,
           6.449999999999999,
           26.44,
           1067.88,
           "2022-07-29T13:36:12-07:00",
           "Transect 1"
          ],
          [
           1,
           6.07,
           26.75,
           1051.92,
           "2022-07-29T13:36:14-07:00",
           "Transect 1"
          ],
          [
           1,
           6.220000000000001,
           27,
           1057.62,
           "2022-07-29T13:36:16-07:00",
           "Transect 1"
          ],
          [
           1,
           5.93,
           27.06,
           1058.56,
           "2022-07-29T13:36:18-07:00",
           "Transect 1"
          ],
          [
           1,
           5.99,
           27.31,
           1052.56,
           "2022-07-29T13:36:20-07:00",
           "Transect 1"
          ],
          [
           1,
           5.8100000000000005,
           27.38,
           1050.04,
           "2022-07-29T13:36:20-07:00",
           "Transect 1"
          ],
          [
           1,
           5.449999999999999,
           27.5,
           1056.99,
           "2022-07-29T13:36:26-07:00",
           "Transect 1"
          ],
          [
           1,
           6.48,
           27.44,
           985.1,
           "2022-07-29T13:36:26-07:00",
           "Transect 1"
          ],
          [
           1,
           5.869999999999999,
           27.5,
           1047.54,
           "2022-07-29T13:36:30-07:00",
           "Transect 1"
          ],
          [
           1,
           5.970000000000001,
           27.56,
           1041.6,
           "2022-07-29T13:36:30-07:00",
           "Transect 1"
          ],
          [
           1,
           5.8100000000000005,
           27.56,
           1040.36,
           "2022-07-29T13:36:34-07:00",
           "Transect 1"
          ],
          [
           1,
           5.91,
           27.63,
           1049.76,
           "2022-07-29T13:36:34-07:00",
           "Transect 1"
          ],
          [
           1,
           5.76,
           27.63,
           1034.45,
           "2022-07-29T13:36:38-07:00",
           "Transect 1"
          ],
          [
           1,
           6.27,
           27.69,
           999.84,
           "2022-07-29T13:36:38-07:00",
           "Transect 1"
          ],
          [
           1,
           6.25,
           27.56,
           1051.01,
           "2022-07-29T13:36:38-07:00",
           "Transect 1"
          ],
          [
           1,
           6.18,
           27.63,
           1031.01,
           "2022-07-29T13:36:44-07:00",
           "Transect 1"
          ],
          [
           1,
           5.59,
           27.75,
           1042.58,
           "2022-07-29T13:36:46-07:00",
           "Transect 1"
          ],
          [
           1,
           6.23,
           27.69,
           984.96,
           "2022-07-29T13:36:48-07:00",
           "Transect 1"
          ],
          [
           1,
           5.640000000000001,
           27.75,
           1037.89,
           "2022-07-29T13:36:50-07:00",
           "Transect 1"
          ],
          [
           1,
           5.609999999999999,
           27.75,
           1033.22,
           "2022-07-29T13:36:52-07:00",
           "Transect 1"
          ],
          [
           1,
           5.529999999999999,
           27.69,
           1042.58,
           "2022-07-29T13:36:54-07:00",
           "Transect 1"
          ],
          [
           1,
           5.93,
           27.69,
           1037.89,
           "2022-07-29T13:36:56-07:00",
           "Transect 1"
          ],
          [
           1,
           6.34,
           27.63,
           1056.71,
           "2022-07-29T13:36:56-07:00",
           "Transect 1"
          ]
         ],
         "hovertemplate": "transect category=%{customdata[5]}<br>lat=%{lat}<br>lon=%{lon}<br>boat_id=%{customdata[0]}<br>level=%{customdata[1]}<br>degree=%{customdata[2]}<br>ppm=%{customdata[3]}<br>timestamp=%{customdata[4]}<extra></extra>",
         "lat": [
          32.914089,
          32.914091,
          32.91409,
          32.914093,
          32.914093,
          32.914091,
          32.914091,
          32.914084,
          32.914084,
          32.914083,
          32.914083,
          32.914084,
          32.914084,
          32.914086,
          32.914086,
          32.914086,
          32.914087,
          32.914087,
          32.914088,
          32.91409,
          32.914091,
          32.914093,
          32.914092,
          32.914092,
          32.914095,
          32.914095,
          32.914094,
          32.914094,
          32.91409,
          32.91409,
          32.914088,
          32.914088,
          32.914088,
          32.914074,
          32.914072,
          32.914071,
          32.914072,
          32.914079,
          32.914079,
          32.914077,
          32.914074,
          32.914072,
          32.914074,
          32.914073,
          32.914073,
          32.914077,
          32.914077,
          32.914076,
          32.914076,
          32.914072,
          32.914072,
          32.91407,
          32.91407,
          32.91407,
          32.914066,
          32.914067,
          32.914067,
          32.914066,
          32.914067,
          32.914068,
          32.914069,
          32.914069
         ],
         "legendgroup": "Transect 1",
         "lon": [
          -117.100055,
          -117.100052,
          -117.10005,
          -117.100048,
          -117.100047,
          -117.100047,
          -117.100047,
          -117.100058,
          -117.100058,
          -117.100059,
          -117.100059,
          -117.100054,
          -117.100054,
          -117.100054,
          -117.100054,
          -117.100054,
          -117.100054,
          -117.100052,
          -117.100051,
          -117.100049,
          -117.10005,
          -117.100051,
          -117.10005,
          -117.10005,
          -117.100043,
          -117.100043,
          -117.100041,
          -117.100041,
          -117.10004,
          -117.10004,
          -117.100043,
          -117.100043,
          -117.100043,
          -117.100046,
          -117.100043,
          -117.100044,
          -117.100048,
          -117.100068,
          -117.100069,
          -117.100069,
          -117.100067,
          -117.10006,
          -117.100056,
          -117.100058,
          -117.100058,
          -117.100059,
          -117.100059,
          -117.100057,
          -117.100057,
          -117.100056,
          -117.100056,
          -117.100054,
          -117.100054,
          -117.100054,
          -117.100052,
          -117.100052,
          -117.100052,
          -117.100049,
          -117.100048,
          -117.100047,
          -117.100048,
          -117.100048
         ],
         "marker": {
          "color": "#636efa"
         },
         "mode": "markers",
         "name": "Transect 1",
         "showlegend": true,
         "subplot": "mapbox",
         "type": "scattermapbox"
        },
        {
         "customdata": [
          [
           1,
           9.27,
           25.44,
           1084.14,
           "2022-07-29T13:49:36-07:00",
           "Transect 2"
          ],
          [
           1,
           7.079999999999998,
           25.94,
           1081.88,
           "2022-07-29T13:49:38-07:00",
           "Transect 2"
          ],
          [
           1,
           6.91,
           26.38,
           1063.09,
           "2022-07-29T13:49:40-07:00",
           "Transect 2"
          ],
          [
           1,
           6.85,
           26.63,
           1066.22,
           "2022-07-29T13:49:42-07:00",
           "Transect 2"
          ],
          [
           1,
           6.550000000000001,
           27,
           1067.16,
           "2022-07-29T13:49:42-07:00",
           "Transect 2"
          ],
          [
           1,
           7.02,
           27.13,
           1061.1,
           "2022-07-29T13:49:42-07:00",
           "Transect 2"
          ],
          [
           1,
           5.9399999999999995,
           27.19,
           1070.32,
           "2022-07-29T13:49:50-07:00",
           "Transect 2"
          ],
          [
           1,
           6.26,
           27.38,
           1059.52,
           "2022-07-29T13:49:50-07:00",
           "Transect 2"
          ],
          [
           1,
           6.119999999999999,
           27.44,
           1052.26,
           "2022-07-29T13:49:54-07:00",
           "Transect 2"
          ],
          [
           1,
           6.24,
           27.56,
           1001.03,
           "2022-07-29T13:49:54-07:00",
           "Transect 2"
          ],
          [
           1,
           5.99,
           27.56,
           1055.74,
           "2022-07-29T13:49:58-07:00",
           "Transect 2"
          ],
          [
           1,
           6.65,
           27.63,
           1046.3,
           "2022-07-29T13:49:58-07:00",
           "Transect 2"
          ],
          [
           1,
           6.289999999999999,
           27.69,
           1039.13,
           "2022-07-29T13:50:02-07:00",
           "Transect 2"
          ],
          [
           1,
           6.9,
           27.56,
           1057.96,
           "2022-07-29T13:50:02-07:00",
           "Transect 2"
          ],
          [
           1,
           7.23,
           27.75,
           1053.23,
           "2022-07-29T13:50:06-07:00",
           "Transect 2"
          ],
          [
           1,
           7.390000000000001,
           27.69,
           1042.58,
           "2022-07-29T13:50:08-07:00",
           "Transect 2"
          ],
          [
           1,
           7.239999999999998,
           27.63,
           1056.71,
           "2022-07-29T13:50:10-07:00",
           "Transect 2"
          ],
          [
           1,
           7.640000000000001,
           27.63,
           1048.52,
           "2022-07-29T13:50:12-07:00",
           "Transect 2"
          ],
          [
           1,
           6.609999999999999,
           27.63,
           1061.44,
           "2022-07-29T13:50:14-07:00",
           "Transect 2"
          ],
          [
           1,
           6.8100000000000005,
           27.75,
           1056.71,
           "2022-07-29T13:50:16-07:00",
           "Transect 2"
          ],
          [
           1,
           6.5600000000000005,
           27.75,
           1053.23,
           "2022-07-29T13:50:18-07:00",
           "Transect 2"
          ],
          [
           1,
           6.98,
           27.56,
           1054.48,
           "2022-07-29T13:50:18-07:00",
           "Transect 2"
          ],
          [
           1,
           6.48,
           27.75,
           1047.27,
           "2022-07-29T13:50:18-07:00",
           "Transect 2"
          ],
          [
           1,
           6.48,
           27.75,
           987.17,
           "2022-07-29T13:50:26-07:00",
           "Transect 2"
          ],
          [
           1,
           6.07,
           27.69,
           994.08,
           "2022-07-29T13:50:26-07:00",
           "Transect 2"
          ],
          [
           1,
           6.289999999999999,
           27.69,
           1047.27,
           "2022-07-29T13:50:30-07:00",
           "Transect 2"
          ],
          [
           1,
           6.15,
           27.75,
           1061.44,
           "2022-07-29T13:50:30-07:00",
           "Transect 2"
          ],
          [
           1,
           6.09,
           27.75,
           1047.27,
           "2022-07-29T13:50:34-07:00",
           "Transect 2"
          ],
          [
           1,
           6.48,
           27.75,
           1042.58,
           "2022-07-29T13:50:34-07:00",
           "Transect 2"
          ],
          [
           1,
           6.02,
           27.75,
           1051.98,
           "2022-07-29T13:50:38-07:00",
           "Transect 2"
          ],
          [
           1,
           6.16,
           27.81,
           1061.44,
           "2022-07-29T13:50:38-07:00",
           "Transect 2"
          ],
          [
           1,
           6.1,
           27.69,
           1042.58,
           "2022-07-29T13:50:42-07:00",
           "Transect 2"
          ],
          [
           1,
           6.220000000000001,
           27.81,
           1046.04,
           "2022-07-29T13:50:44-07:00",
           "Transect 2"
          ],
          [
           1,
           6.15,
           27.69,
           1050.74,
           "2022-07-29T13:50:46-07:00",
           "Transect 2"
          ],
          [
           1,
           6.15,
           27.75,
           1041.34,
           "2022-07-29T13:50:48-07:00",
           "Transect 2"
          ],
          [
           1,
           6.23,
           27.75,
           1047.27,
           "2022-07-29T13:50:50-07:00",
           "Transect 2"
          ],
          [
           1,
           6.17,
           27.69,
           1051.98,
           "2022-07-29T13:50:52-07:00",
           "Transect 2"
          ],
          [
           1,
           6.119999999999999,
           27.81,
           1047.27,
           "2022-07-29T13:50:54-07:00",
           "Transect 2"
          ],
          [
           1,
           6.07,
           27.69,
           1046.04,
           "2022-07-29T13:50:56-07:00",
           "Transect 2"
          ],
          [
           1,
           6.630000000000001,
           27.81,
           1046.04,
           "2022-07-29T13:50:56-07:00",
           "Transect 2"
          ],
          [
           1,
           6.5600000000000005,
           27.81,
           1051.98,
           "2022-07-29T13:51:02-07:00",
           "Transect 2"
          ],
          [
           1,
           6.6,
           27.81,
           1041.34,
           "2022-07-29T13:51:02-07:00",
           "Transect 2"
          ],
          [
           1,
           6.6899999999999995,
           27.75,
           1053.23,
           "2022-07-29T13:51:06-07:00",
           "Transect 2"
          ],
          [
           1,
           6.380000000000001,
           27.88,
           1046.04,
           "2022-07-29T13:51:06-07:00",
           "Transect 2"
          ],
          [
           1,
           6.33,
           27.75,
           1050.74,
           "2022-07-29T13:51:10-07:00",
           "Transect 2"
          ],
          [
           1,
           6.869999999999999,
           27.81,
           1002.05,
           "2022-07-29T13:51:10-07:00",
           "Transect 2"
          ],
          [
           1,
           5.99,
           27.75,
           1055.45,
           "2022-07-29T13:51:14-07:00",
           "Transect 2"
          ],
          [
           1,
           6.32,
           27.69,
           1050.74,
           "2022-07-29T13:51:14-07:00",
           "Transect 2"
          ],
          [
           1,
           6.02,
           27.69,
           1060.18,
           "2022-07-29T13:51:14-07:00",
           "Transect 2"
          ],
          [
           1,
           6.390000000000001,
           27.75,
           1042.58,
           "2022-07-29T13:51:20-07:00",
           "Transect 2"
          ],
          [
           1,
           6.300000000000001,
           27.75,
           1060.18,
           "2022-07-29T13:51:22-07:00",
           "Transect 2"
          ],
          [
           1,
           6.09,
           27.69,
           1046.04,
           "2022-07-29T13:51:24-07:00",
           "Transect 2"
          ],
          [
           1,
           6.27,
           27.81,
           1060.18,
           "2022-07-29T13:51:26-07:00",
           "Transect 2"
          ],
          [
           1,
           5.960000000000001,
           27.69,
           1047.27,
           "2022-07-29T13:51:28-07:00",
           "Transect 2"
          ],
          [
           1,
           6.119999999999999,
           27.75,
           1046.04,
           "2022-07-29T13:51:30-07:00",
           "Transect 2"
          ],
          [
           1,
           6.02,
           27.81,
           1047.27,
           "2022-07-29T13:51:32-07:00",
           "Transect 2"
          ],
          [
           1,
           5.880000000000001,
           27.75,
           1051.98,
           "2022-07-29T13:51:32-07:00",
           "Transect 2"
          ],
          [
           1,
           5.890000000000001,
           27.81,
           1056.71,
           "2022-07-29T13:51:38-07:00",
           "Transect 2"
          ],
          [
           1,
           5.77,
           27.69,
           1047.27,
           "2022-07-29T13:51:42-07:00",
           "Transect 2"
          ],
          [
           1,
           5.9399999999999995,
           27.69,
           1051.98,
           "2022-07-29T13:51:42-07:00",
           "Transect 2"
          ],
          [
           1,
           6.029999999999999,
           27.69,
           1046.04,
           "2022-07-29T13:51:46-07:00",
           "Transect 2"
          ],
          [
           1,
           6.07,
           27.81,
           1053.23,
           "2022-07-29T13:51:46-07:00",
           "Transect 2"
          ],
          [
           1,
           6.029999999999999,
           27.81,
           1036.67,
           "2022-07-29T13:51:50-07:00",
           "Transect 2"
          ],
          [
           1,
           6.279999999999999,
           27.81,
           1002.05,
           "2022-07-29T13:51:50-07:00",
           "Transect 2"
          ],
          [
           1,
           5.91,
           27.69,
           1056.71,
           "2022-07-29T13:51:50-07:00",
           "Transect 2"
          ],
          [
           1,
           6.470000000000001,
           27.69,
           1006.64,
           "2022-07-29T13:51:56-07:00",
           "Transect 2"
          ],
          [
           1,
           5.890000000000001,
           27.75,
           1047.27,
           "2022-07-29T13:51:58-07:00",
           "Transect 2"
          ],
          [
           1,
           6.4399999999999995,
           27.75,
           994.08,
           "2022-07-29T13:52:00-07:00",
           "Transect 2"
          ],
          [
           1,
           5.85,
           27.69,
           1050.74,
           "2022-07-29T13:52:02-07:00",
           "Transect 2"
          ],
          [
           1,
           6.779999999999999,
           27.81,
           1043.82,
           "2022-07-29T13:52:04-07:00",
           "Transect 2"
          ],
          [
           1,
           5.869999999999999,
           27.81,
           1051.98,
           "2022-07-29T13:52:06-07:00",
           "Transect 2"
          ],
          [
           1,
           6.289999999999999,
           27.81,
           1046.04,
           "2022-07-29T13:52:08-07:00",
           "Transect 2"
          ],
          [
           1,
           6.07,
           27.81,
           1050.74,
           "2022-07-29T13:52:08-07:00",
           "Transect 2"
          ],
          [
           1,
           6.15,
           27.69,
           1046.04,
           "2022-07-29T13:52:14-07:00",
           "Transect 2"
          ],
          [
           1,
           6.58,
           27.81,
           1057.96,
           "2022-07-29T13:52:18-07:00",
           "Transect 2"
          ],
          [
           1,
           6.140000000000001,
           27.81,
           1050.74,
           "2022-07-29T13:52:18-07:00",
           "Transect 2"
          ],
          [
           1,
           6.23,
           27.81,
           1056.71,
           "2022-07-29T13:52:22-07:00",
           "Transect 2"
          ],
          [
           1,
           6.5600000000000005,
           27.81,
           1053.23,
           "2022-07-29T13:52:22-07:00",
           "Transect 2"
          ],
          [
           1,
           6.24,
           27.81,
           1055.45,
           "2022-07-29T13:52:26-07:00",
           "Transect 2"
          ],
          [
           1,
           6.49,
           27.81,
           1039.13,
           "2022-07-29T13:52:26-07:00",
           "Transect 2"
          ],
          [
           1,
           5.970000000000001,
           27.81,
           1055.45,
           "2022-07-29T13:52:26-07:00",
           "Transect 2"
          ],
          [
           1,
           5.92,
           27.81,
           1061.44,
           "2022-07-29T13:52:32-07:00",
           "Transect 2"
          ],
          [
           1,
           5.9399999999999995,
           27.69,
           1046.04,
           "2022-07-29T13:52:34-07:00",
           "Transect 2"
          ],
          [
           1,
           6.220000000000001,
           27.75,
           1050.74,
           "2022-07-29T13:52:36-07:00",
           "Transect 2"
          ],
          [
           1,
           6.859999999999999,
           27.69,
           1039.13,
           "2022-07-29T13:52:38-07:00",
           "Transect 2"
          ],
          [
           1,
           6.039999999999999,
           27.63,
           1060.18,
           "2022-07-29T13:52:40-07:00",
           "Transect 2"
          ],
          [
           1,
           6.119999999999999,
           27.69,
           1051.98,
           "2022-07-29T13:52:42-07:00",
           "Transect 2"
          ],
          [
           1,
           6.029999999999999,
           27.69,
           1051.98,
           "2022-07-29T13:52:44-07:00",
           "Transect 2"
          ],
          [
           1,
           6.279999999999999,
           27.63,
           1061.44,
           "2022-07-29T13:52:44-07:00",
           "Transect 2"
          ],
          [
           1,
           6.35,
           27.81,
           1060.18,
           "2022-07-29T13:52:50-07:00",
           "Transect 2"
          ],
          [
           1,
           6.9,
           27.63,
           1062.7,
           "2022-07-29T13:52:54-07:00",
           "Transect 2"
          ],
          [
           1,
           6.32,
           27.81,
           996.28,
           "2022-07-29T13:52:54-07:00",
           "Transect 2"
          ],
          [
           1,
           6.25,
           27.81,
           1046.04,
           "2022-07-29T13:52:58-07:00",
           "Transect 2"
          ],
          [
           1,
           6.470000000000001,
           27.69,
           1048.52,
           "2022-07-29T13:52:58-07:00",
           "Transect 2"
          ],
          [
           1,
           5.789999999999999,
           27.81,
           1050.74,
           "2022-07-29T13:53:02-07:00",
           "Transect 2"
          ],
          [
           1,
           6.300000000000001,
           27.69,
           1060.18,
           "2022-07-29T13:53:02-07:00",
           "Transect 2"
          ],
          [
           1,
           6.15,
           27.75,
           1055.45,
           "2022-07-29T13:53:02-07:00",
           "Transect 2"
          ],
          [
           1,
           6.34,
           27.81,
           1046.04,
           "2022-07-29T13:53:08-07:00",
           "Transect 2"
          ],
          [
           1,
           6.66,
           27.69,
           1053.23,
           "2022-07-29T13:53:10-07:00",
           "Transect 2"
          ],
          [
           1,
           6.08,
           27.81,
           1046.04,
           "2022-07-29T13:53:12-07:00",
           "Transect 2"
          ],
          [
           1,
           6.26,
           27.81,
           1042.58,
           "2022-07-29T13:53:14-07:00",
           "Transect 2"
          ],
          [
           1,
           5.970000000000001,
           27.81,
           1055.45,
           "2022-07-29T13:53:16-07:00",
           "Transect 2"
          ],
          [
           1,
           5.9399999999999995,
           27.69,
           1046.04,
           "2022-07-29T13:53:18-07:00",
           "Transect 2"
          ],
          [
           1,
           5.789999999999999,
           27.69,
           1060.18,
           "2022-07-29T13:53:20-07:00",
           "Transect 2"
          ],
          [
           1,
           6.039999999999999,
           27.81,
           1055.45,
           "2022-07-29T13:53:20-07:00",
           "Transect 2"
          ],
          [
           1,
           6.140000000000001,
           27.69,
           1060.18,
           "2022-07-29T13:53:20-07:00",
           "Transect 2"
          ],
          [
           1,
           6.1,
           27.69,
           1047.27,
           "2022-07-29T13:53:28-07:00",
           "Transect 2"
          ],
          [
           1,
           5.970000000000001,
           27.81,
           1010.05,
           "2022-07-29T13:53:28-07:00",
           "Transect 2"
          ],
          [
           1,
           6.41,
           27.69,
           1056.71,
           "2022-07-29T13:53:32-07:00",
           "Transect 2"
          ],
          [
           1,
           6.5,
           27.81,
           1057.96,
           "2022-07-29T13:53:32-07:00",
           "Transect 2"
          ],
          [
           1,
           5.92,
           27.75,
           1051.98,
           "2022-07-29T13:53:36-07:00",
           "Transect 2"
          ],
          [
           1,
           6.720000000000001,
           27.69,
           1048.52,
           "2022-07-29T13:53:36-07:00",
           "Transect 2"
          ],
          [
           1,
           6.07,
           27.81,
           1050.74,
           "2022-07-29T13:53:40-07:00",
           "Transect 2"
          ],
          [
           1,
           6.08,
           27.81,
           1047.27,
           "2022-07-29T13:53:40-07:00",
           "Transect 2"
          ],
          [
           1,
           6.119999999999999,
           27.69,
           1050.74,
           "2022-07-29T13:53:44-07:00",
           "Transect 2"
          ],
          [
           1,
           5.98,
           27.81,
           1060.18,
           "2022-07-29T13:53:46-07:00",
           "Transect 2"
          ],
          [
           1,
           6.460000000000001,
           27.69,
           1041.34,
           "2022-07-29T13:53:48-07:00",
           "Transect 2"
          ],
          [
           1,
           5.83,
           27.81,
           1008.85,
           "2022-07-29T13:53:50-07:00",
           "Transect 2"
          ],
          [
           1,
           6.119999999999999,
           27.81,
           1060.18,
           "2022-07-29T13:53:52-07:00",
           "Transect 2"
          ],
          [
           1,
           5.73,
           27.75,
           1060.18,
           "2022-07-29T13:53:54-07:00",
           "Transect 2"
          ],
          [
           1,
           6.17,
           27.75,
           1046.04,
           "2022-07-29T13:53:56-07:00",
           "Transect 2"
          ],
          [
           1,
           6.48,
           27.75,
           1053.23,
           "2022-07-29T13:53:56-07:00",
           "Transect 2"
          ],
          [
           1,
           5.98,
           27.69,
           1046.04,
           "2022-07-29T13:53:56-07:00",
           "Transect 2"
          ],
          [
           1,
           6.390000000000001,
           27.81,
           1064.92,
           "2022-07-29T13:54:04-07:00",
           "Transect 2"
          ],
          [
           1,
           6.4399999999999995,
           27.81,
           1000.86,
           "2022-07-29T13:54:04-07:00",
           "Transect 2"
          ],
          [
           1,
           6.279999999999999,
           27.69,
           1055.45,
           "2022-07-29T13:54:08-07:00",
           "Transect 2"
          ],
          [
           1,
           6.050000000000001,
           27.81,
           1047.27,
           "2022-07-29T13:54:08-07:00",
           "Transect 2"
          ],
          [
           1,
           6.029999999999999,
           27.81,
           1050.74,
           "2022-07-29T13:54:12-07:00",
           "Transect 2"
          ],
          [
           1,
           6.0600000000000005,
           27.81,
           1055.45,
           "2022-07-29T13:54:12-07:00",
           "Transect 2"
          ],
          [
           1,
           6.029999999999999,
           27.69,
           1055.45,
           "2022-07-29T13:54:16-07:00",
           "Transect 2"
          ],
          [
           1,
           6.1899999999999995,
           27.81,
           1060.18,
           "2022-07-29T13:54:16-07:00",
           "Transect 2"
          ],
          [
           1,
           6.050000000000001,
           27.81,
           1060.18,
           "2022-07-29T13:54:20-07:00",
           "Transect 2"
          ],
          [
           1,
           6.02,
           27.69,
           1055.45,
           "2022-07-29T13:54:22-07:00",
           "Transect 2"
          ],
          [
           1,
           6.0600000000000005,
           27.69,
           1060.18,
           "2022-07-29T13:54:24-07:00",
           "Transect 2"
          ],
          [
           1,
           6.210000000000001,
           27.69,
           1050.74,
           "2022-07-29T13:54:26-07:00",
           "Transect 2"
          ],
          [
           1,
           6.23,
           27.81,
           1050.74,
           "2022-07-29T13:54:28-07:00",
           "Transect 2"
          ],
          [
           1,
           6.17,
           27.81,
           1046.04,
           "2022-07-29T13:54:30-07:00",
           "Transect 2"
          ],
          [
           1,
           6.1,
           27.81,
           1050.74,
           "2022-07-29T13:54:32-07:00",
           "Transect 2"
          ],
          [
           1,
           6.210000000000001,
           27.81,
           1051.98,
           "2022-07-29T13:54:32-07:00",
           "Transect 2"
          ],
          [
           1,
           6.15,
           27.81,
           1046.04,
           "2022-07-29T13:54:32-07:00",
           "Transect 2"
          ],
          [
           1,
           6.210000000000001,
           27.81,
           999.68,
           "2022-07-29T13:54:40-07:00",
           "Transect 2"
          ],
          [
           1,
           6.02,
           27.81,
           1055.45,
           "2022-07-29T13:54:44-07:00",
           "Transect 2"
          ],
          [
           1,
           6.52,
           27.81,
           1048.52,
           "2022-07-29T13:54:44-07:00",
           "Transect 2"
          ],
          [
           1,
           5.98,
           27.81,
           1044.8,
           "2022-07-29T13:54:48-07:00",
           "Transect 2"
          ],
          [
           1,
           6.23,
           27.75,
           1060.18,
           "2022-07-29T13:54:52-07:00",
           "Transect 2"
          ],
          [
           1,
           6.73,
           27.81,
           1048.52,
           "2022-07-29T13:54:56-07:00",
           "Transect 2"
          ],
          [
           1,
           6.279999999999999,
           27.69,
           1060.18,
           "2022-07-29T13:54:58-07:00",
           "Transect 2"
          ],
          [
           1,
           5.960000000000001,
           27.88,
           1054.21,
           "2022-07-29T13:55:00-07:00",
           "Transect 2"
          ],
          [
           1,
           6.09,
           27.69,
           1060.18,
           "2022-07-29T13:55:02-07:00",
           "Transect 2"
          ],
          [
           1,
           6.039999999999999,
           27.75,
           1060.18,
           "2022-07-29T13:55:04-07:00",
           "Transect 2"
          ],
          [
           1,
           6.0600000000000005,
           27.81,
           1041.34,
           "2022-07-29T13:55:06-07:00",
           "Transect 2"
          ],
          [
           1,
           6.720000000000001,
           27.88,
           1010.05,
           "2022-07-29T13:55:08-07:00",
           "Transect 2"
          ],
          [
           1,
           6.09,
           27.69,
           1046.04,
           "2022-07-29T13:55:10-07:00",
           "Transect 2"
          ],
          [
           1,
           6.460000000000001,
           27.88,
           1061.44,
           "2022-07-29T13:55:10-07:00",
           "Transect 2"
          ],
          [
           1,
           5.99,
           27.81,
           1054.21,
           "2022-07-29T13:55:16-07:00",
           "Transect 2"
          ],
          [
           1,
           5.880000000000001,
           27.88,
           1047.27,
           "2022-07-29T13:55:16-07:00",
           "Transect 2"
          ],
          [
           1,
           6.0600000000000005,
           27.88,
           1055.45,
           "2022-07-29T13:55:20-07:00",
           "Transect 2"
          ],
          [
           1,
           6.85,
           27.88,
           1047.27,
           "2022-07-29T13:55:20-07:00",
           "Transect 2"
          ],
          [
           1,
           6.91,
           27.88,
           1060.18,
           "2022-07-29T13:55:24-07:00",
           "Transect 2"
          ],
          [
           1,
           6.42,
           27.81,
           999.68,
           "2022-07-29T13:55:24-07:00",
           "Transect 2"
          ],
          [
           1,
           6.210000000000001,
           27.81,
           1055.45,
           "2022-07-29T13:55:28-07:00",
           "Transect 2"
          ],
          [
           1,
           6.4,
           27.81,
           1036.67,
           "2022-07-29T13:55:28-07:00",
           "Transect 2"
          ],
          [
           1,
           6.66,
           27.69,
           1053.23,
           "2022-07-29T13:55:32-07:00",
           "Transect 2"
          ],
          [
           1,
           6.18,
           27.81,
           1055.45,
           "2022-07-29T13:55:34-07:00",
           "Transect 2"
          ],
          [
           1,
           6.16,
           27.81,
           1050.74,
           "2022-07-29T13:55:36-07:00",
           "Transect 2"
          ],
          [
           1,
           6.039999999999999,
           27.81,
           1055.45,
           "2022-07-29T13:55:38-07:00",
           "Transect 2"
          ],
          [
           1,
           6.02,
           27.81,
           1055.45,
           "2022-07-29T13:55:40-07:00",
           "Transect 2"
          ],
          [
           1,
           5.93,
           27.81,
           1050.74,
           "2022-07-29T13:55:42-07:00",
           "Transect 2"
          ],
          [
           1,
           5.93,
           27.69,
           1050.74,
           "2022-07-29T13:55:44-07:00",
           "Transect 2"
          ],
          [
           1,
           5.949999999999999,
           27.81,
           1060.18,
           "2022-07-29T13:55:46-07:00",
           "Transect 2"
          ],
          [
           1,
           6.1899999999999995,
           27.69,
           1046.04,
           "2022-07-29T13:55:46-07:00",
           "Transect 2"
          ],
          [
           1,
           6.41,
           27.69,
           1055.45,
           "2022-07-29T13:55:52-07:00",
           "Transect 2"
          ],
          [
           1,
           6.890000000000001,
           27.75,
           1002.05,
           "2022-07-29T13:55:52-07:00",
           "Transect 2"
          ],
          [
           1,
           5.93,
           27.81,
           1046.04,
           "2022-07-29T13:55:56-07:00",
           "Transect 2"
          ],
          [
           1,
           6.32,
           27.81,
           1060.18,
           "2022-07-29T13:55:56-07:00",
           "Transect 2"
          ],
          [
           1,
           6.050000000000001,
           27.81,
           1046.04,
           "2022-07-29T13:56:00-07:00",
           "Transect 2"
          ],
          [
           1,
           6.67,
           27.88,
           999.68,
           "2022-07-29T13:56:00-07:00",
           "Transect 2"
          ],
          [
           1,
           6.289999999999999,
           27.88,
           1055.45,
           "2022-07-29T13:56:04-07:00",
           "Transect 2"
          ],
          [
           1,
           6.18,
           27.75,
           1060.18,
           "2022-07-29T13:56:04-07:00",
           "Transect 2"
          ],
          [
           1,
           6.17,
           27.81,
           1004.26,
           "2022-07-29T13:56:04-07:00",
           "Transect 2"
          ],
          [
           1,
           6.27,
           27.81,
           1050.74,
           "2022-07-29T13:56:10-07:00",
           "Transect 2"
          ],
          [
           1,
           5.960000000000001,
           27.75,
           1055.45,
           "2022-07-29T13:56:12-07:00",
           "Transect 2"
          ],
          [
           1,
           6.52,
           27.81,
           1050.74,
           "2022-07-29T13:56:14-07:00",
           "Transect 2"
          ],
          [
           1,
           6.26,
           27.81,
           1069.68,
           "2022-07-29T13:56:16-07:00",
           "Transect 2"
          ],
          [
           1,
           6.0600000000000005,
           27.69,
           1060.18,
           "2022-07-29T13:56:18-07:00",
           "Transect 2"
          ],
          [
           1,
           6.08,
           27.81,
           1056.71,
           "2022-07-29T13:56:20-07:00",
           "Transect 2"
          ],
          [
           1,
           5.99,
           27.75,
           1060.18,
           "2022-07-29T13:56:22-07:00",
           "Transect 2"
          ],
          [
           1,
           6.130000000000001,
           27.81,
           1060.18,
           "2022-07-29T13:56:22-07:00",
           "Transect 2"
          ],
          [
           1,
           6.779999999999999,
           27.69,
           1053.23,
           "2022-07-29T13:56:28-07:00",
           "Transect 2"
          ],
          [
           1,
           6.18,
           27.75,
           1050.74,
           "2022-07-29T13:56:28-07:00",
           "Transect 2"
          ],
          [
           1,
           6.92,
           27.81,
           1048.52,
           "2022-07-29T13:56:32-07:00",
           "Transect 2"
          ],
          [
           1,
           6.77,
           27.81,
           997.47,
           "2022-07-29T13:56:32-07:00",
           "Transect 2"
          ],
          [
           1,
           5.91,
           27.75,
           1036.67,
           "2022-07-29T13:56:36-07:00",
           "Transect 2"
          ],
          [
           1,
           7.120000000000001,
           27.81,
           1057.96,
           "2022-07-29T13:56:36-07:00",
           "Transect 2"
          ],
          [
           1,
           6.890000000000001,
           27.69,
           996.28,
           "2022-07-29T13:56:40-07:00",
           "Transect 2"
          ],
          [
           1,
           6.5600000000000005,
           27.81,
           1060.18,
           "2022-07-29T13:56:40-07:00",
           "Transect 2"
          ],
          [
           1,
           6.8100000000000005,
           27.75,
           1057.96,
           "2022-07-29T13:56:40-07:00",
           "Transect 2"
          ],
          [
           1,
           6.300000000000001,
           27.81,
           1054.21,
           "2022-07-29T13:56:46-07:00",
           "Transect 2"
          ],
          [
           1,
           6.210000000000001,
           27.81,
           1064.92,
           "2022-07-29T13:56:48-07:00",
           "Transect 2"
          ],
          [
           1,
           6.039999999999999,
           27.81,
           1055.45,
           "2022-07-29T13:56:50-07:00",
           "Transect 2"
          ],
          [
           1,
           6.09,
           27.75,
           1050.74,
           "2022-07-29T13:56:52-07:00",
           "Transect 2"
          ],
          [
           1,
           6.65,
           27.75,
           1062.7,
           "2022-07-29T13:56:54-07:00",
           "Transect 2"
          ],
          [
           1,
           6.0600000000000005,
           27.81,
           1050.74,
           "2022-07-29T13:56:56-07:00",
           "Transect 2"
          ],
          [
           1,
           5.9,
           27.81,
           1060.18,
           "2022-07-29T13:56:58-07:00",
           "Transect 2"
          ],
          [
           1,
           5.98,
           27.69,
           1055.45,
           "2022-07-29T13:56:58-07:00",
           "Transect 2"
          ],
          [
           1,
           6.199999999999999,
           27.81,
           1046.04,
           "2022-07-29T13:57:04-07:00",
           "Transect 2"
          ],
          [
           1,
           6.84,
           27.81,
           1006.64,
           "2022-07-29T13:57:04-07:00",
           "Transect 2"
          ],
          [
           1,
           6.710000000000001,
           27.81,
           1046.04,
           "2022-07-29T13:57:08-07:00",
           "Transect 2"
          ],
          [
           1,
           6.119999999999999,
           27.81,
           999.68,
           "2022-07-29T13:57:08-07:00",
           "Transect 2"
          ],
          [
           1,
           6.24,
           27.69,
           1060.18,
           "2022-07-29T13:57:12-07:00",
           "Transect 2"
          ],
          [
           1,
           6.539999999999999,
           27.69,
           997.47,
           "2022-07-29T13:57:12-07:00",
           "Transect 2"
          ],
          [
           1,
           6.09,
           27.69,
           1055.45,
           "2022-07-29T13:57:16-07:00",
           "Transect 2"
          ],
          [
           1,
           5.970000000000001,
           27.75,
           1055.45,
           "2022-07-29T13:57:16-07:00",
           "Transect 2"
          ],
          [
           1,
           5.890000000000001,
           27.75,
           1055.45,
           "2022-07-29T13:57:16-07:00",
           "Transect 2"
          ],
          [
           1,
           6.109999999999999,
           27.69,
           1072.22,
           "2022-07-29T13:57:22-07:00",
           "Transect 2"
          ],
          [
           1,
           6.789999999999999,
           27.81,
           1051.98,
           "2022-07-29T13:57:24-07:00",
           "Transect 2"
          ],
          [
           1,
           6.27,
           27.75,
           1060.18,
           "2022-07-29T13:57:26-07:00",
           "Transect 2"
          ],
          [
           1,
           6.23,
           27.81,
           1055.45,
           "2022-07-29T13:57:28-07:00",
           "Transect 2"
          ],
          [
           1,
           6.050000000000001,
           27.81,
           1064.92,
           "2022-07-29T13:57:30-07:00",
           "Transect 2"
          ],
          [
           1,
           6.1,
           27.81,
           1060.18,
           "2022-07-29T13:57:32-07:00",
           "Transect 2"
          ],
          [
           1,
           6.82,
           27.81,
           1053.23,
           "2022-07-29T13:57:34-07:00",
           "Transect 2"
          ],
          [
           1,
           6.23,
           27.81,
           1060.18,
           "2022-07-29T13:57:40-07:00",
           "Transect 2"
          ],
          [
           1,
           6.18,
           27.81,
           1004.26,
           "2022-07-29T13:57:40-07:00",
           "Transect 2"
          ],
          [
           1,
           6.18,
           27.81,
           1060.18,
           "2022-07-29T13:57:44-07:00",
           "Transect 2"
          ],
          [
           1,
           6.359999999999999,
           27.81,
           1055.45,
           "2022-07-29T13:57:44-07:00",
           "Transect 2"
          ],
          [
           1,
           6.25,
           27.81,
           1050.74,
           "2022-07-29T13:57:48-07:00",
           "Transect 2"
          ],
          [
           1,
           6.49,
           27.81,
           1061.44,
           "2022-07-29T13:57:48-07:00",
           "Transect 2"
          ],
          [
           1,
           6.23,
           27.69,
           1060.18,
           "2022-07-29T13:57:52-07:00",
           "Transect 2"
          ],
          [
           1,
           6.859999999999999,
           27.81,
           1046.04,
           "2022-07-29T13:57:52-07:00",
           "Transect 2"
          ],
          [
           1,
           6.470000000000001,
           27.69,
           1055.45,
           "2022-07-29T13:57:52-07:00",
           "Transect 2"
          ],
          [
           1,
           6.52,
           27.69,
           1053.23,
           "2022-07-29T13:57:58-07:00",
           "Transect 2"
          ],
          [
           1,
           6.140000000000001,
           27.81,
           1050.74,
           "2022-07-29T13:58:00-07:00",
           "Transect 2"
          ],
          [
           1,
           6.220000000000001,
           27.81,
           1064.92,
           "2022-07-29T13:58:02-07:00",
           "Transect 2"
          ],
          [
           1,
           6.130000000000001,
           27.81,
           1050.74,
           "2022-07-29T13:58:04-07:00",
           "Transect 2"
          ],
          [
           1,
           6.0600000000000005,
           27.75,
           1050.74,
           "2022-07-29T13:58:06-07:00",
           "Transect 2"
          ],
          [
           1,
           6.17,
           27.69,
           1060.18,
           "2022-07-29T13:58:08-07:00",
           "Transect 2"
          ],
          [
           1,
           6.48,
           27.88,
           1064.92,
           "2022-07-29T13:58:10-07:00",
           "Transect 2"
          ],
          [
           1,
           6.609999999999999,
           27.81,
           1055.45,
           "2022-07-29T13:58:10-07:00",
           "Transect 2"
          ],
          [
           1,
           6.98,
           27.69,
           1061.44,
           "2022-07-29T13:58:10-07:00",
           "Transect 2"
          ],
          [
           1,
           6.859999999999999,
           27.81,
           1053.23,
           "2022-07-29T13:58:18-07:00",
           "Transect 2"
          ],
          [
           1,
           6.23,
           27.69,
           1056.71,
           "2022-07-29T13:58:22-07:00",
           "Transect 2"
          ],
          [
           1,
           6.9,
           27.81,
           1062.7,
           "2022-07-29T13:58:22-07:00",
           "Transect 2"
          ],
          [
           1,
           6.5600000000000005,
           27.81,
           1050.74,
           "2022-07-29T13:58:26-07:00",
           "Transect 2"
          ],
          [
           1,
           6.4399999999999995,
           27.69,
           1050.74,
           "2022-07-29T13:58:26-07:00",
           "Transect 2"
          ],
          [
           1,
           6.1899999999999995,
           27.88,
           1050.74,
           "2022-07-29T13:58:30-07:00",
           "Transect 2"
          ],
          [
           1,
           6.35,
           27.69,
           1055.45,
           "2022-07-29T13:58:30-07:00",
           "Transect 2"
          ],
          [
           1,
           6.029999999999999,
           27.69,
           1064.92,
           "2022-07-29T13:58:34-07:00",
           "Transect 2"
          ],
          [
           1,
           6.4,
           27.69,
           1046.04,
           "2022-07-29T13:58:36-07:00",
           "Transect 2"
          ],
          [
           1,
           6.66,
           27.69,
           1062.7,
           "2022-07-29T13:58:38-07:00",
           "Transect 2"
          ],
          [
           1,
           5.98,
           27.69,
           1046.04,
           "2022-07-29T13:58:40-07:00",
           "Transect 2"
          ],
          [
           1,
           6.26,
           27.69,
           1060.18,
           "2022-07-29T13:58:42-07:00",
           "Transect 2"
          ],
          [
           1,
           6.529999999999999,
           27.81,
           1050.74,
           "2022-07-29T13:58:44-07:00",
           "Transect 2"
          ],
          [
           1,
           6.390000000000001,
           27.69,
           1060.18,
           "2022-07-29T13:58:46-07:00",
           "Transect 2"
          ],
          [
           1,
           6.779999999999999,
           27.81,
           1067.45,
           "2022-07-29T13:58:50-07:00",
           "Transect 2"
          ],
          [
           1,
           6.93,
           27.69,
           1053.23,
           "2022-07-29T13:58:54-07:00",
           "Transect 2"
          ],
          [
           1,
           6.26,
           27.81,
           1013.46,
           "2022-07-29T13:58:54-07:00",
           "Transect 2"
          ],
          [
           1,
           6.390000000000001,
           27.75,
           1060.18,
           "2022-07-29T13:58:58-07:00",
           "Transect 2"
          ],
          [
           1,
           7.02,
           27.75,
           1048.52,
           "2022-07-29T13:58:58-07:00",
           "Transect 2"
          ],
          [
           1,
           6.369999999999999,
           27.69,
           1050.74,
           "2022-07-29T13:59:02-07:00",
           "Transect 2"
          ],
          [
           1,
           6.57,
           27.81,
           1060.18,
           "2022-07-29T13:59:02-07:00",
           "Transect 2"
          ],
          [
           1,
           6.550000000000001,
           27.81,
           1055.45,
           "2022-07-29T13:59:06-07:00",
           "Transect 2"
          ],
          [
           1,
           6.5600000000000005,
           27.69,
           1064.92,
           "2022-07-29T13:59:06-07:00",
           "Transect 2"
          ],
          [
           1,
           6.48,
           27.69,
           1056.71,
           "2022-07-29T13:59:10-07:00",
           "Transect 2"
          ],
          [
           1,
           6.9,
           27.69,
           1006.64,
           "2022-07-29T13:59:12-07:00",
           "Transect 2"
          ],
          [
           1,
           6.0600000000000005,
           27.69,
           1055.45,
           "2022-07-29T13:59:14-07:00",
           "Transect 2"
          ],
          [
           1,
           6.35,
           27.69,
           1055.45,
           "2022-07-29T13:59:16-07:00",
           "Transect 2"
          ],
          [
           1,
           6.640000000000001,
           27.69,
           1060.18,
           "2022-07-29T13:59:18-07:00",
           "Transect 2"
          ],
          [
           1,
           6.279999999999999,
           27.81,
           1069.68,
           "2022-07-29T13:59:20-07:00",
           "Transect 2"
          ],
          [
           1,
           6.529999999999999,
           27.69,
           1069.68,
           "2022-07-29T13:59:22-07:00",
           "Transect 2"
          ],
          [
           1,
           7.149999999999999,
           27.75,
           1053.23,
           "2022-07-29T13:59:22-07:00",
           "Transect 2"
          ],
          [
           1,
           6.359999999999999,
           27.75,
           1055.45,
           "2022-07-29T13:59:22-07:00",
           "Transect 2"
          ],
          [
           1,
           6.43,
           27.69,
           1058.93,
           "2022-07-29T13:59:30-07:00",
           "Transect 2"
          ],
          [
           1,
           6.33,
           27.69,
           1053.23,
           "2022-07-29T13:59:30-07:00",
           "Transect 2"
          ],
          [
           1,
           6.84,
           27.81,
           1062.7,
           "2022-07-29T13:59:34-07:00",
           "Transect 2"
          ],
          [
           1,
           7.030000000000001,
           27.75,
           1067.45,
           "2022-07-29T13:59:34-07:00",
           "Transect 2"
          ],
          [
           1,
           6.85,
           27.81,
           1046.04,
           "2022-07-29T13:59:38-07:00",
           "Transect 2"
          ],
          [
           1,
           6.49,
           27.81,
           1067.45,
           "2022-07-29T13:59:38-07:00",
           "Transect 2"
          ],
          [
           1,
           6.76,
           27.69,
           1067.45,
           "2022-07-29T13:59:42-07:00",
           "Transect 2"
          ],
          [
           1,
           6.32,
           27.81,
           1050.74,
           "2022-07-29T13:59:42-07:00",
           "Transect 2"
          ],
          [
           1,
           7,
           27.75,
           1055.45,
           "2022-07-29T13:59:46-07:00",
           "Transect 2"
          ],
          [
           1,
           6.24,
           27.81,
           1050.74,
           "2022-07-29T13:59:48-07:00",
           "Transect 2"
          ],
          [
           1,
           6.25,
           27.81,
           1050.74,
           "2022-07-29T13:59:50-07:00",
           "Transect 2"
          ],
          [
           1,
           6.15,
           27.69,
           1069.68,
           "2022-07-29T13:59:52-07:00",
           "Transect 2"
          ],
          [
           1,
           6.16,
           27.81,
           1064.92,
           "2022-07-29T13:59:54-07:00",
           "Transect 2"
          ],
          [
           1,
           6.210000000000001,
           27.81,
           1054.21,
           "2022-07-29T13:59:56-07:00",
           "Transect 2"
          ],
          [
           1,
           6.140000000000001,
           27.69,
           1055.45,
           "2022-07-29T13:59:58-07:00",
           "Transect 2"
          ],
          [
           1,
           6.5600000000000005,
           27.81,
           1050.74,
           "2022-07-29T13:59:58-07:00",
           "Transect 2"
          ],
          [
           1,
           6.0600000000000005,
           27.81,
           1058.93,
           "2022-07-29T13:59:58-07:00",
           "Transect 2"
          ],
          [
           1,
           6.24,
           27.81,
           1064.92,
           "2022-07-29T14:00:06-07:00",
           "Transect 2"
          ],
          [
           1,
           6.26,
           27.88,
           1069.68,
           "2022-07-29T14:00:06-07:00",
           "Transect 2"
          ],
          [
           1,
           6.779999999999999,
           27.75,
           1056.71,
           "2022-07-29T14:00:10-07:00",
           "Transect 2"
          ],
          [
           1,
           6.140000000000001,
           27.88,
           1055.45,
           "2022-07-29T14:00:10-07:00",
           "Transect 2"
          ],
          [
           1,
           5.91,
           27.75,
           1063.67,
           "2022-07-29T14:00:14-07:00",
           "Transect 2"
          ],
          [
           1,
           6.17,
           27.75,
           1049.5,
           "2022-07-29T14:00:14-07:00",
           "Transect 2"
          ],
          [
           1,
           6.109999999999999,
           27.88,
           1054.21,
           "2022-07-29T14:00:18-07:00",
           "Transect 2"
          ],
          [
           1,
           5.82,
           27.88,
           1068.42,
           "2022-07-29T14:00:18-07:00",
           "Transect 2"
          ],
          [
           1,
           6.220000000000001,
           27.88,
           1049.5,
           "2022-07-29T14:00:22-07:00",
           "Transect 2"
          ],
          [
           1,
           6.02,
           27.81,
           1064.92,
           "2022-07-29T14:00:24-07:00",
           "Transect 2"
          ],
          [
           1,
           6.289999999999999,
           27.88,
           1058.93,
           "2022-07-29T14:00:26-07:00",
           "Transect 2"
          ],
          [
           1,
           6.25,
           27.88,
           1054.21,
           "2022-07-29T14:00:28-07:00",
           "Transect 2"
          ],
          [
           1,
           6.4,
           27.88,
           1060.18,
           "2022-07-29T14:00:30-07:00",
           "Transect 2"
          ],
          [
           1,
           6.18,
           27.88,
           1055.45,
           "2022-07-29T14:00:32-07:00",
           "Transect 2"
          ],
          [
           1,
           6.35,
           27.75,
           999.68,
           "2022-07-29T14:00:34-07:00",
           "Transect 2"
          ],
          [
           1,
           5.98,
           27.75,
           1064.92,
           "2022-07-29T14:00:36-07:00",
           "Transect 2"
          ],
          [
           1,
           6,
           27.75,
           1044.8,
           "2022-07-29T14:00:36-07:00",
           "Transect 2"
          ],
          [
           1,
           6.48,
           27.88,
           1056.71,
           "2022-07-29T14:00:42-07:00",
           "Transect 2"
          ],
          [
           1,
           6.27,
           27.81,
           1056.71,
           "2022-07-29T14:00:46-07:00",
           "Transect 2"
          ],
          [
           1,
           6.02,
           27.88,
           1060.18,
           "2022-07-29T14:00:46-07:00",
           "Transect 2"
          ],
          [
           1,
           6.039999999999999,
           27.81,
           1060.18,
           "2022-07-29T14:00:50-07:00",
           "Transect 2"
          ],
          [
           1,
           6.07,
           27.81,
           1055.45,
           "2022-07-29T14:00:50-07:00",
           "Transect 2"
          ],
          [
           1,
           6.6899999999999995,
           27.81,
           1019.28,
           "2022-07-29T14:00:54-07:00",
           "Transect 2"
          ],
          [
           1,
           6.619999999999999,
           27.69,
           1055.45,
           "2022-07-29T14:00:54-07:00",
           "Transect 2"
          ],
          [
           1,
           6.23,
           27.81,
           1046.04,
           "2022-07-29T14:00:58-07:00",
           "Transect 2"
          ],
          [
           1,
           6.1899999999999995,
           27.81,
           1050.74,
           "2022-07-29T14:01:00-07:00",
           "Transect 2"
          ],
          [
           1,
           6.289999999999999,
           27.88,
           1064.92,
           "2022-07-29T14:01:02-07:00",
           "Transect 2"
          ],
          [
           1,
           6.5600000000000005,
           27.75,
           1053.23,
           "2022-07-29T14:01:04-07:00",
           "Transect 2"
          ],
          [
           1,
           6.050000000000001,
           27.81,
           1055.45,
           "2022-07-29T14:01:06-07:00",
           "Transect 2"
          ],
          [
           1,
           6.109999999999999,
           27.75,
           1060.18,
           "2022-07-29T14:01:08-07:00",
           "Transect 2"
          ],
          [
           1,
           6.960000000000001,
           27.81,
           1057.96,
           "2022-07-29T14:01:10-07:00",
           "Transect 2"
          ],
          [
           1,
           6.48,
           27.69,
           1050.74,
           "2022-07-29T14:01:12-07:00",
           "Transect 2"
          ],
          [
           1,
           6,
           27.81,
           1069.68,
           "2022-07-29T14:01:12-07:00",
           "Transect 2"
          ],
          [
           1,
           6.210000000000001,
           27.88,
           1044.8,
           "2022-07-29T14:01:18-07:00",
           "Transect 2"
          ],
          [
           1,
           6.359999999999999,
           27.75,
           1055.45,
           "2022-07-29T14:01:22-07:00",
           "Transect 2"
          ],
          [
           1,
           6.16,
           27.69,
           1005.45,
           "2022-07-29T14:01:22-07:00",
           "Transect 2"
          ],
          [
           1,
           6.140000000000001,
           27.75,
           1064.92,
           "2022-07-29T14:01:26-07:00",
           "Transect 2"
          ],
          [
           1,
           6.6899999999999995,
           27.75,
           1053.23,
           "2022-07-29T14:01:26-07:00",
           "Transect 2"
          ],
          [
           1,
           6.4399999999999995,
           27.81,
           1058.93,
           "2022-07-29T14:01:30-07:00",
           "Transect 2"
          ],
          [
           1,
           6.4399999999999995,
           27.81,
           1060.18,
           "2022-07-29T14:01:30-07:00",
           "Transect 2"
          ],
          [
           1,
           6.51,
           27.81,
           1055.45,
           "2022-07-29T14:01:30-07:00",
           "Transect 2"
          ],
          [
           1,
           6.17,
           27.75,
           1060.18,
           "2022-07-29T14:01:36-07:00",
           "Transect 2"
          ],
          [
           1,
           6.390000000000001,
           27.75,
           1064.92,
           "2022-07-29T14:01:38-07:00",
           "Transect 2"
          ],
          [
           1,
           6.449999999999999,
           27.81,
           1055.45,
           "2022-07-29T14:01:40-07:00",
           "Transect 2"
          ],
          [
           1,
           6.640000000000001,
           27.81,
           1041.34,
           "2022-07-29T14:01:42-07:00",
           "Transect 2"
          ],
          [
           1,
           6.460000000000001,
           27.88,
           1063.67,
           "2022-07-29T14:01:44-07:00",
           "Transect 2"
          ],
          [
           1,
           6.5600000000000005,
           27.69,
           1050.74,
           "2022-07-29T14:01:46-07:00",
           "Transect 2"
          ],
          [
           1,
           6.449999999999999,
           27.75,
           1055.45,
           "2022-07-29T14:01:48-07:00",
           "Transect 2"
          ],
          [
           1,
           6.460000000000001,
           27.88,
           1055.45,
           "2022-07-29T14:01:48-07:00",
           "Transect 2"
          ],
          [
           1,
           6.82,
           27.81,
           1000.86,
           "2022-07-29T14:01:54-07:00",
           "Transect 2"
          ],
          [
           1,
           7.18,
           27.75,
           1062.7,
           "2022-07-29T14:01:58-07:00",
           "Transect 2"
          ],
          [
           1,
           6.640000000000001,
           27.88,
           1058.93,
           "2022-07-29T14:01:58-07:00",
           "Transect 2"
          ],
          [
           1,
           6.449999999999999,
           27.81,
           1063.67,
           "2022-07-29T14:02:02-07:00",
           "Transect 2"
          ],
          [
           1,
           6.869999999999999,
           27.81,
           1051.98,
           "2022-07-29T14:02:02-07:00",
           "Transect 2"
          ],
          [
           1,
           6.140000000000001,
           27.88,
           1068.42,
           "2022-07-29T14:02:06-07:00",
           "Transect 2"
          ],
          [
           1,
           6.9399999999999995,
           27.81,
           1056.71,
           "2022-07-29T14:02:06-07:00",
           "Transect 2"
          ],
          [
           1,
           6.33,
           27.75,
           1054.21,
           "2022-07-29T14:02:06-07:00",
           "Transect 2"
          ],
          [
           1,
           6.1899999999999995,
           27.88,
           1055.45,
           "2022-07-29T14:02:12-07:00",
           "Transect 2"
          ],
          [
           1,
           6.609999999999999,
           27.81,
           1055.45,
           "2022-07-29T14:02:16-07:00",
           "Transect 2"
          ],
          [
           1,
           6.199999999999999,
           27.81,
           1064.92,
           "2022-07-29T14:02:18-07:00",
           "Transect 2"
          ],
          [
           1,
           6.449999999999999,
           27.81,
           1064.92,
           "2022-07-29T14:02:20-07:00",
           "Transect 2"
          ],
          [
           1,
           6.25,
           27.69,
           1060.18,
           "2022-07-29T14:02:22-07:00",
           "Transect 2"
          ],
          [
           1,
           6.24,
           27.75,
           1060.18,
           "2022-07-29T14:02:24-07:00",
           "Transect 2"
          ],
          [
           1,
           6.300000000000001,
           27.81,
           1055.45,
           "2022-07-29T14:02:24-07:00",
           "Transect 2"
          ],
          [
           1,
           7.539999999999999,
           27.75,
           1060.18,
           "2022-07-29T14:02:30-07:00",
           "Transect 2"
          ],
          [
           1,
           7,
           27.81,
           999.68,
           "2022-07-29T14:02:30-07:00",
           "Transect 2"
          ],
          [
           1,
           7.379999999999999,
           27.88,
           1064.92,
           "2022-07-29T14:02:34-07:00",
           "Transect 2"
          ],
          [
           1,
           7.210000000000001,
           27.81,
           1007.66,
           "2022-07-29T14:02:34-07:00",
           "Transect 2"
          ],
          [
           1,
           7.18,
           27.88,
           1081.79,
           "2022-07-29T14:02:38-07:00",
           "Transect 2"
          ],
          [
           1,
           6.699999999999999,
           27.75,
           1060.18,
           "2022-07-29T14:02:42-07:00",
           "Transect 2"
          ],
          [
           1,
           6.58,
           27.75,
           1060.18,
           "2022-07-29T14:02:42-07:00",
           "Transect 2"
          ],
          [
           1,
           7.359999999999999,
           27.81,
           1055.45,
           "2022-07-29T14:02:42-07:00",
           "Transect 2"
          ],
          [
           1,
           7.350000000000001,
           27.88,
           1068.42,
           "2022-07-29T14:02:48-07:00",
           "Transect 2"
          ],
          [
           1,
           7.420000000000002,
           27.81,
           1064.92,
           "2022-07-29T14:02:50-07:00",
           "Transect 2"
          ],
          [
           1,
           8.010000000000002,
           27.75,
           1061.44,
           "2022-07-29T14:02:52-07:00",
           "Transect 2"
          ],
          [
           1,
           7.57,
           27.81,
           1068.42,
           "2022-07-29T14:02:54-07:00",
           "Transect 2"
          ],
          [
           1,
           7.43,
           27.88,
           1060.18,
           "2022-07-29T14:02:56-07:00",
           "Transect 2"
          ],
          [
           1,
           7.43,
           27.81,
           1060.18,
           "2022-07-29T14:02:58-07:00",
           "Transect 2"
          ],
          [
           1,
           7.379999999999999,
           27.88,
           1055.45,
           "2022-07-29T14:03:00-07:00",
           "Transect 2"
          ],
          [
           1,
           7.57,
           27.69,
           1061.44,
           "2022-07-29T14:03:00-07:00",
           "Transect 2"
          ],
          [
           1,
           7.18,
           27.81,
           1050.74,
           "2022-07-29T14:03:06-07:00",
           "Transect 2"
          ],
          [
           1,
           7.93,
           27.88,
           1006.64,
           "2022-07-29T14:03:06-07:00",
           "Transect 2"
          ],
          [
           1,
           7.460000000000001,
           27.75,
           1011.25,
           "2022-07-29T14:03:10-07:00",
           "Transect 2"
          ],
          [
           1,
           7.059999999999999,
           27.88,
           1055.45,
           "2022-07-29T14:03:10-07:00",
           "Transect 2"
          ],
          [
           1,
           7.27,
           27.88,
           1055.45,
           "2022-07-29T14:03:14-07:00",
           "Transect 2"
          ],
          [
           1,
           7.420000000000002,
           27.81,
           1054.21,
           "2022-07-29T14:03:14-07:00",
           "Transect 2"
          ],
          [
           1,
           7.059999999999999,
           27.81,
           1050.74,
           "2022-07-29T14:03:18-07:00",
           "Transect 2"
          ],
          [
           1,
           7.550000000000001,
           27.81,
           1050.74,
           "2022-07-29T14:03:18-07:00",
           "Transect 2"
          ],
          [
           1,
           7.600000000000001,
           27.81,
           1050.74,
           "2022-07-29T14:03:18-07:00",
           "Transect 2"
          ],
          [
           1,
           7.629999999999999,
           27.81,
           1063.67,
           "2022-07-29T14:03:24-07:00",
           "Transect 2"
          ],
          [
           1,
           8.309999999999999,
           27.75,
           1050.74,
           "2022-07-29T14:03:26-07:00",
           "Transect 2"
          ],
          [
           1,
           7.59,
           27.81,
           1060.18,
           "2022-07-29T14:03:28-07:00",
           "Transect 2"
          ],
          [
           1,
           7.579999999999998,
           27.81,
           1064.92,
           "2022-07-29T14:03:30-07:00",
           "Transect 2"
          ],
          [
           1,
           7.510000000000002,
           27.81,
           1060.18,
           "2022-07-29T14:03:32-07:00",
           "Transect 2"
          ],
          [
           1,
           7.809999999999999,
           27.81,
           1069.68,
           "2022-07-29T14:03:34-07:00",
           "Transect 2"
          ],
          [
           1,
           7.789999999999999,
           27.81,
           1069.68,
           "2022-07-29T14:03:36-07:00",
           "Transect 2"
          ],
          [
           1,
           7.48,
           27.81,
           1060.18,
           "2022-07-29T14:03:36-07:00",
           "Transect 2"
          ],
          [
           1,
           7.52,
           27.75,
           1055.45,
           "2022-07-29T14:03:36-07:00",
           "Transect 2"
          ],
          [
           1,
           7.93,
           27.69,
           1050.74,
           "2022-07-29T14:03:44-07:00",
           "Transect 2"
          ],
          [
           1,
           7.530000000000001,
           27.81,
           1018.08,
           "2022-07-29T14:03:44-07:00",
           "Transect 2"
          ],
          [
           1,
           7.969999999999999,
           27.69,
           1051.98,
           "2022-07-29T14:03:48-07:00",
           "Transect 2"
          ],
          [
           1,
           7.84,
           27.69,
           1067.45,
           "2022-07-29T14:03:48-07:00",
           "Transect 2"
          ],
          [
           1,
           7.690000000000001,
           27.81,
           1064.92,
           "2022-07-29T14:03:52-07:00",
           "Transect 2"
          ],
          [
           1,
           8.239999999999998,
           27.75,
           1046.04,
           "2022-07-29T14:03:52-07:00",
           "Transect 2"
          ],
          [
           1,
           8.309999999999999,
           27.69,
           1073.49,
           "2022-07-29T14:03:56-07:00",
           "Transect 2"
          ],
          [
           1,
           7.93,
           27.81,
           1055.45,
           "2022-07-29T14:03:56-07:00",
           "Transect 2"
          ],
          [
           1,
           7.920000000000002,
           27.69,
           1064.92,
           "2022-07-29T14:04:00-07:00",
           "Transect 2"
          ],
          [
           1,
           7.710000000000001,
           27.81,
           1060.18,
           "2022-07-29T14:04:02-07:00",
           "Transect 2"
          ],
          [
           1,
           7.82,
           27.81,
           1070.95,
           "2022-07-29T14:04:04-07:00",
           "Transect 2"
          ],
          [
           1,
           7.73,
           27.69,
           1064.92,
           "2022-07-29T14:04:06-07:00",
           "Transect 2"
          ],
          [
           1,
           7.710000000000001,
           27.69,
           1060.18,
           "2022-07-29T14:04:08-07:00",
           "Transect 2"
          ],
          [
           1,
           8.16,
           27.81,
           1075.72,
           "2022-07-29T14:04:10-07:00",
           "Transect 2"
          ],
          [
           1,
           7.899999999999999,
           27.81,
           1069.68,
           "2022-07-29T14:04:12-07:00",
           "Transect 2"
          ],
          [
           1,
           7.870000000000001,
           27.69,
           1069.68,
           "2022-07-29T14:04:12-07:00",
           "Transect 2"
          ],
          [
           1,
           8.309999999999999,
           27.75,
           1020.49,
           "2022-07-29T14:04:12-07:00",
           "Transect 2"
          ],
          [
           1,
           7.93,
           27.81,
           1023.92,
           "2022-07-29T14:04:20-07:00",
           "Transect 2"
          ],
          [
           1,
           8.219999999999999,
           27.75,
           1060.18,
           "2022-07-29T14:04:24-07:00",
           "Transect 2"
          ],
          [
           1,
           7.960000000000001,
           27.75,
           1008.85,
           "2022-07-29T14:04:24-07:00",
           "Transect 2"
          ],
          [
           1,
           7.879999999999999,
           27.81,
           1046.04,
           "2022-07-29T14:04:28-07:00",
           "Transect 2"
          ],
          [
           1,
           7.940000000000001,
           27.69,
           1069.68,
           "2022-07-29T14:04:28-07:00",
           "Transect 2"
          ],
          [
           1,
           8.36,
           27.69,
           1070.95,
           "2022-07-29T14:04:32-07:00",
           "Transect 2"
          ],
          [
           1,
           8.29,
           27.69,
           1067.45,
           "2022-07-29T14:04:32-07:00",
           "Transect 2"
          ],
          [
           1,
           8.010000000000002,
           27.75,
           1050.74,
           "2022-07-29T14:04:36-07:00",
           "Transect 2"
          ],
          [
           1,
           7.920000000000002,
           27.75,
           1070.95,
           "2022-07-29T14:04:38-07:00",
           "Transect 2"
          ],
          [
           1,
           7.93,
           27.81,
           1064.92,
           "2022-07-29T14:04:40-07:00",
           "Transect 2"
          ],
          [
           1,
           8.079999999999998,
           27.81,
           1051.98,
           "2022-07-29T14:04:42-07:00",
           "Transect 2"
          ],
          [
           1,
           8.079999999999998,
           27.63,
           1069.68,
           "2022-07-29T14:04:44-07:00",
           "Transect 2"
          ],
          [
           1,
           8.510000000000002,
           27.69,
           1011.25,
           "2022-07-29T14:04:46-07:00",
           "Transect 2"
          ],
          [
           1,
           8.170000000000002,
           27.81,
           1066.19,
           "2022-07-29T14:04:48-07:00",
           "Transect 2"
          ],
          [
           1,
           8.16,
           27.75,
           1060.18,
           "2022-07-29T14:04:50-07:00",
           "Transect 2"
          ],
          [
           1,
           8.27,
           27.81,
           1061.44,
           "2022-07-29T14:04:50-07:00",
           "Transect 2"
          ],
          [
           1,
           8.379999999999999,
           27.81,
           1070.95,
           "2022-07-29T14:04:56-07:00",
           "Transect 2"
          ],
          [
           1,
           8.719999999999999,
           27.81,
           1020.49,
           "2022-07-29T14:04:56-07:00",
           "Transect 2"
          ],
          [
           1,
           8.760000000000002,
           27.69,
           1054.48,
           "2022-07-29T14:05:00-07:00",
           "Transect 2"
          ],
          [
           1,
           8.71,
           27.69,
           1002.05,
           "2022-07-29T14:05:00-07:00",
           "Transect 2"
          ],
          [
           1,
           8.75,
           27.69,
           1072.22,
           "2022-07-29T14:05:04-07:00",
           "Transect 2"
          ],
          [
           1,
           8.52,
           27.63,
           1060.18,
           "2022-07-29T14:05:04-07:00",
           "Transect 2"
          ],
          [
           1,
           8.809999999999999,
           27.69,
           1053.23,
           "2022-07-29T14:05:08-07:00",
           "Transect 2"
          ],
          [
           1,
           8.3,
           27.81,
           1060.18,
           "2022-07-29T14:05:08-07:00",
           "Transect 2"
          ],
          [
           1,
           8.469999999999999,
           27.75,
           1066.19,
           "2022-07-29T14:05:12-07:00",
           "Transect 2"
          ],
          [
           1,
           8.34,
           27.75,
           1061.44,
           "2022-07-29T14:05:14-07:00",
           "Transect 2"
          ],
          [
           1,
           8.379999999999999,
           27.63,
           1056.71,
           "2022-07-29T14:05:16-07:00",
           "Transect 2"
          ],
          [
           1,
           8.329999999999998,
           27.81,
           1051.98,
           "2022-07-29T14:05:18-07:00",
           "Transect 2"
          ],
          [
           1,
           8.14,
           27.69,
           1066.19,
           "2022-07-29T14:05:20-07:00",
           "Transect 2"
          ],
          [
           1,
           8.75,
           27.81,
           1056.71,
           "2022-07-29T14:05:22-07:00",
           "Transect 2"
          ],
          [
           1,
           8.61,
           27.63,
           1061.44,
           "2022-07-29T14:05:24-07:00",
           "Transect 2"
          ],
          [
           1,
           8.399999999999999,
           27.69,
           1070.95,
           "2022-07-29T14:05:26-07:00",
           "Transect 2"
          ],
          [
           1,
           8.41,
           27.81,
           1060.18,
           "2022-07-29T14:05:26-07:00",
           "Transect 2"
          ],
          [
           1,
           8.370000000000001,
           27.69,
           1056.71,
           "2022-07-29T14:05:32-07:00",
           "Transect 2"
          ],
          [
           1,
           8.43,
           27.81,
           1055.45,
           "2022-07-29T14:05:32-07:00",
           "Transect 2"
          ],
          [
           1,
           8.32,
           27.69,
           1061.44,
           "2022-07-29T14:05:36-07:00",
           "Transect 2"
          ],
          [
           1,
           8.370000000000001,
           27.75,
           1066.19,
           "2022-07-29T14:05:36-07:00",
           "Transect 2"
          ],
          [
           1,
           8.350000000000001,
           27.75,
           1064.92,
           "2022-07-29T14:05:40-07:00",
           "Transect 2"
          ],
          [
           1,
           8.399999999999999,
           27.75,
           1005.45,
           "2022-07-29T14:05:40-07:00",
           "Transect 2"
          ],
          [
           1,
           8.629999999999999,
           27.69,
           1064.92,
           "2022-07-29T14:05:44-07:00",
           "Transect 2"
          ],
          [
           1,
           8.399999999999999,
           27.81,
           1061.44,
           "2022-07-29T14:05:44-07:00",
           "Transect 2"
          ],
          [
           1,
           8.370000000000001,
           27.75,
           1051.98,
           "2022-07-29T14:05:44-07:00",
           "Transect 2"
          ],
          [
           1,
           8.68,
           27.81,
           1051.98,
           "2022-07-29T14:05:50-07:00",
           "Transect 2"
          ],
          [
           1,
           8.940000000000001,
           27.69,
           1056.71,
           "2022-07-29T14:05:52-07:00",
           "Transect 2"
          ],
          [
           1,
           9.05,
           27.69,
           1067.45,
           "2022-07-29T14:05:54-07:00",
           "Transect 2"
          ],
          [
           1,
           8.41,
           27.81,
           1060.18,
           "2022-07-29T14:05:56-07:00",
           "Transect 2"
          ],
          [
           1,
           8.440000000000001,
           27.69,
           1060.18,
           "2022-07-29T14:05:58-07:00",
           "Transect 2"
          ],
          [
           1,
           8.54,
           27.81,
           1064.92,
           "2022-07-29T14:06:00-07:00",
           "Transect 2"
          ],
          [
           1,
           8.510000000000002,
           27.81,
           1069.68,
           "2022-07-29T14:06:02-07:00",
           "Transect 2"
          ],
          [
           1,
           8.39,
           27.81,
           1061.44,
           "2022-07-29T14:06:02-07:00",
           "Transect 2"
          ],
          [
           1,
           8.899999999999999,
           27.81,
           1067.45,
           "2022-07-29T14:06:08-07:00",
           "Transect 2"
          ],
          [
           1,
           8.79,
           27.81,
           1060.18,
           "2022-07-29T14:06:12-07:00",
           "Transect 2"
          ],
          [
           1,
           8.370000000000001,
           27.81,
           999.68,
           "2022-07-29T14:06:12-07:00",
           "Transect 2"
          ],
          [
           1,
           8.2,
           27.75,
           1061.44,
           "2022-07-29T14:06:16-07:00",
           "Transect 2"
          ],
          [
           1,
           8.829999999999998,
           27.69,
           1062.7,
           "2022-07-29T14:06:16-07:00",
           "Transect 2"
          ],
          [
           1,
           8.530000000000001,
           27.81,
           1060.18,
           "2022-07-29T14:06:20-07:00",
           "Transect 2"
          ],
          [
           1,
           9,
           27.75,
           1069.68,
           "2022-07-29T14:06:20-07:00",
           "Transect 2"
          ],
          [
           1,
           8.239999999999998,
           27.81,
           1055.45,
           "2022-07-29T14:06:20-07:00",
           "Transect 2"
          ],
          [
           1,
           8.420000000000002,
           27.81,
           1069.68,
           "2022-07-29T14:06:26-07:00",
           "Transect 2"
          ],
          [
           1,
           8.149999999999999,
           27.81,
           1060.18,
           "2022-07-29T14:06:28-07:00",
           "Transect 2"
          ],
          [
           1,
           8.86,
           27.75,
           1062.7,
           "2022-07-29T14:06:30-07:00",
           "Transect 2"
          ],
          [
           1,
           8.870000000000001,
           27.69,
           1056.71,
           "2022-07-29T14:06:32-07:00",
           "Transect 2"
          ],
          [
           1,
           8.530000000000001,
           27.75,
           1066.19,
           "2022-07-29T14:06:34-07:00",
           "Transect 2"
          ],
          [
           1,
           8.420000000000002,
           27.63,
           1061.44,
           "2022-07-29T14:06:36-07:00",
           "Transect 2"
          ],
          [
           1,
           8.370000000000001,
           27.81,
           1061.44,
           "2022-07-29T14:06:38-07:00",
           "Transect 2"
          ],
          [
           1,
           8.809999999999999,
           27.81,
           1011.25,
           "2022-07-29T14:06:38-07:00",
           "Transect 2"
          ],
          [
           1,
           8.5,
           27.81,
           1056.71,
           "2022-07-29T14:06:44-07:00",
           "Transect 2"
          ],
          [
           1,
           8.54,
           27.81,
           1069.68,
           "2022-07-29T14:06:44-07:00",
           "Transect 2"
          ],
          [
           1,
           8.91,
           27.69,
           1050.74,
           "2022-07-29T14:06:48-07:00",
           "Transect 2"
          ],
          [
           1,
           8.690000000000001,
           27.69,
           1069.68,
           "2022-07-29T14:06:48-07:00",
           "Transect 2"
          ],
          [
           1,
           8.46,
           27.81,
           1069.68,
           "2022-07-29T14:06:52-07:00",
           "Transect 2"
          ],
          [
           1,
           8.629999999999999,
           27.69,
           1060.18,
           "2022-07-29T14:06:52-07:00",
           "Transect 2"
          ],
          [
           1,
           8.48,
           27.81,
           1060.18,
           "2022-07-29T14:06:56-07:00",
           "Transect 2"
          ],
          [
           1,
           8.46,
           27.81,
           1069.68,
           "2022-07-29T14:06:56-07:00",
           "Transect 2"
          ],
          [
           1,
           8.39,
           27.81,
           1069.68,
           "2022-07-29T14:06:56-07:00",
           "Transect 2"
          ],
          [
           1,
           8.489999999999998,
           27.81,
           1069.68,
           "2022-07-29T14:07:02-07:00",
           "Transect 2"
          ],
          [
           1,
           8.57,
           27.69,
           1064.92,
           "2022-07-29T14:07:04-07:00",
           "Transect 2"
          ],
          [
           1,
           8.34,
           27.81,
           1064.92,
           "2022-07-29T14:07:06-07:00",
           "Transect 2"
          ],
          [
           1,
           8.649999999999999,
           27.81,
           1057.96,
           "2022-07-29T14:07:08-07:00",
           "Transect 2"
          ],
          [
           1,
           8.149999999999999,
           27.81,
           1060.18,
           "2022-07-29T14:07:10-07:00",
           "Transect 2"
          ],
          [
           1,
           8.100000000000001,
           27.81,
           1064.92,
           "2022-07-29T14:07:12-07:00",
           "Transect 2"
          ],
          [
           1,
           8.239999999999998,
           27.81,
           1060.18,
           "2022-07-29T14:07:14-07:00",
           "Transect 2"
          ],
          [
           1,
           7.879999999999999,
           27.81,
           1064.92,
           "2022-07-29T14:07:20-07:00",
           "Transect 2"
          ],
          [
           1,
           8.3,
           27.81,
           1011.25,
           "2022-07-29T14:07:20-07:00",
           "Transect 2"
          ],
          [
           1,
           7.899999999999999,
           27.81,
           1069.68,
           "2022-07-29T14:07:24-07:00",
           "Transect 2"
          ],
          [
           1,
           8.370000000000001,
           27.81,
           1011.25,
           "2022-07-29T14:07:24-07:00",
           "Transect 2"
          ],
          [
           1,
           8.010000000000002,
           27.75,
           1069.68,
           "2022-07-29T14:07:28-07:00",
           "Transect 2"
          ],
          [
           1,
           7.780000000000001,
           27.81,
           1055.45,
           "2022-07-29T14:07:28-07:00",
           "Transect 2"
          ],
          [
           1,
           7.82,
           27.81,
           1064.92,
           "2022-07-29T14:07:32-07:00",
           "Transect 2"
          ],
          [
           1,
           7.82,
           27.69,
           1069.68,
           "2022-07-29T14:07:32-07:00",
           "Transect 2"
          ],
          [
           1,
           7.719999999999999,
           27.81,
           1055.45,
           "2022-07-29T14:07:38-07:00",
           "Transect 2"
          ],
          [
           1,
           7.690000000000001,
           27.69,
           1060.18,
           "2022-07-29T14:07:40-07:00",
           "Transect 2"
          ],
          [
           1,
           7.41,
           27.81,
           1055.45,
           "2022-07-29T14:07:42-07:00",
           "Transect 2"
          ],
          [
           1,
           7.420000000000002,
           27.81,
           1060.18,
           "2022-07-29T14:07:44-07:00",
           "Transect 2"
          ],
          [
           1,
           8.04,
           27.81,
           1060.18,
           "2022-07-29T14:07:46-07:00",
           "Transect 2"
          ],
          [
           1,
           7.379999999999999,
           27.81,
           1055.45,
           "2022-07-29T14:07:48-07:00",
           "Transect 2"
          ],
          [
           1,
           7.100000000000001,
           27.81,
           1055.45,
           "2022-07-29T14:07:50-07:00",
           "Transect 2"
          ],
          [
           1,
           8.04,
           27.81,
           1064.92,
           "2022-07-29T14:07:50-07:00",
           "Transect 2"
          ],
          [
           1,
           7.91,
           27.69,
           1008.85,
           "2022-07-29T14:07:56-07:00",
           "Transect 2"
          ],
          [
           1,
           7.989999999999998,
           27.81,
           1060.18,
           "2022-07-29T14:07:56-07:00",
           "Transect 2"
          ],
          [
           1,
           7.969999999999999,
           27.81,
           1074.45,
           "2022-07-29T14:08:00-07:00",
           "Transect 2"
          ],
          [
           1,
           8.030000000000001,
           27.81,
           1079.23,
           "2022-07-29T14:08:00-07:00",
           "Transect 2"
          ],
          [
           1,
           8.18,
           27.81,
           1069.68,
           "2022-07-29T14:08:04-07:00",
           "Transect 2"
          ],
          [
           1,
           8.48,
           27.69,
           1069.68,
           "2022-07-29T14:08:08-07:00",
           "Transect 2"
          ],
          [
           1,
           8.2,
           27.81,
           1060.18,
           "2022-07-29T14:08:08-07:00",
           "Transect 2"
          ],
          [
           1,
           8.23,
           27.81,
           1064.92,
           "2022-07-29T14:08:08-07:00",
           "Transect 2"
          ],
          [
           1,
           8.23,
           27.69,
           1060.18,
           "2022-07-29T14:08:14-07:00",
           "Transect 2"
          ],
          [
           1,
           8.149999999999999,
           27.81,
           1060.18,
           "2022-07-29T14:08:16-07:00",
           "Transect 2"
          ],
          [
           1,
           8.100000000000001,
           27.81,
           1074.45,
           "2022-07-29T14:08:18-07:00",
           "Transect 2"
          ],
          [
           1,
           8.34,
           27.81,
           1066.19,
           "2022-07-29T14:08:20-07:00",
           "Transect 2"
          ],
          [
           1,
           8.34,
           27.81,
           1069.68,
           "2022-07-29T14:08:22-07:00",
           "Transect 2"
          ],
          [
           1,
           8.350000000000001,
           27.81,
           1064.92,
           "2022-07-29T14:08:24-07:00",
           "Transect 2"
          ],
          [
           1,
           8.32,
           27.81,
           1055.45,
           "2022-07-29T14:08:26-07:00",
           "Transect 2"
          ],
          [
           1,
           8.350000000000001,
           27.75,
           1060.18,
           "2022-07-29T14:08:26-07:00",
           "Transect 2"
          ],
          [
           1,
           8.21,
           27.75,
           1070.95,
           "2022-07-29T14:08:26-07:00",
           "Transect 2"
          ],
          [
           1,
           8.66,
           27.81,
           1077,
           "2022-07-29T14:08:34-07:00",
           "Transect 2"
          ],
          [
           1,
           8.77,
           27.81,
           1020.49,
           "2022-07-29T14:08:34-07:00",
           "Transect 2"
          ],
          [
           1,
           8.760000000000002,
           27.81,
           1060.18,
           "2022-07-29T14:08:38-07:00",
           "Transect 2"
          ],
          [
           1,
           8.329999999999998,
           27.88,
           1060.18,
           "2022-07-29T14:08:38-07:00",
           "Transect 2"
          ],
          [
           1,
           8.670000000000002,
           27.75,
           1075.72,
           "2022-07-29T14:08:42-07:00",
           "Transect 2"
          ],
          [
           1,
           8.18,
           27.75,
           1069.68,
           "2022-07-29T14:08:42-07:00",
           "Transect 2"
          ],
          [
           1,
           8.600000000000001,
           27.75,
           1070.95,
           "2022-07-29T14:08:46-07:00",
           "Transect 2"
          ],
          [
           1,
           8.170000000000002,
           27.69,
           1060.18,
           "2022-07-29T14:08:46-07:00",
           "Transect 2"
          ],
          [
           1,
           8.66,
           27.69,
           1066.19,
           "2022-07-29T14:08:50-07:00",
           "Transect 2"
          ],
          [
           1,
           8.239999999999998,
           27.69,
           1064.92,
           "2022-07-29T14:08:52-07:00",
           "Transect 2"
          ],
          [
           1,
           8.32,
           27.81,
           1075.72,
           "2022-07-29T14:08:54-07:00",
           "Transect 2"
          ],
          [
           1,
           8.48,
           27.69,
           1060.18,
           "2022-07-29T14:08:56-07:00",
           "Transect 2"
          ],
          [
           1,
           8.600000000000001,
           27.69,
           1064.92,
           "2022-07-29T14:08:58-07:00",
           "Transect 2"
          ],
          [
           1,
           8.54,
           27.81,
           1064.92,
           "2022-07-29T14:09:00-07:00",
           "Transect 2"
          ],
          [
           1,
           8.5,
           27.81,
           1069.68,
           "2022-07-29T14:09:02-07:00",
           "Transect 2"
          ],
          [
           1,
           8.48,
           27.81,
           1069.68,
           "2022-07-29T14:09:02-07:00",
           "Transect 2"
          ],
          [
           1,
           8.55,
           27.81,
           1074.45,
           "2022-07-29T14:09:02-07:00",
           "Transect 2"
          ],
          [
           1,
           8.86,
           27.81,
           1011.25,
           "2022-07-29T14:09:10-07:00",
           "Transect 2"
          ],
          [
           1,
           8.469999999999999,
           27.81,
           1066.19,
           "2022-07-29T14:09:14-07:00",
           "Transect 2"
          ],
          [
           1,
           8.379999999999999,
           27.81,
           1018.08,
           "2022-07-29T14:09:14-07:00",
           "Transect 2"
          ],
          [
           1,
           8.420000000000002,
           27.75,
           1069.68,
           "2022-07-29T14:09:18-07:00",
           "Transect 2"
          ],
          [
           1,
           8.370000000000001,
           27.81,
           1060.18,
           "2022-07-29T14:09:18-07:00",
           "Transect 2"
          ],
          [
           1,
           8.420000000000002,
           27.69,
           1055.45,
           "2022-07-29T14:09:22-07:00",
           "Transect 2"
          ],
          [
           1,
           8.469999999999999,
           27.81,
           1060.18,
           "2022-07-29T14:09:22-07:00",
           "Transect 2"
          ],
          [
           1,
           8.420000000000002,
           27.81,
           1050.74,
           "2022-07-29T14:09:26-07:00",
           "Transect 2"
          ],
          [
           1,
           9,
           27.69,
           1077,
           "2022-07-29T14:09:28-07:00",
           "Transect 2"
          ],
          [
           1,
           8.579999999999998,
           27.81,
           1069.68,
           "2022-07-29T14:09:30-07:00",
           "Transect 2"
          ],
          [
           1,
           8.489999999999998,
           27.81,
           1064.92,
           "2022-07-29T14:09:32-07:00",
           "Transect 2"
          ],
          [
           1,
           8.52,
           27.69,
           1060.18,
           "2022-07-29T14:09:34-07:00",
           "Transect 2"
          ],
          [
           1,
           8.45,
           27.75,
           1055.45,
           "2022-07-29T14:09:36-07:00",
           "Transect 2"
          ],
          [
           1,
           8.420000000000002,
           27.81,
           1060.18,
           "2022-07-29T14:09:38-07:00",
           "Transect 2"
          ],
          [
           1,
           8.64,
           27.88,
           1069.68,
           "2022-07-29T14:09:38-07:00",
           "Transect 2"
          ],
          [
           1,
           8.54,
           27.81,
           1055.45,
           "2022-07-29T14:09:38-07:00",
           "Transect 2"
          ],
          [
           1,
           8.82,
           27.81,
           1010.05,
           "2022-07-29T14:09:46-07:00",
           "Transect 2"
          ],
          [
           1,
           8.5,
           27.69,
           1069.68,
           "2022-07-29T14:09:50-07:00",
           "Transect 2"
          ],
          [
           1,
           8.629999999999999,
           27.81,
           1069.68,
           "2022-07-29T14:09:50-07:00",
           "Transect 2"
          ],
          [
           1,
           8.620000000000001,
           27.69,
           1055.45,
           "2022-07-29T14:09:54-07:00",
           "Transect 2"
          ],
          [
           1,
           8.66,
           27.81,
           1055.45,
           "2022-07-29T14:09:54-07:00",
           "Transect 2"
          ],
          [
           1,
           8.670000000000002,
           27.81,
           1069.68,
           "2022-07-29T14:09:58-07:00",
           "Transect 2"
          ],
          [
           1,
           8.71,
           27.81,
           1060.18,
           "2022-07-29T14:09:58-07:00",
           "Transect 2"
          ],
          [
           1,
           8.59,
           27.81,
           1074.45,
           "2022-07-29T14:10:02-07:00",
           "Transect 2"
          ],
          [
           1,
           8.57,
           27.81,
           1070.95,
           "2022-07-29T14:10:04-07:00",
           "Transect 2"
          ],
          [
           1,
           8.3,
           27.69,
           1069.68,
           "2022-07-29T14:10:06-07:00",
           "Transect 2"
          ],
          [
           1,
           8.46,
           27.81,
           1064.92,
           "2022-07-29T14:10:08-07:00",
           "Transect 2"
          ],
          [
           1,
           8.61,
           27.81,
           1074.45,
           "2022-07-29T14:10:14-07:00",
           "Transect 2"
          ],
          [
           1,
           8.690000000000001,
           27.81,
           1074.45,
           "2022-07-29T14:10:14-07:00",
           "Transect 2"
          ],
          [
           1,
           8.760000000000002,
           27.88,
           1064.92,
           "2022-07-29T14:10:14-07:00",
           "Transect 2"
          ],
          [
           1,
           8.600000000000001,
           27.81,
           1069.68,
           "2022-07-29T14:10:22-07:00",
           "Transect 2"
          ],
          [
           1,
           8.55,
           27.81,
           1060.18,
           "2022-07-29T14:10:22-07:00",
           "Transect 2"
          ],
          [
           1,
           8.64,
           27.81,
           1055.45,
           "2022-07-29T14:10:26-07:00",
           "Transect 2"
          ],
          [
           1,
           9.02,
           27.81,
           1061.44,
           "2022-07-29T14:10:26-07:00",
           "Transect 2"
          ],
          [
           1,
           8.41,
           27.81,
           1064.92,
           "2022-07-29T14:10:30-07:00",
           "Transect 2"
          ],
          [
           1,
           8.43,
           27.81,
           1069.68,
           "2022-07-29T14:10:30-07:00",
           "Transect 2"
          ],
          [
           1,
           8.530000000000001,
           27.81,
           1061.44,
           "2022-07-29T14:10:34-07:00",
           "Transect 2"
          ],
          [
           1,
           8.920000000000002,
           27.81,
           1060.18,
           "2022-07-29T14:10:34-07:00",
           "Transect 2"
          ],
          [
           1,
           8.86,
           27.81,
           1053.23,
           "2022-07-29T14:10:34-07:00",
           "Transect 2"
          ],
          [
           1,
           8.399999999999999,
           27.81,
           1050.74,
           "2022-07-29T14:10:40-07:00",
           "Transect 2"
          ],
          [
           1,
           8.68,
           27.81,
           1067.45,
           "2022-07-29T14:10:42-07:00",
           "Transect 2"
          ],
          [
           1,
           8.649999999999999,
           27.81,
           1064.92,
           "2022-07-29T14:10:44-07:00",
           "Transect 2"
          ],
          [
           1,
           8.96,
           27.69,
           1062.7,
           "2022-07-29T14:10:46-07:00",
           "Transect 2"
          ],
          [
           1,
           8.61,
           27.63,
           1066.19,
           "2022-07-29T14:10:48-07:00",
           "Transect 2"
          ],
          [
           1,
           8.52,
           27.81,
           1055.45,
           "2022-07-29T14:10:50-07:00",
           "Transect 2"
          ],
          [
           1,
           8.5,
           27.75,
           1069.68,
           "2022-07-29T14:10:52-07:00",
           "Transect 2"
          ],
          [
           1,
           8.61,
           27.81,
           1060.18,
           "2022-07-29T14:10:52-07:00",
           "Transect 2"
          ],
          [
           1,
           8.98,
           27.69,
           1057.96,
           "2022-07-29T14:10:58-07:00",
           "Transect 2"
          ],
          [
           1,
           8.7,
           27.81,
           1070.95,
           "2022-07-29T14:11:02-07:00",
           "Transect 2"
          ],
          [
           1,
           8.61,
           27.81,
           1064.92,
           "2022-07-29T14:11:02-07:00",
           "Transect 2"
          ],
          [
           1,
           8.530000000000001,
           27.81,
           1060.18,
           "2022-07-29T14:11:06-07:00",
           "Transect 2"
          ],
          [
           1,
           9.010000000000002,
           27.81,
           1062.7,
           "2022-07-29T14:11:06-07:00",
           "Transect 2"
          ],
          [
           1,
           8.629999999999999,
           27.69,
           1069.68,
           "2022-07-29T14:11:10-07:00",
           "Transect 2"
          ],
          [
           1,
           9.14,
           27.75,
           1015.86,
           "2022-07-29T14:11:10-07:00",
           "Transect 2"
          ],
          [
           1,
           8.780000000000001,
           27.75,
           1064.92,
           "2022-07-29T14:11:10-07:00",
           "Transect 2"
          ],
          [
           1,
           8.54,
           27.81,
           1064.92,
           "2022-07-29T14:11:18-07:00",
           "Transect 2"
          ],
          [
           1,
           8.57,
           27.75,
           1069.68,
           "2022-07-29T14:11:20-07:00",
           "Transect 2"
          ],
          [
           1,
           8.73,
           27.75,
           1064.92,
           "2022-07-29T14:11:22-07:00",
           "Transect 2"
          ],
          [
           1,
           8.7,
           27.81,
           1055.45,
           "2022-07-29T14:11:24-07:00",
           "Transect 2"
          ],
          [
           1,
           8.600000000000001,
           27.81,
           1069.68,
           "2022-07-29T14:11:26-07:00",
           "Transect 2"
          ],
          [
           1,
           8.829999999999998,
           27.81,
           1060.18,
           "2022-07-29T14:11:28-07:00",
           "Transect 2"
          ],
          [
           1,
           8.66,
           27.81,
           1064.92,
           "2022-07-29T14:11:28-07:00",
           "Transect 2"
          ],
          [
           1,
           8.64,
           27.81,
           1060.18,
           "2022-07-29T14:11:34-07:00",
           "Transect 2"
          ],
          [
           1,
           8.649999999999999,
           27.81,
           1074.45,
           "2022-07-29T14:11:38-07:00",
           "Transect 2"
          ],
          [
           1,
           8.600000000000001,
           27.81,
           1064.92,
           "2022-07-29T14:11:38-07:00",
           "Transect 2"
          ],
          [
           1,
           8.670000000000002,
           27.81,
           1055.45,
           "2022-07-29T14:11:42-07:00",
           "Transect 2"
          ],
          [
           1,
           8.530000000000001,
           27.81,
           1064.92,
           "2022-07-29T14:11:42-07:00",
           "Transect 2"
          ],
          [
           1,
           8.52,
           27.81,
           1064.92,
           "2022-07-29T14:11:46-07:00",
           "Transect 2"
          ],
          [
           1,
           8.57,
           27.88,
           1058.93,
           "2022-07-29T14:11:46-07:00",
           "Transect 2"
          ],
          [
           1,
           8.530000000000001,
           27.81,
           1069.68,
           "2022-07-29T14:11:52-07:00",
           "Transect 2"
          ],
          [
           1,
           8.579999999999998,
           27.81,
           1060.18,
           "2022-07-29T14:11:54-07:00",
           "Transect 2"
          ],
          [
           1,
           8.43,
           27.69,
           1070.95,
           "2022-07-29T14:11:56-07:00",
           "Transect 2"
          ],
          [
           1,
           8.48,
           27.81,
           1064.92,
           "2022-07-29T14:11:58-07:00",
           "Transect 2"
          ],
          [
           1,
           8.77,
           27.69,
           1064.92,
           "2022-07-29T14:12:00-07:00",
           "Transect 2"
          ],
          [
           1,
           8.57,
           27.81,
           1060.18,
           "2022-07-29T14:12:02-07:00",
           "Transect 2"
          ],
          [
           1,
           8.55,
           27.81,
           1055.45,
           "2022-07-29T14:12:04-07:00",
           "Transect 2"
          ],
          [
           1,
           8.629999999999999,
           27.81,
           1056.71,
           "2022-07-29T14:12:04-07:00",
           "Transect 2"
          ],
          [
           1,
           8.420000000000002,
           27.81,
           1069.68,
           "2022-07-29T14:12:10-07:00",
           "Transect 2"
          ],
          [
           1,
           9.02,
           27.81,
           1063.96,
           "2022-07-29T14:12:10-07:00",
           "Transect 2"
          ],
          [
           1,
           9.010000000000002,
           27.75,
           1061.44,
           "2022-07-29T14:12:14-07:00",
           "Transect 2"
          ],
          [
           1,
           8.899999999999999,
           27.81,
           1070.95,
           "2022-07-29T14:12:14-07:00",
           "Transect 2"
          ],
          [
           1,
           8.57,
           27.81,
           1055.45,
           "2022-07-29T14:12:18-07:00",
           "Transect 2"
          ],
          [
           1,
           9.2,
           27.81,
           1057.96,
           "2022-07-29T14:12:18-07:00",
           "Transect 2"
          ],
          [
           1,
           9.25,
           27.69,
           1070.95,
           "2022-07-29T14:12:22-07:00",
           "Transect 2"
          ],
          [
           1,
           8.940000000000001,
           27.81,
           1069.68,
           "2022-07-29T14:12:22-07:00",
           "Transect 2"
          ],
          [
           1,
           8.870000000000001,
           27.75,
           1064.92,
           "2022-07-29T14:12:22-07:00",
           "Transect 2"
          ],
          [
           1,
           8.84,
           27.75,
           1069.68,
           "2022-07-29T14:12:28-07:00",
           "Transect 2"
          ],
          [
           1,
           8.75,
           27.81,
           1074.45,
           "2022-07-29T14:12:30-07:00",
           "Transect 2"
          ],
          [
           1,
           8.66,
           27.69,
           1070.95,
           "2022-07-29T14:12:32-07:00",
           "Transect 2"
          ],
          [
           1,
           8.629999999999999,
           27.81,
           1074.45,
           "2022-07-29T14:12:34-07:00",
           "Transect 2"
          ],
          [
           1,
           8.620000000000001,
           27.75,
           1070.95,
           "2022-07-29T14:12:36-07:00",
           "Transect 2"
          ],
          [
           1,
           8.57,
           27.81,
           1070.95,
           "2022-07-29T14:12:38-07:00",
           "Transect 2"
          ],
          [
           1,
           8.530000000000001,
           27.81,
           1061.44,
           "2022-07-29T14:12:40-07:00",
           "Transect 2"
          ],
          [
           1,
           8.510000000000002,
           27.81,
           1056.71,
           "2022-07-29T14:12:40-07:00",
           "Transect 2"
          ],
          [
           1,
           8.45,
           27.81,
           1075.72,
           "2022-07-29T14:12:46-07:00",
           "Transect 2"
          ],
          [
           1,
           8.809999999999999,
           27.69,
           1062.7,
           "2022-07-29T14:12:50-07:00",
           "Transect 2"
          ],
          [
           1,
           8.3,
           27.75,
           1069.68,
           "2022-07-29T14:12:50-07:00",
           "Transect 2"
          ],
          [
           1,
           8.29,
           27.69,
           1056.71,
           "2022-07-29T14:12:54-07:00",
           "Transect 2"
          ],
          [
           1,
           8.719999999999999,
           27.69,
           1081.79,
           "2022-07-29T14:12:54-07:00",
           "Transect 2"
          ],
          [
           1,
           8.54,
           27.69,
           1069.68,
           "2022-07-29T14:12:58-07:00",
           "Transect 2"
          ],
          [
           1,
           8.2,
           27.81,
           1060.18,
           "2022-07-29T14:12:58-07:00",
           "Transect 2"
          ],
          [
           1,
           8.170000000000002,
           27.81,
           1050.74,
           "2022-07-29T14:12:58-07:00",
           "Transect 2"
          ],
          [
           1,
           8.170000000000002,
           27.81,
           1064.92,
           "2022-07-29T14:13:04-07:00",
           "Transect 2"
          ],
          [
           1,
           8.14,
           27.81,
           1051.98,
           "2022-07-29T14:13:06-07:00",
           "Transect 2"
          ],
          [
           1,
           8.16,
           27.81,
           1069.68,
           "2022-07-29T14:13:08-07:00",
           "Transect 2"
          ],
          [
           1,
           8.600000000000001,
           27.69,
           1077,
           "2022-07-29T14:13:10-07:00",
           "Transect 2"
          ],
          [
           1,
           8.18,
           27.81,
           1074.45,
           "2022-07-29T14:13:12-07:00",
           "Transect 2"
          ],
          [
           1,
           7.969999999999999,
           27.75,
           1066.19,
           "2022-07-29T14:13:14-07:00",
           "Transect 2"
          ],
          [
           1,
           8.059999999999999,
           27.81,
           1064.92,
           "2022-07-29T14:13:16-07:00",
           "Transect 2"
          ],
          [
           1,
           8.11,
           27.81,
           1050.74,
           "2022-07-29T14:13:16-07:00",
           "Transect 2"
          ],
          [
           1,
           8.11,
           27.81,
           1060.18,
           "2022-07-29T14:13:22-07:00",
           "Transect 2"
          ],
          [
           1,
           8.129999999999999,
           27.81,
           1080.51,
           "2022-07-29T14:13:22-07:00",
           "Transect 2"
          ],
          [
           1,
           8.16,
           27.81,
           1064.92,
           "2022-07-29T14:13:26-07:00",
           "Transect 2"
          ],
          [
           1,
           8.079999999999998,
           27.81,
           1060.18,
           "2022-07-29T14:13:26-07:00",
           "Transect 2"
          ],
          [
           1,
           8.079999999999998,
           27.81,
           1066.19,
           "2022-07-29T14:13:30-07:00",
           "Transect 2"
          ],
          [
           1,
           8.030000000000001,
           27.75,
           1055.45,
           "2022-07-29T14:13:30-07:00",
           "Transect 2"
          ],
          [
           1,
           8.030000000000001,
           27.75,
           1064.92,
           "2022-07-29T14:13:34-07:00",
           "Transect 2"
          ],
          [
           1,
           8.489999999999998,
           27.75,
           1072.22,
           "2022-07-29T14:13:34-07:00",
           "Transect 2"
          ],
          [
           1,
           8.670000000000002,
           27.75,
           1060.18,
           "2022-07-29T14:13:34-07:00",
           "Transect 2"
          ],
          [
           1,
           8.48,
           27.81,
           1011.25,
           "2022-07-29T14:13:40-07:00",
           "Transect 2"
          ],
          [
           1,
           8.010000000000002,
           27.69,
           1069.68,
           "2022-07-29T14:13:42-07:00",
           "Transect 2"
          ],
          [
           1,
           8.010000000000002,
           27.69,
           1069.68,
           "2022-07-29T14:13:44-07:00",
           "Transect 2"
          ],
          [
           1,
           7.93,
           27.81,
           1074.45,
           "2022-07-29T14:13:46-07:00",
           "Transect 2"
          ],
          [
           1,
           7.899999999999999,
           27.81,
           999.68,
           "2022-07-29T14:13:48-07:00",
           "Transect 2"
          ],
          [
           1,
           7.870000000000001,
           27.69,
           1079.23,
           "2022-07-29T14:13:50-07:00",
           "Transect 2"
          ],
          [
           1,
           7.829999999999998,
           27.81,
           1074.45,
           "2022-07-29T14:13:52-07:00",
           "Transect 2"
          ],
          [
           1,
           8.010000000000002,
           27.81,
           1064.92,
           "2022-07-29T14:13:52-07:00",
           "Transect 2"
          ],
          [
           1,
           7.789999999999999,
           27.81,
           1064.92,
           "2022-07-29T14:13:52-07:00",
           "Transect 2"
          ],
          [
           1,
           7.77,
           27.81,
           1074.45,
           "2022-07-29T14:14:00-07:00",
           "Transect 2"
          ],
          [
           1,
           7.789999999999999,
           27.81,
           1060.18,
           "2022-07-29T14:14:00-07:00",
           "Transect 2"
          ],
          [
           1,
           7.879999999999999,
           27.69,
           1074.45,
           "2022-07-29T14:14:04-07:00",
           "Transect 2"
          ],
          [
           1,
           7.859999999999999,
           27.88,
           1055.45,
           "2022-07-29T14:14:04-07:00",
           "Transect 2"
          ],
          [
           1,
           7.91,
           27.81,
           1064.92,
           "2022-07-29T14:14:08-07:00",
           "Transect 2"
          ],
          [
           1,
           7.920000000000002,
           27.81,
           1060.18,
           "2022-07-29T14:14:08-07:00",
           "Transect 2"
          ],
          [
           1,
           8.030000000000001,
           27.69,
           1064.92,
           "2022-07-29T14:14:12-07:00",
           "Transect 2"
          ],
          [
           1,
           8.02,
           27.81,
           1069.68,
           "2022-07-29T14:14:12-07:00",
           "Transect 2"
          ],
          [
           1,
           8.23,
           27.81,
           1064.92,
           "2022-07-29T14:14:16-07:00",
           "Transect 2"
          ],
          [
           1,
           7.899999999999999,
           27.81,
           1069.68,
           "2022-07-29T14:14:18-07:00",
           "Transect 2"
          ],
          [
           1,
           7.949999999999999,
           27.81,
           1069.68,
           "2022-07-29T14:14:20-07:00",
           "Transect 2"
          ],
          [
           1,
           7.989999999999998,
           27.81,
           1064.92,
           "2022-07-29T14:14:22-07:00",
           "Transect 2"
          ],
          [
           1,
           7.989999999999998,
           27.69,
           1064.92,
           "2022-07-29T14:14:24-07:00",
           "Transect 2"
          ],
          [
           1,
           8.059999999999999,
           27.81,
           1060.18,
           "2022-07-29T14:14:26-07:00",
           "Transect 2"
          ],
          [
           1,
           8.02,
           27.81,
           1064.92,
           "2022-07-29T14:14:28-07:00",
           "Transect 2"
          ],
          [
           1,
           8.32,
           27.69,
           1075.72,
           "2022-07-29T14:14:28-07:00",
           "Transect 2"
          ],
          [
           1,
           7.850000000000001,
           27.81,
           1066.19,
           "2022-07-29T14:14:28-07:00",
           "Transect 2"
          ],
          [
           1,
           7.84,
           27.81,
           1069.68,
           "2022-07-29T14:14:36-07:00",
           "Transect 2"
          ],
          [
           1,
           7.829999999999998,
           27.81,
           1069.68,
           "2022-07-29T14:14:36-07:00",
           "Transect 2"
          ],
          [
           1,
           7.890000000000001,
           27.81,
           1060.18,
           "2022-07-29T14:14:40-07:00",
           "Transect 2"
          ],
          [
           1,
           7.859999999999999,
           27.81,
           1066.19,
           "2022-07-29T14:14:40-07:00",
           "Transect 2"
          ],
          [
           1,
           7.98,
           27.63,
           1064.92,
           "2022-07-29T14:14:44-07:00",
           "Transect 2"
          ],
          [
           1,
           7.829999999999998,
           27.81,
           1064.92,
           "2022-07-29T14:14:44-07:00",
           "Transect 2"
          ],
          [
           1,
           7.77,
           27.75,
           1064.92,
           "2022-07-29T14:14:52-07:00",
           "Transect 2"
          ],
          [
           1,
           7.829999999999998,
           27.81,
           1074.45,
           "2022-07-29T14:14:54-07:00",
           "Transect 2"
          ],
          [
           1,
           7.850000000000001,
           27.63,
           1064.92,
           "2022-07-29T14:14:56-07:00",
           "Transect 2"
          ],
          [
           1,
           7.780000000000001,
           27.81,
           1060.18,
           "2022-07-29T14:14:58-07:00",
           "Transect 2"
          ],
          [
           1,
           7.77,
           27.81,
           1060.18,
           "2022-07-29T14:15:00-07:00",
           "Transect 2"
          ],
          [
           1,
           7.859999999999999,
           27.69,
           1060.18,
           "2022-07-29T14:15:02-07:00",
           "Transect 2"
          ],
          [
           1,
           7.760000000000002,
           27.69,
           1080.51,
           "2022-07-29T14:15:04-07:00",
           "Transect 2"
          ],
          [
           1,
           7.91,
           27.81,
           1064.92,
           "2022-07-29T14:15:04-07:00",
           "Transect 2"
          ],
          [
           1,
           7.73,
           27.81,
           1064.92,
           "2022-07-29T14:15:04-07:00",
           "Transect 2"
          ],
          [
           1,
           7.879999999999999,
           27.81,
           1074.45,
           "2022-07-29T14:15:12-07:00",
           "Transect 2"
          ],
          [
           1,
           7.719999999999999,
           27.75,
           1060.18,
           "2022-07-29T14:15:16-07:00",
           "Transect 2"
          ],
          [
           1,
           7.75,
           27.81,
           1055.45,
           "2022-07-29T14:15:16-07:00",
           "Transect 2"
          ],
          [
           1,
           7.719999999999999,
           27.69,
           1069.68,
           "2022-07-29T14:15:20-07:00",
           "Transect 2"
          ],
          [
           1,
           7.73,
           27.81,
           1069.68,
           "2022-07-29T14:15:20-07:00",
           "Transect 2"
          ],
          [
           1,
           7.690000000000001,
           27.69,
           1050.74,
           "2022-07-29T14:15:24-07:00",
           "Transect 2"
          ],
          [
           1,
           7.640000000000001,
           27.69,
           1064.92,
           "2022-07-29T14:15:24-07:00",
           "Transect 2"
          ],
          [
           1,
           8.129999999999999,
           27.81,
           1057.96,
           "2022-07-29T14:15:28-07:00",
           "Transect 2"
          ],
          [
           1,
           7.690000000000001,
           27.69,
           1064.92,
           "2022-07-29T14:15:30-07:00",
           "Transect 2"
          ],
          [
           1,
           7.66,
           27.81,
           1079.23,
           "2022-07-29T14:15:32-07:00",
           "Transect 2"
          ],
          [
           1,
           7.600000000000001,
           27.81,
           1069.68,
           "2022-07-29T14:15:34-07:00",
           "Transect 2"
          ],
          [
           1,
           7.469999999999999,
           27.81,
           1060.18,
           "2022-07-29T14:15:36-07:00",
           "Transect 2"
          ],
          [
           1,
           7.399999999999999,
           27.81,
           1074.45,
           "2022-07-29T14:15:38-07:00",
           "Transect 2"
          ],
          [
           1,
           7.82,
           27.69,
           1064.92,
           "2022-07-29T14:15:40-07:00",
           "Transect 2"
          ],
          [
           1,
           7.489999999999998,
           27.81,
           1074.45,
           "2022-07-29T14:15:42-07:00",
           "Transect 2"
          ],
          [
           1,
           7.489999999999998,
           27.69,
           1064.92,
           "2022-07-29T14:15:42-07:00",
           "Transect 2"
          ],
          [
           1,
           7.670000000000002,
           27.88,
           1064.92,
           "2022-07-29T14:15:48-07:00",
           "Transect 2"
          ],
          [
           1,
           8.170000000000002,
           27.69,
           1067.45,
           "2022-07-29T14:15:52-07:00",
           "Transect 2"
          ],
          [
           1,
           7.609999999999999,
           27.81,
           1079.23,
           "2022-07-29T14:15:52-07:00",
           "Transect 2"
          ],
          [
           1,
           7.609999999999999,
           27.69,
           1058.93,
           "2022-07-29T14:15:56-07:00",
           "Transect 2"
          ],
          [
           1,
           7.710000000000001,
           27.81,
           1066.19,
           "2022-07-29T14:15:56-07:00",
           "Transect 2"
          ],
          [
           1,
           8.07,
           27.81,
           1069.68,
           "2022-07-29T14:16:00-07:00",
           "Transect 2"
          ],
          [
           1,
           7.579999999999998,
           27.81,
           1069.68,
           "2022-07-29T14:16:00-07:00",
           "Transect 2"
          ],
          [
           1,
           7.989999999999998,
           27.81,
           1080.51,
           "2022-07-29T14:16:00-07:00",
           "Transect 2"
          ],
          [
           1,
           7.52,
           27.81,
           1069.68,
           "2022-07-29T14:16:06-07:00",
           "Transect 2"
          ],
          [
           1,
           7.510000000000002,
           27.81,
           1064.92,
           "2022-07-29T14:16:08-07:00",
           "Transect 2"
          ],
          [
           1,
           8.030000000000001,
           27.81,
           1060.18,
           "2022-07-29T14:16:10-07:00",
           "Transect 2"
          ],
          [
           1,
           7.780000000000001,
           27.81,
           1060.18,
           "2022-07-29T14:16:14-07:00",
           "Transect 2"
          ],
          [
           1,
           7.82,
           27.81,
           1069.68,
           "2022-07-29T14:16:18-07:00",
           "Transect 2"
          ],
          [
           1,
           7.649999999999999,
           27.81,
           1069.68,
           "2022-07-29T14:16:18-07:00",
           "Transect 2"
          ],
          [
           1,
           7.620000000000001,
           27.81,
           1069.68,
           "2022-07-29T14:16:24-07:00",
           "Transect 2"
          ],
          [
           1,
           7.649999999999999,
           27.81,
           1055.45,
           "2022-07-29T14:16:28-07:00",
           "Transect 2"
          ],
          [
           1,
           7.609999999999999,
           27.81,
           1060.18,
           "2022-07-29T14:16:32-07:00",
           "Transect 2"
          ],
          [
           1,
           7.68,
           27.81,
           1060.18,
           "2022-07-29T14:16:32-07:00",
           "Transect 2"
          ],
          [
           1,
           7.800000000000001,
           27.81,
           1079.23,
           "2022-07-29T14:16:36-07:00",
           "Transect 2"
          ],
          [
           1,
           7.629999999999999,
           27.88,
           1064.92,
           "2022-07-29T14:16:36-07:00",
           "Transect 2"
          ],
          [
           1,
           7.59,
           27.81,
           1068.42,
           "2022-07-29T14:16:36-07:00",
           "Transect 2"
          ],
          [
           1,
           7.59,
           27.88,
           1058.93,
           "2022-07-29T14:16:42-07:00",
           "Transect 2"
          ],
          [
           1,
           7.940000000000001,
           27.81,
           1079.23,
           "2022-07-29T14:16:44-07:00",
           "Transect 2"
          ],
          [
           1,
           8.030000000000001,
           27.75,
           1064.92,
           "2022-07-29T14:16:46-07:00",
           "Transect 2"
          ],
          [
           1,
           7.59,
           27.81,
           1074.45,
           "2022-07-29T14:16:48-07:00",
           "Transect 2"
          ],
          [
           1,
           7.609999999999999,
           27.81,
           1069.68,
           "2022-07-29T14:16:50-07:00",
           "Transect 2"
          ],
          [
           1,
           7.579999999999998,
           27.88,
           1074.45,
           "2022-07-29T14:16:52-07:00",
           "Transect 2"
          ],
          [
           1,
           7.609999999999999,
           27.81,
           1064.92,
           "2022-07-29T14:16:54-07:00",
           "Transect 2"
          ],
          [
           1,
           7.739999999999998,
           27.81,
           1060.18,
           "2022-07-29T14:17:00-07:00",
           "Transect 2"
          ],
          [
           1,
           7.5,
           27.81,
           1064.92,
           "2022-07-29T14:17:04-07:00",
           "Transect 2"
          ],
          [
           1,
           7.440000000000001,
           27.81,
           1069.68,
           "2022-07-29T14:17:08-07:00",
           "Transect 2"
          ],
          [
           1,
           8.149999999999999,
           27.81,
           1070.95,
           "2022-07-29T14:17:08-07:00",
           "Transect 2"
          ],
          [
           1,
           7.579999999999998,
           27.81,
           1060.18,
           "2022-07-29T14:17:12-07:00",
           "Transect 2"
          ],
          [
           1,
           7.530000000000001,
           27.81,
           1055.45,
           "2022-07-29T14:17:12-07:00",
           "Transect 2"
          ],
          [
           1,
           7.82,
           27.88,
           1079.23,
           "2022-07-29T14:17:12-07:00",
           "Transect 2"
          ],
          [
           1,
           7.649999999999999,
           27.88,
           1060.18,
           "2022-07-29T14:17:18-07:00",
           "Transect 2"
          ],
          [
           1,
           7.640000000000001,
           27.81,
           1069.68,
           "2022-07-29T14:17:20-07:00",
           "Transect 2"
          ],
          [
           1,
           7.68,
           27.81,
           1069.68,
           "2022-07-29T14:17:22-07:00",
           "Transect 2"
          ],
          [
           1,
           7.710000000000001,
           27.81,
           1068.42,
           "2022-07-29T14:17:24-07:00",
           "Transect 2"
          ],
          [
           1,
           7.670000000000002,
           27.81,
           1074.45,
           "2022-07-29T14:17:26-07:00",
           "Transect 2"
          ],
          [
           1,
           7.609999999999999,
           27.75,
           1079.23,
           "2022-07-29T14:17:28-07:00",
           "Transect 2"
          ],
          [
           1,
           7.629999999999999,
           27.81,
           1074.45,
           "2022-07-29T14:17:30-07:00",
           "Transect 2"
          ],
          [
           1,
           7.579999999999998,
           27.81,
           1069.68,
           "2022-07-29T14:17:30-07:00",
           "Transect 2"
          ],
          [
           1,
           7.530000000000001,
           27.81,
           1060.18,
           "2022-07-29T14:17:36-07:00",
           "Transect 2"
          ],
          [
           1,
           7.57,
           27.81,
           1014.66,
           "2022-07-29T14:17:36-07:00",
           "Transect 2"
          ],
          [
           1,
           7.739999999999998,
           27.81,
           1007.66,
           "2022-07-29T14:17:40-07:00",
           "Transect 2"
          ],
          [
           1,
           8.120000000000001,
           27.75,
           1064.92,
           "2022-07-29T14:17:44-07:00",
           "Transect 2"
          ],
          [
           1,
           7.649999999999999,
           27.88,
           1068.42,
           "2022-07-29T14:17:44-07:00",
           "Transect 2"
          ],
          [
           1,
           7.739999999999998,
           27.88,
           1060.18,
           "2022-07-29T14:17:48-07:00",
           "Transect 2"
          ],
          [
           1,
           7.710000000000001,
           27.88,
           1069.68,
           "2022-07-29T14:17:48-07:00",
           "Transect 2"
          ],
          [
           1,
           7.670000000000002,
           27.88,
           1064.92,
           "2022-07-29T14:17:48-07:00",
           "Transect 2"
          ],
          [
           1,
           7.960000000000001,
           27.88,
           1060.18,
           "2022-07-29T14:17:54-07:00",
           "Transect 2"
          ],
          [
           1,
           7.920000000000002,
           27.81,
           1054.21,
           "2022-07-29T14:17:56-07:00",
           "Transect 2"
          ],
          [
           1,
           7.789999999999999,
           27.81,
           1079.23,
           "2022-07-29T14:17:58-07:00",
           "Transect 2"
          ],
          [
           1,
           7.760000000000002,
           27.88,
           1069.68,
           "2022-07-29T14:18:00-07:00",
           "Transect 2"
          ],
          [
           1,
           7.739999999999998,
           27.88,
           1060.18,
           "2022-07-29T14:18:04-07:00",
           "Transect 2"
          ],
          [
           1,
           7.489999999999998,
           27.81,
           1069.68,
           "2022-07-29T14:18:06-07:00",
           "Transect 2"
          ],
          [
           1,
           7.620000000000001,
           27.81,
           1064.92,
           "2022-07-29T14:18:06-07:00",
           "Transect 2"
          ],
          [
           1,
           8.559999999999999,
           27.75,
           1015.86,
           "2022-07-29T14:18:12-07:00",
           "Transect 2"
          ],
          [
           1,
           7.670000000000002,
           27.81,
           1074.45,
           "2022-07-29T14:18:12-07:00",
           "Transect 2"
          ],
          [
           1,
           8.14,
           27.88,
           1069.68,
           "2022-07-29T14:18:16-07:00",
           "Transect 2"
          ],
          [
           1,
           8.05,
           27.75,
           1025.13,
           "2022-07-29T14:18:16-07:00",
           "Transect 2"
          ],
          [
           1,
           7.530000000000001,
           27.75,
           1079.23,
           "2022-07-29T14:18:20-07:00",
           "Transect 2"
          ],
          [
           1,
           8.170000000000002,
           27.81,
           1020.49,
           "2022-07-29T14:18:20-07:00",
           "Transect 2"
          ],
          [
           1,
           8.129999999999999,
           27.75,
           1061.44,
           "2022-07-29T14:18:24-07:00",
           "Transect 2"
          ],
          [
           1,
           7.609999999999999,
           27.81,
           1069.68,
           "2022-07-29T14:18:24-07:00",
           "Transect 2"
          ],
          [
           1,
           7.57,
           27.81,
           1075.72,
           "2022-07-29T14:18:24-07:00",
           "Transect 2"
          ],
          [
           1,
           7.489999999999998,
           27.81,
           1060.18,
           "2022-07-29T14:18:30-07:00",
           "Transect 2"
          ],
          [
           1,
           7.489999999999998,
           27.81,
           1064.92,
           "2022-07-29T14:18:32-07:00",
           "Transect 2"
          ],
          [
           1,
           7.620000000000001,
           27.81,
           1064.92,
           "2022-07-29T14:18:34-07:00",
           "Transect 2"
          ],
          [
           1,
           7.649999999999999,
           27.81,
           1079.23,
           "2022-07-29T14:18:36-07:00",
           "Transect 2"
          ],
          [
           1,
           7.48,
           27.81,
           1074.45,
           "2022-07-29T14:18:38-07:00",
           "Transect 2"
          ],
          [
           1,
           7.82,
           27.81,
           1074.45,
           "2022-07-29T14:18:40-07:00",
           "Transect 2"
          ],
          [
           1,
           7.73,
           27.81,
           1074.45,
           "2022-07-29T14:18:42-07:00",
           "Transect 2"
          ],
          [
           1,
           7.579999999999998,
           27.81,
           1069.68,
           "2022-07-29T14:18:42-07:00",
           "Transect 2"
          ],
          [
           1,
           7.579999999999998,
           27.81,
           1064.92,
           "2022-07-29T14:18:42-07:00",
           "Transect 2"
          ],
          [
           1,
           7.73,
           27.81,
           1055.45,
           "2022-07-29T14:18:50-07:00",
           "Transect 2"
          ],
          [
           1,
           7.870000000000001,
           27.81,
           1050.74,
           "2022-07-29T14:18:54-07:00",
           "Transect 2"
          ],
          [
           1,
           8.059999999999999,
           27.81,
           1079.23,
           "2022-07-29T14:18:54-07:00",
           "Transect 2"
          ],
          [
           1,
           7.969999999999999,
           27.88,
           1079.23,
           "2022-07-29T14:18:58-07:00",
           "Transect 2"
          ],
          [
           1,
           7.899999999999999,
           27.81,
           1069.68,
           "2022-07-29T14:18:58-07:00",
           "Transect 2"
          ],
          [
           1,
           7.780000000000001,
           27.69,
           1050.74,
           "2022-07-29T14:19:02-07:00",
           "Transect 2"
          ],
          [
           1,
           8.120000000000001,
           27.81,
           1074.45,
           "2022-07-29T14:19:02-07:00",
           "Transect 2"
          ],
          [
           1,
           7.629999999999999,
           27.69,
           1064.92,
           "2022-07-29T14:19:06-07:00",
           "Transect 2"
          ],
          [
           1,
           7.600000000000001,
           27.88,
           1074.45,
           "2022-07-29T14:19:08-07:00",
           "Transect 2"
          ],
          [
           1,
           7.550000000000001,
           27.81,
           1063.67,
           "2022-07-29T14:19:10-07:00",
           "Transect 2"
          ],
          [
           1,
           7.530000000000001,
           27.81,
           1069.68,
           "2022-07-29T14:19:12-07:00",
           "Transect 2"
          ],
          [
           1,
           7.550000000000001,
           27.75,
           1074.45,
           "2022-07-29T14:19:14-07:00",
           "Transect 2"
          ],
          [
           1,
           7.710000000000001,
           27.81,
           1064.92,
           "2022-07-29T14:19:16-07:00",
           "Transect 2"
          ],
          [
           1,
           7.82,
           27.81,
           1079.23,
           "2022-07-29T14:19:18-07:00",
           "Transect 2"
          ],
          [
           1,
           7.640000000000001,
           27.81,
           1074.45,
           "2022-07-29T14:19:18-07:00",
           "Transect 2"
          ],
          [
           1,
           7.879999999999999,
           27.81,
           1066.19,
           "2022-07-29T14:19:18-07:00",
           "Transect 2"
          ],
          [
           1,
           7.940000000000001,
           27.81,
           1060.18,
           "2022-07-29T14:19:26-07:00",
           "Transect 2"
          ],
          [
           1,
           7.399999999999999,
           27.81,
           1079.23,
           "2022-07-29T14:19:30-07:00",
           "Transect 2"
          ],
          [
           1,
           7.699999999999999,
           27.75,
           1069.68,
           "2022-07-29T14:19:30-07:00",
           "Transect 2"
          ],
          [
           1,
           7.850000000000001,
           27.81,
           1079.23,
           "2022-07-29T14:19:34-07:00",
           "Transect 2"
          ],
          [
           1,
           7.73,
           27.88,
           1074.45,
           "2022-07-29T14:19:34-07:00",
           "Transect 2"
          ],
          [
           1,
           7.629999999999999,
           27.75,
           1064.92,
           "2022-07-29T14:19:38-07:00",
           "Transect 2"
          ],
          [
           1,
           7.57,
           27.81,
           1060.18,
           "2022-07-29T14:19:38-07:00",
           "Transect 2"
          ],
          [
           1,
           7.859999999999999,
           27.81,
           1069.68,
           "2022-07-29T14:19:42-07:00",
           "Transect 2"
          ],
          [
           1,
           7.57,
           27.81,
           1079.23,
           "2022-07-29T14:19:44-07:00",
           "Transect 2"
          ],
          [
           1,
           7.510000000000002,
           27.81,
           1064.92,
           "2022-07-29T14:19:46-07:00",
           "Transect 2"
          ],
          [
           1,
           7.510000000000002,
           27.81,
           1074.45,
           "2022-07-29T14:19:48-07:00",
           "Transect 2"
          ],
          [
           1,
           7.260000000000002,
           27.81,
           1060.18,
           "2022-07-29T14:19:50-07:00",
           "Transect 2"
          ],
          [
           1,
           7.440000000000001,
           27.81,
           1074.45,
           "2022-07-29T14:19:52-07:00",
           "Transect 2"
          ],
          [
           1,
           7.440000000000001,
           27.81,
           1074.45,
           "2022-07-29T14:19:54-07:00",
           "Transect 2"
          ],
          [
           1,
           7.48,
           27.81,
           1074.45,
           "2022-07-29T14:19:54-07:00",
           "Transect 2"
          ],
          [
           1,
           7.48,
           27.81,
           1064.92,
           "2022-07-29T14:19:54-07:00",
           "Transect 2"
          ],
          [
           1,
           7.440000000000001,
           27.81,
           1063.67,
           "2022-07-29T14:20:02-07:00",
           "Transect 2"
          ],
          [
           1,
           7.539999999999999,
           27.81,
           1069.68,
           "2022-07-29T14:20:02-07:00",
           "Transect 2"
          ],
          [
           1,
           7.609999999999999,
           27.88,
           1079.23,
           "2022-07-29T14:20:06-07:00",
           "Transect 2"
          ],
          [
           1,
           8.079999999999998,
           27.75,
           1075.72,
           "2022-07-29T14:20:10-07:00",
           "Transect 2"
          ],
          [
           1,
           7.550000000000001,
           27.75,
           1055.45,
           "2022-07-29T14:20:14-07:00",
           "Transect 2"
          ],
          [
           1,
           7.43,
           27.81,
           1073.18,
           "2022-07-29T14:20:14-07:00",
           "Transect 2"
          ],
          [
           1,
           7.190000000000001,
           27.81,
           1064.92,
           "2022-07-29T14:20:18-07:00",
           "Transect 2"
          ],
          [
           1,
           7.890000000000001,
           27.75,
           1073.18,
           "2022-07-29T14:20:20-07:00",
           "Transect 2"
          ],
          [
           1,
           7.420000000000002,
           27.81,
           1074.45,
           "2022-07-29T14:20:22-07:00",
           "Transect 2"
          ],
          [
           1,
           7.469999999999999,
           27.81,
           1063.67,
           "2022-07-29T14:20:24-07:00",
           "Transect 2"
          ],
          [
           1,
           7.469999999999999,
           27.88,
           1079.23,
           "2022-07-29T14:20:26-07:00",
           "Transect 2"
          ],
          [
           1,
           7.649999999999999,
           27.81,
           1058.93,
           "2022-07-29T14:20:28-07:00",
           "Transect 2"
          ],
          [
           1,
           8.100000000000001,
           27.81,
           1069.68,
           "2022-07-29T14:20:30-07:00",
           "Transect 2"
          ],
          [
           1,
           8.14,
           27.75,
           1055.45,
           "2022-07-29T14:20:30-07:00",
           "Transect 2"
          ],
          [
           1,
           7.719999999999999,
           27.75,
           1077.95,
           "2022-07-29T14:20:30-07:00",
           "Transect 2"
          ],
          [
           1,
           7.850000000000001,
           27.75,
           1064.92,
           "2022-07-29T14:20:38-07:00",
           "Transect 2"
          ],
          [
           1,
           8.18,
           27.81,
           1020.49,
           "2022-07-29T14:20:38-07:00",
           "Transect 2"
          ],
          [
           1,
           7.890000000000001,
           27.75,
           1055.45,
           "2022-07-29T14:20:42-07:00",
           "Transect 2"
          ],
          [
           1,
           7.73,
           27.81,
           1074.45,
           "2022-07-29T14:20:42-07:00",
           "Transect 2"
          ],
          [
           1,
           7.960000000000001,
           27.81,
           1063.67,
           "2022-07-29T14:20:46-07:00",
           "Transect 2"
          ],
          [
           1,
           7.969999999999999,
           27.88,
           1068.42,
           "2022-07-29T14:20:46-07:00",
           "Transect 2"
          ],
          [
           1,
           7.960000000000001,
           27.88,
           1074.45,
           "2022-07-29T14:20:50-07:00",
           "Transect 2"
          ],
          [
           1,
           7.879999999999999,
           27.81,
           1073.18,
           "2022-07-29T14:20:50-07:00",
           "Transect 2"
          ],
          [
           1,
           8.309999999999999,
           27.75,
           1064.92,
           "2022-07-29T14:20:54-07:00",
           "Transect 2"
          ],
          [
           1,
           7.77,
           27.88,
           1074.45,
           "2022-07-29T14:20:56-07:00",
           "Transect 2"
          ],
          [
           1,
           7.859999999999999,
           27.81,
           1050.74,
           "2022-07-29T14:20:58-07:00",
           "Transect 2"
          ],
          [
           1,
           7.789999999999999,
           27.88,
           1074.45,
           "2022-07-29T14:21:00-07:00",
           "Transect 2"
          ],
          [
           1,
           7.84,
           27.81,
           1069.68,
           "2022-07-29T14:21:02-07:00",
           "Transect 2"
          ],
          [
           1,
           7.629999999999999,
           27.69,
           1069.68,
           "2022-07-29T14:21:04-07:00",
           "Transect 2"
          ],
          [
           1,
           7.940000000000001,
           27.88,
           1064.92,
           "2022-07-29T14:21:06-07:00",
           "Transect 2"
          ],
          [
           1,
           7.920000000000002,
           27.75,
           1069.68,
           "2022-07-29T14:21:08-07:00",
           "Transect 2"
          ],
          [
           1,
           7.870000000000001,
           27.88,
           1074.45,
           "2022-07-29T14:21:08-07:00",
           "Transect 2"
          ],
          [
           1,
           7.809999999999999,
           27.88,
           1064.92,
           "2022-07-29T14:21:14-07:00",
           "Transect 2"
          ],
          [
           1,
           7.879999999999999,
           27.75,
           1055.45,
           "2022-07-29T14:21:18-07:00",
           "Transect 2"
          ],
          [
           1,
           7.699999999999999,
           27.88,
           1079.23,
           "2022-07-29T14:21:18-07:00",
           "Transect 2"
          ],
          [
           1,
           7.84,
           27.81,
           1069.68,
           "2022-07-29T14:21:22-07:00",
           "Transect 2"
          ],
          [
           1,
           8.719999999999999,
           27.81,
           1058.93,
           "2022-07-29T14:32:30-07:00",
           "Transect 2"
          ],
          [
           1,
           8.489999999999998,
           27.94,
           1043.57,
           "2022-07-29T14:32:32-07:00",
           "Transect 2"
          ],
          [
           1,
           8.719999999999999,
           27.94,
           1058.93,
           "2022-07-29T14:32:34-07:00",
           "Transect 2"
          ],
          [
           1,
           8.899999999999999,
           27.88,
           1044.8,
           "2022-07-29T14:32:36-07:00",
           "Transect 2"
          ],
          [
           1,
           8.559999999999999,
           27.88,
           1058.93,
           "2022-07-29T14:32:36-07:00",
           "Transect 2"
          ],
          [
           1,
           8.55,
           27.88,
           1044.8,
           "2022-07-29T14:32:36-07:00",
           "Transect 2"
          ],
          [
           1,
           8.48,
           27.88,
           1044.8,
           "2022-07-29T14:32:44-07:00",
           "Transect 2"
          ],
          [
           1,
           8.719999999999999,
           27.88,
           993.93,
           "2022-07-29T14:32:44-07:00",
           "Transect 2"
          ],
          [
           1,
           8.43,
           27.88,
           1058.93,
           "2022-07-29T14:32:48-07:00",
           "Transect 2"
          ],
          [
           1,
           8.98,
           27.81,
           1047.27,
           "2022-07-29T14:32:48-07:00",
           "Transect 2"
          ],
          [
           1,
           8.379999999999999,
           27.88,
           1049.5,
           "2022-07-29T14:32:52-07:00",
           "Transect 2"
          ],
          [
           1,
           8.66,
           27.88,
           1060.18,
           "2022-07-29T14:32:52-07:00",
           "Transect 2"
          ],
          [
           1,
           8.64,
           27.88,
           1063.67,
           "2022-07-29T14:32:56-07:00",
           "Transect 2"
          ],
          [
           1,
           8.530000000000001,
           27.75,
           1052.96,
           "2022-07-29T14:32:56-07:00",
           "Transect 2"
          ],
          [
           1,
           8.46,
           27.88,
           1044.8,
           "2022-07-29T14:33:00-07:00",
           "Transect 2"
          ],
          [
           1,
           8.36,
           27.88,
           1049.5,
           "2022-07-29T14:33:02-07:00",
           "Transect 2"
          ],
          [
           1,
           8.54,
           27.88,
           1049.5,
           "2022-07-29T14:33:04-07:00",
           "Transect 2"
          ],
          [
           1,
           8.02,
           27.81,
           1049.5,
           "2022-07-29T14:33:06-07:00",
           "Transect 2"
          ],
          [
           1,
           8.559999999999999,
           27.88,
           1058.93,
           "2022-07-29T14:33:08-07:00",
           "Transect 2"
          ],
          [
           1,
           8.23,
           27.88,
           1058.93,
           "2022-07-29T14:33:10-07:00",
           "Transect 2"
          ],
          [
           1,
           8.54,
           27.94,
           1049.5,
           "2022-07-29T14:33:12-07:00",
           "Transect 2"
          ],
          [
           1,
           8.09,
           27.88,
           1058.93,
           "2022-07-29T14:33:12-07:00",
           "Transect 2"
          ],
          [
           1,
           8.329999999999998,
           27.88,
           1048.26,
           "2022-07-29T14:33:20-07:00",
           "Transect 2"
          ],
          [
           1,
           8.309999999999999,
           27.88,
           1063.67,
           "2022-07-29T14:33:24-07:00",
           "Transect 2"
          ],
          [
           1,
           8.48,
           27.88,
           1049.5,
           "2022-07-29T14:33:24-07:00",
           "Transect 2"
          ],
          [
           1,
           8.719999999999999,
           27.94,
           1049.5,
           "2022-07-29T14:33:28-07:00",
           "Transect 2"
          ],
          [
           1,
           8.969999999999999,
           27.88,
           1064.92,
           "2022-07-29T14:33:28-07:00",
           "Transect 2"
          ],
          [
           1,
           8.8,
           27.88,
           1058.93,
           "2022-07-29T14:33:32-07:00",
           "Transect 2"
          ],
          [
           1,
           8.59,
           27.75,
           1058.93,
           "2022-07-29T14:33:32-07:00",
           "Transect 2"
          ],
          [
           1,
           8.41,
           27.75,
           1063.67,
           "2022-07-29T14:33:36-07:00",
           "Transect 2"
          ],
          [
           1,
           8.739999999999998,
           27.81,
           1043.57,
           "2022-07-29T14:33:38-07:00",
           "Transect 2"
          ],
          [
           1,
           8.649999999999999,
           27.81,
           1049.5,
           "2022-07-29T14:33:40-07:00",
           "Transect 2"
          ],
          [
           1,
           8.739999999999998,
           27.94,
           1049.5,
           "2022-07-29T14:33:42-07:00",
           "Transect 2"
          ],
          [
           1,
           8.760000000000002,
           27.94,
           1038.89,
           "2022-07-29T14:33:44-07:00",
           "Transect 2"
          ],
          [
           1,
           8.780000000000001,
           27.88,
           1058.93,
           "2022-07-29T14:33:46-07:00",
           "Transect 2"
          ],
          [
           1,
           8.96,
           27.88,
           1048.26,
           "2022-07-29T14:33:48-07:00",
           "Transect 2"
          ],
          [
           1,
           8.82,
           27.81,
           1052.96,
           "2022-07-29T14:33:50-07:00",
           "Transect 2"
          ],
          [
           1,
           8.66,
           27.94,
           1052.96,
           "2022-07-29T14:33:50-07:00",
           "Transect 2"
          ],
          [
           1,
           8.82,
           27.81,
           995.11,
           "2022-07-29T14:33:56-07:00",
           "Transect 2"
          ],
          [
           1,
           8.829999999999998,
           27.94,
           998.49,
           "2022-07-29T14:34:00-07:00",
           "Transect 2"
          ],
          [
           1,
           9.170000000000002,
           27.88,
           1058.93,
           "2022-07-29T14:34:04-07:00",
           "Transect 2"
          ],
          [
           1,
           8.8,
           27.88,
           1049.5,
           "2022-07-29T14:34:08-07:00",
           "Transect 2"
          ],
          [
           1,
           9.18,
           27.94,
           1064.92,
           "2022-07-29T14:34:08-07:00",
           "Transect 2"
          ],
          [
           1,
           9.030000000000001,
           27.88,
           1049.5,
           "2022-07-29T14:34:12-07:00",
           "Transect 2"
          ],
          [
           1,
           9.04,
           27.88,
           1044.8,
           "2022-07-29T14:34:14-07:00",
           "Transect 2"
          ],
          [
           1,
           9.25,
           27.88,
           1064.92,
           "2022-07-29T14:34:16-07:00",
           "Transect 2"
          ],
          [
           1,
           8.829999999999998,
           27.75,
           1063.67,
           "2022-07-29T14:34:18-07:00",
           "Transect 2"
          ],
          [
           1,
           8.8,
           27.75,
           1044.8,
           "2022-07-29T14:34:20-07:00",
           "Transect 2"
          ],
          [
           1,
           8.79,
           27.81,
           1044.8,
           "2022-07-29T14:34:22-07:00",
           "Transect 2"
          ],
          [
           1,
           8.760000000000002,
           27.81,
           1049.5,
           "2022-07-29T14:34:24-07:00",
           "Transect 2"
          ],
          [
           1,
           8.86,
           27.81,
           1035.44,
           "2022-07-29T14:34:26-07:00",
           "Transect 2"
          ],
          [
           1,
           8.91,
           27.88,
           1064.92,
           "2022-07-29T14:34:26-07:00",
           "Transect 2"
          ],
          [
           1,
           9.129999999999999,
           27.81,
           993.93,
           "2022-07-29T14:34:32-07:00",
           "Transect 2"
          ],
          [
           1,
           8.84,
           27.81,
           1049.5,
           "2022-07-29T14:34:36-07:00",
           "Transect 2"
          ],
          [
           1,
           8.91,
           27.88,
           1058.93,
           "2022-07-29T14:34:36-07:00",
           "Transect 2"
          ],
          [
           1,
           9.079999999999998,
           27.81,
           1060.18,
           "2022-07-29T14:34:40-07:00",
           "Transect 2"
          ],
          [
           1,
           9.120000000000001,
           27.81,
           1044.8,
           "2022-07-29T14:34:44-07:00",
           "Transect 2"
          ],
          [
           1,
           9.260000000000002,
           27.81,
           1061.44,
           "2022-07-29T14:34:44-07:00",
           "Transect 2"
          ],
          [
           1,
           9.07,
           27.88,
           1049.5,
           "2022-07-29T14:34:44-07:00",
           "Transect 2"
          ],
          [
           1,
           8.879999999999999,
           27.81,
           1054.21,
           "2022-07-29T14:34:50-07:00",
           "Transect 2"
          ],
          [
           1,
           9.07,
           27.75,
           1058.93,
           "2022-07-29T14:34:56-07:00",
           "Transect 2"
          ],
          [
           1,
           8.86,
           27.75,
           1063.67,
           "2022-07-29T14:34:58-07:00",
           "Transect 2"
          ],
          [
           1,
           9.030000000000001,
           27.75,
           1050.74,
           "2022-07-29T14:35:00-07:00",
           "Transect 2"
          ]
         ],
         "hovertemplate": "transect category=%{customdata[5]}<br>lat=%{lat}<br>lon=%{lon}<br>boat_id=%{customdata[0]}<br>level=%{customdata[1]}<br>degree=%{customdata[2]}<br>ppm=%{customdata[3]}<br>timestamp=%{customdata[4]}<extra></extra>",
         "lat": [
          32.914,
          32.914001,
          32.914003,
          32.914005,
          32.914005,
          32.914005,
          32.914009,
          32.914009,
          32.914014,
          32.914014,
          32.914015,
          32.914015,
          32.91402,
          32.91402,
          32.914046,
          32.914057,
          32.914065,
          32.91407,
          32.914071,
          32.914073,
          32.914072,
          32.914072,
          32.914072,
          32.914074,
          32.914074,
          32.914072,
          32.914072,
          32.914063,
          32.914063,
          32.914053,
          32.914053,
          32.91405,
          32.914049,
          32.914048,
          32.914048,
          32.914045,
          32.914044,
          32.914039,
          32.914038,
          32.914038,
          32.914054,
          32.914054,
          32.914056,
          32.914056,
          32.91406,
          32.91406,
          32.914067,
          32.914067,
          32.914067,
          32.914059,
          32.914058,
          32.914057,
          32.914056,
          32.914059,
          32.914058,
          32.914058,
          32.914058,
          32.914057,
          32.914049,
          32.914049,
          32.914055,
          32.914055,
          32.914055,
          32.914055,
          32.914055,
          32.91406,
          32.914058,
          32.914056,
          32.914056,
          32.914056,
          32.914055,
          32.914054,
          32.914054,
          32.91406,
          32.91406,
          32.91406,
          32.914069,
          32.914069,
          32.914066,
          32.914066,
          32.914066,
          32.91407,
          32.914068,
          32.91407,
          32.914076,
          32.914077,
          32.914075,
          32.914074,
          32.914074,
          32.914073,
          32.914074,
          32.914074,
          32.914071,
          32.914071,
          32.914072,
          32.914072,
          32.914072,
          32.914075,
          32.914074,
          32.914073,
          32.914079,
          32.914077,
          32.914078,
          32.914076,
          32.914076,
          32.914076,
          32.914071,
          32.914071,
          32.914074,
          32.914074,
          32.914082,
          32.914082,
          32.914079,
          32.914079,
          32.914072,
          32.914072,
          32.914071,
          32.914073,
          32.914073,
          32.914074,
          32.914074,
          32.914074,
          32.914074,
          32.914073,
          32.914073,
          32.914081,
          32.914081,
          32.91408,
          32.91408,
          32.914076,
          32.914076,
          32.914075,
          32.914075,
          32.914075,
          32.914076,
          32.914075,
          32.914076,
          32.914079,
          32.914079,
          32.914079,
          32.914079,
          32.914079,
          32.914079,
          32.914072,
          32.914074,
          32.914078,
          32.914079,
          32.914079,
          32.914079,
          32.91408,
          32.914084,
          32.914085,
          32.914085,
          32.914085,
          32.914086,
          32.914086,
          32.914069,
          32.914069,
          32.914078,
          32.914078,
          32.914078,
          32.914078,
          32.914076,
          32.914079,
          32.914078,
          32.914083,
          32.91408,
          32.91408,
          32.914083,
          32.914084,
          32.914084,
          32.914085,
          32.914085,
          32.914082,
          32.914082,
          32.914078,
          32.914078,
          32.914076,
          32.914076,
          32.914076,
          32.914082,
          32.914083,
          32.914085,
          32.914085,
          32.914088,
          32.914095,
          32.914098,
          32.914098,
          32.914093,
          32.914093,
          32.914088,
          32.914088,
          32.914087,
          32.914087,
          32.914094,
          32.914094,
          32.914094,
          32.914095,
          32.914097,
          32.914102,
          32.914102,
          32.914096,
          32.914096,
          32.914094,
          32.914094,
          32.914112,
          32.914112,
          32.914114,
          32.914114,
          32.914114,
          32.914114,
          32.91411,
          32.91411,
          32.91411,
          32.914108,
          32.914101,
          32.914098,
          32.914088,
          32.914081,
          32.914075,
          32.914082,
          32.914085,
          32.914085,
          32.914082,
          32.914082,
          32.914094,
          32.914094,
          32.914096,
          32.914096,
          32.914096,
          32.91409,
          32.914089,
          32.914087,
          32.914083,
          32.914083,
          32.914084,
          32.914083,
          32.914083,
          32.914083,
          32.914081,
          32.914087,
          32.914087,
          32.914091,
          32.914091,
          32.914099,
          32.914099,
          32.914097,
          32.914096,
          32.914094,
          32.914094,
          32.914096,
          32.914092,
          32.914091,
          32.914088,
          32.914097,
          32.914097,
          32.91409,
          32.91409,
          32.914085,
          32.914085,
          32.914087,
          32.914087,
          32.914086,
          32.914084,
          32.914087,
          32.914086,
          32.914085,
          32.914087,
          32.914081,
          32.914081,
          32.914081,
          32.914077,
          32.914077,
          32.914084,
          32.914084,
          32.914095,
          32.914095,
          32.9141,
          32.9141,
          32.9141,
          32.9141,
          32.9141,
          32.914096,
          32.914092,
          32.914088,
          32.914088,
          32.914088,
          32.914088,
          32.914089,
          32.914089,
          32.914086,
          32.914086,
          32.914084,
          32.914084,
          32.914082,
          32.914082,
          32.914076,
          32.914075,
          32.91407,
          32.914069,
          32.91407,
          32.914072,
          32.914075,
          32.914074,
          32.914074,
          32.914075,
          32.914076,
          32.914076,
          32.91408,
          32.91408,
          32.914082,
          32.914082,
          32.914082,
          32.914082,
          32.914083,
          32.914083,
          32.914083,
          32.914082,
          32.914083,
          32.914085,
          32.914085,
          32.914088,
          32.914091,
          32.914091,
          32.914091,
          32.914091,
          32.914094,
          32.914094,
          32.914094,
          32.914094,
          32.914094,
          32.914094,
          32.914093,
          32.914091,
          32.91409,
          32.914092,
          32.914092,
          32.914096,
          32.914098,
          32.914098,
          32.914102,
          32.914102,
          32.914105,
          32.914105,
          32.914105,
          32.914106,
          32.914107,
          32.914105,
          32.914102,
          32.9141,
          32.914098,
          32.914098,
          32.914112,
          32.914112,
          32.914134,
          32.914134,
          32.914143,
          32.914141,
          32.914141,
          32.914141,
          32.914165,
          32.914177,
          32.914188,
          32.914198,
          32.914208,
          32.914218,
          32.914228,
          32.914228,
          32.91426,
          32.91426,
          32.914281,
          32.914281,
          32.914302,
          32.914302,
          32.914326,
          32.914326,
          32.914326,
          32.914362,
          32.914374,
          32.914386,
          32.914397,
          32.914409,
          32.91442,
          32.914432,
          32.914432,
          32.914432,
          32.914476,
          32.914476,
          32.914497,
          32.914497,
          32.914516,
          32.914516,
          32.914535,
          32.914535,
          32.914555,
          32.914565,
          32.914576,
          32.914586,
          32.914596,
          32.914606,
          32.914616,
          32.914616,
          32.914616,
          32.914656,
          32.914678,
          32.914678,
          32.914699,
          32.914699,
          32.91472,
          32.91472,
          32.914741,
          32.914749,
          32.914758,
          32.914767,
          32.914776,
          32.914785,
          32.914793,
          32.914802,
          32.914802,
          32.914831,
          32.914831,
          32.914854,
          32.914854,
          32.914877,
          32.914877,
          32.914905,
          32.914905,
          32.914931,
          32.914943,
          32.914956,
          32.914968,
          32.91498,
          32.914991,
          32.915001,
          32.915012,
          32.915012,
          32.915046,
          32.915046,
          32.915069,
          32.915069,
          32.915092,
          32.915092,
          32.915114,
          32.915114,
          32.915114,
          32.915143,
          32.915151,
          32.91516,
          32.915169,
          32.915179,
          32.915187,
          32.915197,
          32.915197,
          32.915224,
          32.915243,
          32.915243,
          32.915261,
          32.915261,
          32.91528,
          32.91528,
          32.91528,
          32.915309,
          32.91532,
          32.915331,
          32.915343,
          32.915355,
          32.915366,
          32.915377,
          32.915377,
          32.915412,
          32.915412,
          32.915433,
          32.915433,
          32.915455,
          32.915455,
          32.915476,
          32.915476,
          32.915476,
          32.915489,
          32.915485,
          32.915485,
          32.915485,
          32.915484,
          32.915486,
          32.915487,
          32.915491,
          32.915491,
          32.915495,
          32.915495,
          32.915498,
          32.915498,
          32.915504,
          32.915504,
          32.915509,
          32.915512,
          32.915513,
          32.915514,
          32.915514,
          32.915515,
          32.915517,
          32.915517,
          32.915548,
          32.915548,
          32.915568,
          32.915568,
          32.91559,
          32.915609,
          32.915609,
          32.915609,
          32.915644,
          32.915655,
          32.915666,
          32.915676,
          32.915687,
          32.915697,
          32.915707,
          32.915707,
          32.915707,
          32.915743,
          32.915743,
          32.915757,
          32.915757,
          32.915749,
          32.915749,
          32.915724,
          32.915724,
          32.915701,
          32.915689,
          32.915686,
          32.915685,
          32.915679,
          32.915666,
          32.915655,
          32.915655,
          32.915655,
          32.915616,
          32.915596,
          32.915596,
          32.915576,
          32.915576,
          32.915554,
          32.915554,
          32.915532,
          32.915525,
          32.915517,
          32.915509,
          32.9155,
          32.91549,
          32.915479,
          32.915479,
          32.915479,
          32.915442,
          32.915432,
          32.915432,
          32.915435,
          32.915435,
          32.915422,
          32.915422,
          32.9154,
          32.915388,
          32.91538,
          32.915369,
          32.915343,
          32.915343,
          32.915343,
          32.915342,
          32.915342,
          32.915336,
          32.915336,
          32.915316,
          32.915316,
          32.915298,
          32.915298,
          32.915298,
          32.91527,
          32.915261,
          32.915256,
          32.915249,
          32.915241,
          32.915238,
          32.915236,
          32.915236,
          32.915216,
          32.915195,
          32.915195,
          32.915177,
          32.915177,
          32.91516,
          32.91516,
          32.91516,
          32.915123,
          32.915114,
          32.915104,
          32.915094,
          32.915085,
          32.915077,
          32.915077,
          32.915047,
          32.915032,
          32.915032,
          32.91502,
          32.91502,
          32.915026,
          32.915026,
          32.915013,
          32.915004,
          32.914996,
          32.914987,
          32.914981,
          32.914977,
          32.914971,
          32.914971,
          32.914946,
          32.914946,
          32.914926,
          32.914926,
          32.914912,
          32.914912,
          32.914894,
          32.914894,
          32.914894,
          32.914884,
          32.914885,
          32.914886,
          32.914888,
          32.914887,
          32.914889,
          32.914889,
          32.914889,
          32.914887,
          32.914891,
          32.914891,
          32.914898,
          32.914898,
          32.914902,
          32.914902,
          32.914902,
          32.91491,
          32.914912,
          32.914913,
          32.914916,
          32.914918,
          32.914921,
          32.914923,
          32.914923,
          32.914931,
          32.914931,
          32.914937,
          32.914937,
          32.914943,
          32.914943,
          32.914946,
          32.914946,
          32.914946,
          32.91495,
          32.914952,
          32.914952,
          32.914951,
          32.914951,
          32.914951,
          32.914952,
          32.914952,
          32.914952,
          32.914959,
          32.914959,
          32.914962,
          32.914962,
          32.914967,
          32.914967,
          32.914968,
          32.914968,
          32.914973,
          32.914975,
          32.914977,
          32.914977,
          32.914977,
          32.914978,
          32.91498,
          32.91498,
          32.91498,
          32.914983,
          32.914983,
          32.914989,
          32.914989,
          32.914987,
          32.914987,
          32.914986,
          32.914988,
          32.91499,
          32.914992,
          32.914994,
          32.914997,
          32.915,
          32.915,
          32.915,
          32.915008,
          32.915009,
          32.915009,
          32.915011,
          32.915011,
          32.915017,
          32.915017,
          32.915022,
          32.915024,
          32.915024,
          32.915023,
          32.915023,
          32.915024,
          32.915026,
          32.915027,
          32.915027,
          32.915042,
          32.915051,
          32.915051,
          32.91505,
          32.91505,
          32.915054,
          32.915054,
          32.915054,
          32.915061,
          32.915063,
          32.915062,
          32.915054,
          32.915053,
          32.915053,
          32.915061,
          32.915066,
          32.91507,
          32.91507,
          32.915071,
          32.915071,
          32.915071,
          32.915073,
          32.915075,
          32.915076,
          32.915078,
          32.915079,
          32.91508,
          32.915081,
          32.915081,
          32.915082,
          32.915083,
          32.915083,
          32.915085,
          32.915085,
          32.915085,
          32.91509,
          32.915091,
          32.915093,
          32.915094,
          32.915095,
          32.915095,
          32.915097,
          32.915097,
          32.9151,
          32.9151,
          32.915103,
          32.915107,
          32.915107,
          32.915109,
          32.915109,
          32.915109,
          32.915111,
          32.915112,
          32.915113,
          32.915114,
          32.915118,
          32.915121,
          32.915121,
          32.915126,
          32.915126,
          32.915128,
          32.915128,
          32.915129,
          32.915129,
          32.91513,
          32.91513,
          32.91513,
          32.91513,
          32.91513,
          32.915131,
          32.915132,
          32.915132,
          32.915132,
          32.915133,
          32.915133,
          32.915133,
          32.915132,
          32.915131,
          32.915131,
          32.915132,
          32.915132,
          32.915134,
          32.915134,
          32.915136,
          32.915137,
          32.915138,
          32.915138,
          32.915138,
          32.915138,
          32.915138,
          32.915138,
          32.915138,
          32.915139,
          32.915138,
          32.915138,
          32.915137,
          32.915137,
          32.915136,
          32.915136,
          32.915136,
          32.915136,
          32.915136,
          32.915135,
          32.915135,
          32.915135,
          32.915135,
          32.915135,
          32.915135,
          32.915139,
          32.915139,
          32.91514,
          32.915141,
          32.915142,
          32.915142,
          32.915144,
          32.915144,
          32.915144,
          32.915144,
          32.915145,
          32.915145,
          32.915146,
          32.915146,
          32.915146,
          32.915145,
          32.915145,
          32.915145,
          32.915145,
          32.915149,
          32.915149,
          32.915151,
          32.915151,
          32.915153,
          32.915157,
          32.915157,
          32.915157,
          32.915158,
          32.915162,
          32.915164,
          32.915168,
          32.915168,
          32.915177,
          32.91518,
          32.91518,
          32.915191,
          32.914232,
          32.914239,
          32.914245,
          32.914251,
          32.914251,
          32.914251,
          32.914271,
          32.914271,
          32.914274,
          32.914274,
          32.914275,
          32.914275,
          32.914274,
          32.914274,
          32.91427,
          32.914269,
          32.914266,
          32.914263,
          32.914258,
          32.914254,
          32.914253,
          32.914253,
          32.914234,
          32.914219,
          32.914219,
          32.914206,
          32.914206,
          32.91419,
          32.91419,
          32.914176,
          32.91417,
          32.914166,
          32.914161,
          32.914156,
          32.914152,
          32.91415,
          32.914148,
          32.914148,
          32.914146,
          32.914153,
          32.914168,
          32.914186,
          32.914186,
          32.914204,
          32.914215,
          32.914226,
          32.914238,
          32.914248,
          32.914259,
          32.91427,
          32.914281,
          32.914281,
          32.914314,
          32.914337,
          32.914337,
          32.914358,
          32.91438,
          32.91438,
          32.91438,
          32.91441,
          32.914441,
          32.914452,
          32.914462
         ],
         "legendgroup": "Transect 2",
         "lon": [
          -117.100019,
          -117.100019,
          -117.10002,
          -117.100019,
          -117.100019,
          -117.100019,
          -117.100015,
          -117.100015,
          -117.100011,
          -117.100011,
          -117.100011,
          -117.100011,
          -117.100012,
          -117.100012,
          -117.10003,
          -117.100036,
          -117.10004,
          -117.100041,
          -117.100044,
          -117.10004,
          -117.100038,
          -117.100038,
          -117.100038,
          -117.100028,
          -117.100028,
          -117.100023,
          -117.100023,
          -117.100022,
          -117.100022,
          -117.100025,
          -117.100025,
          -117.100022,
          -117.100023,
          -117.100021,
          -117.100018,
          -117.100017,
          -117.100014,
          -117.100013,
          -117.100011,
          -117.100011,
          -117.100037,
          -117.100037,
          -117.100042,
          -117.100042,
          -117.100049,
          -117.100049,
          -117.100048,
          -117.100048,
          -117.100048,
          -117.100042,
          -117.100039,
          -117.100037,
          -117.100037,
          -117.100043,
          -117.100044,
          -117.100041,
          -117.100041,
          -117.100042,
          -117.100037,
          -117.100037,
          -117.10004,
          -117.10004,
          -117.100034,
          -117.100034,
          -117.100034,
          -117.100034,
          -117.100033,
          -117.100032,
          -117.100028,
          -117.100028,
          -117.100026,
          -117.100026,
          -117.100026,
          -117.100041,
          -117.100041,
          -117.100041,
          -117.100047,
          -117.100047,
          -117.10005,
          -117.10005,
          -117.10005,
          -117.100055,
          -117.100053,
          -117.100056,
          -117.100061,
          -117.100063,
          -117.10006,
          -117.100058,
          -117.100058,
          -117.100056,
          -117.100059,
          -117.100059,
          -117.100054,
          -117.100054,
          -117.100055,
          -117.100055,
          -117.100055,
          -117.100054,
          -117.100055,
          -117.100055,
          -117.100051,
          -117.100054,
          -117.100054,
          -117.100051,
          -117.100051,
          -117.100051,
          -117.100045,
          -117.100045,
          -117.100044,
          -117.100044,
          -117.100036,
          -117.100036,
          -117.100035,
          -117.100035,
          -117.100038,
          -117.100037,
          -117.100034,
          -117.100034,
          -117.100026,
          -117.100025,
          -117.100026,
          -117.100026,
          -117.100026,
          -117.10001,
          -117.10001,
          -117.10001,
          -117.10001,
          -117.100014,
          -117.100014,
          -117.100018,
          -117.100018,
          -117.10002,
          -117.10002,
          -117.100019,
          -117.10002,
          -117.100018,
          -117.100019,
          -117.100021,
          -117.100021,
          -117.100021,
          -117.100018,
          -117.10002,
          -117.10002,
          -117.10002,
          -117.100024,
          -117.100024,
          -117.100021,
          -117.10002,
          -117.100018,
          -117.100018,
          -117.10002,
          -117.100024,
          -117.100022,
          -117.100022,
          -117.100008,
          -117.100008,
          -117.100016,
          -117.100016,
          -117.100014,
          -117.100014,
          -117.100014,
          -117.100014,
          -117.100024,
          -117.100024,
          -117.100024,
          -117.100026,
          -117.100028,
          -117.100029,
          -117.100028,
          -117.100028,
          -117.100028,
          -117.10003,
          -117.10003,
          -117.100034,
          -117.100034,
          -117.10004,
          -117.10004,
          -117.100038,
          -117.100038,
          -117.100038,
          -117.100037,
          -117.100037,
          -117.100036,
          -117.100036,
          -117.100033,
          -117.100029,
          -117.100028,
          -117.100028,
          -117.100029,
          -117.100029,
          -117.100033,
          -117.100033,
          -117.100036,
          -117.100036,
          -117.10003,
          -117.10003,
          -117.10003,
          -117.100028,
          -117.100028,
          -117.100031,
          -117.100028,
          -117.100036,
          -117.100031,
          -117.100027,
          -117.100027,
          -117.100026,
          -117.100026,
          -117.100023,
          -117.100023,
          -117.100029,
          -117.100029,
          -117.100031,
          -117.100031,
          -117.100031,
          -117.100032,
          -117.100034,
          -117.100044,
          -117.100041,
          -117.10004,
          -117.100041,
          -117.100044,
          -117.100038,
          -117.100038,
          -117.100039,
          -117.100039,
          -117.100044,
          -117.100044,
          -117.100047,
          -117.100047,
          -117.100047,
          -117.100043,
          -117.100041,
          -117.10004,
          -117.100037,
          -117.100037,
          -117.100037,
          -117.100038,
          -117.100038,
          -117.100038,
          -117.100044,
          -117.10005,
          -117.10005,
          -117.10005,
          -117.10005,
          -117.100052,
          -117.100052,
          -117.100048,
          -117.100048,
          -117.100049,
          -117.100048,
          -117.100051,
          -117.100047,
          -117.100044,
          -117.100038,
          -117.100052,
          -117.100052,
          -117.100056,
          -117.100056,
          -117.100053,
          -117.100053,
          -117.100049,
          -117.100049,
          -117.100041,
          -117.10004,
          -117.100035,
          -117.100033,
          -117.100034,
          -117.100034,
          -117.100029,
          -117.100029,
          -117.100029,
          -117.100027,
          -117.100027,
          -117.100022,
          -117.100022,
          -117.100021,
          -117.100021,
          -117.100024,
          -117.100024,
          -117.10002,
          -117.100019,
          -117.10002,
          -117.100022,
          -117.100022,
          -117.100018,
          -117.100016,
          -117.100016,
          -117.100016,
          -117.100013,
          -117.100013,
          -117.100014,
          -117.100014,
          -117.100013,
          -117.100013,
          -117.100014,
          -117.100014,
          -117.100013,
          -117.100012,
          -117.10001,
          -117.10001,
          -117.100011,
          -117.100012,
          -117.100012,
          -117.100012,
          -117.100012,
          -117.100013,
          -117.100013,
          -117.100013,
          -117.100013,
          -117.100013,
          -117.100012,
          -117.100012,
          -117.10001,
          -117.10001,
          -117.100012,
          -117.100014,
          -117.100015,
          -117.100012,
          -117.100012,
          -117.100014,
          -117.100014,
          -117.100016,
          -117.100015,
          -117.100015,
          -117.100013,
          -117.100013,
          -117.100022,
          -117.100022,
          -117.100022,
          -117.100032,
          -117.100032,
          -117.100028,
          -117.100029,
          -117.100029,
          -117.100029,
          -117.100032,
          -117.100032,
          -117.100029,
          -117.10003,
          -117.10003,
          -117.100029,
          -117.100029,
          -117.100034,
          -117.100034,
          -117.100034,
          -117.100029,
          -117.100035,
          -117.100033,
          -117.100026,
          -117.100027,
          -117.100028,
          -117.100028,
          -117.100036,
          -117.100036,
          -117.100035,
          -117.100035,
          -117.10003,
          -117.100034,
          -117.100034,
          -117.100034,
          -117.100039,
          -117.100041,
          -117.100044,
          -117.100048,
          -117.100054,
          -117.100059,
          -117.100065,
          -117.100065,
          -117.100077,
          -117.100077,
          -117.100085,
          -117.100085,
          -117.10009,
          -117.10009,
          -117.100091,
          -117.100091,
          -117.100091,
          -117.100087,
          -117.100084,
          -117.100082,
          -117.100082,
          -117.10008,
          -117.10008,
          -117.100079,
          -117.100079,
          -117.100079,
          -117.10008,
          -117.10008,
          -117.100083,
          -117.100083,
          -117.100088,
          -117.100088,
          -117.100098,
          -117.100098,
          -117.100105,
          -117.100109,
          -117.100112,
          -117.100115,
          -117.100119,
          -117.100121,
          -117.100123,
          -117.100123,
          -117.100123,
          -117.100134,
          -117.100138,
          -117.100138,
          -117.100143,
          -117.100143,
          -117.100148,
          -117.100148,
          -117.100155,
          -117.100159,
          -117.100164,
          -117.100169,
          -117.100176,
          -117.10018,
          -117.100184,
          -117.100187,
          -117.100187,
          -117.100194,
          -117.100194,
          -117.100197,
          -117.100197,
          -117.100197,
          -117.100197,
          -117.100188,
          -117.100188,
          -117.100179,
          -117.100174,
          -117.100168,
          -117.100163,
          -117.100159,
          -117.100154,
          -117.100151,
          -117.100146,
          -117.100146,
          -117.100137,
          -117.100137,
          -117.100133,
          -117.100133,
          -117.100129,
          -117.100129,
          -117.10013,
          -117.10013,
          -117.10013,
          -117.100135,
          -117.100138,
          -117.100141,
          -117.100145,
          -117.10015,
          -117.100154,
          -117.100158,
          -117.100158,
          -117.100169,
          -117.100176,
          -117.100176,
          -117.100184,
          -117.100184,
          -117.100189,
          -117.100189,
          -117.100189,
          -117.1002,
          -117.100203,
          -117.100205,
          -117.100206,
          -117.100207,
          -117.100208,
          -117.100209,
          -117.100209,
          -117.100213,
          -117.100213,
          -117.100218,
          -117.100218,
          -117.100221,
          -117.100221,
          -117.100223,
          -117.100223,
          -117.100223,
          -117.100214,
          -117.100211,
          -117.100209,
          -117.100209,
          -117.100206,
          -117.100203,
          -117.100199,
          -117.100192,
          -117.100192,
          -117.100183,
          -117.100183,
          -117.100176,
          -117.100176,
          -117.100169,
          -117.100169,
          -117.100162,
          -117.10016,
          -117.100157,
          -117.100154,
          -117.100151,
          -117.100148,
          -117.100144,
          -117.100144,
          -117.100151,
          -117.100151,
          -117.100155,
          -117.100155,
          -117.100157,
          -117.100164,
          -117.100164,
          -117.100164,
          -117.100169,
          -117.100172,
          -117.100172,
          -117.100174,
          -117.100176,
          -117.100179,
          -117.100181,
          -117.100181,
          -117.100181,
          -117.10019,
          -117.10019,
          -117.100197,
          -117.100197,
          -117.100218,
          -117.100218,
          -117.100215,
          -117.100215,
          -117.100207,
          -117.1002,
          -117.100186,
          -117.100171,
          -117.100161,
          -117.100158,
          -117.100157,
          -117.100157,
          -117.100157,
          -117.100172,
          -117.10017,
          -117.10017,
          -117.100167,
          -117.100167,
          -117.100166,
          -117.100166,
          -117.100173,
          -117.100172,
          -117.100173,
          -117.100165,
          -117.100161,
          -117.100159,
          -117.100161,
          -117.100161,
          -117.100161,
          -117.100167,
          -117.100149,
          -117.100149,
          -117.100121,
          -117.100121,
          -117.10011,
          -117.10011,
          -117.100111,
          -117.100114,
          -117.100115,
          -117.100117,
          -117.100114,
          -117.100114,
          -117.100114,
          -117.100139,
          -117.100139,
          -117.100152,
          -117.100152,
          -117.100146,
          -117.100146,
          -117.100135,
          -117.100135,
          -117.100135,
          -117.100119,
          -117.100118,
          -117.100115,
          -117.10011,
          -117.1001,
          -117.100086,
          -117.10007,
          -117.10007,
          -117.100052,
          -117.100054,
          -117.100054,
          -117.100045,
          -117.100045,
          -117.100034,
          -117.100034,
          -117.100034,
          -117.100004,
          -117.099999,
          -117.099995,
          -117.099993,
          -117.099992,
          -117.099991,
          -117.099991,
          -117.09999,
          -117.099992,
          -117.099992,
          -117.1,
          -117.1,
          -117.100021,
          -117.100021,
          -117.100041,
          -117.100038,
          -117.100037,
          -117.100029,
          -117.100017,
          -117.100004,
          -117.099997,
          -117.099997,
          -117.099984,
          -117.099984,
          -117.099979,
          -117.099979,
          -117.099965,
          -117.099965,
          -117.099957,
          -117.099957,
          -117.099957,
          -117.099957,
          -117.099955,
          -117.099952,
          -117.099946,
          -117.099939,
          -117.099932,
          -117.099924,
          -117.099924,
          -117.099908,
          -117.0999,
          -117.0999,
          -117.099892,
          -117.099892,
          -117.099884,
          -117.099884,
          -117.099884,
          -117.099873,
          -117.09987,
          -117.099866,
          -117.099862,
          -117.099858,
          -117.099854,
          -117.09985,
          -117.09985,
          -117.099839,
          -117.099839,
          -117.099831,
          -117.099831,
          -117.099824,
          -117.099824,
          -117.099816,
          -117.099816,
          -117.099816,
          -117.099806,
          -117.099803,
          -117.0998,
          -117.099799,
          -117.099796,
          -117.099792,
          -117.099788,
          -117.099788,
          -117.099788,
          -117.099777,
          -117.099777,
          -117.099768,
          -117.099768,
          -117.099761,
          -117.099761,
          -117.099751,
          -117.099751,
          -117.09974,
          -117.099737,
          -117.099733,
          -117.09973,
          -117.099728,
          -117.099726,
          -117.099721,
          -117.099721,
          -117.099721,
          -117.099705,
          -117.099705,
          -117.099704,
          -117.099704,
          -117.099694,
          -117.099694,
          -117.099676,
          -117.099673,
          -117.099669,
          -117.099666,
          -117.099663,
          -117.09966,
          -117.099656,
          -117.099656,
          -117.099656,
          -117.099648,
          -117.099642,
          -117.099642,
          -117.099636,
          -117.099636,
          -117.09963,
          -117.09963,
          -117.099624,
          -117.099623,
          -117.099621,
          -117.09962,
          -117.099619,
          -117.099618,
          -117.099617,
          -117.099611,
          -117.099611,
          -117.099591,
          -117.099578,
          -117.099578,
          -117.099573,
          -117.099573,
          -117.099566,
          -117.099566,
          -117.099566,
          -117.09956,
          -117.099559,
          -117.099557,
          -117.099551,
          -117.09954,
          -117.09954,
          -117.099536,
          -117.099534,
          -117.099529,
          -117.099529,
          -117.099521,
          -117.099521,
          -117.099521,
          -117.099515,
          -117.099513,
          -117.09951,
          -117.099507,
          -117.099504,
          -117.099501,
          -117.099497,
          -117.099481,
          -117.099474,
          -117.099467,
          -117.099467,
          -117.099461,
          -117.099461,
          -117.099461,
          -117.09945,
          -117.099446,
          -117.099443,
          -117.099439,
          -117.099436,
          -117.099434,
          -117.099431,
          -117.099431,
          -117.09942,
          -117.09942,
          -117.099413,
          -117.099406,
          -117.099406,
          -117.099397,
          -117.099397,
          -117.099397,
          -117.099383,
          -117.099379,
          -117.099374,
          -117.099371,
          -117.099365,
          -117.099363,
          -117.099363,
          -117.099349,
          -117.099349,
          -117.099341,
          -117.099341,
          -117.099334,
          -117.099334,
          -117.099328,
          -117.099328,
          -117.099328,
          -117.099316,
          -117.099312,
          -117.099307,
          -117.099304,
          -117.099299,
          -117.099295,
          -117.09929,
          -117.09929,
          -117.09929,
          -117.099273,
          -117.099264,
          -117.099264,
          -117.099255,
          -117.099255,
          -117.099248,
          -117.099248,
          -117.09924,
          -117.099236,
          -117.099232,
          -117.099228,
          -117.099223,
          -117.099218,
          -117.099214,
          -117.099214,
          -117.099214,
          -117.099196,
          -117.099185,
          -117.099185,
          -117.099175,
          -117.099175,
          -117.099165,
          -117.099165,
          -117.099155,
          -117.09915,
          -117.099146,
          -117.099142,
          -117.099138,
          -117.099135,
          -117.099131,
          -117.099131,
          -117.099131,
          -117.099122,
          -117.099122,
          -117.099117,
          -117.099112,
          -117.099105,
          -117.099105,
          -117.099099,
          -117.099096,
          -117.099092,
          -117.099089,
          -117.099086,
          -117.099081,
          -117.099075,
          -117.099075,
          -117.099075,
          -117.099059,
          -117.099059,
          -117.09905,
          -117.09905,
          -117.099045,
          -117.099045,
          -117.099036,
          -117.099036,
          -117.099028,
          -117.099028,
          -117.09902,
          -117.099015,
          -117.099013,
          -117.099009,
          -117.099004,
          -117.099,
          -117.099,
          -117.098991,
          -117.098978,
          -117.098978,
          -117.098975,
          -117.099899,
          -117.09989,
          -117.099879,
          -117.099869,
          -117.099869,
          -117.099869,
          -117.099845,
          -117.099845,
          -117.099848,
          -117.099848,
          -117.099849,
          -117.099849,
          -117.099854,
          -117.099854,
          -117.099854,
          -117.099863,
          -117.099876,
          -117.099887,
          -117.099888,
          -117.099884,
          -117.099892,
          -117.099892,
          -117.099924,
          -117.099948,
          -117.099948,
          -117.099969,
          -117.099969,
          -117.099985,
          -117.099985,
          -117.100001,
          -117.10001,
          -117.100017,
          -117.100026,
          -117.100036,
          -117.100047,
          -117.100059,
          -117.10007,
          -117.10007,
          -117.100096,
          -117.100115,
          -117.100133,
          -117.100149,
          -117.100149,
          -117.100161,
          -117.100166,
          -117.10017,
          -117.100173,
          -117.100175,
          -117.100178,
          -117.100179,
          -117.100179,
          -117.100179,
          -117.10018,
          -117.100175,
          -117.100175,
          -117.100162,
          -117.100148,
          -117.100148,
          -117.100148,
          -117.100127,
          -117.100108,
          -117.100101,
          -117.100096
         ],
         "marker": {
          "color": "#EF553B"
         },
         "mode": "markers",
         "name": "Transect 2",
         "showlegend": true,
         "subplot": "mapbox",
         "type": "scattermapbox"
        },
        {
         "customdata": [
          [
           1,
           9.059999999999999,
           27.75,
           1064.92,
           "2022-07-29T14:35:02-07:00",
           "Transect 3"
          ],
          [
           1,
           8.8,
           27.75,
           1055.45,
           "2022-07-29T14:35:02-07:00",
           "Transect 3"
          ],
          [
           1,
           9.010000000000002,
           27.75,
           1048.52,
           "2022-07-29T14:35:08-07:00",
           "Transect 3"
          ],
          [
           1,
           8.870000000000001,
           27.69,
           1050.74,
           "2022-07-29T14:35:12-07:00",
           "Transect 3"
          ],
          [
           1,
           8.989999999999998,
           27.81,
           1047.27,
           "2022-07-29T14:35:12-07:00",
           "Transect 3"
          ],
          [
           1,
           8.66,
           27.81,
           1035.44,
           "2022-07-29T14:35:16-07:00",
           "Transect 3"
          ],
          [
           1,
           9.120000000000001,
           27.81,
           1047.27,
           "2022-07-29T14:35:16-07:00",
           "Transect 3"
          ],
          [
           1,
           8.84,
           27.88,
           1044.8,
           "2022-07-29T14:35:20-07:00",
           "Transect 3"
          ],
          [
           1,
           8.86,
           27.81,
           1050.74,
           "2022-07-29T14:35:20-07:00",
           "Transect 3"
          ],
          [
           1,
           8.7,
           27.81,
           1046.04,
           "2022-07-29T14:35:20-07:00",
           "Transect 3"
          ],
          [
           1,
           8.68,
           27.81,
           1050.74,
           "2022-07-29T14:35:26-07:00",
           "Transect 3"
          ],
          [
           1,
           8.780000000000001,
           27.81,
           1046.04,
           "2022-07-29T14:35:28-07:00",
           "Transect 3"
          ],
          [
           1,
           8.600000000000001,
           27.75,
           1064.92,
           "2022-07-29T14:35:30-07:00",
           "Transect 3"
          ],
          [
           1,
           8.739999999999998,
           27.81,
           1049.5,
           "2022-07-29T14:35:32-07:00",
           "Transect 3"
          ],
          [
           1,
           9.05,
           27.75,
           1055.45,
           "2022-07-29T14:35:34-07:00",
           "Transect 3"
          ],
          [
           1,
           8.66,
           27.75,
           1058.93,
           "2022-07-29T14:35:36-07:00",
           "Transect 3"
          ],
          [
           1,
           8.809999999999999,
           27.88,
           1049.5,
           "2022-07-29T14:35:38-07:00",
           "Transect 3"
          ],
          [
           1,
           8.780000000000001,
           27.75,
           1063.67,
           "2022-07-29T14:35:38-07:00",
           "Transect 3"
          ],
          [
           1,
           9.02,
           27.81,
           1049.5,
           "2022-07-29T14:35:44-07:00",
           "Transect 3"
          ],
          [
           1,
           8.79,
           27.81,
           1054.21,
           "2022-07-29T14:35:48-07:00",
           "Transect 3"
          ],
          [
           1,
           9.010000000000002,
           27.75,
           1044.8,
           "2022-07-29T14:35:48-07:00",
           "Transect 3"
          ],
          [
           1,
           8.86,
           27.75,
           1044.8,
           "2022-07-29T14:35:52-07:00",
           "Transect 3"
          ],
          [
           1,
           9.370000000000001,
           27.81,
           1049.5,
           "2022-07-29T14:35:52-07:00",
           "Transect 3"
          ],
          [
           1,
           8.89,
           27.81,
           1068.42,
           "2022-07-29T14:35:56-07:00",
           "Transect 3"
          ],
          [
           1,
           9.100000000000001,
           27.88,
           1055.45,
           "2022-07-29T14:35:56-07:00",
           "Transect 3"
          ],
          [
           1,
           8.95,
           27.81,
           1054.21,
           "2022-07-29T14:35:56-07:00",
           "Transect 3"
          ],
          [
           1,
           8.7,
           27.75,
           1049.5,
           "2022-07-29T14:36:02-07:00",
           "Transect 3"
          ],
          [
           1,
           9.030000000000001,
           27.75,
           1044.8,
           "2022-07-29T14:36:04-07:00",
           "Transect 3"
          ],
          [
           1,
           8.89,
           27.81,
           1054.21,
           "2022-07-29T14:36:06-07:00",
           "Transect 3"
          ],
          [
           1,
           8.829999999999998,
           27.88,
           1049.5,
           "2022-07-29T14:36:08-07:00",
           "Transect 3"
          ],
          [
           1,
           8.870000000000001,
           27.81,
           1054.21,
           "2022-07-29T14:36:10-07:00",
           "Transect 3"
          ],
          [
           1,
           9,
           27.88,
           1060.18,
           "2022-07-29T14:36:12-07:00",
           "Transect 3"
          ],
          [
           1,
           9.09,
           27.88,
           1049.5,
           "2022-07-29T14:36:14-07:00",
           "Transect 3"
          ],
          [
           1,
           8.93,
           27.88,
           1049.5,
           "2022-07-29T14:36:14-07:00",
           "Transect 3"
          ],
          [
           1,
           9.350000000000001,
           27.75,
           999.68,
           "2022-07-29T14:36:20-07:00",
           "Transect 3"
          ],
          [
           1,
           8.870000000000001,
           27.88,
           1058.93,
           "2022-07-29T14:36:24-07:00",
           "Transect 3"
          ],
          [
           1,
           8.8,
           27.88,
           1062.41,
           "2022-07-29T14:36:24-07:00",
           "Transect 3"
          ],
          [
           1,
           9.11,
           27.88,
           1044.8,
           "2022-07-29T14:36:28-07:00",
           "Transect 3"
          ],
          [
           1,
           9.309999999999999,
           27.81,
           1054.21,
           "2022-07-29T14:36:28-07:00",
           "Transect 3"
          ],
          [
           1,
           8.780000000000001,
           27.81,
           1062.41,
           "2022-07-29T14:36:32-07:00",
           "Transect 3"
          ],
          [
           1,
           8.850000000000001,
           27.88,
           1052.96,
           "2022-07-29T14:36:32-07:00",
           "Transect 3"
          ],
          [
           1,
           8.739999999999998,
           27.81,
           1057.68,
           "2022-07-29T14:36:32-07:00",
           "Transect 3"
          ],
          [
           1,
           8.850000000000001,
           27.88,
           1043.57,
           "2022-07-29T14:36:38-07:00",
           "Transect 3"
          ],
          [
           1,
           8.870000000000001,
           27.94,
           1057.68,
           "2022-07-29T14:36:40-07:00",
           "Transect 3"
          ],
          [
           1,
           8.780000000000001,
           27.94,
           1062.41,
           "2022-07-29T14:36:42-07:00",
           "Transect 3"
          ],
          [
           1,
           9.129999999999999,
           27.88,
           1048.26,
           "2022-07-29T14:36:44-07:00",
           "Transect 3"
          ],
          [
           1,
           8.73,
           27.81,
           1043.57,
           "2022-07-29T14:36:46-07:00",
           "Transect 3"
          ],
          [
           1,
           8.530000000000001,
           27.94,
           1048.26,
           "2022-07-29T14:36:48-07:00",
           "Transect 3"
          ],
          [
           1,
           8.45,
           27.94,
           1052.96,
           "2022-07-29T14:36:50-07:00",
           "Transect 3"
          ],
          [
           1,
           9.23,
           27.94,
           1057.68,
           "2022-07-29T14:36:50-07:00",
           "Transect 3"
          ],
          [
           1,
           8.829999999999998,
           27.94,
           1043.57,
           "2022-07-29T14:36:56-07:00",
           "Transect 3"
          ],
          [
           1,
           9.079999999999998,
           27.94,
           988.21,
           "2022-07-29T14:36:56-07:00",
           "Transect 3"
          ],
          [
           1,
           8.809999999999999,
           27.88,
           1043.57,
           "2022-07-29T14:37:00-07:00",
           "Transect 3"
          ],
          [
           1,
           9.23,
           27.94,
           1049.5,
           "2022-07-29T14:37:04-07:00",
           "Transect 3"
          ],
          [
           1,
           9.059999999999999,
           27.94,
           1043.57,
           "2022-07-29T14:37:08-07:00",
           "Transect 3"
          ],
          [
           1,
           9.149999999999999,
           27.94,
           1052.96,
           "2022-07-29T14:37:08-07:00",
           "Transect 3"
          ],
          [
           1,
           8.77,
           27.94,
           1048.26,
           "2022-07-29T14:37:08-07:00",
           "Transect 3"
          ],
          [
           1,
           8.920000000000002,
           27.94,
           1065.9,
           "2022-07-29T14:37:14-07:00",
           "Transect 3"
          ],
          [
           1,
           8.5,
           27.88,
           1056.43,
           "2022-07-29T14:37:16-07:00",
           "Transect 3"
          ],
          [
           1,
           8.620000000000001,
           27.88,
           1047.02,
           "2022-07-29T14:37:18-07:00",
           "Transect 3"
          ],
          [
           1,
           8.73,
           28,
           1042.33,
           "2022-07-29T14:37:20-07:00",
           "Transect 3"
          ],
          [
           1,
           8.649999999999999,
           27.94,
           1065.9,
           "2022-07-29T14:37:22-07:00",
           "Transect 3"
          ],
          [
           1,
           8.52,
           28,
           1045.79,
           "2022-07-29T14:37:24-07:00",
           "Transect 3"
          ],
          [
           1,
           8.260000000000002,
           28,
           1041.11,
           "2022-07-29T14:37:26-07:00",
           "Transect 3"
          ],
          [
           1,
           8.27,
           27.94,
           1059.91,
           "2022-07-29T14:37:26-07:00",
           "Transect 3"
          ],
          [
           1,
           8.41,
           27.94,
           997.32,
           "2022-07-29T14:37:32-07:00",
           "Transect 3"
          ],
          [
           1,
           7.859999999999999,
           28.06,
           1047.02,
           "2022-07-29T14:37:36-07:00",
           "Transect 3"
          ],
          [
           1,
           7.789999999999999,
           28,
           1056.43,
           "2022-07-29T14:37:36-07:00",
           "Transect 3"
          ],
          [
           1,
           7.879999999999999,
           28,
           1051.72,
           "2022-07-29T14:37:40-07:00",
           "Transect 3"
          ],
          [
           1,
           8,
           27.88,
           1051.72,
           "2022-07-29T14:37:44-07:00",
           "Transect 3"
          ],
          [
           1,
           7.66,
           28.06,
           1047.02,
           "2022-07-29T14:37:44-07:00",
           "Transect 3"
          ],
          [
           1,
           7.690000000000001,
           27.94,
           1061.16,
           "2022-07-29T14:37:44-07:00",
           "Transect 3"
          ],
          [
           1,
           7.91,
           27.94,
           994.97,
           "2022-07-29T14:37:50-07:00",
           "Transect 3"
          ],
          [
           1,
           7.809999999999999,
           28,
           1051.72,
           "2022-07-29T14:37:52-07:00",
           "Transect 3"
          ],
          [
           1,
           7.789999999999999,
           28,
           1056.43,
           "2022-07-29T14:37:54-07:00",
           "Transect 3"
          ],
          [
           1,
           7.59,
           27.88,
           1042.33,
           "2022-07-29T14:37:56-07:00",
           "Transect 3"
          ],
          [
           1,
           7.800000000000001,
           27.94,
           1047.02,
           "2022-07-29T14:37:58-07:00",
           "Transect 3"
          ],
          [
           1,
           7.710000000000001,
           27.88,
           1057.68,
           "2022-07-29T14:38:00-07:00",
           "Transect 3"
          ],
          [
           1,
           7.609999999999999,
           27.94,
           997.32,
           "2022-07-29T14:38:02-07:00",
           "Transect 3"
          ],
          [
           1,
           7.510000000000002,
           27.94,
           1057.68,
           "2022-07-29T14:38:02-07:00",
           "Transect 3"
          ],
          [
           1,
           7.600000000000001,
           27.88,
           1057.68,
           "2022-07-29T14:38:08-07:00",
           "Transect 3"
          ],
          [
           1,
           7.800000000000001,
           27.94,
           1000.71,
           "2022-07-29T14:38:08-07:00",
           "Transect 3"
          ],
          [
           1,
           7.27,
           27.94,
           1048.26,
           "2022-07-29T14:38:12-07:00",
           "Transect 3"
          ],
          [
           1,
           7.57,
           27.94,
           1058.93,
           "2022-07-29T14:38:12-07:00",
           "Transect 3"
          ],
          [
           1,
           7.550000000000001,
           27.94,
           1056.43,
           "2022-07-29T14:38:16-07:00",
           "Transect 3"
          ],
          [
           1,
           7.109999999999999,
           27.94,
           1068.42,
           "2022-07-29T14:38:16-07:00",
           "Transect 3"
          ],
          [
           1,
           7.09,
           27.94,
           1057.68,
           "2022-07-29T14:38:20-07:00",
           "Transect 3"
          ],
          [
           1,
           7.210000000000001,
           28,
           1059.91,
           "2022-07-29T14:38:20-07:00",
           "Transect 3"
          ],
          [
           1,
           7.32,
           28,
           1061.16,
           "2022-07-29T14:38:20-07:00",
           "Transect 3"
          ],
          [
           1,
           7.140000000000001,
           28.06,
           1065.9,
           "2022-07-29T14:38:26-07:00",
           "Transect 3"
          ],
          [
           1,
           7.219999999999999,
           27.94,
           1061.16,
           "2022-07-29T14:38:28-07:00",
           "Transect 3"
          ],
          [
           1,
           7.120000000000001,
           27.94,
           1045.79,
           "2022-07-29T14:38:30-07:00",
           "Transect 3"
          ],
          [
           1,
           7.199999999999999,
           28.06,
           1045.79,
           "2022-07-29T14:38:32-07:00",
           "Transect 3"
          ],
          [
           1,
           6.99,
           28.06,
           1050.48,
           "2022-07-29T14:38:34-07:00",
           "Transect 3"
          ],
          [
           1,
           7.010000000000002,
           28.06,
           1045.79,
           "2022-07-29T14:38:36-07:00",
           "Transect 3"
          ],
          [
           1,
           6.93,
           28.06,
           1055.19,
           "2022-07-29T14:38:38-07:00",
           "Transect 3"
          ],
          [
           1,
           6.91,
           28,
           1055.19,
           "2022-07-29T14:38:38-07:00",
           "Transect 3"
          ],
          [
           1,
           7.059999999999999,
           28.06,
           1048.26,
           "2022-07-29T14:38:44-07:00",
           "Transect 3"
          ],
          [
           1,
           7.370000000000001,
           28.06,
           1047.02,
           "2022-07-29T14:38:48-07:00",
           "Transect 3"
          ],
          [
           1,
           6.859999999999999,
           28,
           1061.16,
           "2022-07-29T14:38:48-07:00",
           "Transect 3"
          ],
          [
           1,
           6.73,
           28,
           1059.91,
           "2022-07-29T14:38:52-07:00",
           "Transect 3"
          ],
          [
           1,
           7.100000000000001,
           28.06,
           1045.79,
           "2022-07-29T14:38:52-07:00",
           "Transect 3"
          ],
          [
           1,
           6.83,
           28.13,
           1058.66,
           "2022-07-29T14:38:56-07:00",
           "Transect 3"
          ],
          [
           1,
           6.74,
           28.13,
           1064.64,
           "2022-07-29T14:38:56-07:00",
           "Transect 3"
          ],
          [
           1,
           6.48,
           28,
           1041.11,
           "2022-07-29T14:39:02-07:00",
           "Transect 3"
          ],
          [
           1,
           6.609999999999999,
           28.06,
           1053.95,
           "2022-07-29T14:39:04-07:00",
           "Transect 3"
          ],
          [
           1,
           6.68,
           28,
           1045.79,
           "2022-07-29T14:39:06-07:00",
           "Transect 3"
          ],
          [
           1,
           6.609999999999999,
           28,
           1050.48,
           "2022-07-29T14:39:08-07:00",
           "Transect 3"
          ],
          [
           1,
           6.5600000000000005,
           27.94,
           1050.48,
           "2022-07-29T14:39:10-07:00",
           "Transect 3"
          ],
          [
           1,
           6.49,
           28.06,
           1055.19,
           "2022-07-29T14:39:12-07:00",
           "Transect 3"
          ],
          [
           1,
           6.83,
           28.06,
           1059.91,
           "2022-07-29T14:39:14-07:00",
           "Transect 3"
          ],
          [
           1,
           7.23,
           28.06,
           1058.66,
           "2022-07-29T14:39:14-07:00",
           "Transect 3"
          ],
          [
           1,
           6.74,
           28.13,
           1065.9,
           "2022-07-29T14:39:14-07:00",
           "Transect 3"
          ],
          [
           1,
           7.300000000000001,
           28.06,
           1004.1,
           "2022-07-29T14:39:22-07:00",
           "Transect 3"
          ],
          [
           1,
           7.23,
           28,
           1055.19,
           "2022-07-29T14:39:26-07:00",
           "Transect 3"
          ],
          [
           1,
           7.41,
           28.06,
           1065.9,
           "2022-07-29T14:39:26-07:00",
           "Transect 3"
          ],
          [
           1,
           7.52,
           28.06,
           1049.25,
           "2022-07-29T14:39:30-07:00",
           "Transect 3"
          ],
          [
           1,
           8.2,
           28,
           1051.72,
           "2022-07-29T14:39:30-07:00",
           "Transect 3"
          ],
          [
           1,
           7.940000000000001,
           28.13,
           1045.79,
           "2022-07-29T14:39:34-07:00",
           "Transect 3"
          ],
          [
           1,
           8.489999999999998,
           28.13,
           1063.39,
           "2022-07-29T14:39:34-07:00",
           "Transect 3"
          ],
          [
           1,
           8.440000000000001,
           28,
           1059.91,
           "2022-07-29T14:39:38-07:00",
           "Transect 3"
          ],
          [
           1,
           8.329999999999998,
           28.06,
           1041.11,
           "2022-07-29T14:39:40-07:00",
           "Transect 3"
          ],
          [
           1,
           8.440000000000001,
           28,
           1050.48,
           "2022-07-29T14:39:42-07:00",
           "Transect 3"
          ],
          [
           1,
           8.469999999999999,
           28,
           1053.95,
           "2022-07-29T14:39:44-07:00",
           "Transect 3"
          ],
          [
           1,
           8.98,
           28.13,
           1030.57,
           "2022-07-29T14:39:46-07:00",
           "Transect 3"
          ],
          [
           1,
           8.82,
           28.06,
           1049.25,
           "2022-07-29T14:39:48-07:00",
           "Transect 3"
          ],
          [
           1,
           8.989999999999998,
           28.06,
           1059.91,
           "2022-07-29T14:39:50-07:00",
           "Transect 3"
          ],
          [
           1,
           8.79,
           28.06,
           1053.95,
           "2022-07-29T14:39:50-07:00",
           "Transect 3"
          ],
          [
           1,
           8.57,
           28.06,
           1053.95,
           "2022-07-29T14:39:50-07:00",
           "Transect 3"
          ],
          [
           1,
           8.7,
           28.19,
           1045.79,
           "2022-07-29T14:39:58-07:00",
           "Transect 3"
          ],
          [
           1,
           8.620000000000001,
           28.06,
           1038.66,
           "2022-07-29T14:40:02-07:00",
           "Transect 3"
          ],
          [
           1,
           8.600000000000001,
           28.06,
           993.8,
           "2022-07-29T14:40:02-07:00",
           "Transect 3"
          ],
          [
           1,
           8.420000000000002,
           28.13,
           1048.01,
           "2022-07-29T14:40:06-07:00",
           "Transect 3"
          ],
          [
           1,
           8.48,
           28.06,
           1044.56,
           "2022-07-29T14:40:06-07:00",
           "Transect 3"
          ],
          [
           1,
           8.43,
           28.06,
           1062.14,
           "2022-07-29T14:40:10-07:00",
           "Transect 3"
          ],
          [
           1,
           8.559999999999999,
           28.13,
           1053.95,
           "2022-07-29T14:40:10-07:00",
           "Transect 3"
          ],
          [
           1,
           8.57,
           28.13,
           1039.88,
           "2022-07-29T14:40:14-07:00",
           "Transect 3"
          ],
          [
           1,
           8.36,
           28.06,
           1049.25,
           "2022-07-29T14:40:16-07:00",
           "Transect 3"
          ],
          [
           1,
           8.170000000000002,
           28,
           1041.11,
           "2022-07-29T14:40:20-07:00",
           "Transect 3"
          ],
          [
           1,
           8.059999999999999,
           28,
           1065.9,
           "2022-07-29T14:40:22-07:00",
           "Transect 3"
          ],
          [
           1,
           8.280000000000001,
           28,
           1065.9,
           "2022-07-29T14:40:24-07:00",
           "Transect 3"
          ],
          [
           1,
           8.36,
           28,
           1052.96,
           "2022-07-29T14:40:26-07:00",
           "Transect 3"
          ],
          [
           1,
           8.5,
           27.94,
           1042.33,
           "2022-07-29T14:40:30-07:00",
           "Transect 3"
          ],
          [
           1,
           8.18,
           27.94,
           1020.29,
           "2022-07-29T14:40:30-07:00",
           "Transect 3"
          ],
          [
           1,
           8.16,
           27.94,
           1049.5,
           "2022-07-29T14:40:34-07:00",
           "Transect 3"
          ],
          [
           1,
           8.23,
           27.81,
           1006.47,
           "2022-07-29T14:40:34-07:00",
           "Transect 3"
          ],
          [
           1,
           7.890000000000001,
           27.81,
           1048.26,
           "2022-07-29T14:40:38-07:00",
           "Transect 3"
          ],
          [
           1,
           8.120000000000001,
           27.94,
           1012.26,
           "2022-07-29T14:40:38-07:00",
           "Transect 3"
          ],
          [
           1,
           8.420000000000002,
           27.81,
           1073.18,
           "2022-07-29T14:40:42-07:00",
           "Transect 3"
          ],
          [
           1,
           8.09,
           27.88,
           1058.93,
           "2022-07-29T14:40:42-07:00",
           "Transect 3"
          ],
          [
           1,
           8.239999999999998,
           27.94,
           1057.68,
           "2022-07-29T14:40:46-07:00",
           "Transect 3"
          ],
          [
           1,
           8.219999999999999,
           27.88,
           1057.68,
           "2022-07-29T14:40:46-07:00",
           "Transect 3"
          ],
          [
           1,
           8.07,
           27.94,
           1062.41,
           "2022-07-29T14:40:50-07:00",
           "Transect 3"
          ],
          [
           1,
           8.39,
           27.88,
           1062.41,
           "2022-07-29T14:40:52-07:00",
           "Transect 3"
          ],
          [
           1,
           8.170000000000002,
           27.75,
           1067.15,
           "2022-07-29T14:40:54-07:00",
           "Transect 3"
          ],
          [
           1,
           8.120000000000001,
           27.81,
           1052.96,
           "2022-07-29T14:40:56-07:00",
           "Transect 3"
          ],
          [
           1,
           7.879999999999999,
           27.81,
           1049.5,
           "2022-07-29T14:40:58-07:00",
           "Transect 3"
          ],
          [
           1,
           8.11,
           27.88,
           1054.21,
           "2022-07-29T14:41:00-07:00",
           "Transect 3"
          ],
          [
           1,
           7.899999999999999,
           27.88,
           1068.42,
           "2022-07-29T14:41:02-07:00",
           "Transect 3"
          ],
          [
           1,
           8.02,
           27.81,
           1063.67,
           "2022-07-29T14:41:04-07:00",
           "Transect 3"
          ],
          [
           1,
           7.98,
           27.88,
           1063.67,
           "2022-07-29T14:41:04-07:00",
           "Transect 3"
          ],
          [
           1,
           8.61,
           27.81,
           1058.93,
           "2022-07-29T14:41:10-07:00",
           "Transect 3"
          ],
          [
           1,
           8.09,
           27.88,
           1066.19,
           "2022-07-29T14:41:10-07:00",
           "Transect 3"
          ],
          [
           1,
           8.59,
           27.94,
           1063.67,
           "2022-07-29T14:41:14-07:00",
           "Transect 3"
          ],
          [
           1,
           8.190000000000001,
           27.88,
           1060.18,
           "2022-07-29T14:41:14-07:00",
           "Transect 3"
          ],
          [
           1,
           8.260000000000002,
           27.81,
           1058.93,
           "2022-07-29T14:41:18-07:00",
           "Transect 3"
          ],
          [
           1,
           8.14,
           27.81,
           1068.42,
           "2022-07-29T14:41:18-07:00",
           "Transect 3"
          ],
          [
           1,
           8.14,
           27.81,
           1063.67,
           "2022-07-29T14:41:22-07:00",
           "Transect 3"
          ],
          [
           1,
           8.36,
           27.88,
           1055.45,
           "2022-07-29T14:41:22-07:00",
           "Transect 3"
          ],
          [
           1,
           8.059999999999999,
           27.94,
           1058.93,
           "2022-07-29T14:41:26-07:00",
           "Transect 3"
          ],
          [
           1,
           8.030000000000001,
           27.81,
           998.49,
           "2022-07-29T14:41:28-07:00",
           "Transect 3"
          ],
          [
           1,
           8.05,
           27.88,
           1058.93,
           "2022-07-29T14:41:30-07:00",
           "Transect 3"
          ],
          [
           1,
           8.02,
           27.88,
           1068.42,
           "2022-07-29T14:41:32-07:00",
           "Transect 3"
          ],
          [
           1,
           7.899999999999999,
           27.81,
           1054.21,
           "2022-07-29T14:41:34-07:00",
           "Transect 3"
          ],
          [
           1,
           8.14,
           27.94,
           1073.18,
           "2022-07-29T14:41:36-07:00",
           "Transect 3"
          ],
          [
           1,
           8.079999999999998,
           27.81,
           1068.42,
           "2022-07-29T14:41:38-07:00",
           "Transect 3"
          ],
          [
           1,
           8.239999999999998,
           27.88,
           1068.42,
           "2022-07-29T14:41:40-07:00",
           "Transect 3"
          ],
          [
           1,
           7.850000000000001,
           27.81,
           1054.21,
           "2022-07-29T14:41:40-07:00",
           "Transect 3"
          ],
          [
           1,
           8.09,
           27.88,
           998.49,
           "2022-07-29T14:41:46-07:00",
           "Transect 3"
          ],
          [
           1,
           8.27,
           27.81,
           1054.21,
           "2022-07-29T14:41:46-07:00",
           "Transect 3"
          ],
          [
           1,
           8.21,
           27.88,
           1058.93,
           "2022-07-29T14:41:50-07:00",
           "Transect 3"
          ],
          [
           1,
           8.36,
           27.81,
           1075.72,
           "2022-07-29T14:41:50-07:00",
           "Transect 3"
          ],
          [
           1,
           8.129999999999999,
           27.81,
           1063.67,
           "2022-07-29T14:41:54-07:00",
           "Transect 3"
          ],
          [
           1,
           8.36,
           27.88,
           1061.44,
           "2022-07-29T14:41:54-07:00",
           "Transect 3"
          ],
          [
           1,
           8.420000000000002,
           27.81,
           1063.67,
           "2022-07-29T14:41:58-07:00",
           "Transect 3"
          ],
          [
           1,
           8.760000000000002,
           27.88,
           1068.42,
           "2022-07-29T14:41:58-07:00",
           "Transect 3"
          ],
          [
           1,
           8.149999999999999,
           27.81,
           1058.93,
           "2022-07-29T14:41:58-07:00",
           "Transect 3"
          ],
          [
           1,
           7.949999999999999,
           27.88,
           1058.93,
           "2022-07-29T14:42:04-07:00",
           "Transect 3"
          ],
          [
           1,
           8.370000000000001,
           27.88,
           1049.5,
           "2022-07-29T14:42:06-07:00",
           "Transect 3"
          ],
          [
           1,
           8.010000000000002,
           27.81,
           1068.42,
           "2022-07-29T14:42:08-07:00",
           "Transect 3"
          ],
          [
           1,
           8.11,
           27.81,
           1054.21,
           "2022-07-29T14:42:10-07:00",
           "Transect 3"
          ],
          [
           1,
           8.399999999999999,
           27.81,
           1058.93,
           "2022-07-29T14:42:12-07:00",
           "Transect 3"
          ],
          [
           1,
           8.559999999999999,
           27.88,
           1058.93,
           "2022-07-29T14:42:14-07:00",
           "Transect 3"
          ],
          [
           1,
           8,
           27.81,
           1063.67,
           "2022-07-29T14:42:16-07:00",
           "Transect 3"
          ],
          [
           1,
           8.2,
           27.81,
           1054.21,
           "2022-07-29T14:42:16-07:00",
           "Transect 3"
          ],
          [
           1,
           7.960000000000001,
           27.81,
           1056.71,
           "2022-07-29T14:42:22-07:00",
           "Transect 3"
          ],
          [
           1,
           8.3,
           27.88,
           1063.67,
           "2022-07-29T14:42:26-07:00",
           "Transect 3"
          ],
          [
           1,
           8.239999999999998,
           27.81,
           1068.42,
           "2022-07-29T14:42:26-07:00",
           "Transect 3"
          ],
          [
           1,
           8.16,
           27.94,
           1063.67,
           "2022-07-29T14:42:30-07:00",
           "Transect 3"
          ],
          [
           1,
           8.079999999999998,
           27.81,
           1069.68,
           "2022-07-29T14:42:30-07:00",
           "Transect 3"
          ],
          [
           1,
           8.100000000000001,
           27.88,
           1058.93,
           "2022-07-29T14:42:34-07:00",
           "Transect 3"
          ],
          [
           1,
           8.059999999999999,
           27.81,
           1063.67,
           "2022-07-29T14:42:34-07:00",
           "Transect 3"
          ],
          [
           1,
           7.82,
           27.81,
           1054.21,
           "2022-07-29T14:42:34-07:00",
           "Transect 3"
          ],
          [
           1,
           7.829999999999998,
           27.75,
           1063.67,
           "2022-07-29T14:42:40-07:00",
           "Transect 3"
          ],
          [
           1,
           7.960000000000001,
           27.88,
           1063.67,
           "2022-07-29T14:42:42-07:00",
           "Transect 3"
          ],
          [
           1,
           7.920000000000002,
           27.81,
           1058.93,
           "2022-07-29T14:42:44-07:00",
           "Transect 3"
          ],
          [
           1,
           7.870000000000001,
           27.88,
           1068.42,
           "2022-07-29T14:42:46-07:00",
           "Transect 3"
          ],
          [
           1,
           7.809999999999999,
           27.81,
           1058.93,
           "2022-07-29T14:42:48-07:00",
           "Transect 3"
          ],
          [
           1,
           7.809999999999999,
           27.88,
           1044.8,
           "2022-07-29T14:42:50-07:00",
           "Transect 3"
          ],
          [
           1,
           7.699999999999999,
           27.88,
           1063.67,
           "2022-07-29T14:42:52-07:00",
           "Transect 3"
          ],
          [
           1,
           7.82,
           27.88,
           1061.44,
           "2022-07-29T14:42:52-07:00",
           "Transect 3"
          ],
          [
           1,
           7.440000000000001,
           27.81,
           1073.18,
           "2022-07-29T14:42:58-07:00",
           "Transect 3"
          ],
          [
           1,
           7.649999999999999,
           27.75,
           1061.44,
           "2022-07-29T14:42:58-07:00",
           "Transect 3"
          ],
          [
           1,
           7.440000000000001,
           27.81,
           1056.71,
           "2022-07-29T14:43:02-07:00",
           "Transect 3"
          ],
          [
           1,
           7.420000000000002,
           27.94,
           1058.93,
           "2022-07-29T14:43:06-07:00",
           "Transect 3"
          ],
          [
           1,
           7.289999999999999,
           27.81,
           1069.68,
           "2022-07-29T14:43:06-07:00",
           "Transect 3"
          ],
          [
           1,
           7.23,
           27.88,
           1063.67,
           "2022-07-29T14:43:10-07:00",
           "Transect 3"
          ],
          [
           1,
           7.84,
           27.88,
           1064.92,
           "2022-07-29T14:43:10-07:00",
           "Transect 3"
          ],
          [
           1,
           6.98,
           27.88,
           1058.93,
           "2022-07-29T14:43:10-07:00",
           "Transect 3"
          ],
          [
           1,
           7.359999999999999,
           27.81,
           1007.66,
           "2022-07-29T14:43:16-07:00",
           "Transect 3"
          ],
          [
           1,
           7,
           27.88,
           1058.93,
           "2022-07-29T14:43:18-07:00",
           "Transect 3"
          ],
          [
           1,
           7.07,
           27.81,
           1054.21,
           "2022-07-29T14:43:20-07:00",
           "Transect 3"
          ],
          [
           1,
           7.300000000000001,
           27.88,
           1054.21,
           "2022-07-29T14:43:22-07:00",
           "Transect 3"
          ],
          [
           1,
           7.170000000000002,
           27.88,
           1054.21,
           "2022-07-29T14:43:24-07:00",
           "Transect 3"
          ],
          [
           1,
           6.75,
           27.75,
           1058.93,
           "2022-07-29T14:43:26-07:00",
           "Transect 3"
          ],
          [
           1,
           6.92,
           27.88,
           1068.42,
           "2022-07-29T14:43:28-07:00",
           "Transect 3"
          ],
          [
           1,
           6.880000000000001,
           27.81,
           1058.93,
           "2022-07-29T14:43:28-07:00",
           "Transect 3"
          ],
          [
           1,
           6.859999999999999,
           27.88,
           1054.21,
           "2022-07-29T14:43:34-07:00",
           "Transect 3"
          ],
          [
           1,
           7.149999999999999,
           27.75,
           1068.42,
           "2022-07-29T14:43:38-07:00",
           "Transect 3"
          ],
          [
           1,
           7.379999999999999,
           27.88,
           1050.74,
           "2022-07-29T14:43:38-07:00",
           "Transect 3"
          ],
          [
           1,
           6.84,
           27.88,
           1060.18,
           "2022-07-29T14:43:42-07:00",
           "Transect 3"
          ],
          [
           1,
           6.779999999999999,
           27.81,
           1021.5,
           "2022-07-29T14:43:42-07:00",
           "Transect 3"
          ],
          [
           1,
           6.99,
           27.88,
           1069.68,
           "2022-07-29T14:43:46-07:00",
           "Transect 3"
          ],
          [
           1,
           7,
           27.88,
           1060.18,
           "2022-07-29T14:43:46-07:00",
           "Transect 3"
          ],
          [
           1,
           6.869999999999999,
           27.88,
           1048.26,
           "2022-07-29T14:43:46-07:00",
           "Transect 3"
          ],
          [
           1,
           6.710000000000001,
           27.81,
           1054.21,
           "2022-07-29T14:43:52-07:00",
           "Transect 3"
          ],
          [
           1,
           6.98,
           27.88,
           1063.67,
           "2022-07-29T14:43:54-07:00",
           "Transect 3"
          ],
          [
           1,
           7.41,
           27.81,
           1050.74,
           "2022-07-29T14:43:56-07:00",
           "Transect 3"
          ],
          [
           1,
           6.84,
           27.88,
           1058.93,
           "2022-07-29T14:43:58-07:00",
           "Transect 3"
          ],
          [
           1,
           7.010000000000002,
           27.88,
           1079.23,
           "2022-07-29T14:44:00-07:00",
           "Transect 3"
          ],
          [
           1,
           7.27,
           27.88,
           1068.42,
           "2022-07-29T14:44:02-07:00",
           "Transect 3"
          ],
          [
           1,
           7.370000000000001,
           27.81,
           1069.68,
           "2022-07-29T14:44:04-07:00",
           "Transect 3"
          ],
          [
           1,
           7.73,
           27.75,
           1054.21,
           "2022-07-29T14:44:04-07:00",
           "Transect 3"
          ],
          [
           1,
           7.960000000000001,
           27.88,
           1069.68,
           "2022-07-29T14:44:10-07:00",
           "Transect 3"
          ]
         ],
         "hovertemplate": "transect category=%{customdata[5]}<br>lat=%{lat}<br>lon=%{lon}<br>boat_id=%{customdata[0]}<br>level=%{customdata[1]}<br>degree=%{customdata[2]}<br>ppm=%{customdata[3]}<br>timestamp=%{customdata[4]}<extra></extra>",
         "lat": [
          32.914473,
          32.914473,
          32.914504,
          32.914519,
          32.914519,
          32.914535,
          32.914535,
          32.914544,
          32.914544,
          32.914544,
          32.914514,
          32.914506,
          32.914498,
          32.914487,
          32.914477,
          32.914467,
          32.914457,
          32.914457,
          32.914425,
          32.914406,
          32.914406,
          32.914389,
          32.914389,
          32.914373,
          32.914373,
          32.914373,
          32.914347,
          32.914337,
          32.914327,
          32.914318,
          32.914308,
          32.914299,
          32.91429,
          32.91429,
          32.914263,
          32.914244,
          32.914244,
          32.914225,
          32.914225,
          32.91421,
          32.91421,
          32.91421,
          32.914193,
          32.914188,
          32.91418,
          32.914167,
          32.914156,
          32.914147,
          32.914139,
          32.914139,
          32.914115,
          32.914115,
          32.914095,
          32.914077,
          32.914071,
          32.914071,
          32.914071,
          32.914071,
          32.914068,
          32.914063,
          32.914058,
          32.914055,
          32.914057,
          32.914059,
          32.914059,
          32.914071,
          32.914073,
          32.914073,
          32.914073,
          32.914067,
          32.914067,
          32.914067,
          32.914058,
          32.914056,
          32.914052,
          32.914049,
          32.914045,
          32.914038,
          32.914034,
          32.914034,
          32.914035,
          32.914035,
          32.914036,
          32.914036,
          32.914034,
          32.914034,
          32.914035,
          32.914035,
          32.914035,
          32.91405,
          32.914051,
          32.914054,
          32.914053,
          32.914052,
          32.914051,
          32.914051,
          32.914051,
          32.914049,
          32.914052,
          32.914052,
          32.914056,
          32.914056,
          32.914059,
          32.914059,
          32.914069,
          32.914071,
          32.914073,
          32.914072,
          32.914072,
          32.914071,
          32.914078,
          32.914078,
          32.914078,
          32.914073,
          32.914067,
          32.914067,
          32.914058,
          32.914058,
          32.914044,
          32.914044,
          32.914024,
          32.914012,
          32.913999,
          32.913987,
          32.913976,
          32.913973,
          32.913977,
          32.913977,
          32.913977,
          32.913998,
          32.914021,
          32.914021,
          32.914045,
          32.914045,
          32.914068,
          32.914068,
          32.914091,
          32.914102,
          32.914126,
          32.914138,
          32.914149,
          32.91416,
          32.914182,
          32.914182,
          32.914204,
          32.914204,
          32.914226,
          32.914226,
          32.914247,
          32.914247,
          32.914269,
          32.914269,
          32.91429,
          32.9143,
          32.914311,
          32.914322,
          32.914332,
          32.914341,
          32.91435,
          32.91436,
          32.91436,
          32.914389,
          32.914389,
          32.914407,
          32.914407,
          32.914424,
          32.914424,
          32.914441,
          32.914441,
          32.914456,
          32.914463,
          32.914471,
          32.914479,
          32.914486,
          32.914494,
          32.914501,
          32.914507,
          32.914507,
          32.91452,
          32.91452,
          32.914523,
          32.914523,
          32.914524,
          32.914524,
          32.914527,
          32.914527,
          32.914527,
          32.91453,
          32.914532,
          32.914532,
          32.914534,
          32.914536,
          32.914538,
          32.914542,
          32.914542,
          32.914561,
          32.914574,
          32.914574,
          32.914586,
          32.914586,
          32.914591,
          32.914591,
          32.914591,
          32.914596,
          32.914597,
          32.914599,
          32.914601,
          32.914604,
          32.914608,
          32.914611,
          32.914611,
          32.914617,
          32.914617,
          32.91462,
          32.914625,
          32.914625,
          32.914628,
          32.914628,
          32.914628,
          32.914631,
          32.914634,
          32.914637,
          32.91464,
          32.914643,
          32.914645,
          32.914648,
          32.914648,
          32.914655,
          32.914659,
          32.914659,
          32.914664,
          32.914664,
          32.914667,
          32.914667,
          32.914667,
          32.914674,
          32.914676,
          32.914678,
          32.914681,
          32.914682,
          32.914679,
          32.914676,
          32.914676,
          32.914668
         ],
         "legendgroup": "Transect 3",
         "lon": [
          -117.100092,
          -117.100092,
          -117.100077,
          -117.100068,
          -117.100068,
          -117.100052,
          -117.100052,
          -117.100031,
          -117.100031,
          -117.100031,
          -117.100034,
          -117.100045,
          -117.100051,
          -117.100052,
          -117.100055,
          -117.100058,
          -117.100059,
          -117.100059,
          -117.100056,
          -117.100055,
          -117.100055,
          -117.100054,
          -117.100054,
          -117.10006,
          -117.10006,
          -117.10006,
          -117.100066,
          -117.100066,
          -117.100067,
          -117.100068,
          -117.10007,
          -117.100071,
          -117.100072,
          -117.100072,
          -117.100071,
          -117.100069,
          -117.100069,
          -117.100065,
          -117.100065,
          -117.100071,
          -117.100071,
          -117.100071,
          -117.100093,
          -117.1001,
          -117.100101,
          -117.100088,
          -117.100078,
          -117.100074,
          -117.100073,
          -117.100073,
          -117.100078,
          -117.100078,
          -117.10007,
          -117.100051,
          -117.100047,
          -117.100047,
          -117.100047,
          -117.100046,
          -117.10005,
          -117.100047,
          -117.100041,
          -117.100043,
          -117.100048,
          -117.100054,
          -117.100054,
          -117.100058,
          -117.100058,
          -117.100058,
          -117.100062,
          -117.100071,
          -117.100071,
          -117.100071,
          -117.100085,
          -117.100084,
          -117.100084,
          -117.100092,
          -117.100096,
          -117.100095,
          -117.100094,
          -117.100094,
          -117.100091,
          -117.100091,
          -117.100087,
          -117.100087,
          -117.100087,
          -117.100087,
          -117.100091,
          -117.100091,
          -117.100091,
          -117.100092,
          -117.100091,
          -117.10009,
          -117.10009,
          -117.10009,
          -117.100091,
          -117.100093,
          -117.100093,
          -117.100093,
          -117.100088,
          -117.100088,
          -117.10009,
          -117.10009,
          -117.100086,
          -117.100086,
          -117.100086,
          -117.100084,
          -117.100083,
          -117.100082,
          -117.100079,
          -117.100075,
          -117.100071,
          -117.100071,
          -117.100071,
          -117.100082,
          -117.100104,
          -117.100104,
          -117.100128,
          -117.100128,
          -117.100145,
          -117.100145,
          -117.100152,
          -117.100146,
          -117.100134,
          -117.10012,
          -117.100106,
          -117.100099,
          -117.100095,
          -117.100095,
          -117.100095,
          -117.100063,
          -117.100072,
          -117.100072,
          -117.100083,
          -117.100083,
          -117.100092,
          -117.100092,
          -117.100099,
          -117.100102,
          -117.100107,
          -117.100108,
          -117.10011,
          -117.100113,
          -117.100115,
          -117.100115,
          -117.100117,
          -117.100117,
          -117.10012,
          -117.10012,
          -117.100124,
          -117.100124,
          -117.10013,
          -117.10013,
          -117.100139,
          -117.100143,
          -117.100146,
          -117.10015,
          -117.100154,
          -117.100158,
          -117.100162,
          -117.100165,
          -117.100165,
          -117.100176,
          -117.100176,
          -117.100188,
          -117.100188,
          -117.100199,
          -117.100199,
          -117.10021,
          -117.10021,
          -117.100224,
          -117.100232,
          -117.100239,
          -117.100246,
          -117.100253,
          -117.100261,
          -117.100268,
          -117.100276,
          -117.100276,
          -117.100303,
          -117.100303,
          -117.100321,
          -117.100321,
          -117.100341,
          -117.100341,
          -117.100361,
          -117.100361,
          -117.100361,
          -117.100391,
          -117.100402,
          -117.100412,
          -117.100423,
          -117.100433,
          -117.100443,
          -117.100453,
          -117.100453,
          -117.100475,
          -117.10048,
          -117.10048,
          -117.100475,
          -117.100475,
          -117.100475,
          -117.100475,
          -117.100475,
          -117.100472,
          -117.100471,
          -117.10047,
          -117.100468,
          -117.100467,
          -117.100465,
          -117.100464,
          -117.100464,
          -117.100461,
          -117.100461,
          -117.10046,
          -117.100458,
          -117.100458,
          -117.100452,
          -117.100452,
          -117.100452,
          -117.100443,
          -117.100441,
          -117.100441,
          -117.10044,
          -117.10044,
          -117.100439,
          -117.100439,
          -117.100439,
          -117.100434,
          -117.100429,
          -117.100429,
          -117.100425,
          -117.100425,
          -117.100422,
          -117.100422,
          -117.100422,
          -117.100415,
          -117.100414,
          -117.100412,
          -117.100411,
          -117.100409,
          -117.100395,
          -117.10038,
          -117.10038,
          -117.100337
         ],
         "marker": {
          "color": "#00cc96"
         },
         "mode": "markers",
         "name": "Transect 3",
         "showlegend": true,
         "subplot": "mapbox",
         "type": "scattermapbox"
        }
       ],
       "layout": {
        "height": 600,
        "legend": {
         "title": {
          "text": "transect category"
         },
         "tracegroupgap": 0
        },
        "mapbox": {
         "center": {
          "lat": 32.914545758169936,
          "lon": -117.09997645016338
         },
         "domain": {
          "x": [
           0,
           1
          ],
          "y": [
           0,
           1
          ]
         },
         "style": "open-street-map",
         "zoom": 8
        },
        "margin": {
         "b": 0,
         "l": 0,
         "r": 0,
         "t": 0
        },
        "template": {
         "data": {
          "bar": [
           {
            "error_x": {
             "color": "#2a3f5f"
            },
            "error_y": {
             "color": "#2a3f5f"
            },
            "marker": {
             "line": {
              "color": "#E5ECF6",
              "width": 0.5
             },
             "pattern": {
              "fillmode": "overlay",
              "size": 10,
              "solidity": 0.2
             }
            },
            "type": "bar"
           }
          ],
          "barpolar": [
           {
            "marker": {
             "line": {
              "color": "#E5ECF6",
              "width": 0.5
             },
             "pattern": {
              "fillmode": "overlay",
              "size": 10,
              "solidity": 0.2
             }
            },
            "type": "barpolar"
           }
          ],
          "carpet": [
           {
            "aaxis": {
             "endlinecolor": "#2a3f5f",
             "gridcolor": "white",
             "linecolor": "white",
             "minorgridcolor": "white",
             "startlinecolor": "#2a3f5f"
            },
            "baxis": {
             "endlinecolor": "#2a3f5f",
             "gridcolor": "white",
             "linecolor": "white",
             "minorgridcolor": "white",
             "startlinecolor": "#2a3f5f"
            },
            "type": "carpet"
           }
          ],
          "choropleth": [
           {
            "colorbar": {
             "outlinewidth": 0,
             "ticks": ""
            },
            "type": "choropleth"
           }
          ],
          "contour": [
           {
            "colorbar": {
             "outlinewidth": 0,
             "ticks": ""
            },
            "colorscale": [
             [
              0,
              "#0d0887"
             ],
             [
              0.1111111111111111,
              "#46039f"
             ],
             [
              0.2222222222222222,
              "#7201a8"
             ],
             [
              0.3333333333333333,
              "#9c179e"
             ],
             [
              0.4444444444444444,
              "#bd3786"
             ],
             [
              0.5555555555555556,
              "#d8576b"
             ],
             [
              0.6666666666666666,
              "#ed7953"
             ],
             [
              0.7777777777777778,
              "#fb9f3a"
             ],
             [
              0.8888888888888888,
              "#fdca26"
             ],
             [
              1,
              "#f0f921"
             ]
            ],
            "type": "contour"
           }
          ],
          "contourcarpet": [
           {
            "colorbar": {
             "outlinewidth": 0,
             "ticks": ""
            },
            "type": "contourcarpet"
           }
          ],
          "heatmap": [
           {
            "colorbar": {
             "outlinewidth": 0,
             "ticks": ""
            },
            "colorscale": [
             [
              0,
              "#0d0887"
             ],
             [
              0.1111111111111111,
              "#46039f"
             ],
             [
              0.2222222222222222,
              "#7201a8"
             ],
             [
              0.3333333333333333,
              "#9c179e"
             ],
             [
              0.4444444444444444,
              "#bd3786"
             ],
             [
              0.5555555555555556,
              "#d8576b"
             ],
             [
              0.6666666666666666,
              "#ed7953"
             ],
             [
              0.7777777777777778,
              "#fb9f3a"
             ],
             [
              0.8888888888888888,
              "#fdca26"
             ],
             [
              1,
              "#f0f921"
             ]
            ],
            "type": "heatmap"
           }
          ],
          "heatmapgl": [
           {
            "colorbar": {
             "outlinewidth": 0,
             "ticks": ""
            },
            "colorscale": [
             [
              0,
              "#0d0887"
             ],
             [
              0.1111111111111111,
              "#46039f"
             ],
             [
              0.2222222222222222,
              "#7201a8"
             ],
             [
              0.3333333333333333,
              "#9c179e"
             ],
             [
              0.4444444444444444,
              "#bd3786"
             ],
             [
              0.5555555555555556,
              "#d8576b"
             ],
             [
              0.6666666666666666,
              "#ed7953"
             ],
             [
              0.7777777777777778,
              "#fb9f3a"
             ],
             [
              0.8888888888888888,
              "#fdca26"
             ],
             [
              1,
              "#f0f921"
             ]
            ],
            "type": "heatmapgl"
           }
          ],
          "histogram": [
           {
            "marker": {
             "pattern": {
              "fillmode": "overlay",
              "size": 10,
              "solidity": 0.2
             }
            },
            "type": "histogram"
           }
          ],
          "histogram2d": [
           {
            "colorbar": {
             "outlinewidth": 0,
             "ticks": ""
            },
            "colorscale": [
             [
              0,
              "#0d0887"
             ],
             [
              0.1111111111111111,
              "#46039f"
             ],
             [
              0.2222222222222222,
              "#7201a8"
             ],
             [
              0.3333333333333333,
              "#9c179e"
             ],
             [
              0.4444444444444444,
              "#bd3786"
             ],
             [
              0.5555555555555556,
              "#d8576b"
             ],
             [
              0.6666666666666666,
              "#ed7953"
             ],
             [
              0.7777777777777778,
              "#fb9f3a"
             ],
             [
              0.8888888888888888,
              "#fdca26"
             ],
             [
              1,
              "#f0f921"
             ]
            ],
            "type": "histogram2d"
           }
          ],
          "histogram2dcontour": [
           {
            "colorbar": {
             "outlinewidth": 0,
             "ticks": ""
            },
            "colorscale": [
             [
              0,
              "#0d0887"
             ],
             [
              0.1111111111111111,
              "#46039f"
             ],
             [
              0.2222222222222222,
              "#7201a8"
             ],
             [
              0.3333333333333333,
              "#9c179e"
             ],
             [
              0.4444444444444444,
              "#bd3786"
             ],
             [
              0.5555555555555556,
              "#d8576b"
             ],
             [
              0.6666666666666666,
              "#ed7953"
             ],
             [
              0.7777777777777778,
              "#fb9f3a"
             ],
             [
              0.8888888888888888,
              "#fdca26"
             ],
             [
              1,
              "#f0f921"
             ]
            ],
            "type": "histogram2dcontour"
           }
          ],
          "mesh3d": [
           {
            "colorbar": {
             "outlinewidth": 0,
             "ticks": ""
            },
            "type": "mesh3d"
           }
          ],
          "parcoords": [
           {
            "line": {
             "colorbar": {
              "outlinewidth": 0,
              "ticks": ""
             }
            },
            "type": "parcoords"
           }
          ],
          "pie": [
           {
            "automargin": true,
            "type": "pie"
           }
          ],
          "scatter": [
           {
            "fillpattern": {
             "fillmode": "overlay",
             "size": 10,
             "solidity": 0.2
            },
            "type": "scatter"
           }
          ],
          "scatter3d": [
           {
            "line": {
             "colorbar": {
              "outlinewidth": 0,
              "ticks": ""
             }
            },
            "marker": {
             "colorbar": {
              "outlinewidth": 0,
              "ticks": ""
             }
            },
            "type": "scatter3d"
           }
          ],
          "scattercarpet": [
           {
            "marker": {
             "colorbar": {
              "outlinewidth": 0,
              "ticks": ""
             }
            },
            "type": "scattercarpet"
           }
          ],
          "scattergeo": [
           {
            "marker": {
             "colorbar": {
              "outlinewidth": 0,
              "ticks": ""
             }
            },
            "type": "scattergeo"
           }
          ],
          "scattergl": [
           {
            "marker": {
             "colorbar": {
              "outlinewidth": 0,
              "ticks": ""
             }
            },
            "type": "scattergl"
           }
          ],
          "scattermapbox": [
           {
            "marker": {
             "colorbar": {
              "outlinewidth": 0,
              "ticks": ""
             }
            },
            "type": "scattermapbox"
           }
          ],
          "scatterpolar": [
           {
            "marker": {
             "colorbar": {
              "outlinewidth": 0,
              "ticks": ""
             }
            },
            "type": "scatterpolar"
           }
          ],
          "scatterpolargl": [
           {
            "marker": {
             "colorbar": {
              "outlinewidth": 0,
              "ticks": ""
             }
            },
            "type": "scatterpolargl"
           }
          ],
          "scatterternary": [
           {
            "marker": {
             "colorbar": {
              "outlinewidth": 0,
              "ticks": ""
             }
            },
            "type": "scatterternary"
           }
          ],
          "surface": [
           {
            "colorbar": {
             "outlinewidth": 0,
             "ticks": ""
            },
            "colorscale": [
             [
              0,
              "#0d0887"
             ],
             [
              0.1111111111111111,
              "#46039f"
             ],
             [
              0.2222222222222222,
              "#7201a8"
             ],
             [
              0.3333333333333333,
              "#9c179e"
             ],
             [
              0.4444444444444444,
              "#bd3786"
             ],
             [
              0.5555555555555556,
              "#d8576b"
             ],
             [
              0.6666666666666666,
              "#ed7953"
             ],
             [
              0.7777777777777778,
              "#fb9f3a"
             ],
             [
              0.8888888888888888,
              "#fdca26"
             ],
             [
              1,
              "#f0f921"
             ]
            ],
            "type": "surface"
           }
          ],
          "table": [
           {
            "cells": {
             "fill": {
              "color": "#EBF0F8"
             },
             "line": {
              "color": "white"
             }
            },
            "header": {
             "fill": {
              "color": "#C8D4E3"
             },
             "line": {
              "color": "white"
             }
            },
            "type": "table"
           }
          ]
         },
         "layout": {
          "annotationdefaults": {
           "arrowcolor": "#2a3f5f",
           "arrowhead": 0,
           "arrowwidth": 1
          },
          "autotypenumbers": "strict",
          "coloraxis": {
           "colorbar": {
            "outlinewidth": 0,
            "ticks": ""
           }
          },
          "colorscale": {
           "diverging": [
            [
             0,
             "#8e0152"
            ],
            [
             0.1,
             "#c51b7d"
            ],
            [
             0.2,
             "#de77ae"
            ],
            [
             0.3,
             "#f1b6da"
            ],
            [
             0.4,
             "#fde0ef"
            ],
            [
             0.5,
             "#f7f7f7"
            ],
            [
             0.6,
             "#e6f5d0"
            ],
            [
             0.7,
             "#b8e186"
            ],
            [
             0.8,
             "#7fbc41"
            ],
            [
             0.9,
             "#4d9221"
            ],
            [
             1,
             "#276419"
            ]
           ],
           "sequential": [
            [
             0,
             "#0d0887"
            ],
            [
             0.1111111111111111,
             "#46039f"
            ],
            [
             0.2222222222222222,
             "#7201a8"
            ],
            [
             0.3333333333333333,
             "#9c179e"
            ],
            [
             0.4444444444444444,
             "#bd3786"
            ],
            [
             0.5555555555555556,
             "#d8576b"
            ],
            [
             0.6666666666666666,
             "#ed7953"
            ],
            [
             0.7777777777777778,
             "#fb9f3a"
            ],
            [
             0.8888888888888888,
             "#fdca26"
            ],
            [
             1,
             "#f0f921"
            ]
           ],
           "sequentialminus": [
            [
             0,
             "#0d0887"
            ],
            [
             0.1111111111111111,
             "#46039f"
            ],
            [
             0.2222222222222222,
             "#7201a8"
            ],
            [
             0.3333333333333333,
             "#9c179e"
            ],
            [
             0.4444444444444444,
             "#bd3786"
            ],
            [
             0.5555555555555556,
             "#d8576b"
            ],
            [
             0.6666666666666666,
             "#ed7953"
            ],
            [
             0.7777777777777778,
             "#fb9f3a"
            ],
            [
             0.8888888888888888,
             "#fdca26"
            ],
            [
             1,
             "#f0f921"
            ]
           ]
          },
          "colorway": [
           "#636efa",
           "#EF553B",
           "#00cc96",
           "#ab63fa",
           "#FFA15A",
           "#19d3f3",
           "#FF6692",
           "#B6E880",
           "#FF97FF",
           "#FECB52"
          ],
          "font": {
           "color": "#2a3f5f"
          },
          "geo": {
           "bgcolor": "white",
           "lakecolor": "white",
           "landcolor": "#E5ECF6",
           "showlakes": true,
           "showland": true,
           "subunitcolor": "white"
          },
          "hoverlabel": {
           "align": "left"
          },
          "hovermode": "closest",
          "mapbox": {
           "style": "light"
          },
          "paper_bgcolor": "white",
          "plot_bgcolor": "#E5ECF6",
          "polar": {
           "angularaxis": {
            "gridcolor": "white",
            "linecolor": "white",
            "ticks": ""
           },
           "bgcolor": "#E5ECF6",
           "radialaxis": {
            "gridcolor": "white",
            "linecolor": "white",
            "ticks": ""
           }
          },
          "scene": {
           "xaxis": {
            "backgroundcolor": "#E5ECF6",
            "gridcolor": "white",
            "gridwidth": 2,
            "linecolor": "white",
            "showbackground": true,
            "ticks": "",
            "zerolinecolor": "white"
           },
           "yaxis": {
            "backgroundcolor": "#E5ECF6",
            "gridcolor": "white",
            "gridwidth": 2,
            "linecolor": "white",
            "showbackground": true,
            "ticks": "",
            "zerolinecolor": "white"
           },
           "zaxis": {
            "backgroundcolor": "#E5ECF6",
            "gridcolor": "white",
            "gridwidth": 2,
            "linecolor": "white",
            "showbackground": true,
            "ticks": "",
            "zerolinecolor": "white"
           }
          },
          "shapedefaults": {
           "line": {
            "color": "#2a3f5f"
           }
          },
          "ternary": {
           "aaxis": {
            "gridcolor": "white",
            "linecolor": "white",
            "ticks": ""
           },
           "baxis": {
            "gridcolor": "white",
            "linecolor": "white",
            "ticks": ""
           },
           "bgcolor": "#E5ECF6",
           "caxis": {
            "gridcolor": "white",
            "linecolor": "white",
            "ticks": ""
           }
          },
          "title": {
           "x": 0.05
          },
          "xaxis": {
           "automargin": true,
           "gridcolor": "white",
           "linecolor": "white",
           "ticks": "",
           "title": {
            "standoff": 15
           },
           "zerolinecolor": "white",
           "zerolinewidth": 2
          },
          "yaxis": {
           "automargin": true,
           "gridcolor": "white",
           "linecolor": "white",
           "ticks": "",
           "title": {
            "standoff": 15
           },
           "zerolinecolor": "white",
           "zerolinewidth": 2
          }
         }
        }
       }
      },
      "text/html": [
       "<div>                            <div id=\"2a4d3378-f91b-4633-b40a-a6743080723a\" class=\"plotly-graph-div\" style=\"height:600px; width:100%;\"></div>            <script type=\"text/javascript\">                require([\"plotly\"], function(Plotly) {                    window.PLOTLYENV=window.PLOTLYENV || {};                                    if (document.getElementById(\"2a4d3378-f91b-4633-b40a-a6743080723a\")) {                    Plotly.newPlot(                        \"2a4d3378-f91b-4633-b40a-a6743080723a\",                        [{\"customdata\":[[1.0,6.609999999999999,25.5,1068.22,\"2022-07-29T13:34:22-07:00\",\"Transect 1\"],[1.0,6.5600000000000005,25.94,1062.56,\"2022-07-29T13:34:24-07:00\",\"Transect 1\"],[1.0,6.369999999999999,26.38,1053.53,\"2022-07-29T13:34:26-07:00\",\"Transect 1\"],[1.0,5.8100000000000005,26.69,1057.95,\"2022-07-29T13:34:28-07:00\",\"Transect 1\"],[1.0,5.890000000000001,26.94,1044.65,\"2022-07-29T13:34:30-07:00\",\"Transect 1\"],[1.0,5.35,27.06,1050.34,\"2022-07-29T13:34:32-07:00\",\"Transect 1\"],[1.0,6.0600000000000005,27.25,1052.56,\"2022-07-29T13:34:32-07:00\",\"Transect 1\"],[1.0,6.17,27.19,1051.3,\"2022-07-29T13:34:38-07:00\",\"Transect 1\"],[1.0,5.960000000000001,27.38,1044.08,\"2022-07-29T13:34:38-07:00\",\"Transect 1\"],[1.0,6.41,27.38,1046.57,\"2022-07-29T13:34:42-07:00\",\"Transect 1\"],[1.0,6.02,27.5,1032.23,\"2022-07-29T13:34:42-07:00\",\"Transect 1\"],[1.0,5.91,27.56,1032.23,\"2022-07-29T13:34:46-07:00\",\"Transect 1\"],[1.0,6.3100000000000005,27.5,1034.69,\"2022-07-29T13:34:46-07:00\",\"Transect 1\"],[1.0,6.029999999999999,27.63,1031.01,\"2022-07-29T13:34:50-07:00\",\"Transect 1\"],[1.0,6.140000000000001,27.63,1045.05,\"2022-07-29T13:34:50-07:00\",\"Transect 1\"],[1.0,6.09,27.63,1031.01,\"2022-07-29T13:34:50-07:00\",\"Transect 1\"],[1.0,5.85,27.63,1035.68,\"2022-07-29T13:34:56-07:00\",\"Transect 1\"],[1.0,5.720000000000001,27.56,1039.13,\"2022-07-29T13:34:58-07:00\",\"Transect 1\"],[1.0,5.93,27.56,1034.45,\"2022-07-29T13:35:00-07:00\",\"Transect 1\"],[1.0,6.0600000000000005,27.56,1029.78,\"2022-07-29T13:35:02-07:00\",\"Transect 1\"],[1.0,5.42,27.69,1037.89,\"2022-07-29T13:35:04-07:00\",\"Transect 1\"],[1.0,5.77,27.69,1034.45,\"2022-07-29T13:35:06-07:00\",\"Transect 1\"],[1.0,5.84,27.75,1028.56,\"2022-07-29T13:35:08-07:00\",\"Transect 1\"],[1.0,5.65,27.75,1033.22,\"2022-07-29T13:35:08-07:00\",\"Transect 1\"],[1.0,5.460000000000001,27.63,1042.58,\"2022-07-29T13:35:14-07:00\",\"Transect 1\"],[1.0,5.84,27.75,983.79,\"2022-07-29T13:35:14-07:00\",\"Transect 1\"],[1.0,6.43,27.69,975.88,\"2022-07-29T13:35:18-07:00\",\"Transect 1\"],[1.0,6.140000000000001,27.75,984.96,\"2022-07-29T13:35:18-07:00\",\"Transect 1\"],[1.0,6.07,27.75,1033.22,\"2022-07-29T13:35:22-07:00\",\"Transect 1\"],[1.0,5.890000000000001,27.75,1042.58,\"2022-07-29T13:35:22-07:00\",\"Transect 1\"],[1.0,5.9399999999999995,27.75,1037.89,\"2022-07-29T13:35:26-07:00\",\"Transect 1\"],[1.0,6.16,27.63,1042.58,\"2022-07-29T13:35:26-07:00\",\"Transect 1\"],[1.0,5.76,27.75,1037.89,\"2022-07-29T13:35:26-07:00\",\"Transect 1\"],[1.0,5.49,27.63,1037.89,\"2022-07-29T13:35:32-07:00\",\"Transect 1\"],[1.0,5.99,27.81,1037.89,\"2022-07-29T13:35:34-07:00\",\"Transect 1\"],[1.0,6.3100000000000005,27.69,1037.89,\"2022-07-29T13:35:36-07:00\",\"Transect 1\"],[1.0,6.5600000000000005,27.75,1037.89,\"2022-07-29T13:35:38-07:00\",\"Transect 1\"],[1.0,7.629999999999999,25.5,1023.87,\"2022-07-29T13:36:08-07:00\",\"Transect 1\"],[1.0,7.27,26.0,1068.68,\"2022-07-29T13:36:10-07:00\",\"Transect 1\"],[1.0,6.449999999999999,26.44,1067.88,\"2022-07-29T13:36:12-07:00\",\"Transect 1\"],[1.0,6.07,26.75,1051.92,\"2022-07-29T13:36:14-07:00\",\"Transect 1\"],[1.0,6.220000000000001,27.0,1057.62,\"2022-07-29T13:36:16-07:00\",\"Transect 1\"],[1.0,5.93,27.06,1058.56,\"2022-07-29T13:36:18-07:00\",\"Transect 1\"],[1.0,5.99,27.31,1052.56,\"2022-07-29T13:36:20-07:00\",\"Transect 1\"],[1.0,5.8100000000000005,27.38,1050.04,\"2022-07-29T13:36:20-07:00\",\"Transect 1\"],[1.0,5.449999999999999,27.5,1056.99,\"2022-07-29T13:36:26-07:00\",\"Transect 1\"],[1.0,6.48,27.44,985.1,\"2022-07-29T13:36:26-07:00\",\"Transect 1\"],[1.0,5.869999999999999,27.5,1047.54,\"2022-07-29T13:36:30-07:00\",\"Transect 1\"],[1.0,5.970000000000001,27.56,1041.6,\"2022-07-29T13:36:30-07:00\",\"Transect 1\"],[1.0,5.8100000000000005,27.56,1040.36,\"2022-07-29T13:36:34-07:00\",\"Transect 1\"],[1.0,5.91,27.63,1049.76,\"2022-07-29T13:36:34-07:00\",\"Transect 1\"],[1.0,5.76,27.63,1034.45,\"2022-07-29T13:36:38-07:00\",\"Transect 1\"],[1.0,6.27,27.69,999.84,\"2022-07-29T13:36:38-07:00\",\"Transect 1\"],[1.0,6.25,27.56,1051.01,\"2022-07-29T13:36:38-07:00\",\"Transect 1\"],[1.0,6.18,27.63,1031.01,\"2022-07-29T13:36:44-07:00\",\"Transect 1\"],[1.0,5.59,27.75,1042.58,\"2022-07-29T13:36:46-07:00\",\"Transect 1\"],[1.0,6.23,27.69,984.96,\"2022-07-29T13:36:48-07:00\",\"Transect 1\"],[1.0,5.640000000000001,27.75,1037.89,\"2022-07-29T13:36:50-07:00\",\"Transect 1\"],[1.0,5.609999999999999,27.75,1033.22,\"2022-07-29T13:36:52-07:00\",\"Transect 1\"],[1.0,5.529999999999999,27.69,1042.58,\"2022-07-29T13:36:54-07:00\",\"Transect 1\"],[1.0,5.93,27.69,1037.89,\"2022-07-29T13:36:56-07:00\",\"Transect 1\"],[1.0,6.34,27.63,1056.71,\"2022-07-29T13:36:56-07:00\",\"Transect 1\"]],\"hovertemplate\":\"transect category=%{customdata[5]}<br>lat=%{lat}<br>lon=%{lon}<br>boat_id=%{customdata[0]}<br>level=%{customdata[1]}<br>degree=%{customdata[2]}<br>ppm=%{customdata[3]}<br>timestamp=%{customdata[4]}<extra></extra>\",\"lat\":[32.914089,32.914091,32.91409,32.914093,32.914093,32.914091,32.914091,32.914084,32.914084,32.914083,32.914083,32.914084,32.914084,32.914086,32.914086,32.914086,32.914087,32.914087,32.914088,32.91409,32.914091,32.914093,32.914092,32.914092,32.914095,32.914095,32.914094,32.914094,32.91409,32.91409,32.914088,32.914088,32.914088,32.914074,32.914072,32.914071,32.914072,32.914079,32.914079,32.914077,32.914074,32.914072,32.914074,32.914073,32.914073,32.914077,32.914077,32.914076,32.914076,32.914072,32.914072,32.91407,32.91407,32.91407,32.914066,32.914067,32.914067,32.914066,32.914067,32.914068,32.914069,32.914069],\"legendgroup\":\"Transect 1\",\"lon\":[-117.100055,-117.100052,-117.10005,-117.100048,-117.100047,-117.100047,-117.100047,-117.100058,-117.100058,-117.100059,-117.100059,-117.100054,-117.100054,-117.100054,-117.100054,-117.100054,-117.100054,-117.100052,-117.100051,-117.100049,-117.10005,-117.100051,-117.10005,-117.10005,-117.100043,-117.100043,-117.100041,-117.100041,-117.10004,-117.10004,-117.100043,-117.100043,-117.100043,-117.100046,-117.100043,-117.100044,-117.100048,-117.100068,-117.100069,-117.100069,-117.100067,-117.10006,-117.100056,-117.100058,-117.100058,-117.100059,-117.100059,-117.100057,-117.100057,-117.100056,-117.100056,-117.100054,-117.100054,-117.100054,-117.100052,-117.100052,-117.100052,-117.100049,-117.100048,-117.100047,-117.100048,-117.100048],\"marker\":{\"color\":\"#636efa\"},\"mode\":\"markers\",\"name\":\"Transect 1\",\"showlegend\":true,\"subplot\":\"mapbox\",\"type\":\"scattermapbox\"},{\"customdata\":[[1.0,9.27,25.44,1084.14,\"2022-07-29T13:49:36-07:00\",\"Transect 2\"],[1.0,7.079999999999998,25.94,1081.88,\"2022-07-29T13:49:38-07:00\",\"Transect 2\"],[1.0,6.91,26.38,1063.09,\"2022-07-29T13:49:40-07:00\",\"Transect 2\"],[1.0,6.85,26.63,1066.22,\"2022-07-29T13:49:42-07:00\",\"Transect 2\"],[1.0,6.550000000000001,27.0,1067.16,\"2022-07-29T13:49:42-07:00\",\"Transect 2\"],[1.0,7.02,27.13,1061.1,\"2022-07-29T13:49:42-07:00\",\"Transect 2\"],[1.0,5.9399999999999995,27.19,1070.32,\"2022-07-29T13:49:50-07:00\",\"Transect 2\"],[1.0,6.26,27.38,1059.52,\"2022-07-29T13:49:50-07:00\",\"Transect 2\"],[1.0,6.119999999999999,27.44,1052.26,\"2022-07-29T13:49:54-07:00\",\"Transect 2\"],[1.0,6.24,27.56,1001.03,\"2022-07-29T13:49:54-07:00\",\"Transect 2\"],[1.0,5.99,27.56,1055.74,\"2022-07-29T13:49:58-07:00\",\"Transect 2\"],[1.0,6.65,27.63,1046.3,\"2022-07-29T13:49:58-07:00\",\"Transect 2\"],[1.0,6.289999999999999,27.69,1039.13,\"2022-07-29T13:50:02-07:00\",\"Transect 2\"],[1.0,6.9,27.56,1057.96,\"2022-07-29T13:50:02-07:00\",\"Transect 2\"],[1.0,7.23,27.75,1053.23,\"2022-07-29T13:50:06-07:00\",\"Transect 2\"],[1.0,7.390000000000001,27.69,1042.58,\"2022-07-29T13:50:08-07:00\",\"Transect 2\"],[1.0,7.239999999999998,27.63,1056.71,\"2022-07-29T13:50:10-07:00\",\"Transect 2\"],[1.0,7.640000000000001,27.63,1048.52,\"2022-07-29T13:50:12-07:00\",\"Transect 2\"],[1.0,6.609999999999999,27.63,1061.44,\"2022-07-29T13:50:14-07:00\",\"Transect 2\"],[1.0,6.8100000000000005,27.75,1056.71,\"2022-07-29T13:50:16-07:00\",\"Transect 2\"],[1.0,6.5600000000000005,27.75,1053.23,\"2022-07-29T13:50:18-07:00\",\"Transect 2\"],[1.0,6.98,27.56,1054.48,\"2022-07-29T13:50:18-07:00\",\"Transect 2\"],[1.0,6.48,27.75,1047.27,\"2022-07-29T13:50:18-07:00\",\"Transect 2\"],[1.0,6.48,27.75,987.17,\"2022-07-29T13:50:26-07:00\",\"Transect 2\"],[1.0,6.07,27.69,994.08,\"2022-07-29T13:50:26-07:00\",\"Transect 2\"],[1.0,6.289999999999999,27.69,1047.27,\"2022-07-29T13:50:30-07:00\",\"Transect 2\"],[1.0,6.15,27.75,1061.44,\"2022-07-29T13:50:30-07:00\",\"Transect 2\"],[1.0,6.09,27.75,1047.27,\"2022-07-29T13:50:34-07:00\",\"Transect 2\"],[1.0,6.48,27.75,1042.58,\"2022-07-29T13:50:34-07:00\",\"Transect 2\"],[1.0,6.02,27.75,1051.98,\"2022-07-29T13:50:38-07:00\",\"Transect 2\"],[1.0,6.16,27.81,1061.44,\"2022-07-29T13:50:38-07:00\",\"Transect 2\"],[1.0,6.1,27.69,1042.58,\"2022-07-29T13:50:42-07:00\",\"Transect 2\"],[1.0,6.220000000000001,27.81,1046.04,\"2022-07-29T13:50:44-07:00\",\"Transect 2\"],[1.0,6.15,27.69,1050.74,\"2022-07-29T13:50:46-07:00\",\"Transect 2\"],[1.0,6.15,27.75,1041.34,\"2022-07-29T13:50:48-07:00\",\"Transect 2\"],[1.0,6.23,27.75,1047.27,\"2022-07-29T13:50:50-07:00\",\"Transect 2\"],[1.0,6.17,27.69,1051.98,\"2022-07-29T13:50:52-07:00\",\"Transect 2\"],[1.0,6.119999999999999,27.81,1047.27,\"2022-07-29T13:50:54-07:00\",\"Transect 2\"],[1.0,6.07,27.69,1046.04,\"2022-07-29T13:50:56-07:00\",\"Transect 2\"],[1.0,6.630000000000001,27.81,1046.04,\"2022-07-29T13:50:56-07:00\",\"Transect 2\"],[1.0,6.5600000000000005,27.81,1051.98,\"2022-07-29T13:51:02-07:00\",\"Transect 2\"],[1.0,6.6,27.81,1041.34,\"2022-07-29T13:51:02-07:00\",\"Transect 2\"],[1.0,6.6899999999999995,27.75,1053.23,\"2022-07-29T13:51:06-07:00\",\"Transect 2\"],[1.0,6.380000000000001,27.88,1046.04,\"2022-07-29T13:51:06-07:00\",\"Transect 2\"],[1.0,6.33,27.75,1050.74,\"2022-07-29T13:51:10-07:00\",\"Transect 2\"],[1.0,6.869999999999999,27.81,1002.05,\"2022-07-29T13:51:10-07:00\",\"Transect 2\"],[1.0,5.99,27.75,1055.45,\"2022-07-29T13:51:14-07:00\",\"Transect 2\"],[1.0,6.32,27.69,1050.74,\"2022-07-29T13:51:14-07:00\",\"Transect 2\"],[1.0,6.02,27.69,1060.18,\"2022-07-29T13:51:14-07:00\",\"Transect 2\"],[1.0,6.390000000000001,27.75,1042.58,\"2022-07-29T13:51:20-07:00\",\"Transect 2\"],[1.0,6.300000000000001,27.75,1060.18,\"2022-07-29T13:51:22-07:00\",\"Transect 2\"],[1.0,6.09,27.69,1046.04,\"2022-07-29T13:51:24-07:00\",\"Transect 2\"],[1.0,6.27,27.81,1060.18,\"2022-07-29T13:51:26-07:00\",\"Transect 2\"],[1.0,5.960000000000001,27.69,1047.27,\"2022-07-29T13:51:28-07:00\",\"Transect 2\"],[1.0,6.119999999999999,27.75,1046.04,\"2022-07-29T13:51:30-07:00\",\"Transect 2\"],[1.0,6.02,27.81,1047.27,\"2022-07-29T13:51:32-07:00\",\"Transect 2\"],[1.0,5.880000000000001,27.75,1051.98,\"2022-07-29T13:51:32-07:00\",\"Transect 2\"],[1.0,5.890000000000001,27.81,1056.71,\"2022-07-29T13:51:38-07:00\",\"Transect 2\"],[1.0,5.77,27.69,1047.27,\"2022-07-29T13:51:42-07:00\",\"Transect 2\"],[1.0,5.9399999999999995,27.69,1051.98,\"2022-07-29T13:51:42-07:00\",\"Transect 2\"],[1.0,6.029999999999999,27.69,1046.04,\"2022-07-29T13:51:46-07:00\",\"Transect 2\"],[1.0,6.07,27.81,1053.23,\"2022-07-29T13:51:46-07:00\",\"Transect 2\"],[1.0,6.029999999999999,27.81,1036.67,\"2022-07-29T13:51:50-07:00\",\"Transect 2\"],[1.0,6.279999999999999,27.81,1002.05,\"2022-07-29T13:51:50-07:00\",\"Transect 2\"],[1.0,5.91,27.69,1056.71,\"2022-07-29T13:51:50-07:00\",\"Transect 2\"],[1.0,6.470000000000001,27.69,1006.64,\"2022-07-29T13:51:56-07:00\",\"Transect 2\"],[1.0,5.890000000000001,27.75,1047.27,\"2022-07-29T13:51:58-07:00\",\"Transect 2\"],[1.0,6.4399999999999995,27.75,994.08,\"2022-07-29T13:52:00-07:00\",\"Transect 2\"],[1.0,5.85,27.69,1050.74,\"2022-07-29T13:52:02-07:00\",\"Transect 2\"],[1.0,6.779999999999999,27.81,1043.82,\"2022-07-29T13:52:04-07:00\",\"Transect 2\"],[1.0,5.869999999999999,27.81,1051.98,\"2022-07-29T13:52:06-07:00\",\"Transect 2\"],[1.0,6.289999999999999,27.81,1046.04,\"2022-07-29T13:52:08-07:00\",\"Transect 2\"],[1.0,6.07,27.81,1050.74,\"2022-07-29T13:52:08-07:00\",\"Transect 2\"],[1.0,6.15,27.69,1046.04,\"2022-07-29T13:52:14-07:00\",\"Transect 2\"],[1.0,6.58,27.81,1057.96,\"2022-07-29T13:52:18-07:00\",\"Transect 2\"],[1.0,6.140000000000001,27.81,1050.74,\"2022-07-29T13:52:18-07:00\",\"Transect 2\"],[1.0,6.23,27.81,1056.71,\"2022-07-29T13:52:22-07:00\",\"Transect 2\"],[1.0,6.5600000000000005,27.81,1053.23,\"2022-07-29T13:52:22-07:00\",\"Transect 2\"],[1.0,6.24,27.81,1055.45,\"2022-07-29T13:52:26-07:00\",\"Transect 2\"],[1.0,6.49,27.81,1039.13,\"2022-07-29T13:52:26-07:00\",\"Transect 2\"],[1.0,5.970000000000001,27.81,1055.45,\"2022-07-29T13:52:26-07:00\",\"Transect 2\"],[1.0,5.92,27.81,1061.44,\"2022-07-29T13:52:32-07:00\",\"Transect 2\"],[1.0,5.9399999999999995,27.69,1046.04,\"2022-07-29T13:52:34-07:00\",\"Transect 2\"],[1.0,6.220000000000001,27.75,1050.74,\"2022-07-29T13:52:36-07:00\",\"Transect 2\"],[1.0,6.859999999999999,27.69,1039.13,\"2022-07-29T13:52:38-07:00\",\"Transect 2\"],[1.0,6.039999999999999,27.63,1060.18,\"2022-07-29T13:52:40-07:00\",\"Transect 2\"],[1.0,6.119999999999999,27.69,1051.98,\"2022-07-29T13:52:42-07:00\",\"Transect 2\"],[1.0,6.029999999999999,27.69,1051.98,\"2022-07-29T13:52:44-07:00\",\"Transect 2\"],[1.0,6.279999999999999,27.63,1061.44,\"2022-07-29T13:52:44-07:00\",\"Transect 2\"],[1.0,6.35,27.81,1060.18,\"2022-07-29T13:52:50-07:00\",\"Transect 2\"],[1.0,6.9,27.63,1062.7,\"2022-07-29T13:52:54-07:00\",\"Transect 2\"],[1.0,6.32,27.81,996.28,\"2022-07-29T13:52:54-07:00\",\"Transect 2\"],[1.0,6.25,27.81,1046.04,\"2022-07-29T13:52:58-07:00\",\"Transect 2\"],[1.0,6.470000000000001,27.69,1048.52,\"2022-07-29T13:52:58-07:00\",\"Transect 2\"],[1.0,5.789999999999999,27.81,1050.74,\"2022-07-29T13:53:02-07:00\",\"Transect 2\"],[1.0,6.300000000000001,27.69,1060.18,\"2022-07-29T13:53:02-07:00\",\"Transect 2\"],[1.0,6.15,27.75,1055.45,\"2022-07-29T13:53:02-07:00\",\"Transect 2\"],[1.0,6.34,27.81,1046.04,\"2022-07-29T13:53:08-07:00\",\"Transect 2\"],[1.0,6.66,27.69,1053.23,\"2022-07-29T13:53:10-07:00\",\"Transect 2\"],[1.0,6.08,27.81,1046.04,\"2022-07-29T13:53:12-07:00\",\"Transect 2\"],[1.0,6.26,27.81,1042.58,\"2022-07-29T13:53:14-07:00\",\"Transect 2\"],[1.0,5.970000000000001,27.81,1055.45,\"2022-07-29T13:53:16-07:00\",\"Transect 2\"],[1.0,5.9399999999999995,27.69,1046.04,\"2022-07-29T13:53:18-07:00\",\"Transect 2\"],[1.0,5.789999999999999,27.69,1060.18,\"2022-07-29T13:53:20-07:00\",\"Transect 2\"],[1.0,6.039999999999999,27.81,1055.45,\"2022-07-29T13:53:20-07:00\",\"Transect 2\"],[1.0,6.140000000000001,27.69,1060.18,\"2022-07-29T13:53:20-07:00\",\"Transect 2\"],[1.0,6.1,27.69,1047.27,\"2022-07-29T13:53:28-07:00\",\"Transect 2\"],[1.0,5.970000000000001,27.81,1010.05,\"2022-07-29T13:53:28-07:00\",\"Transect 2\"],[1.0,6.41,27.69,1056.71,\"2022-07-29T13:53:32-07:00\",\"Transect 2\"],[1.0,6.5,27.81,1057.96,\"2022-07-29T13:53:32-07:00\",\"Transect 2\"],[1.0,5.92,27.75,1051.98,\"2022-07-29T13:53:36-07:00\",\"Transect 2\"],[1.0,6.720000000000001,27.69,1048.52,\"2022-07-29T13:53:36-07:00\",\"Transect 2\"],[1.0,6.07,27.81,1050.74,\"2022-07-29T13:53:40-07:00\",\"Transect 2\"],[1.0,6.08,27.81,1047.27,\"2022-07-29T13:53:40-07:00\",\"Transect 2\"],[1.0,6.119999999999999,27.69,1050.74,\"2022-07-29T13:53:44-07:00\",\"Transect 2\"],[1.0,5.98,27.81,1060.18,\"2022-07-29T13:53:46-07:00\",\"Transect 2\"],[1.0,6.460000000000001,27.69,1041.34,\"2022-07-29T13:53:48-07:00\",\"Transect 2\"],[1.0,5.83,27.81,1008.85,\"2022-07-29T13:53:50-07:00\",\"Transect 2\"],[1.0,6.119999999999999,27.81,1060.18,\"2022-07-29T13:53:52-07:00\",\"Transect 2\"],[1.0,5.73,27.75,1060.18,\"2022-07-29T13:53:54-07:00\",\"Transect 2\"],[1.0,6.17,27.75,1046.04,\"2022-07-29T13:53:56-07:00\",\"Transect 2\"],[1.0,6.48,27.75,1053.23,\"2022-07-29T13:53:56-07:00\",\"Transect 2\"],[1.0,5.98,27.69,1046.04,\"2022-07-29T13:53:56-07:00\",\"Transect 2\"],[1.0,6.390000000000001,27.81,1064.92,\"2022-07-29T13:54:04-07:00\",\"Transect 2\"],[1.0,6.4399999999999995,27.81,1000.86,\"2022-07-29T13:54:04-07:00\",\"Transect 2\"],[1.0,6.279999999999999,27.69,1055.45,\"2022-07-29T13:54:08-07:00\",\"Transect 2\"],[1.0,6.050000000000001,27.81,1047.27,\"2022-07-29T13:54:08-07:00\",\"Transect 2\"],[1.0,6.029999999999999,27.81,1050.74,\"2022-07-29T13:54:12-07:00\",\"Transect 2\"],[1.0,6.0600000000000005,27.81,1055.45,\"2022-07-29T13:54:12-07:00\",\"Transect 2\"],[1.0,6.029999999999999,27.69,1055.45,\"2022-07-29T13:54:16-07:00\",\"Transect 2\"],[1.0,6.1899999999999995,27.81,1060.18,\"2022-07-29T13:54:16-07:00\",\"Transect 2\"],[1.0,6.050000000000001,27.81,1060.18,\"2022-07-29T13:54:20-07:00\",\"Transect 2\"],[1.0,6.02,27.69,1055.45,\"2022-07-29T13:54:22-07:00\",\"Transect 2\"],[1.0,6.0600000000000005,27.69,1060.18,\"2022-07-29T13:54:24-07:00\",\"Transect 2\"],[1.0,6.210000000000001,27.69,1050.74,\"2022-07-29T13:54:26-07:00\",\"Transect 2\"],[1.0,6.23,27.81,1050.74,\"2022-07-29T13:54:28-07:00\",\"Transect 2\"],[1.0,6.17,27.81,1046.04,\"2022-07-29T13:54:30-07:00\",\"Transect 2\"],[1.0,6.1,27.81,1050.74,\"2022-07-29T13:54:32-07:00\",\"Transect 2\"],[1.0,6.210000000000001,27.81,1051.98,\"2022-07-29T13:54:32-07:00\",\"Transect 2\"],[1.0,6.15,27.81,1046.04,\"2022-07-29T13:54:32-07:00\",\"Transect 2\"],[1.0,6.210000000000001,27.81,999.68,\"2022-07-29T13:54:40-07:00\",\"Transect 2\"],[1.0,6.02,27.81,1055.45,\"2022-07-29T13:54:44-07:00\",\"Transect 2\"],[1.0,6.52,27.81,1048.52,\"2022-07-29T13:54:44-07:00\",\"Transect 2\"],[1.0,5.98,27.81,1044.8,\"2022-07-29T13:54:48-07:00\",\"Transect 2\"],[1.0,6.23,27.75,1060.18,\"2022-07-29T13:54:52-07:00\",\"Transect 2\"],[1.0,6.73,27.81,1048.52,\"2022-07-29T13:54:56-07:00\",\"Transect 2\"],[1.0,6.279999999999999,27.69,1060.18,\"2022-07-29T13:54:58-07:00\",\"Transect 2\"],[1.0,5.960000000000001,27.88,1054.21,\"2022-07-29T13:55:00-07:00\",\"Transect 2\"],[1.0,6.09,27.69,1060.18,\"2022-07-29T13:55:02-07:00\",\"Transect 2\"],[1.0,6.039999999999999,27.75,1060.18,\"2022-07-29T13:55:04-07:00\",\"Transect 2\"],[1.0,6.0600000000000005,27.81,1041.34,\"2022-07-29T13:55:06-07:00\",\"Transect 2\"],[1.0,6.720000000000001,27.88,1010.05,\"2022-07-29T13:55:08-07:00\",\"Transect 2\"],[1.0,6.09,27.69,1046.04,\"2022-07-29T13:55:10-07:00\",\"Transect 2\"],[1.0,6.460000000000001,27.88,1061.44,\"2022-07-29T13:55:10-07:00\",\"Transect 2\"],[1.0,5.99,27.81,1054.21,\"2022-07-29T13:55:16-07:00\",\"Transect 2\"],[1.0,5.880000000000001,27.88,1047.27,\"2022-07-29T13:55:16-07:00\",\"Transect 2\"],[1.0,6.0600000000000005,27.88,1055.45,\"2022-07-29T13:55:20-07:00\",\"Transect 2\"],[1.0,6.85,27.88,1047.27,\"2022-07-29T13:55:20-07:00\",\"Transect 2\"],[1.0,6.91,27.88,1060.18,\"2022-07-29T13:55:24-07:00\",\"Transect 2\"],[1.0,6.42,27.81,999.68,\"2022-07-29T13:55:24-07:00\",\"Transect 2\"],[1.0,6.210000000000001,27.81,1055.45,\"2022-07-29T13:55:28-07:00\",\"Transect 2\"],[1.0,6.4,27.81,1036.67,\"2022-07-29T13:55:28-07:00\",\"Transect 2\"],[1.0,6.66,27.69,1053.23,\"2022-07-29T13:55:32-07:00\",\"Transect 2\"],[1.0,6.18,27.81,1055.45,\"2022-07-29T13:55:34-07:00\",\"Transect 2\"],[1.0,6.16,27.81,1050.74,\"2022-07-29T13:55:36-07:00\",\"Transect 2\"],[1.0,6.039999999999999,27.81,1055.45,\"2022-07-29T13:55:38-07:00\",\"Transect 2\"],[1.0,6.02,27.81,1055.45,\"2022-07-29T13:55:40-07:00\",\"Transect 2\"],[1.0,5.93,27.81,1050.74,\"2022-07-29T13:55:42-07:00\",\"Transect 2\"],[1.0,5.93,27.69,1050.74,\"2022-07-29T13:55:44-07:00\",\"Transect 2\"],[1.0,5.949999999999999,27.81,1060.18,\"2022-07-29T13:55:46-07:00\",\"Transect 2\"],[1.0,6.1899999999999995,27.69,1046.04,\"2022-07-29T13:55:46-07:00\",\"Transect 2\"],[1.0,6.41,27.69,1055.45,\"2022-07-29T13:55:52-07:00\",\"Transect 2\"],[1.0,6.890000000000001,27.75,1002.05,\"2022-07-29T13:55:52-07:00\",\"Transect 2\"],[1.0,5.93,27.81,1046.04,\"2022-07-29T13:55:56-07:00\",\"Transect 2\"],[1.0,6.32,27.81,1060.18,\"2022-07-29T13:55:56-07:00\",\"Transect 2\"],[1.0,6.050000000000001,27.81,1046.04,\"2022-07-29T13:56:00-07:00\",\"Transect 2\"],[1.0,6.67,27.88,999.68,\"2022-07-29T13:56:00-07:00\",\"Transect 2\"],[1.0,6.289999999999999,27.88,1055.45,\"2022-07-29T13:56:04-07:00\",\"Transect 2\"],[1.0,6.18,27.75,1060.18,\"2022-07-29T13:56:04-07:00\",\"Transect 2\"],[1.0,6.17,27.81,1004.26,\"2022-07-29T13:56:04-07:00\",\"Transect 2\"],[1.0,6.27,27.81,1050.74,\"2022-07-29T13:56:10-07:00\",\"Transect 2\"],[1.0,5.960000000000001,27.75,1055.45,\"2022-07-29T13:56:12-07:00\",\"Transect 2\"],[1.0,6.52,27.81,1050.74,\"2022-07-29T13:56:14-07:00\",\"Transect 2\"],[1.0,6.26,27.81,1069.68,\"2022-07-29T13:56:16-07:00\",\"Transect 2\"],[1.0,6.0600000000000005,27.69,1060.18,\"2022-07-29T13:56:18-07:00\",\"Transect 2\"],[1.0,6.08,27.81,1056.71,\"2022-07-29T13:56:20-07:00\",\"Transect 2\"],[1.0,5.99,27.75,1060.18,\"2022-07-29T13:56:22-07:00\",\"Transect 2\"],[1.0,6.130000000000001,27.81,1060.18,\"2022-07-29T13:56:22-07:00\",\"Transect 2\"],[1.0,6.779999999999999,27.69,1053.23,\"2022-07-29T13:56:28-07:00\",\"Transect 2\"],[1.0,6.18,27.75,1050.74,\"2022-07-29T13:56:28-07:00\",\"Transect 2\"],[1.0,6.92,27.81,1048.52,\"2022-07-29T13:56:32-07:00\",\"Transect 2\"],[1.0,6.77,27.81,997.47,\"2022-07-29T13:56:32-07:00\",\"Transect 2\"],[1.0,5.91,27.75,1036.67,\"2022-07-29T13:56:36-07:00\",\"Transect 2\"],[1.0,7.120000000000001,27.81,1057.96,\"2022-07-29T13:56:36-07:00\",\"Transect 2\"],[1.0,6.890000000000001,27.69,996.28,\"2022-07-29T13:56:40-07:00\",\"Transect 2\"],[1.0,6.5600000000000005,27.81,1060.18,\"2022-07-29T13:56:40-07:00\",\"Transect 2\"],[1.0,6.8100000000000005,27.75,1057.96,\"2022-07-29T13:56:40-07:00\",\"Transect 2\"],[1.0,6.300000000000001,27.81,1054.21,\"2022-07-29T13:56:46-07:00\",\"Transect 2\"],[1.0,6.210000000000001,27.81,1064.92,\"2022-07-29T13:56:48-07:00\",\"Transect 2\"],[1.0,6.039999999999999,27.81,1055.45,\"2022-07-29T13:56:50-07:00\",\"Transect 2\"],[1.0,6.09,27.75,1050.74,\"2022-07-29T13:56:52-07:00\",\"Transect 2\"],[1.0,6.65,27.75,1062.7,\"2022-07-29T13:56:54-07:00\",\"Transect 2\"],[1.0,6.0600000000000005,27.81,1050.74,\"2022-07-29T13:56:56-07:00\",\"Transect 2\"],[1.0,5.9,27.81,1060.18,\"2022-07-29T13:56:58-07:00\",\"Transect 2\"],[1.0,5.98,27.69,1055.45,\"2022-07-29T13:56:58-07:00\",\"Transect 2\"],[1.0,6.199999999999999,27.81,1046.04,\"2022-07-29T13:57:04-07:00\",\"Transect 2\"],[1.0,6.84,27.81,1006.64,\"2022-07-29T13:57:04-07:00\",\"Transect 2\"],[1.0,6.710000000000001,27.81,1046.04,\"2022-07-29T13:57:08-07:00\",\"Transect 2\"],[1.0,6.119999999999999,27.81,999.68,\"2022-07-29T13:57:08-07:00\",\"Transect 2\"],[1.0,6.24,27.69,1060.18,\"2022-07-29T13:57:12-07:00\",\"Transect 2\"],[1.0,6.539999999999999,27.69,997.47,\"2022-07-29T13:57:12-07:00\",\"Transect 2\"],[1.0,6.09,27.69,1055.45,\"2022-07-29T13:57:16-07:00\",\"Transect 2\"],[1.0,5.970000000000001,27.75,1055.45,\"2022-07-29T13:57:16-07:00\",\"Transect 2\"],[1.0,5.890000000000001,27.75,1055.45,\"2022-07-29T13:57:16-07:00\",\"Transect 2\"],[1.0,6.109999999999999,27.69,1072.22,\"2022-07-29T13:57:22-07:00\",\"Transect 2\"],[1.0,6.789999999999999,27.81,1051.98,\"2022-07-29T13:57:24-07:00\",\"Transect 2\"],[1.0,6.27,27.75,1060.18,\"2022-07-29T13:57:26-07:00\",\"Transect 2\"],[1.0,6.23,27.81,1055.45,\"2022-07-29T13:57:28-07:00\",\"Transect 2\"],[1.0,6.050000000000001,27.81,1064.92,\"2022-07-29T13:57:30-07:00\",\"Transect 2\"],[1.0,6.1,27.81,1060.18,\"2022-07-29T13:57:32-07:00\",\"Transect 2\"],[1.0,6.82,27.81,1053.23,\"2022-07-29T13:57:34-07:00\",\"Transect 2\"],[1.0,6.23,27.81,1060.18,\"2022-07-29T13:57:40-07:00\",\"Transect 2\"],[1.0,6.18,27.81,1004.26,\"2022-07-29T13:57:40-07:00\",\"Transect 2\"],[1.0,6.18,27.81,1060.18,\"2022-07-29T13:57:44-07:00\",\"Transect 2\"],[1.0,6.359999999999999,27.81,1055.45,\"2022-07-29T13:57:44-07:00\",\"Transect 2\"],[1.0,6.25,27.81,1050.74,\"2022-07-29T13:57:48-07:00\",\"Transect 2\"],[1.0,6.49,27.81,1061.44,\"2022-07-29T13:57:48-07:00\",\"Transect 2\"],[1.0,6.23,27.69,1060.18,\"2022-07-29T13:57:52-07:00\",\"Transect 2\"],[1.0,6.859999999999999,27.81,1046.04,\"2022-07-29T13:57:52-07:00\",\"Transect 2\"],[1.0,6.470000000000001,27.69,1055.45,\"2022-07-29T13:57:52-07:00\",\"Transect 2\"],[1.0,6.52,27.69,1053.23,\"2022-07-29T13:57:58-07:00\",\"Transect 2\"],[1.0,6.140000000000001,27.81,1050.74,\"2022-07-29T13:58:00-07:00\",\"Transect 2\"],[1.0,6.220000000000001,27.81,1064.92,\"2022-07-29T13:58:02-07:00\",\"Transect 2\"],[1.0,6.130000000000001,27.81,1050.74,\"2022-07-29T13:58:04-07:00\",\"Transect 2\"],[1.0,6.0600000000000005,27.75,1050.74,\"2022-07-29T13:58:06-07:00\",\"Transect 2\"],[1.0,6.17,27.69,1060.18,\"2022-07-29T13:58:08-07:00\",\"Transect 2\"],[1.0,6.48,27.88,1064.92,\"2022-07-29T13:58:10-07:00\",\"Transect 2\"],[1.0,6.609999999999999,27.81,1055.45,\"2022-07-29T13:58:10-07:00\",\"Transect 2\"],[1.0,6.98,27.69,1061.44,\"2022-07-29T13:58:10-07:00\",\"Transect 2\"],[1.0,6.859999999999999,27.81,1053.23,\"2022-07-29T13:58:18-07:00\",\"Transect 2\"],[1.0,6.23,27.69,1056.71,\"2022-07-29T13:58:22-07:00\",\"Transect 2\"],[1.0,6.9,27.81,1062.7,\"2022-07-29T13:58:22-07:00\",\"Transect 2\"],[1.0,6.5600000000000005,27.81,1050.74,\"2022-07-29T13:58:26-07:00\",\"Transect 2\"],[1.0,6.4399999999999995,27.69,1050.74,\"2022-07-29T13:58:26-07:00\",\"Transect 2\"],[1.0,6.1899999999999995,27.88,1050.74,\"2022-07-29T13:58:30-07:00\",\"Transect 2\"],[1.0,6.35,27.69,1055.45,\"2022-07-29T13:58:30-07:00\",\"Transect 2\"],[1.0,6.029999999999999,27.69,1064.92,\"2022-07-29T13:58:34-07:00\",\"Transect 2\"],[1.0,6.4,27.69,1046.04,\"2022-07-29T13:58:36-07:00\",\"Transect 2\"],[1.0,6.66,27.69,1062.7,\"2022-07-29T13:58:38-07:00\",\"Transect 2\"],[1.0,5.98,27.69,1046.04,\"2022-07-29T13:58:40-07:00\",\"Transect 2\"],[1.0,6.26,27.69,1060.18,\"2022-07-29T13:58:42-07:00\",\"Transect 2\"],[1.0,6.529999999999999,27.81,1050.74,\"2022-07-29T13:58:44-07:00\",\"Transect 2\"],[1.0,6.390000000000001,27.69,1060.18,\"2022-07-29T13:58:46-07:00\",\"Transect 2\"],[1.0,6.779999999999999,27.81,1067.45,\"2022-07-29T13:58:50-07:00\",\"Transect 2\"],[1.0,6.93,27.69,1053.23,\"2022-07-29T13:58:54-07:00\",\"Transect 2\"],[1.0,6.26,27.81,1013.46,\"2022-07-29T13:58:54-07:00\",\"Transect 2\"],[1.0,6.390000000000001,27.75,1060.18,\"2022-07-29T13:58:58-07:00\",\"Transect 2\"],[1.0,7.02,27.75,1048.52,\"2022-07-29T13:58:58-07:00\",\"Transect 2\"],[1.0,6.369999999999999,27.69,1050.74,\"2022-07-29T13:59:02-07:00\",\"Transect 2\"],[1.0,6.57,27.81,1060.18,\"2022-07-29T13:59:02-07:00\",\"Transect 2\"],[1.0,6.550000000000001,27.81,1055.45,\"2022-07-29T13:59:06-07:00\",\"Transect 2\"],[1.0,6.5600000000000005,27.69,1064.92,\"2022-07-29T13:59:06-07:00\",\"Transect 2\"],[1.0,6.48,27.69,1056.71,\"2022-07-29T13:59:10-07:00\",\"Transect 2\"],[1.0,6.9,27.69,1006.64,\"2022-07-29T13:59:12-07:00\",\"Transect 2\"],[1.0,6.0600000000000005,27.69,1055.45,\"2022-07-29T13:59:14-07:00\",\"Transect 2\"],[1.0,6.35,27.69,1055.45,\"2022-07-29T13:59:16-07:00\",\"Transect 2\"],[1.0,6.640000000000001,27.69,1060.18,\"2022-07-29T13:59:18-07:00\",\"Transect 2\"],[1.0,6.279999999999999,27.81,1069.68,\"2022-07-29T13:59:20-07:00\",\"Transect 2\"],[1.0,6.529999999999999,27.69,1069.68,\"2022-07-29T13:59:22-07:00\",\"Transect 2\"],[1.0,7.149999999999999,27.75,1053.23,\"2022-07-29T13:59:22-07:00\",\"Transect 2\"],[1.0,6.359999999999999,27.75,1055.45,\"2022-07-29T13:59:22-07:00\",\"Transect 2\"],[1.0,6.43,27.69,1058.93,\"2022-07-29T13:59:30-07:00\",\"Transect 2\"],[1.0,6.33,27.69,1053.23,\"2022-07-29T13:59:30-07:00\",\"Transect 2\"],[1.0,6.84,27.81,1062.7,\"2022-07-29T13:59:34-07:00\",\"Transect 2\"],[1.0,7.030000000000001,27.75,1067.45,\"2022-07-29T13:59:34-07:00\",\"Transect 2\"],[1.0,6.85,27.81,1046.04,\"2022-07-29T13:59:38-07:00\",\"Transect 2\"],[1.0,6.49,27.81,1067.45,\"2022-07-29T13:59:38-07:00\",\"Transect 2\"],[1.0,6.76,27.69,1067.45,\"2022-07-29T13:59:42-07:00\",\"Transect 2\"],[1.0,6.32,27.81,1050.74,\"2022-07-29T13:59:42-07:00\",\"Transect 2\"],[1.0,7.0,27.75,1055.45,\"2022-07-29T13:59:46-07:00\",\"Transect 2\"],[1.0,6.24,27.81,1050.74,\"2022-07-29T13:59:48-07:00\",\"Transect 2\"],[1.0,6.25,27.81,1050.74,\"2022-07-29T13:59:50-07:00\",\"Transect 2\"],[1.0,6.15,27.69,1069.68,\"2022-07-29T13:59:52-07:00\",\"Transect 2\"],[1.0,6.16,27.81,1064.92,\"2022-07-29T13:59:54-07:00\",\"Transect 2\"],[1.0,6.210000000000001,27.81,1054.21,\"2022-07-29T13:59:56-07:00\",\"Transect 2\"],[1.0,6.140000000000001,27.69,1055.45,\"2022-07-29T13:59:58-07:00\",\"Transect 2\"],[1.0,6.5600000000000005,27.81,1050.74,\"2022-07-29T13:59:58-07:00\",\"Transect 2\"],[1.0,6.0600000000000005,27.81,1058.93,\"2022-07-29T13:59:58-07:00\",\"Transect 2\"],[1.0,6.24,27.81,1064.92,\"2022-07-29T14:00:06-07:00\",\"Transect 2\"],[1.0,6.26,27.88,1069.68,\"2022-07-29T14:00:06-07:00\",\"Transect 2\"],[1.0,6.779999999999999,27.75,1056.71,\"2022-07-29T14:00:10-07:00\",\"Transect 2\"],[1.0,6.140000000000001,27.88,1055.45,\"2022-07-29T14:00:10-07:00\",\"Transect 2\"],[1.0,5.91,27.75,1063.67,\"2022-07-29T14:00:14-07:00\",\"Transect 2\"],[1.0,6.17,27.75,1049.5,\"2022-07-29T14:00:14-07:00\",\"Transect 2\"],[1.0,6.109999999999999,27.88,1054.21,\"2022-07-29T14:00:18-07:00\",\"Transect 2\"],[1.0,5.82,27.88,1068.42,\"2022-07-29T14:00:18-07:00\",\"Transect 2\"],[1.0,6.220000000000001,27.88,1049.5,\"2022-07-29T14:00:22-07:00\",\"Transect 2\"],[1.0,6.02,27.81,1064.92,\"2022-07-29T14:00:24-07:00\",\"Transect 2\"],[1.0,6.289999999999999,27.88,1058.93,\"2022-07-29T14:00:26-07:00\",\"Transect 2\"],[1.0,6.25,27.88,1054.21,\"2022-07-29T14:00:28-07:00\",\"Transect 2\"],[1.0,6.4,27.88,1060.18,\"2022-07-29T14:00:30-07:00\",\"Transect 2\"],[1.0,6.18,27.88,1055.45,\"2022-07-29T14:00:32-07:00\",\"Transect 2\"],[1.0,6.35,27.75,999.68,\"2022-07-29T14:00:34-07:00\",\"Transect 2\"],[1.0,5.98,27.75,1064.92,\"2022-07-29T14:00:36-07:00\",\"Transect 2\"],[1.0,6.0,27.75,1044.8,\"2022-07-29T14:00:36-07:00\",\"Transect 2\"],[1.0,6.48,27.88,1056.71,\"2022-07-29T14:00:42-07:00\",\"Transect 2\"],[1.0,6.27,27.81,1056.71,\"2022-07-29T14:00:46-07:00\",\"Transect 2\"],[1.0,6.02,27.88,1060.18,\"2022-07-29T14:00:46-07:00\",\"Transect 2\"],[1.0,6.039999999999999,27.81,1060.18,\"2022-07-29T14:00:50-07:00\",\"Transect 2\"],[1.0,6.07,27.81,1055.45,\"2022-07-29T14:00:50-07:00\",\"Transect 2\"],[1.0,6.6899999999999995,27.81,1019.28,\"2022-07-29T14:00:54-07:00\",\"Transect 2\"],[1.0,6.619999999999999,27.69,1055.45,\"2022-07-29T14:00:54-07:00\",\"Transect 2\"],[1.0,6.23,27.81,1046.04,\"2022-07-29T14:00:58-07:00\",\"Transect 2\"],[1.0,6.1899999999999995,27.81,1050.74,\"2022-07-29T14:01:00-07:00\",\"Transect 2\"],[1.0,6.289999999999999,27.88,1064.92,\"2022-07-29T14:01:02-07:00\",\"Transect 2\"],[1.0,6.5600000000000005,27.75,1053.23,\"2022-07-29T14:01:04-07:00\",\"Transect 2\"],[1.0,6.050000000000001,27.81,1055.45,\"2022-07-29T14:01:06-07:00\",\"Transect 2\"],[1.0,6.109999999999999,27.75,1060.18,\"2022-07-29T14:01:08-07:00\",\"Transect 2\"],[1.0,6.960000000000001,27.81,1057.96,\"2022-07-29T14:01:10-07:00\",\"Transect 2\"],[1.0,6.48,27.69,1050.74,\"2022-07-29T14:01:12-07:00\",\"Transect 2\"],[1.0,6.0,27.81,1069.68,\"2022-07-29T14:01:12-07:00\",\"Transect 2\"],[1.0,6.210000000000001,27.88,1044.8,\"2022-07-29T14:01:18-07:00\",\"Transect 2\"],[1.0,6.359999999999999,27.75,1055.45,\"2022-07-29T14:01:22-07:00\",\"Transect 2\"],[1.0,6.16,27.69,1005.45,\"2022-07-29T14:01:22-07:00\",\"Transect 2\"],[1.0,6.140000000000001,27.75,1064.92,\"2022-07-29T14:01:26-07:00\",\"Transect 2\"],[1.0,6.6899999999999995,27.75,1053.23,\"2022-07-29T14:01:26-07:00\",\"Transect 2\"],[1.0,6.4399999999999995,27.81,1058.93,\"2022-07-29T14:01:30-07:00\",\"Transect 2\"],[1.0,6.4399999999999995,27.81,1060.18,\"2022-07-29T14:01:30-07:00\",\"Transect 2\"],[1.0,6.51,27.81,1055.45,\"2022-07-29T14:01:30-07:00\",\"Transect 2\"],[1.0,6.17,27.75,1060.18,\"2022-07-29T14:01:36-07:00\",\"Transect 2\"],[1.0,6.390000000000001,27.75,1064.92,\"2022-07-29T14:01:38-07:00\",\"Transect 2\"],[1.0,6.449999999999999,27.81,1055.45,\"2022-07-29T14:01:40-07:00\",\"Transect 2\"],[1.0,6.640000000000001,27.81,1041.34,\"2022-07-29T14:01:42-07:00\",\"Transect 2\"],[1.0,6.460000000000001,27.88,1063.67,\"2022-07-29T14:01:44-07:00\",\"Transect 2\"],[1.0,6.5600000000000005,27.69,1050.74,\"2022-07-29T14:01:46-07:00\",\"Transect 2\"],[1.0,6.449999999999999,27.75,1055.45,\"2022-07-29T14:01:48-07:00\",\"Transect 2\"],[1.0,6.460000000000001,27.88,1055.45,\"2022-07-29T14:01:48-07:00\",\"Transect 2\"],[1.0,6.82,27.81,1000.86,\"2022-07-29T14:01:54-07:00\",\"Transect 2\"],[1.0,7.18,27.75,1062.7,\"2022-07-29T14:01:58-07:00\",\"Transect 2\"],[1.0,6.640000000000001,27.88,1058.93,\"2022-07-29T14:01:58-07:00\",\"Transect 2\"],[1.0,6.449999999999999,27.81,1063.67,\"2022-07-29T14:02:02-07:00\",\"Transect 2\"],[1.0,6.869999999999999,27.81,1051.98,\"2022-07-29T14:02:02-07:00\",\"Transect 2\"],[1.0,6.140000000000001,27.88,1068.42,\"2022-07-29T14:02:06-07:00\",\"Transect 2\"],[1.0,6.9399999999999995,27.81,1056.71,\"2022-07-29T14:02:06-07:00\",\"Transect 2\"],[1.0,6.33,27.75,1054.21,\"2022-07-29T14:02:06-07:00\",\"Transect 2\"],[1.0,6.1899999999999995,27.88,1055.45,\"2022-07-29T14:02:12-07:00\",\"Transect 2\"],[1.0,6.609999999999999,27.81,1055.45,\"2022-07-29T14:02:16-07:00\",\"Transect 2\"],[1.0,6.199999999999999,27.81,1064.92,\"2022-07-29T14:02:18-07:00\",\"Transect 2\"],[1.0,6.449999999999999,27.81,1064.92,\"2022-07-29T14:02:20-07:00\",\"Transect 2\"],[1.0,6.25,27.69,1060.18,\"2022-07-29T14:02:22-07:00\",\"Transect 2\"],[1.0,6.24,27.75,1060.18,\"2022-07-29T14:02:24-07:00\",\"Transect 2\"],[1.0,6.300000000000001,27.81,1055.45,\"2022-07-29T14:02:24-07:00\",\"Transect 2\"],[1.0,7.539999999999999,27.75,1060.18,\"2022-07-29T14:02:30-07:00\",\"Transect 2\"],[1.0,7.0,27.81,999.68,\"2022-07-29T14:02:30-07:00\",\"Transect 2\"],[1.0,7.379999999999999,27.88,1064.92,\"2022-07-29T14:02:34-07:00\",\"Transect 2\"],[1.0,7.210000000000001,27.81,1007.66,\"2022-07-29T14:02:34-07:00\",\"Transect 2\"],[1.0,7.18,27.88,1081.79,\"2022-07-29T14:02:38-07:00\",\"Transect 2\"],[1.0,6.699999999999999,27.75,1060.18,\"2022-07-29T14:02:42-07:00\",\"Transect 2\"],[1.0,6.58,27.75,1060.18,\"2022-07-29T14:02:42-07:00\",\"Transect 2\"],[1.0,7.359999999999999,27.81,1055.45,\"2022-07-29T14:02:42-07:00\",\"Transect 2\"],[1.0,7.350000000000001,27.88,1068.42,\"2022-07-29T14:02:48-07:00\",\"Transect 2\"],[1.0,7.420000000000002,27.81,1064.92,\"2022-07-29T14:02:50-07:00\",\"Transect 2\"],[1.0,8.010000000000002,27.75,1061.44,\"2022-07-29T14:02:52-07:00\",\"Transect 2\"],[1.0,7.57,27.81,1068.42,\"2022-07-29T14:02:54-07:00\",\"Transect 2\"],[1.0,7.43,27.88,1060.18,\"2022-07-29T14:02:56-07:00\",\"Transect 2\"],[1.0,7.43,27.81,1060.18,\"2022-07-29T14:02:58-07:00\",\"Transect 2\"],[1.0,7.379999999999999,27.88,1055.45,\"2022-07-29T14:03:00-07:00\",\"Transect 2\"],[1.0,7.57,27.69,1061.44,\"2022-07-29T14:03:00-07:00\",\"Transect 2\"],[1.0,7.18,27.81,1050.74,\"2022-07-29T14:03:06-07:00\",\"Transect 2\"],[1.0,7.93,27.88,1006.64,\"2022-07-29T14:03:06-07:00\",\"Transect 2\"],[1.0,7.460000000000001,27.75,1011.25,\"2022-07-29T14:03:10-07:00\",\"Transect 2\"],[1.0,7.059999999999999,27.88,1055.45,\"2022-07-29T14:03:10-07:00\",\"Transect 2\"],[1.0,7.27,27.88,1055.45,\"2022-07-29T14:03:14-07:00\",\"Transect 2\"],[1.0,7.420000000000002,27.81,1054.21,\"2022-07-29T14:03:14-07:00\",\"Transect 2\"],[1.0,7.059999999999999,27.81,1050.74,\"2022-07-29T14:03:18-07:00\",\"Transect 2\"],[1.0,7.550000000000001,27.81,1050.74,\"2022-07-29T14:03:18-07:00\",\"Transect 2\"],[1.0,7.600000000000001,27.81,1050.74,\"2022-07-29T14:03:18-07:00\",\"Transect 2\"],[1.0,7.629999999999999,27.81,1063.67,\"2022-07-29T14:03:24-07:00\",\"Transect 2\"],[1.0,8.309999999999999,27.75,1050.74,\"2022-07-29T14:03:26-07:00\",\"Transect 2\"],[1.0,7.59,27.81,1060.18,\"2022-07-29T14:03:28-07:00\",\"Transect 2\"],[1.0,7.579999999999998,27.81,1064.92,\"2022-07-29T14:03:30-07:00\",\"Transect 2\"],[1.0,7.510000000000002,27.81,1060.18,\"2022-07-29T14:03:32-07:00\",\"Transect 2\"],[1.0,7.809999999999999,27.81,1069.68,\"2022-07-29T14:03:34-07:00\",\"Transect 2\"],[1.0,7.789999999999999,27.81,1069.68,\"2022-07-29T14:03:36-07:00\",\"Transect 2\"],[1.0,7.48,27.81,1060.18,\"2022-07-29T14:03:36-07:00\",\"Transect 2\"],[1.0,7.52,27.75,1055.45,\"2022-07-29T14:03:36-07:00\",\"Transect 2\"],[1.0,7.93,27.69,1050.74,\"2022-07-29T14:03:44-07:00\",\"Transect 2\"],[1.0,7.530000000000001,27.81,1018.08,\"2022-07-29T14:03:44-07:00\",\"Transect 2\"],[1.0,7.969999999999999,27.69,1051.98,\"2022-07-29T14:03:48-07:00\",\"Transect 2\"],[1.0,7.84,27.69,1067.45,\"2022-07-29T14:03:48-07:00\",\"Transect 2\"],[1.0,7.690000000000001,27.81,1064.92,\"2022-07-29T14:03:52-07:00\",\"Transect 2\"],[1.0,8.239999999999998,27.75,1046.04,\"2022-07-29T14:03:52-07:00\",\"Transect 2\"],[1.0,8.309999999999999,27.69,1073.49,\"2022-07-29T14:03:56-07:00\",\"Transect 2\"],[1.0,7.93,27.81,1055.45,\"2022-07-29T14:03:56-07:00\",\"Transect 2\"],[1.0,7.920000000000002,27.69,1064.92,\"2022-07-29T14:04:00-07:00\",\"Transect 2\"],[1.0,7.710000000000001,27.81,1060.18,\"2022-07-29T14:04:02-07:00\",\"Transect 2\"],[1.0,7.82,27.81,1070.95,\"2022-07-29T14:04:04-07:00\",\"Transect 2\"],[1.0,7.73,27.69,1064.92,\"2022-07-29T14:04:06-07:00\",\"Transect 2\"],[1.0,7.710000000000001,27.69,1060.18,\"2022-07-29T14:04:08-07:00\",\"Transect 2\"],[1.0,8.16,27.81,1075.72,\"2022-07-29T14:04:10-07:00\",\"Transect 2\"],[1.0,7.899999999999999,27.81,1069.68,\"2022-07-29T14:04:12-07:00\",\"Transect 2\"],[1.0,7.870000000000001,27.69,1069.68,\"2022-07-29T14:04:12-07:00\",\"Transect 2\"],[1.0,8.309999999999999,27.75,1020.49,\"2022-07-29T14:04:12-07:00\",\"Transect 2\"],[1.0,7.93,27.81,1023.92,\"2022-07-29T14:04:20-07:00\",\"Transect 2\"],[1.0,8.219999999999999,27.75,1060.18,\"2022-07-29T14:04:24-07:00\",\"Transect 2\"],[1.0,7.960000000000001,27.75,1008.85,\"2022-07-29T14:04:24-07:00\",\"Transect 2\"],[1.0,7.879999999999999,27.81,1046.04,\"2022-07-29T14:04:28-07:00\",\"Transect 2\"],[1.0,7.940000000000001,27.69,1069.68,\"2022-07-29T14:04:28-07:00\",\"Transect 2\"],[1.0,8.36,27.69,1070.95,\"2022-07-29T14:04:32-07:00\",\"Transect 2\"],[1.0,8.29,27.69,1067.45,\"2022-07-29T14:04:32-07:00\",\"Transect 2\"],[1.0,8.010000000000002,27.75,1050.74,\"2022-07-29T14:04:36-07:00\",\"Transect 2\"],[1.0,7.920000000000002,27.75,1070.95,\"2022-07-29T14:04:38-07:00\",\"Transect 2\"],[1.0,7.93,27.81,1064.92,\"2022-07-29T14:04:40-07:00\",\"Transect 2\"],[1.0,8.079999999999998,27.81,1051.98,\"2022-07-29T14:04:42-07:00\",\"Transect 2\"],[1.0,8.079999999999998,27.63,1069.68,\"2022-07-29T14:04:44-07:00\",\"Transect 2\"],[1.0,8.510000000000002,27.69,1011.25,\"2022-07-29T14:04:46-07:00\",\"Transect 2\"],[1.0,8.170000000000002,27.81,1066.19,\"2022-07-29T14:04:48-07:00\",\"Transect 2\"],[1.0,8.16,27.75,1060.18,\"2022-07-29T14:04:50-07:00\",\"Transect 2\"],[1.0,8.27,27.81,1061.44,\"2022-07-29T14:04:50-07:00\",\"Transect 2\"],[1.0,8.379999999999999,27.81,1070.95,\"2022-07-29T14:04:56-07:00\",\"Transect 2\"],[1.0,8.719999999999999,27.81,1020.49,\"2022-07-29T14:04:56-07:00\",\"Transect 2\"],[1.0,8.760000000000002,27.69,1054.48,\"2022-07-29T14:05:00-07:00\",\"Transect 2\"],[1.0,8.71,27.69,1002.05,\"2022-07-29T14:05:00-07:00\",\"Transect 2\"],[1.0,8.75,27.69,1072.22,\"2022-07-29T14:05:04-07:00\",\"Transect 2\"],[1.0,8.52,27.63,1060.18,\"2022-07-29T14:05:04-07:00\",\"Transect 2\"],[1.0,8.809999999999999,27.69,1053.23,\"2022-07-29T14:05:08-07:00\",\"Transect 2\"],[1.0,8.3,27.81,1060.18,\"2022-07-29T14:05:08-07:00\",\"Transect 2\"],[1.0,8.469999999999999,27.75,1066.19,\"2022-07-29T14:05:12-07:00\",\"Transect 2\"],[1.0,8.34,27.75,1061.44,\"2022-07-29T14:05:14-07:00\",\"Transect 2\"],[1.0,8.379999999999999,27.63,1056.71,\"2022-07-29T14:05:16-07:00\",\"Transect 2\"],[1.0,8.329999999999998,27.81,1051.98,\"2022-07-29T14:05:18-07:00\",\"Transect 2\"],[1.0,8.14,27.69,1066.19,\"2022-07-29T14:05:20-07:00\",\"Transect 2\"],[1.0,8.75,27.81,1056.71,\"2022-07-29T14:05:22-07:00\",\"Transect 2\"],[1.0,8.61,27.63,1061.44,\"2022-07-29T14:05:24-07:00\",\"Transect 2\"],[1.0,8.399999999999999,27.69,1070.95,\"2022-07-29T14:05:26-07:00\",\"Transect 2\"],[1.0,8.41,27.81,1060.18,\"2022-07-29T14:05:26-07:00\",\"Transect 2\"],[1.0,8.370000000000001,27.69,1056.71,\"2022-07-29T14:05:32-07:00\",\"Transect 2\"],[1.0,8.43,27.81,1055.45,\"2022-07-29T14:05:32-07:00\",\"Transect 2\"],[1.0,8.32,27.69,1061.44,\"2022-07-29T14:05:36-07:00\",\"Transect 2\"],[1.0,8.370000000000001,27.75,1066.19,\"2022-07-29T14:05:36-07:00\",\"Transect 2\"],[1.0,8.350000000000001,27.75,1064.92,\"2022-07-29T14:05:40-07:00\",\"Transect 2\"],[1.0,8.399999999999999,27.75,1005.45,\"2022-07-29T14:05:40-07:00\",\"Transect 2\"],[1.0,8.629999999999999,27.69,1064.92,\"2022-07-29T14:05:44-07:00\",\"Transect 2\"],[1.0,8.399999999999999,27.81,1061.44,\"2022-07-29T14:05:44-07:00\",\"Transect 2\"],[1.0,8.370000000000001,27.75,1051.98,\"2022-07-29T14:05:44-07:00\",\"Transect 2\"],[1.0,8.68,27.81,1051.98,\"2022-07-29T14:05:50-07:00\",\"Transect 2\"],[1.0,8.940000000000001,27.69,1056.71,\"2022-07-29T14:05:52-07:00\",\"Transect 2\"],[1.0,9.05,27.69,1067.45,\"2022-07-29T14:05:54-07:00\",\"Transect 2\"],[1.0,8.41,27.81,1060.18,\"2022-07-29T14:05:56-07:00\",\"Transect 2\"],[1.0,8.440000000000001,27.69,1060.18,\"2022-07-29T14:05:58-07:00\",\"Transect 2\"],[1.0,8.54,27.81,1064.92,\"2022-07-29T14:06:00-07:00\",\"Transect 2\"],[1.0,8.510000000000002,27.81,1069.68,\"2022-07-29T14:06:02-07:00\",\"Transect 2\"],[1.0,8.39,27.81,1061.44,\"2022-07-29T14:06:02-07:00\",\"Transect 2\"],[1.0,8.899999999999999,27.81,1067.45,\"2022-07-29T14:06:08-07:00\",\"Transect 2\"],[1.0,8.79,27.81,1060.18,\"2022-07-29T14:06:12-07:00\",\"Transect 2\"],[1.0,8.370000000000001,27.81,999.68,\"2022-07-29T14:06:12-07:00\",\"Transect 2\"],[1.0,8.2,27.75,1061.44,\"2022-07-29T14:06:16-07:00\",\"Transect 2\"],[1.0,8.829999999999998,27.69,1062.7,\"2022-07-29T14:06:16-07:00\",\"Transect 2\"],[1.0,8.530000000000001,27.81,1060.18,\"2022-07-29T14:06:20-07:00\",\"Transect 2\"],[1.0,9.0,27.75,1069.68,\"2022-07-29T14:06:20-07:00\",\"Transect 2\"],[1.0,8.239999999999998,27.81,1055.45,\"2022-07-29T14:06:20-07:00\",\"Transect 2\"],[1.0,8.420000000000002,27.81,1069.68,\"2022-07-29T14:06:26-07:00\",\"Transect 2\"],[1.0,8.149999999999999,27.81,1060.18,\"2022-07-29T14:06:28-07:00\",\"Transect 2\"],[1.0,8.86,27.75,1062.7,\"2022-07-29T14:06:30-07:00\",\"Transect 2\"],[1.0,8.870000000000001,27.69,1056.71,\"2022-07-29T14:06:32-07:00\",\"Transect 2\"],[1.0,8.530000000000001,27.75,1066.19,\"2022-07-29T14:06:34-07:00\",\"Transect 2\"],[1.0,8.420000000000002,27.63,1061.44,\"2022-07-29T14:06:36-07:00\",\"Transect 2\"],[1.0,8.370000000000001,27.81,1061.44,\"2022-07-29T14:06:38-07:00\",\"Transect 2\"],[1.0,8.809999999999999,27.81,1011.25,\"2022-07-29T14:06:38-07:00\",\"Transect 2\"],[1.0,8.5,27.81,1056.71,\"2022-07-29T14:06:44-07:00\",\"Transect 2\"],[1.0,8.54,27.81,1069.68,\"2022-07-29T14:06:44-07:00\",\"Transect 2\"],[1.0,8.91,27.69,1050.74,\"2022-07-29T14:06:48-07:00\",\"Transect 2\"],[1.0,8.690000000000001,27.69,1069.68,\"2022-07-29T14:06:48-07:00\",\"Transect 2\"],[1.0,8.46,27.81,1069.68,\"2022-07-29T14:06:52-07:00\",\"Transect 2\"],[1.0,8.629999999999999,27.69,1060.18,\"2022-07-29T14:06:52-07:00\",\"Transect 2\"],[1.0,8.48,27.81,1060.18,\"2022-07-29T14:06:56-07:00\",\"Transect 2\"],[1.0,8.46,27.81,1069.68,\"2022-07-29T14:06:56-07:00\",\"Transect 2\"],[1.0,8.39,27.81,1069.68,\"2022-07-29T14:06:56-07:00\",\"Transect 2\"],[1.0,8.489999999999998,27.81,1069.68,\"2022-07-29T14:07:02-07:00\",\"Transect 2\"],[1.0,8.57,27.69,1064.92,\"2022-07-29T14:07:04-07:00\",\"Transect 2\"],[1.0,8.34,27.81,1064.92,\"2022-07-29T14:07:06-07:00\",\"Transect 2\"],[1.0,8.649999999999999,27.81,1057.96,\"2022-07-29T14:07:08-07:00\",\"Transect 2\"],[1.0,8.149999999999999,27.81,1060.18,\"2022-07-29T14:07:10-07:00\",\"Transect 2\"],[1.0,8.100000000000001,27.81,1064.92,\"2022-07-29T14:07:12-07:00\",\"Transect 2\"],[1.0,8.239999999999998,27.81,1060.18,\"2022-07-29T14:07:14-07:00\",\"Transect 2\"],[1.0,7.879999999999999,27.81,1064.92,\"2022-07-29T14:07:20-07:00\",\"Transect 2\"],[1.0,8.3,27.81,1011.25,\"2022-07-29T14:07:20-07:00\",\"Transect 2\"],[1.0,7.899999999999999,27.81,1069.68,\"2022-07-29T14:07:24-07:00\",\"Transect 2\"],[1.0,8.370000000000001,27.81,1011.25,\"2022-07-29T14:07:24-07:00\",\"Transect 2\"],[1.0,8.010000000000002,27.75,1069.68,\"2022-07-29T14:07:28-07:00\",\"Transect 2\"],[1.0,7.780000000000001,27.81,1055.45,\"2022-07-29T14:07:28-07:00\",\"Transect 2\"],[1.0,7.82,27.81,1064.92,\"2022-07-29T14:07:32-07:00\",\"Transect 2\"],[1.0,7.82,27.69,1069.68,\"2022-07-29T14:07:32-07:00\",\"Transect 2\"],[1.0,7.719999999999999,27.81,1055.45,\"2022-07-29T14:07:38-07:00\",\"Transect 2\"],[1.0,7.690000000000001,27.69,1060.18,\"2022-07-29T14:07:40-07:00\",\"Transect 2\"],[1.0,7.41,27.81,1055.45,\"2022-07-29T14:07:42-07:00\",\"Transect 2\"],[1.0,7.420000000000002,27.81,1060.18,\"2022-07-29T14:07:44-07:00\",\"Transect 2\"],[1.0,8.04,27.81,1060.18,\"2022-07-29T14:07:46-07:00\",\"Transect 2\"],[1.0,7.379999999999999,27.81,1055.45,\"2022-07-29T14:07:48-07:00\",\"Transect 2\"],[1.0,7.100000000000001,27.81,1055.45,\"2022-07-29T14:07:50-07:00\",\"Transect 2\"],[1.0,8.04,27.81,1064.92,\"2022-07-29T14:07:50-07:00\",\"Transect 2\"],[1.0,7.91,27.69,1008.85,\"2022-07-29T14:07:56-07:00\",\"Transect 2\"],[1.0,7.989999999999998,27.81,1060.18,\"2022-07-29T14:07:56-07:00\",\"Transect 2\"],[1.0,7.969999999999999,27.81,1074.45,\"2022-07-29T14:08:00-07:00\",\"Transect 2\"],[1.0,8.030000000000001,27.81,1079.23,\"2022-07-29T14:08:00-07:00\",\"Transect 2\"],[1.0,8.18,27.81,1069.68,\"2022-07-29T14:08:04-07:00\",\"Transect 2\"],[1.0,8.48,27.69,1069.68,\"2022-07-29T14:08:08-07:00\",\"Transect 2\"],[1.0,8.2,27.81,1060.18,\"2022-07-29T14:08:08-07:00\",\"Transect 2\"],[1.0,8.23,27.81,1064.92,\"2022-07-29T14:08:08-07:00\",\"Transect 2\"],[1.0,8.23,27.69,1060.18,\"2022-07-29T14:08:14-07:00\",\"Transect 2\"],[1.0,8.149999999999999,27.81,1060.18,\"2022-07-29T14:08:16-07:00\",\"Transect 2\"],[1.0,8.100000000000001,27.81,1074.45,\"2022-07-29T14:08:18-07:00\",\"Transect 2\"],[1.0,8.34,27.81,1066.19,\"2022-07-29T14:08:20-07:00\",\"Transect 2\"],[1.0,8.34,27.81,1069.68,\"2022-07-29T14:08:22-07:00\",\"Transect 2\"],[1.0,8.350000000000001,27.81,1064.92,\"2022-07-29T14:08:24-07:00\",\"Transect 2\"],[1.0,8.32,27.81,1055.45,\"2022-07-29T14:08:26-07:00\",\"Transect 2\"],[1.0,8.350000000000001,27.75,1060.18,\"2022-07-29T14:08:26-07:00\",\"Transect 2\"],[1.0,8.21,27.75,1070.95,\"2022-07-29T14:08:26-07:00\",\"Transect 2\"],[1.0,8.66,27.81,1077.0,\"2022-07-29T14:08:34-07:00\",\"Transect 2\"],[1.0,8.77,27.81,1020.49,\"2022-07-29T14:08:34-07:00\",\"Transect 2\"],[1.0,8.760000000000002,27.81,1060.18,\"2022-07-29T14:08:38-07:00\",\"Transect 2\"],[1.0,8.329999999999998,27.88,1060.18,\"2022-07-29T14:08:38-07:00\",\"Transect 2\"],[1.0,8.670000000000002,27.75,1075.72,\"2022-07-29T14:08:42-07:00\",\"Transect 2\"],[1.0,8.18,27.75,1069.68,\"2022-07-29T14:08:42-07:00\",\"Transect 2\"],[1.0,8.600000000000001,27.75,1070.95,\"2022-07-29T14:08:46-07:00\",\"Transect 2\"],[1.0,8.170000000000002,27.69,1060.18,\"2022-07-29T14:08:46-07:00\",\"Transect 2\"],[1.0,8.66,27.69,1066.19,\"2022-07-29T14:08:50-07:00\",\"Transect 2\"],[1.0,8.239999999999998,27.69,1064.92,\"2022-07-29T14:08:52-07:00\",\"Transect 2\"],[1.0,8.32,27.81,1075.72,\"2022-07-29T14:08:54-07:00\",\"Transect 2\"],[1.0,8.48,27.69,1060.18,\"2022-07-29T14:08:56-07:00\",\"Transect 2\"],[1.0,8.600000000000001,27.69,1064.92,\"2022-07-29T14:08:58-07:00\",\"Transect 2\"],[1.0,8.54,27.81,1064.92,\"2022-07-29T14:09:00-07:00\",\"Transect 2\"],[1.0,8.5,27.81,1069.68,\"2022-07-29T14:09:02-07:00\",\"Transect 2\"],[1.0,8.48,27.81,1069.68,\"2022-07-29T14:09:02-07:00\",\"Transect 2\"],[1.0,8.55,27.81,1074.45,\"2022-07-29T14:09:02-07:00\",\"Transect 2\"],[1.0,8.86,27.81,1011.25,\"2022-07-29T14:09:10-07:00\",\"Transect 2\"],[1.0,8.469999999999999,27.81,1066.19,\"2022-07-29T14:09:14-07:00\",\"Transect 2\"],[1.0,8.379999999999999,27.81,1018.08,\"2022-07-29T14:09:14-07:00\",\"Transect 2\"],[1.0,8.420000000000002,27.75,1069.68,\"2022-07-29T14:09:18-07:00\",\"Transect 2\"],[1.0,8.370000000000001,27.81,1060.18,\"2022-07-29T14:09:18-07:00\",\"Transect 2\"],[1.0,8.420000000000002,27.69,1055.45,\"2022-07-29T14:09:22-07:00\",\"Transect 2\"],[1.0,8.469999999999999,27.81,1060.18,\"2022-07-29T14:09:22-07:00\",\"Transect 2\"],[1.0,8.420000000000002,27.81,1050.74,\"2022-07-29T14:09:26-07:00\",\"Transect 2\"],[1.0,9.0,27.69,1077.0,\"2022-07-29T14:09:28-07:00\",\"Transect 2\"],[1.0,8.579999999999998,27.81,1069.68,\"2022-07-29T14:09:30-07:00\",\"Transect 2\"],[1.0,8.489999999999998,27.81,1064.92,\"2022-07-29T14:09:32-07:00\",\"Transect 2\"],[1.0,8.52,27.69,1060.18,\"2022-07-29T14:09:34-07:00\",\"Transect 2\"],[1.0,8.45,27.75,1055.45,\"2022-07-29T14:09:36-07:00\",\"Transect 2\"],[1.0,8.420000000000002,27.81,1060.18,\"2022-07-29T14:09:38-07:00\",\"Transect 2\"],[1.0,8.64,27.88,1069.68,\"2022-07-29T14:09:38-07:00\",\"Transect 2\"],[1.0,8.54,27.81,1055.45,\"2022-07-29T14:09:38-07:00\",\"Transect 2\"],[1.0,8.82,27.81,1010.05,\"2022-07-29T14:09:46-07:00\",\"Transect 2\"],[1.0,8.5,27.69,1069.68,\"2022-07-29T14:09:50-07:00\",\"Transect 2\"],[1.0,8.629999999999999,27.81,1069.68,\"2022-07-29T14:09:50-07:00\",\"Transect 2\"],[1.0,8.620000000000001,27.69,1055.45,\"2022-07-29T14:09:54-07:00\",\"Transect 2\"],[1.0,8.66,27.81,1055.45,\"2022-07-29T14:09:54-07:00\",\"Transect 2\"],[1.0,8.670000000000002,27.81,1069.68,\"2022-07-29T14:09:58-07:00\",\"Transect 2\"],[1.0,8.71,27.81,1060.18,\"2022-07-29T14:09:58-07:00\",\"Transect 2\"],[1.0,8.59,27.81,1074.45,\"2022-07-29T14:10:02-07:00\",\"Transect 2\"],[1.0,8.57,27.81,1070.95,\"2022-07-29T14:10:04-07:00\",\"Transect 2\"],[1.0,8.3,27.69,1069.68,\"2022-07-29T14:10:06-07:00\",\"Transect 2\"],[1.0,8.46,27.81,1064.92,\"2022-07-29T14:10:08-07:00\",\"Transect 2\"],[1.0,8.61,27.81,1074.45,\"2022-07-29T14:10:14-07:00\",\"Transect 2\"],[1.0,8.690000000000001,27.81,1074.45,\"2022-07-29T14:10:14-07:00\",\"Transect 2\"],[1.0,8.760000000000002,27.88,1064.92,\"2022-07-29T14:10:14-07:00\",\"Transect 2\"],[1.0,8.600000000000001,27.81,1069.68,\"2022-07-29T14:10:22-07:00\",\"Transect 2\"],[1.0,8.55,27.81,1060.18,\"2022-07-29T14:10:22-07:00\",\"Transect 2\"],[1.0,8.64,27.81,1055.45,\"2022-07-29T14:10:26-07:00\",\"Transect 2\"],[1.0,9.02,27.81,1061.44,\"2022-07-29T14:10:26-07:00\",\"Transect 2\"],[1.0,8.41,27.81,1064.92,\"2022-07-29T14:10:30-07:00\",\"Transect 2\"],[1.0,8.43,27.81,1069.68,\"2022-07-29T14:10:30-07:00\",\"Transect 2\"],[1.0,8.530000000000001,27.81,1061.44,\"2022-07-29T14:10:34-07:00\",\"Transect 2\"],[1.0,8.920000000000002,27.81,1060.18,\"2022-07-29T14:10:34-07:00\",\"Transect 2\"],[1.0,8.86,27.81,1053.23,\"2022-07-29T14:10:34-07:00\",\"Transect 2\"],[1.0,8.399999999999999,27.81,1050.74,\"2022-07-29T14:10:40-07:00\",\"Transect 2\"],[1.0,8.68,27.81,1067.45,\"2022-07-29T14:10:42-07:00\",\"Transect 2\"],[1.0,8.649999999999999,27.81,1064.92,\"2022-07-29T14:10:44-07:00\",\"Transect 2\"],[1.0,8.96,27.69,1062.7,\"2022-07-29T14:10:46-07:00\",\"Transect 2\"],[1.0,8.61,27.63,1066.19,\"2022-07-29T14:10:48-07:00\",\"Transect 2\"],[1.0,8.52,27.81,1055.45,\"2022-07-29T14:10:50-07:00\",\"Transect 2\"],[1.0,8.5,27.75,1069.68,\"2022-07-29T14:10:52-07:00\",\"Transect 2\"],[1.0,8.61,27.81,1060.18,\"2022-07-29T14:10:52-07:00\",\"Transect 2\"],[1.0,8.98,27.69,1057.96,\"2022-07-29T14:10:58-07:00\",\"Transect 2\"],[1.0,8.7,27.81,1070.95,\"2022-07-29T14:11:02-07:00\",\"Transect 2\"],[1.0,8.61,27.81,1064.92,\"2022-07-29T14:11:02-07:00\",\"Transect 2\"],[1.0,8.530000000000001,27.81,1060.18,\"2022-07-29T14:11:06-07:00\",\"Transect 2\"],[1.0,9.010000000000002,27.81,1062.7,\"2022-07-29T14:11:06-07:00\",\"Transect 2\"],[1.0,8.629999999999999,27.69,1069.68,\"2022-07-29T14:11:10-07:00\",\"Transect 2\"],[1.0,9.14,27.75,1015.86,\"2022-07-29T14:11:10-07:00\",\"Transect 2\"],[1.0,8.780000000000001,27.75,1064.92,\"2022-07-29T14:11:10-07:00\",\"Transect 2\"],[1.0,8.54,27.81,1064.92,\"2022-07-29T14:11:18-07:00\",\"Transect 2\"],[1.0,8.57,27.75,1069.68,\"2022-07-29T14:11:20-07:00\",\"Transect 2\"],[1.0,8.73,27.75,1064.92,\"2022-07-29T14:11:22-07:00\",\"Transect 2\"],[1.0,8.7,27.81,1055.45,\"2022-07-29T14:11:24-07:00\",\"Transect 2\"],[1.0,8.600000000000001,27.81,1069.68,\"2022-07-29T14:11:26-07:00\",\"Transect 2\"],[1.0,8.829999999999998,27.81,1060.18,\"2022-07-29T14:11:28-07:00\",\"Transect 2\"],[1.0,8.66,27.81,1064.92,\"2022-07-29T14:11:28-07:00\",\"Transect 2\"],[1.0,8.64,27.81,1060.18,\"2022-07-29T14:11:34-07:00\",\"Transect 2\"],[1.0,8.649999999999999,27.81,1074.45,\"2022-07-29T14:11:38-07:00\",\"Transect 2\"],[1.0,8.600000000000001,27.81,1064.92,\"2022-07-29T14:11:38-07:00\",\"Transect 2\"],[1.0,8.670000000000002,27.81,1055.45,\"2022-07-29T14:11:42-07:00\",\"Transect 2\"],[1.0,8.530000000000001,27.81,1064.92,\"2022-07-29T14:11:42-07:00\",\"Transect 2\"],[1.0,8.52,27.81,1064.92,\"2022-07-29T14:11:46-07:00\",\"Transect 2\"],[1.0,8.57,27.88,1058.93,\"2022-07-29T14:11:46-07:00\",\"Transect 2\"],[1.0,8.530000000000001,27.81,1069.68,\"2022-07-29T14:11:52-07:00\",\"Transect 2\"],[1.0,8.579999999999998,27.81,1060.18,\"2022-07-29T14:11:54-07:00\",\"Transect 2\"],[1.0,8.43,27.69,1070.95,\"2022-07-29T14:11:56-07:00\",\"Transect 2\"],[1.0,8.48,27.81,1064.92,\"2022-07-29T14:11:58-07:00\",\"Transect 2\"],[1.0,8.77,27.69,1064.92,\"2022-07-29T14:12:00-07:00\",\"Transect 2\"],[1.0,8.57,27.81,1060.18,\"2022-07-29T14:12:02-07:00\",\"Transect 2\"],[1.0,8.55,27.81,1055.45,\"2022-07-29T14:12:04-07:00\",\"Transect 2\"],[1.0,8.629999999999999,27.81,1056.71,\"2022-07-29T14:12:04-07:00\",\"Transect 2\"],[1.0,8.420000000000002,27.81,1069.68,\"2022-07-29T14:12:10-07:00\",\"Transect 2\"],[1.0,9.02,27.81,1063.96,\"2022-07-29T14:12:10-07:00\",\"Transect 2\"],[1.0,9.010000000000002,27.75,1061.44,\"2022-07-29T14:12:14-07:00\",\"Transect 2\"],[1.0,8.899999999999999,27.81,1070.95,\"2022-07-29T14:12:14-07:00\",\"Transect 2\"],[1.0,8.57,27.81,1055.45,\"2022-07-29T14:12:18-07:00\",\"Transect 2\"],[1.0,9.2,27.81,1057.96,\"2022-07-29T14:12:18-07:00\",\"Transect 2\"],[1.0,9.25,27.69,1070.95,\"2022-07-29T14:12:22-07:00\",\"Transect 2\"],[1.0,8.940000000000001,27.81,1069.68,\"2022-07-29T14:12:22-07:00\",\"Transect 2\"],[1.0,8.870000000000001,27.75,1064.92,\"2022-07-29T14:12:22-07:00\",\"Transect 2\"],[1.0,8.84,27.75,1069.68,\"2022-07-29T14:12:28-07:00\",\"Transect 2\"],[1.0,8.75,27.81,1074.45,\"2022-07-29T14:12:30-07:00\",\"Transect 2\"],[1.0,8.66,27.69,1070.95,\"2022-07-29T14:12:32-07:00\",\"Transect 2\"],[1.0,8.629999999999999,27.81,1074.45,\"2022-07-29T14:12:34-07:00\",\"Transect 2\"],[1.0,8.620000000000001,27.75,1070.95,\"2022-07-29T14:12:36-07:00\",\"Transect 2\"],[1.0,8.57,27.81,1070.95,\"2022-07-29T14:12:38-07:00\",\"Transect 2\"],[1.0,8.530000000000001,27.81,1061.44,\"2022-07-29T14:12:40-07:00\",\"Transect 2\"],[1.0,8.510000000000002,27.81,1056.71,\"2022-07-29T14:12:40-07:00\",\"Transect 2\"],[1.0,8.45,27.81,1075.72,\"2022-07-29T14:12:46-07:00\",\"Transect 2\"],[1.0,8.809999999999999,27.69,1062.7,\"2022-07-29T14:12:50-07:00\",\"Transect 2\"],[1.0,8.3,27.75,1069.68,\"2022-07-29T14:12:50-07:00\",\"Transect 2\"],[1.0,8.29,27.69,1056.71,\"2022-07-29T14:12:54-07:00\",\"Transect 2\"],[1.0,8.719999999999999,27.69,1081.79,\"2022-07-29T14:12:54-07:00\",\"Transect 2\"],[1.0,8.54,27.69,1069.68,\"2022-07-29T14:12:58-07:00\",\"Transect 2\"],[1.0,8.2,27.81,1060.18,\"2022-07-29T14:12:58-07:00\",\"Transect 2\"],[1.0,8.170000000000002,27.81,1050.74,\"2022-07-29T14:12:58-07:00\",\"Transect 2\"],[1.0,8.170000000000002,27.81,1064.92,\"2022-07-29T14:13:04-07:00\",\"Transect 2\"],[1.0,8.14,27.81,1051.98,\"2022-07-29T14:13:06-07:00\",\"Transect 2\"],[1.0,8.16,27.81,1069.68,\"2022-07-29T14:13:08-07:00\",\"Transect 2\"],[1.0,8.600000000000001,27.69,1077.0,\"2022-07-29T14:13:10-07:00\",\"Transect 2\"],[1.0,8.18,27.81,1074.45,\"2022-07-29T14:13:12-07:00\",\"Transect 2\"],[1.0,7.969999999999999,27.75,1066.19,\"2022-07-29T14:13:14-07:00\",\"Transect 2\"],[1.0,8.059999999999999,27.81,1064.92,\"2022-07-29T14:13:16-07:00\",\"Transect 2\"],[1.0,8.11,27.81,1050.74,\"2022-07-29T14:13:16-07:00\",\"Transect 2\"],[1.0,8.11,27.81,1060.18,\"2022-07-29T14:13:22-07:00\",\"Transect 2\"],[1.0,8.129999999999999,27.81,1080.51,\"2022-07-29T14:13:22-07:00\",\"Transect 2\"],[1.0,8.16,27.81,1064.92,\"2022-07-29T14:13:26-07:00\",\"Transect 2\"],[1.0,8.079999999999998,27.81,1060.18,\"2022-07-29T14:13:26-07:00\",\"Transect 2\"],[1.0,8.079999999999998,27.81,1066.19,\"2022-07-29T14:13:30-07:00\",\"Transect 2\"],[1.0,8.030000000000001,27.75,1055.45,\"2022-07-29T14:13:30-07:00\",\"Transect 2\"],[1.0,8.030000000000001,27.75,1064.92,\"2022-07-29T14:13:34-07:00\",\"Transect 2\"],[1.0,8.489999999999998,27.75,1072.22,\"2022-07-29T14:13:34-07:00\",\"Transect 2\"],[1.0,8.670000000000002,27.75,1060.18,\"2022-07-29T14:13:34-07:00\",\"Transect 2\"],[1.0,8.48,27.81,1011.25,\"2022-07-29T14:13:40-07:00\",\"Transect 2\"],[1.0,8.010000000000002,27.69,1069.68,\"2022-07-29T14:13:42-07:00\",\"Transect 2\"],[1.0,8.010000000000002,27.69,1069.68,\"2022-07-29T14:13:44-07:00\",\"Transect 2\"],[1.0,7.93,27.81,1074.45,\"2022-07-29T14:13:46-07:00\",\"Transect 2\"],[1.0,7.899999999999999,27.81,999.68,\"2022-07-29T14:13:48-07:00\",\"Transect 2\"],[1.0,7.870000000000001,27.69,1079.23,\"2022-07-29T14:13:50-07:00\",\"Transect 2\"],[1.0,7.829999999999998,27.81,1074.45,\"2022-07-29T14:13:52-07:00\",\"Transect 2\"],[1.0,8.010000000000002,27.81,1064.92,\"2022-07-29T14:13:52-07:00\",\"Transect 2\"],[1.0,7.789999999999999,27.81,1064.92,\"2022-07-29T14:13:52-07:00\",\"Transect 2\"],[1.0,7.77,27.81,1074.45,\"2022-07-29T14:14:00-07:00\",\"Transect 2\"],[1.0,7.789999999999999,27.81,1060.18,\"2022-07-29T14:14:00-07:00\",\"Transect 2\"],[1.0,7.879999999999999,27.69,1074.45,\"2022-07-29T14:14:04-07:00\",\"Transect 2\"],[1.0,7.859999999999999,27.88,1055.45,\"2022-07-29T14:14:04-07:00\",\"Transect 2\"],[1.0,7.91,27.81,1064.92,\"2022-07-29T14:14:08-07:00\",\"Transect 2\"],[1.0,7.920000000000002,27.81,1060.18,\"2022-07-29T14:14:08-07:00\",\"Transect 2\"],[1.0,8.030000000000001,27.69,1064.92,\"2022-07-29T14:14:12-07:00\",\"Transect 2\"],[1.0,8.02,27.81,1069.68,\"2022-07-29T14:14:12-07:00\",\"Transect 2\"],[1.0,8.23,27.81,1064.92,\"2022-07-29T14:14:16-07:00\",\"Transect 2\"],[1.0,7.899999999999999,27.81,1069.68,\"2022-07-29T14:14:18-07:00\",\"Transect 2\"],[1.0,7.949999999999999,27.81,1069.68,\"2022-07-29T14:14:20-07:00\",\"Transect 2\"],[1.0,7.989999999999998,27.81,1064.92,\"2022-07-29T14:14:22-07:00\",\"Transect 2\"],[1.0,7.989999999999998,27.69,1064.92,\"2022-07-29T14:14:24-07:00\",\"Transect 2\"],[1.0,8.059999999999999,27.81,1060.18,\"2022-07-29T14:14:26-07:00\",\"Transect 2\"],[1.0,8.02,27.81,1064.92,\"2022-07-29T14:14:28-07:00\",\"Transect 2\"],[1.0,8.32,27.69,1075.72,\"2022-07-29T14:14:28-07:00\",\"Transect 2\"],[1.0,7.850000000000001,27.81,1066.19,\"2022-07-29T14:14:28-07:00\",\"Transect 2\"],[1.0,7.84,27.81,1069.68,\"2022-07-29T14:14:36-07:00\",\"Transect 2\"],[1.0,7.829999999999998,27.81,1069.68,\"2022-07-29T14:14:36-07:00\",\"Transect 2\"],[1.0,7.890000000000001,27.81,1060.18,\"2022-07-29T14:14:40-07:00\",\"Transect 2\"],[1.0,7.859999999999999,27.81,1066.19,\"2022-07-29T14:14:40-07:00\",\"Transect 2\"],[1.0,7.98,27.63,1064.92,\"2022-07-29T14:14:44-07:00\",\"Transect 2\"],[1.0,7.829999999999998,27.81,1064.92,\"2022-07-29T14:14:44-07:00\",\"Transect 2\"],[1.0,7.77,27.75,1064.92,\"2022-07-29T14:14:52-07:00\",\"Transect 2\"],[1.0,7.829999999999998,27.81,1074.45,\"2022-07-29T14:14:54-07:00\",\"Transect 2\"],[1.0,7.850000000000001,27.63,1064.92,\"2022-07-29T14:14:56-07:00\",\"Transect 2\"],[1.0,7.780000000000001,27.81,1060.18,\"2022-07-29T14:14:58-07:00\",\"Transect 2\"],[1.0,7.77,27.81,1060.18,\"2022-07-29T14:15:00-07:00\",\"Transect 2\"],[1.0,7.859999999999999,27.69,1060.18,\"2022-07-29T14:15:02-07:00\",\"Transect 2\"],[1.0,7.760000000000002,27.69,1080.51,\"2022-07-29T14:15:04-07:00\",\"Transect 2\"],[1.0,7.91,27.81,1064.92,\"2022-07-29T14:15:04-07:00\",\"Transect 2\"],[1.0,7.73,27.81,1064.92,\"2022-07-29T14:15:04-07:00\",\"Transect 2\"],[1.0,7.879999999999999,27.81,1074.45,\"2022-07-29T14:15:12-07:00\",\"Transect 2\"],[1.0,7.719999999999999,27.75,1060.18,\"2022-07-29T14:15:16-07:00\",\"Transect 2\"],[1.0,7.75,27.81,1055.45,\"2022-07-29T14:15:16-07:00\",\"Transect 2\"],[1.0,7.719999999999999,27.69,1069.68,\"2022-07-29T14:15:20-07:00\",\"Transect 2\"],[1.0,7.73,27.81,1069.68,\"2022-07-29T14:15:20-07:00\",\"Transect 2\"],[1.0,7.690000000000001,27.69,1050.74,\"2022-07-29T14:15:24-07:00\",\"Transect 2\"],[1.0,7.640000000000001,27.69,1064.92,\"2022-07-29T14:15:24-07:00\",\"Transect 2\"],[1.0,8.129999999999999,27.81,1057.96,\"2022-07-29T14:15:28-07:00\",\"Transect 2\"],[1.0,7.690000000000001,27.69,1064.92,\"2022-07-29T14:15:30-07:00\",\"Transect 2\"],[1.0,7.66,27.81,1079.23,\"2022-07-29T14:15:32-07:00\",\"Transect 2\"],[1.0,7.600000000000001,27.81,1069.68,\"2022-07-29T14:15:34-07:00\",\"Transect 2\"],[1.0,7.469999999999999,27.81,1060.18,\"2022-07-29T14:15:36-07:00\",\"Transect 2\"],[1.0,7.399999999999999,27.81,1074.45,\"2022-07-29T14:15:38-07:00\",\"Transect 2\"],[1.0,7.82,27.69,1064.92,\"2022-07-29T14:15:40-07:00\",\"Transect 2\"],[1.0,7.489999999999998,27.81,1074.45,\"2022-07-29T14:15:42-07:00\",\"Transect 2\"],[1.0,7.489999999999998,27.69,1064.92,\"2022-07-29T14:15:42-07:00\",\"Transect 2\"],[1.0,7.670000000000002,27.88,1064.92,\"2022-07-29T14:15:48-07:00\",\"Transect 2\"],[1.0,8.170000000000002,27.69,1067.45,\"2022-07-29T14:15:52-07:00\",\"Transect 2\"],[1.0,7.609999999999999,27.81,1079.23,\"2022-07-29T14:15:52-07:00\",\"Transect 2\"],[1.0,7.609999999999999,27.69,1058.93,\"2022-07-29T14:15:56-07:00\",\"Transect 2\"],[1.0,7.710000000000001,27.81,1066.19,\"2022-07-29T14:15:56-07:00\",\"Transect 2\"],[1.0,8.07,27.81,1069.68,\"2022-07-29T14:16:00-07:00\",\"Transect 2\"],[1.0,7.579999999999998,27.81,1069.68,\"2022-07-29T14:16:00-07:00\",\"Transect 2\"],[1.0,7.989999999999998,27.81,1080.51,\"2022-07-29T14:16:00-07:00\",\"Transect 2\"],[1.0,7.52,27.81,1069.68,\"2022-07-29T14:16:06-07:00\",\"Transect 2\"],[1.0,7.510000000000002,27.81,1064.92,\"2022-07-29T14:16:08-07:00\",\"Transect 2\"],[1.0,8.030000000000001,27.81,1060.18,\"2022-07-29T14:16:10-07:00\",\"Transect 2\"],[1.0,7.780000000000001,27.81,1060.18,\"2022-07-29T14:16:14-07:00\",\"Transect 2\"],[1.0,7.82,27.81,1069.68,\"2022-07-29T14:16:18-07:00\",\"Transect 2\"],[1.0,7.649999999999999,27.81,1069.68,\"2022-07-29T14:16:18-07:00\",\"Transect 2\"],[1.0,7.620000000000001,27.81,1069.68,\"2022-07-29T14:16:24-07:00\",\"Transect 2\"],[1.0,7.649999999999999,27.81,1055.45,\"2022-07-29T14:16:28-07:00\",\"Transect 2\"],[1.0,7.609999999999999,27.81,1060.18,\"2022-07-29T14:16:32-07:00\",\"Transect 2\"],[1.0,7.68,27.81,1060.18,\"2022-07-29T14:16:32-07:00\",\"Transect 2\"],[1.0,7.800000000000001,27.81,1079.23,\"2022-07-29T14:16:36-07:00\",\"Transect 2\"],[1.0,7.629999999999999,27.88,1064.92,\"2022-07-29T14:16:36-07:00\",\"Transect 2\"],[1.0,7.59,27.81,1068.42,\"2022-07-29T14:16:36-07:00\",\"Transect 2\"],[1.0,7.59,27.88,1058.93,\"2022-07-29T14:16:42-07:00\",\"Transect 2\"],[1.0,7.940000000000001,27.81,1079.23,\"2022-07-29T14:16:44-07:00\",\"Transect 2\"],[1.0,8.030000000000001,27.75,1064.92,\"2022-07-29T14:16:46-07:00\",\"Transect 2\"],[1.0,7.59,27.81,1074.45,\"2022-07-29T14:16:48-07:00\",\"Transect 2\"],[1.0,7.609999999999999,27.81,1069.68,\"2022-07-29T14:16:50-07:00\",\"Transect 2\"],[1.0,7.579999999999998,27.88,1074.45,\"2022-07-29T14:16:52-07:00\",\"Transect 2\"],[1.0,7.609999999999999,27.81,1064.92,\"2022-07-29T14:16:54-07:00\",\"Transect 2\"],[1.0,7.739999999999998,27.81,1060.18,\"2022-07-29T14:17:00-07:00\",\"Transect 2\"],[1.0,7.5,27.81,1064.92,\"2022-07-29T14:17:04-07:00\",\"Transect 2\"],[1.0,7.440000000000001,27.81,1069.68,\"2022-07-29T14:17:08-07:00\",\"Transect 2\"],[1.0,8.149999999999999,27.81,1070.95,\"2022-07-29T14:17:08-07:00\",\"Transect 2\"],[1.0,7.579999999999998,27.81,1060.18,\"2022-07-29T14:17:12-07:00\",\"Transect 2\"],[1.0,7.530000000000001,27.81,1055.45,\"2022-07-29T14:17:12-07:00\",\"Transect 2\"],[1.0,7.82,27.88,1079.23,\"2022-07-29T14:17:12-07:00\",\"Transect 2\"],[1.0,7.649999999999999,27.88,1060.18,\"2022-07-29T14:17:18-07:00\",\"Transect 2\"],[1.0,7.640000000000001,27.81,1069.68,\"2022-07-29T14:17:20-07:00\",\"Transect 2\"],[1.0,7.68,27.81,1069.68,\"2022-07-29T14:17:22-07:00\",\"Transect 2\"],[1.0,7.710000000000001,27.81,1068.42,\"2022-07-29T14:17:24-07:00\",\"Transect 2\"],[1.0,7.670000000000002,27.81,1074.45,\"2022-07-29T14:17:26-07:00\",\"Transect 2\"],[1.0,7.609999999999999,27.75,1079.23,\"2022-07-29T14:17:28-07:00\",\"Transect 2\"],[1.0,7.629999999999999,27.81,1074.45,\"2022-07-29T14:17:30-07:00\",\"Transect 2\"],[1.0,7.579999999999998,27.81,1069.68,\"2022-07-29T14:17:30-07:00\",\"Transect 2\"],[1.0,7.530000000000001,27.81,1060.18,\"2022-07-29T14:17:36-07:00\",\"Transect 2\"],[1.0,7.57,27.81,1014.66,\"2022-07-29T14:17:36-07:00\",\"Transect 2\"],[1.0,7.739999999999998,27.81,1007.66,\"2022-07-29T14:17:40-07:00\",\"Transect 2\"],[1.0,8.120000000000001,27.75,1064.92,\"2022-07-29T14:17:44-07:00\",\"Transect 2\"],[1.0,7.649999999999999,27.88,1068.42,\"2022-07-29T14:17:44-07:00\",\"Transect 2\"],[1.0,7.739999999999998,27.88,1060.18,\"2022-07-29T14:17:48-07:00\",\"Transect 2\"],[1.0,7.710000000000001,27.88,1069.68,\"2022-07-29T14:17:48-07:00\",\"Transect 2\"],[1.0,7.670000000000002,27.88,1064.92,\"2022-07-29T14:17:48-07:00\",\"Transect 2\"],[1.0,7.960000000000001,27.88,1060.18,\"2022-07-29T14:17:54-07:00\",\"Transect 2\"],[1.0,7.920000000000002,27.81,1054.21,\"2022-07-29T14:17:56-07:00\",\"Transect 2\"],[1.0,7.789999999999999,27.81,1079.23,\"2022-07-29T14:17:58-07:00\",\"Transect 2\"],[1.0,7.760000000000002,27.88,1069.68,\"2022-07-29T14:18:00-07:00\",\"Transect 2\"],[1.0,7.739999999999998,27.88,1060.18,\"2022-07-29T14:18:04-07:00\",\"Transect 2\"],[1.0,7.489999999999998,27.81,1069.68,\"2022-07-29T14:18:06-07:00\",\"Transect 2\"],[1.0,7.620000000000001,27.81,1064.92,\"2022-07-29T14:18:06-07:00\",\"Transect 2\"],[1.0,8.559999999999999,27.75,1015.86,\"2022-07-29T14:18:12-07:00\",\"Transect 2\"],[1.0,7.670000000000002,27.81,1074.45,\"2022-07-29T14:18:12-07:00\",\"Transect 2\"],[1.0,8.14,27.88,1069.68,\"2022-07-29T14:18:16-07:00\",\"Transect 2\"],[1.0,8.05,27.75,1025.13,\"2022-07-29T14:18:16-07:00\",\"Transect 2\"],[1.0,7.530000000000001,27.75,1079.23,\"2022-07-29T14:18:20-07:00\",\"Transect 2\"],[1.0,8.170000000000002,27.81,1020.49,\"2022-07-29T14:18:20-07:00\",\"Transect 2\"],[1.0,8.129999999999999,27.75,1061.44,\"2022-07-29T14:18:24-07:00\",\"Transect 2\"],[1.0,7.609999999999999,27.81,1069.68,\"2022-07-29T14:18:24-07:00\",\"Transect 2\"],[1.0,7.57,27.81,1075.72,\"2022-07-29T14:18:24-07:00\",\"Transect 2\"],[1.0,7.489999999999998,27.81,1060.18,\"2022-07-29T14:18:30-07:00\",\"Transect 2\"],[1.0,7.489999999999998,27.81,1064.92,\"2022-07-29T14:18:32-07:00\",\"Transect 2\"],[1.0,7.620000000000001,27.81,1064.92,\"2022-07-29T14:18:34-07:00\",\"Transect 2\"],[1.0,7.649999999999999,27.81,1079.23,\"2022-07-29T14:18:36-07:00\",\"Transect 2\"],[1.0,7.48,27.81,1074.45,\"2022-07-29T14:18:38-07:00\",\"Transect 2\"],[1.0,7.82,27.81,1074.45,\"2022-07-29T14:18:40-07:00\",\"Transect 2\"],[1.0,7.73,27.81,1074.45,\"2022-07-29T14:18:42-07:00\",\"Transect 2\"],[1.0,7.579999999999998,27.81,1069.68,\"2022-07-29T14:18:42-07:00\",\"Transect 2\"],[1.0,7.579999999999998,27.81,1064.92,\"2022-07-29T14:18:42-07:00\",\"Transect 2\"],[1.0,7.73,27.81,1055.45,\"2022-07-29T14:18:50-07:00\",\"Transect 2\"],[1.0,7.870000000000001,27.81,1050.74,\"2022-07-29T14:18:54-07:00\",\"Transect 2\"],[1.0,8.059999999999999,27.81,1079.23,\"2022-07-29T14:18:54-07:00\",\"Transect 2\"],[1.0,7.969999999999999,27.88,1079.23,\"2022-07-29T14:18:58-07:00\",\"Transect 2\"],[1.0,7.899999999999999,27.81,1069.68,\"2022-07-29T14:18:58-07:00\",\"Transect 2\"],[1.0,7.780000000000001,27.69,1050.74,\"2022-07-29T14:19:02-07:00\",\"Transect 2\"],[1.0,8.120000000000001,27.81,1074.45,\"2022-07-29T14:19:02-07:00\",\"Transect 2\"],[1.0,7.629999999999999,27.69,1064.92,\"2022-07-29T14:19:06-07:00\",\"Transect 2\"],[1.0,7.600000000000001,27.88,1074.45,\"2022-07-29T14:19:08-07:00\",\"Transect 2\"],[1.0,7.550000000000001,27.81,1063.67,\"2022-07-29T14:19:10-07:00\",\"Transect 2\"],[1.0,7.530000000000001,27.81,1069.68,\"2022-07-29T14:19:12-07:00\",\"Transect 2\"],[1.0,7.550000000000001,27.75,1074.45,\"2022-07-29T14:19:14-07:00\",\"Transect 2\"],[1.0,7.710000000000001,27.81,1064.92,\"2022-07-29T14:19:16-07:00\",\"Transect 2\"],[1.0,7.82,27.81,1079.23,\"2022-07-29T14:19:18-07:00\",\"Transect 2\"],[1.0,7.640000000000001,27.81,1074.45,\"2022-07-29T14:19:18-07:00\",\"Transect 2\"],[1.0,7.879999999999999,27.81,1066.19,\"2022-07-29T14:19:18-07:00\",\"Transect 2\"],[1.0,7.940000000000001,27.81,1060.18,\"2022-07-29T14:19:26-07:00\",\"Transect 2\"],[1.0,7.399999999999999,27.81,1079.23,\"2022-07-29T14:19:30-07:00\",\"Transect 2\"],[1.0,7.699999999999999,27.75,1069.68,\"2022-07-29T14:19:30-07:00\",\"Transect 2\"],[1.0,7.850000000000001,27.81,1079.23,\"2022-07-29T14:19:34-07:00\",\"Transect 2\"],[1.0,7.73,27.88,1074.45,\"2022-07-29T14:19:34-07:00\",\"Transect 2\"],[1.0,7.629999999999999,27.75,1064.92,\"2022-07-29T14:19:38-07:00\",\"Transect 2\"],[1.0,7.57,27.81,1060.18,\"2022-07-29T14:19:38-07:00\",\"Transect 2\"],[1.0,7.859999999999999,27.81,1069.68,\"2022-07-29T14:19:42-07:00\",\"Transect 2\"],[1.0,7.57,27.81,1079.23,\"2022-07-29T14:19:44-07:00\",\"Transect 2\"],[1.0,7.510000000000002,27.81,1064.92,\"2022-07-29T14:19:46-07:00\",\"Transect 2\"],[1.0,7.510000000000002,27.81,1074.45,\"2022-07-29T14:19:48-07:00\",\"Transect 2\"],[1.0,7.260000000000002,27.81,1060.18,\"2022-07-29T14:19:50-07:00\",\"Transect 2\"],[1.0,7.440000000000001,27.81,1074.45,\"2022-07-29T14:19:52-07:00\",\"Transect 2\"],[1.0,7.440000000000001,27.81,1074.45,\"2022-07-29T14:19:54-07:00\",\"Transect 2\"],[1.0,7.48,27.81,1074.45,\"2022-07-29T14:19:54-07:00\",\"Transect 2\"],[1.0,7.48,27.81,1064.92,\"2022-07-29T14:19:54-07:00\",\"Transect 2\"],[1.0,7.440000000000001,27.81,1063.67,\"2022-07-29T14:20:02-07:00\",\"Transect 2\"],[1.0,7.539999999999999,27.81,1069.68,\"2022-07-29T14:20:02-07:00\",\"Transect 2\"],[1.0,7.609999999999999,27.88,1079.23,\"2022-07-29T14:20:06-07:00\",\"Transect 2\"],[1.0,8.079999999999998,27.75,1075.72,\"2022-07-29T14:20:10-07:00\",\"Transect 2\"],[1.0,7.550000000000001,27.75,1055.45,\"2022-07-29T14:20:14-07:00\",\"Transect 2\"],[1.0,7.43,27.81,1073.18,\"2022-07-29T14:20:14-07:00\",\"Transect 2\"],[1.0,7.190000000000001,27.81,1064.92,\"2022-07-29T14:20:18-07:00\",\"Transect 2\"],[1.0,7.890000000000001,27.75,1073.18,\"2022-07-29T14:20:20-07:00\",\"Transect 2\"],[1.0,7.420000000000002,27.81,1074.45,\"2022-07-29T14:20:22-07:00\",\"Transect 2\"],[1.0,7.469999999999999,27.81,1063.67,\"2022-07-29T14:20:24-07:00\",\"Transect 2\"],[1.0,7.469999999999999,27.88,1079.23,\"2022-07-29T14:20:26-07:00\",\"Transect 2\"],[1.0,7.649999999999999,27.81,1058.93,\"2022-07-29T14:20:28-07:00\",\"Transect 2\"],[1.0,8.100000000000001,27.81,1069.68,\"2022-07-29T14:20:30-07:00\",\"Transect 2\"],[1.0,8.14,27.75,1055.45,\"2022-07-29T14:20:30-07:00\",\"Transect 2\"],[1.0,7.719999999999999,27.75,1077.95,\"2022-07-29T14:20:30-07:00\",\"Transect 2\"],[1.0,7.850000000000001,27.75,1064.92,\"2022-07-29T14:20:38-07:00\",\"Transect 2\"],[1.0,8.18,27.81,1020.49,\"2022-07-29T14:20:38-07:00\",\"Transect 2\"],[1.0,7.890000000000001,27.75,1055.45,\"2022-07-29T14:20:42-07:00\",\"Transect 2\"],[1.0,7.73,27.81,1074.45,\"2022-07-29T14:20:42-07:00\",\"Transect 2\"],[1.0,7.960000000000001,27.81,1063.67,\"2022-07-29T14:20:46-07:00\",\"Transect 2\"],[1.0,7.969999999999999,27.88,1068.42,\"2022-07-29T14:20:46-07:00\",\"Transect 2\"],[1.0,7.960000000000001,27.88,1074.45,\"2022-07-29T14:20:50-07:00\",\"Transect 2\"],[1.0,7.879999999999999,27.81,1073.18,\"2022-07-29T14:20:50-07:00\",\"Transect 2\"],[1.0,8.309999999999999,27.75,1064.92,\"2022-07-29T14:20:54-07:00\",\"Transect 2\"],[1.0,7.77,27.88,1074.45,\"2022-07-29T14:20:56-07:00\",\"Transect 2\"],[1.0,7.859999999999999,27.81,1050.74,\"2022-07-29T14:20:58-07:00\",\"Transect 2\"],[1.0,7.789999999999999,27.88,1074.45,\"2022-07-29T14:21:00-07:00\",\"Transect 2\"],[1.0,7.84,27.81,1069.68,\"2022-07-29T14:21:02-07:00\",\"Transect 2\"],[1.0,7.629999999999999,27.69,1069.68,\"2022-07-29T14:21:04-07:00\",\"Transect 2\"],[1.0,7.940000000000001,27.88,1064.92,\"2022-07-29T14:21:06-07:00\",\"Transect 2\"],[1.0,7.920000000000002,27.75,1069.68,\"2022-07-29T14:21:08-07:00\",\"Transect 2\"],[1.0,7.870000000000001,27.88,1074.45,\"2022-07-29T14:21:08-07:00\",\"Transect 2\"],[1.0,7.809999999999999,27.88,1064.92,\"2022-07-29T14:21:14-07:00\",\"Transect 2\"],[1.0,7.879999999999999,27.75,1055.45,\"2022-07-29T14:21:18-07:00\",\"Transect 2\"],[1.0,7.699999999999999,27.88,1079.23,\"2022-07-29T14:21:18-07:00\",\"Transect 2\"],[1.0,7.84,27.81,1069.68,\"2022-07-29T14:21:22-07:00\",\"Transect 2\"],[1.0,8.719999999999999,27.81,1058.93,\"2022-07-29T14:32:30-07:00\",\"Transect 2\"],[1.0,8.489999999999998,27.94,1043.57,\"2022-07-29T14:32:32-07:00\",\"Transect 2\"],[1.0,8.719999999999999,27.94,1058.93,\"2022-07-29T14:32:34-07:00\",\"Transect 2\"],[1.0,8.899999999999999,27.88,1044.8,\"2022-07-29T14:32:36-07:00\",\"Transect 2\"],[1.0,8.559999999999999,27.88,1058.93,\"2022-07-29T14:32:36-07:00\",\"Transect 2\"],[1.0,8.55,27.88,1044.8,\"2022-07-29T14:32:36-07:00\",\"Transect 2\"],[1.0,8.48,27.88,1044.8,\"2022-07-29T14:32:44-07:00\",\"Transect 2\"],[1.0,8.719999999999999,27.88,993.93,\"2022-07-29T14:32:44-07:00\",\"Transect 2\"],[1.0,8.43,27.88,1058.93,\"2022-07-29T14:32:48-07:00\",\"Transect 2\"],[1.0,8.98,27.81,1047.27,\"2022-07-29T14:32:48-07:00\",\"Transect 2\"],[1.0,8.379999999999999,27.88,1049.5,\"2022-07-29T14:32:52-07:00\",\"Transect 2\"],[1.0,8.66,27.88,1060.18,\"2022-07-29T14:32:52-07:00\",\"Transect 2\"],[1.0,8.64,27.88,1063.67,\"2022-07-29T14:32:56-07:00\",\"Transect 2\"],[1.0,8.530000000000001,27.75,1052.96,\"2022-07-29T14:32:56-07:00\",\"Transect 2\"],[1.0,8.46,27.88,1044.8,\"2022-07-29T14:33:00-07:00\",\"Transect 2\"],[1.0,8.36,27.88,1049.5,\"2022-07-29T14:33:02-07:00\",\"Transect 2\"],[1.0,8.54,27.88,1049.5,\"2022-07-29T14:33:04-07:00\",\"Transect 2\"],[1.0,8.02,27.81,1049.5,\"2022-07-29T14:33:06-07:00\",\"Transect 2\"],[1.0,8.559999999999999,27.88,1058.93,\"2022-07-29T14:33:08-07:00\",\"Transect 2\"],[1.0,8.23,27.88,1058.93,\"2022-07-29T14:33:10-07:00\",\"Transect 2\"],[1.0,8.54,27.94,1049.5,\"2022-07-29T14:33:12-07:00\",\"Transect 2\"],[1.0,8.09,27.88,1058.93,\"2022-07-29T14:33:12-07:00\",\"Transect 2\"],[1.0,8.329999999999998,27.88,1048.26,\"2022-07-29T14:33:20-07:00\",\"Transect 2\"],[1.0,8.309999999999999,27.88,1063.67,\"2022-07-29T14:33:24-07:00\",\"Transect 2\"],[1.0,8.48,27.88,1049.5,\"2022-07-29T14:33:24-07:00\",\"Transect 2\"],[1.0,8.719999999999999,27.94,1049.5,\"2022-07-29T14:33:28-07:00\",\"Transect 2\"],[1.0,8.969999999999999,27.88,1064.92,\"2022-07-29T14:33:28-07:00\",\"Transect 2\"],[1.0,8.8,27.88,1058.93,\"2022-07-29T14:33:32-07:00\",\"Transect 2\"],[1.0,8.59,27.75,1058.93,\"2022-07-29T14:33:32-07:00\",\"Transect 2\"],[1.0,8.41,27.75,1063.67,\"2022-07-29T14:33:36-07:00\",\"Transect 2\"],[1.0,8.739999999999998,27.81,1043.57,\"2022-07-29T14:33:38-07:00\",\"Transect 2\"],[1.0,8.649999999999999,27.81,1049.5,\"2022-07-29T14:33:40-07:00\",\"Transect 2\"],[1.0,8.739999999999998,27.94,1049.5,\"2022-07-29T14:33:42-07:00\",\"Transect 2\"],[1.0,8.760000000000002,27.94,1038.89,\"2022-07-29T14:33:44-07:00\",\"Transect 2\"],[1.0,8.780000000000001,27.88,1058.93,\"2022-07-29T14:33:46-07:00\",\"Transect 2\"],[1.0,8.96,27.88,1048.26,\"2022-07-29T14:33:48-07:00\",\"Transect 2\"],[1.0,8.82,27.81,1052.96,\"2022-07-29T14:33:50-07:00\",\"Transect 2\"],[1.0,8.66,27.94,1052.96,\"2022-07-29T14:33:50-07:00\",\"Transect 2\"],[1.0,8.82,27.81,995.11,\"2022-07-29T14:33:56-07:00\",\"Transect 2\"],[1.0,8.829999999999998,27.94,998.49,\"2022-07-29T14:34:00-07:00\",\"Transect 2\"],[1.0,9.170000000000002,27.88,1058.93,\"2022-07-29T14:34:04-07:00\",\"Transect 2\"],[1.0,8.8,27.88,1049.5,\"2022-07-29T14:34:08-07:00\",\"Transect 2\"],[1.0,9.18,27.94,1064.92,\"2022-07-29T14:34:08-07:00\",\"Transect 2\"],[1.0,9.030000000000001,27.88,1049.5,\"2022-07-29T14:34:12-07:00\",\"Transect 2\"],[1.0,9.04,27.88,1044.8,\"2022-07-29T14:34:14-07:00\",\"Transect 2\"],[1.0,9.25,27.88,1064.92,\"2022-07-29T14:34:16-07:00\",\"Transect 2\"],[1.0,8.829999999999998,27.75,1063.67,\"2022-07-29T14:34:18-07:00\",\"Transect 2\"],[1.0,8.8,27.75,1044.8,\"2022-07-29T14:34:20-07:00\",\"Transect 2\"],[1.0,8.79,27.81,1044.8,\"2022-07-29T14:34:22-07:00\",\"Transect 2\"],[1.0,8.760000000000002,27.81,1049.5,\"2022-07-29T14:34:24-07:00\",\"Transect 2\"],[1.0,8.86,27.81,1035.44,\"2022-07-29T14:34:26-07:00\",\"Transect 2\"],[1.0,8.91,27.88,1064.92,\"2022-07-29T14:34:26-07:00\",\"Transect 2\"],[1.0,9.129999999999999,27.81,993.93,\"2022-07-29T14:34:32-07:00\",\"Transect 2\"],[1.0,8.84,27.81,1049.5,\"2022-07-29T14:34:36-07:00\",\"Transect 2\"],[1.0,8.91,27.88,1058.93,\"2022-07-29T14:34:36-07:00\",\"Transect 2\"],[1.0,9.079999999999998,27.81,1060.18,\"2022-07-29T14:34:40-07:00\",\"Transect 2\"],[1.0,9.120000000000001,27.81,1044.8,\"2022-07-29T14:34:44-07:00\",\"Transect 2\"],[1.0,9.260000000000002,27.81,1061.44,\"2022-07-29T14:34:44-07:00\",\"Transect 2\"],[1.0,9.07,27.88,1049.5,\"2022-07-29T14:34:44-07:00\",\"Transect 2\"],[1.0,8.879999999999999,27.81,1054.21,\"2022-07-29T14:34:50-07:00\",\"Transect 2\"],[1.0,9.07,27.75,1058.93,\"2022-07-29T14:34:56-07:00\",\"Transect 2\"],[1.0,8.86,27.75,1063.67,\"2022-07-29T14:34:58-07:00\",\"Transect 2\"],[1.0,9.030000000000001,27.75,1050.74,\"2022-07-29T14:35:00-07:00\",\"Transect 2\"]],\"hovertemplate\":\"transect category=%{customdata[5]}<br>lat=%{lat}<br>lon=%{lon}<br>boat_id=%{customdata[0]}<br>level=%{customdata[1]}<br>degree=%{customdata[2]}<br>ppm=%{customdata[3]}<br>timestamp=%{customdata[4]}<extra></extra>\",\"lat\":[32.914,32.914001,32.914003,32.914005,32.914005,32.914005,32.914009,32.914009,32.914014,32.914014,32.914015,32.914015,32.91402,32.91402,32.914046,32.914057,32.914065,32.91407,32.914071,32.914073,32.914072,32.914072,32.914072,32.914074,32.914074,32.914072,32.914072,32.914063,32.914063,32.914053,32.914053,32.91405,32.914049,32.914048,32.914048,32.914045,32.914044,32.914039,32.914038,32.914038,32.914054,32.914054,32.914056,32.914056,32.91406,32.91406,32.914067,32.914067,32.914067,32.914059,32.914058,32.914057,32.914056,32.914059,32.914058,32.914058,32.914058,32.914057,32.914049,32.914049,32.914055,32.914055,32.914055,32.914055,32.914055,32.91406,32.914058,32.914056,32.914056,32.914056,32.914055,32.914054,32.914054,32.91406,32.91406,32.91406,32.914069,32.914069,32.914066,32.914066,32.914066,32.91407,32.914068,32.91407,32.914076,32.914077,32.914075,32.914074,32.914074,32.914073,32.914074,32.914074,32.914071,32.914071,32.914072,32.914072,32.914072,32.914075,32.914074,32.914073,32.914079,32.914077,32.914078,32.914076,32.914076,32.914076,32.914071,32.914071,32.914074,32.914074,32.914082,32.914082,32.914079,32.914079,32.914072,32.914072,32.914071,32.914073,32.914073,32.914074,32.914074,32.914074,32.914074,32.914073,32.914073,32.914081,32.914081,32.91408,32.91408,32.914076,32.914076,32.914075,32.914075,32.914075,32.914076,32.914075,32.914076,32.914079,32.914079,32.914079,32.914079,32.914079,32.914079,32.914072,32.914074,32.914078,32.914079,32.914079,32.914079,32.91408,32.914084,32.914085,32.914085,32.914085,32.914086,32.914086,32.914069,32.914069,32.914078,32.914078,32.914078,32.914078,32.914076,32.914079,32.914078,32.914083,32.91408,32.91408,32.914083,32.914084,32.914084,32.914085,32.914085,32.914082,32.914082,32.914078,32.914078,32.914076,32.914076,32.914076,32.914082,32.914083,32.914085,32.914085,32.914088,32.914095,32.914098,32.914098,32.914093,32.914093,32.914088,32.914088,32.914087,32.914087,32.914094,32.914094,32.914094,32.914095,32.914097,32.914102,32.914102,32.914096,32.914096,32.914094,32.914094,32.914112,32.914112,32.914114,32.914114,32.914114,32.914114,32.91411,32.91411,32.91411,32.914108,32.914101,32.914098,32.914088,32.914081,32.914075,32.914082,32.914085,32.914085,32.914082,32.914082,32.914094,32.914094,32.914096,32.914096,32.914096,32.91409,32.914089,32.914087,32.914083,32.914083,32.914084,32.914083,32.914083,32.914083,32.914081,32.914087,32.914087,32.914091,32.914091,32.914099,32.914099,32.914097,32.914096,32.914094,32.914094,32.914096,32.914092,32.914091,32.914088,32.914097,32.914097,32.91409,32.91409,32.914085,32.914085,32.914087,32.914087,32.914086,32.914084,32.914087,32.914086,32.914085,32.914087,32.914081,32.914081,32.914081,32.914077,32.914077,32.914084,32.914084,32.914095,32.914095,32.9141,32.9141,32.9141,32.9141,32.9141,32.914096,32.914092,32.914088,32.914088,32.914088,32.914088,32.914089,32.914089,32.914086,32.914086,32.914084,32.914084,32.914082,32.914082,32.914076,32.914075,32.91407,32.914069,32.91407,32.914072,32.914075,32.914074,32.914074,32.914075,32.914076,32.914076,32.91408,32.91408,32.914082,32.914082,32.914082,32.914082,32.914083,32.914083,32.914083,32.914082,32.914083,32.914085,32.914085,32.914088,32.914091,32.914091,32.914091,32.914091,32.914094,32.914094,32.914094,32.914094,32.914094,32.914094,32.914093,32.914091,32.91409,32.914092,32.914092,32.914096,32.914098,32.914098,32.914102,32.914102,32.914105,32.914105,32.914105,32.914106,32.914107,32.914105,32.914102,32.9141,32.914098,32.914098,32.914112,32.914112,32.914134,32.914134,32.914143,32.914141,32.914141,32.914141,32.914165,32.914177,32.914188,32.914198,32.914208,32.914218,32.914228,32.914228,32.91426,32.91426,32.914281,32.914281,32.914302,32.914302,32.914326,32.914326,32.914326,32.914362,32.914374,32.914386,32.914397,32.914409,32.91442,32.914432,32.914432,32.914432,32.914476,32.914476,32.914497,32.914497,32.914516,32.914516,32.914535,32.914535,32.914555,32.914565,32.914576,32.914586,32.914596,32.914606,32.914616,32.914616,32.914616,32.914656,32.914678,32.914678,32.914699,32.914699,32.91472,32.91472,32.914741,32.914749,32.914758,32.914767,32.914776,32.914785,32.914793,32.914802,32.914802,32.914831,32.914831,32.914854,32.914854,32.914877,32.914877,32.914905,32.914905,32.914931,32.914943,32.914956,32.914968,32.91498,32.914991,32.915001,32.915012,32.915012,32.915046,32.915046,32.915069,32.915069,32.915092,32.915092,32.915114,32.915114,32.915114,32.915143,32.915151,32.91516,32.915169,32.915179,32.915187,32.915197,32.915197,32.915224,32.915243,32.915243,32.915261,32.915261,32.91528,32.91528,32.91528,32.915309,32.91532,32.915331,32.915343,32.915355,32.915366,32.915377,32.915377,32.915412,32.915412,32.915433,32.915433,32.915455,32.915455,32.915476,32.915476,32.915476,32.915489,32.915485,32.915485,32.915485,32.915484,32.915486,32.915487,32.915491,32.915491,32.915495,32.915495,32.915498,32.915498,32.915504,32.915504,32.915509,32.915512,32.915513,32.915514,32.915514,32.915515,32.915517,32.915517,32.915548,32.915548,32.915568,32.915568,32.91559,32.915609,32.915609,32.915609,32.915644,32.915655,32.915666,32.915676,32.915687,32.915697,32.915707,32.915707,32.915707,32.915743,32.915743,32.915757,32.915757,32.915749,32.915749,32.915724,32.915724,32.915701,32.915689,32.915686,32.915685,32.915679,32.915666,32.915655,32.915655,32.915655,32.915616,32.915596,32.915596,32.915576,32.915576,32.915554,32.915554,32.915532,32.915525,32.915517,32.915509,32.9155,32.91549,32.915479,32.915479,32.915479,32.915442,32.915432,32.915432,32.915435,32.915435,32.915422,32.915422,32.9154,32.915388,32.91538,32.915369,32.915343,32.915343,32.915343,32.915342,32.915342,32.915336,32.915336,32.915316,32.915316,32.915298,32.915298,32.915298,32.91527,32.915261,32.915256,32.915249,32.915241,32.915238,32.915236,32.915236,32.915216,32.915195,32.915195,32.915177,32.915177,32.91516,32.91516,32.91516,32.915123,32.915114,32.915104,32.915094,32.915085,32.915077,32.915077,32.915047,32.915032,32.915032,32.91502,32.91502,32.915026,32.915026,32.915013,32.915004,32.914996,32.914987,32.914981,32.914977,32.914971,32.914971,32.914946,32.914946,32.914926,32.914926,32.914912,32.914912,32.914894,32.914894,32.914894,32.914884,32.914885,32.914886,32.914888,32.914887,32.914889,32.914889,32.914889,32.914887,32.914891,32.914891,32.914898,32.914898,32.914902,32.914902,32.914902,32.91491,32.914912,32.914913,32.914916,32.914918,32.914921,32.914923,32.914923,32.914931,32.914931,32.914937,32.914937,32.914943,32.914943,32.914946,32.914946,32.914946,32.91495,32.914952,32.914952,32.914951,32.914951,32.914951,32.914952,32.914952,32.914952,32.914959,32.914959,32.914962,32.914962,32.914967,32.914967,32.914968,32.914968,32.914973,32.914975,32.914977,32.914977,32.914977,32.914978,32.91498,32.91498,32.91498,32.914983,32.914983,32.914989,32.914989,32.914987,32.914987,32.914986,32.914988,32.91499,32.914992,32.914994,32.914997,32.915,32.915,32.915,32.915008,32.915009,32.915009,32.915011,32.915011,32.915017,32.915017,32.915022,32.915024,32.915024,32.915023,32.915023,32.915024,32.915026,32.915027,32.915027,32.915042,32.915051,32.915051,32.91505,32.91505,32.915054,32.915054,32.915054,32.915061,32.915063,32.915062,32.915054,32.915053,32.915053,32.915061,32.915066,32.91507,32.91507,32.915071,32.915071,32.915071,32.915073,32.915075,32.915076,32.915078,32.915079,32.91508,32.915081,32.915081,32.915082,32.915083,32.915083,32.915085,32.915085,32.915085,32.91509,32.915091,32.915093,32.915094,32.915095,32.915095,32.915097,32.915097,32.9151,32.9151,32.915103,32.915107,32.915107,32.915109,32.915109,32.915109,32.915111,32.915112,32.915113,32.915114,32.915118,32.915121,32.915121,32.915126,32.915126,32.915128,32.915128,32.915129,32.915129,32.91513,32.91513,32.91513,32.91513,32.91513,32.915131,32.915132,32.915132,32.915132,32.915133,32.915133,32.915133,32.915132,32.915131,32.915131,32.915132,32.915132,32.915134,32.915134,32.915136,32.915137,32.915138,32.915138,32.915138,32.915138,32.915138,32.915138,32.915138,32.915139,32.915138,32.915138,32.915137,32.915137,32.915136,32.915136,32.915136,32.915136,32.915136,32.915135,32.915135,32.915135,32.915135,32.915135,32.915135,32.915139,32.915139,32.91514,32.915141,32.915142,32.915142,32.915144,32.915144,32.915144,32.915144,32.915145,32.915145,32.915146,32.915146,32.915146,32.915145,32.915145,32.915145,32.915145,32.915149,32.915149,32.915151,32.915151,32.915153,32.915157,32.915157,32.915157,32.915158,32.915162,32.915164,32.915168,32.915168,32.915177,32.91518,32.91518,32.915191,32.914232,32.914239,32.914245,32.914251,32.914251,32.914251,32.914271,32.914271,32.914274,32.914274,32.914275,32.914275,32.914274,32.914274,32.91427,32.914269,32.914266,32.914263,32.914258,32.914254,32.914253,32.914253,32.914234,32.914219,32.914219,32.914206,32.914206,32.91419,32.91419,32.914176,32.91417,32.914166,32.914161,32.914156,32.914152,32.91415,32.914148,32.914148,32.914146,32.914153,32.914168,32.914186,32.914186,32.914204,32.914215,32.914226,32.914238,32.914248,32.914259,32.91427,32.914281,32.914281,32.914314,32.914337,32.914337,32.914358,32.91438,32.91438,32.91438,32.91441,32.914441,32.914452,32.914462],\"legendgroup\":\"Transect 2\",\"lon\":[-117.100019,-117.100019,-117.10002,-117.100019,-117.100019,-117.100019,-117.100015,-117.100015,-117.100011,-117.100011,-117.100011,-117.100011,-117.100012,-117.100012,-117.10003,-117.100036,-117.10004,-117.100041,-117.100044,-117.10004,-117.100038,-117.100038,-117.100038,-117.100028,-117.100028,-117.100023,-117.100023,-117.100022,-117.100022,-117.100025,-117.100025,-117.100022,-117.100023,-117.100021,-117.100018,-117.100017,-117.100014,-117.100013,-117.100011,-117.100011,-117.100037,-117.100037,-117.100042,-117.100042,-117.100049,-117.100049,-117.100048,-117.100048,-117.100048,-117.100042,-117.100039,-117.100037,-117.100037,-117.100043,-117.100044,-117.100041,-117.100041,-117.100042,-117.100037,-117.100037,-117.10004,-117.10004,-117.100034,-117.100034,-117.100034,-117.100034,-117.100033,-117.100032,-117.100028,-117.100028,-117.100026,-117.100026,-117.100026,-117.100041,-117.100041,-117.100041,-117.100047,-117.100047,-117.10005,-117.10005,-117.10005,-117.100055,-117.100053,-117.100056,-117.100061,-117.100063,-117.10006,-117.100058,-117.100058,-117.100056,-117.100059,-117.100059,-117.100054,-117.100054,-117.100055,-117.100055,-117.100055,-117.100054,-117.100055,-117.100055,-117.100051,-117.100054,-117.100054,-117.100051,-117.100051,-117.100051,-117.100045,-117.100045,-117.100044,-117.100044,-117.100036,-117.100036,-117.100035,-117.100035,-117.100038,-117.100037,-117.100034,-117.100034,-117.100026,-117.100025,-117.100026,-117.100026,-117.100026,-117.10001,-117.10001,-117.10001,-117.10001,-117.100014,-117.100014,-117.100018,-117.100018,-117.10002,-117.10002,-117.100019,-117.10002,-117.100018,-117.100019,-117.100021,-117.100021,-117.100021,-117.100018,-117.10002,-117.10002,-117.10002,-117.100024,-117.100024,-117.100021,-117.10002,-117.100018,-117.100018,-117.10002,-117.100024,-117.100022,-117.100022,-117.100008,-117.100008,-117.100016,-117.100016,-117.100014,-117.100014,-117.100014,-117.100014,-117.100024,-117.100024,-117.100024,-117.100026,-117.100028,-117.100029,-117.100028,-117.100028,-117.100028,-117.10003,-117.10003,-117.100034,-117.100034,-117.10004,-117.10004,-117.100038,-117.100038,-117.100038,-117.100037,-117.100037,-117.100036,-117.100036,-117.100033,-117.100029,-117.100028,-117.100028,-117.100029,-117.100029,-117.100033,-117.100033,-117.100036,-117.100036,-117.10003,-117.10003,-117.10003,-117.100028,-117.100028,-117.100031,-117.100028,-117.100036,-117.100031,-117.100027,-117.100027,-117.100026,-117.100026,-117.100023,-117.100023,-117.100029,-117.100029,-117.100031,-117.100031,-117.100031,-117.100032,-117.100034,-117.100044,-117.100041,-117.10004,-117.100041,-117.100044,-117.100038,-117.100038,-117.100039,-117.100039,-117.100044,-117.100044,-117.100047,-117.100047,-117.100047,-117.100043,-117.100041,-117.10004,-117.100037,-117.100037,-117.100037,-117.100038,-117.100038,-117.100038,-117.100044,-117.10005,-117.10005,-117.10005,-117.10005,-117.100052,-117.100052,-117.100048,-117.100048,-117.100049,-117.100048,-117.100051,-117.100047,-117.100044,-117.100038,-117.100052,-117.100052,-117.100056,-117.100056,-117.100053,-117.100053,-117.100049,-117.100049,-117.100041,-117.10004,-117.100035,-117.100033,-117.100034,-117.100034,-117.100029,-117.100029,-117.100029,-117.100027,-117.100027,-117.100022,-117.100022,-117.100021,-117.100021,-117.100024,-117.100024,-117.10002,-117.100019,-117.10002,-117.100022,-117.100022,-117.100018,-117.100016,-117.100016,-117.100016,-117.100013,-117.100013,-117.100014,-117.100014,-117.100013,-117.100013,-117.100014,-117.100014,-117.100013,-117.100012,-117.10001,-117.10001,-117.100011,-117.100012,-117.100012,-117.100012,-117.100012,-117.100013,-117.100013,-117.100013,-117.100013,-117.100013,-117.100012,-117.100012,-117.10001,-117.10001,-117.100012,-117.100014,-117.100015,-117.100012,-117.100012,-117.100014,-117.100014,-117.100016,-117.100015,-117.100015,-117.100013,-117.100013,-117.100022,-117.100022,-117.100022,-117.100032,-117.100032,-117.100028,-117.100029,-117.100029,-117.100029,-117.100032,-117.100032,-117.100029,-117.10003,-117.10003,-117.100029,-117.100029,-117.100034,-117.100034,-117.100034,-117.100029,-117.100035,-117.100033,-117.100026,-117.100027,-117.100028,-117.100028,-117.100036,-117.100036,-117.100035,-117.100035,-117.10003,-117.100034,-117.100034,-117.100034,-117.100039,-117.100041,-117.100044,-117.100048,-117.100054,-117.100059,-117.100065,-117.100065,-117.100077,-117.100077,-117.100085,-117.100085,-117.10009,-117.10009,-117.100091,-117.100091,-117.100091,-117.100087,-117.100084,-117.100082,-117.100082,-117.10008,-117.10008,-117.100079,-117.100079,-117.100079,-117.10008,-117.10008,-117.100083,-117.100083,-117.100088,-117.100088,-117.100098,-117.100098,-117.100105,-117.100109,-117.100112,-117.100115,-117.100119,-117.100121,-117.100123,-117.100123,-117.100123,-117.100134,-117.100138,-117.100138,-117.100143,-117.100143,-117.100148,-117.100148,-117.100155,-117.100159,-117.100164,-117.100169,-117.100176,-117.10018,-117.100184,-117.100187,-117.100187,-117.100194,-117.100194,-117.100197,-117.100197,-117.100197,-117.100197,-117.100188,-117.100188,-117.100179,-117.100174,-117.100168,-117.100163,-117.100159,-117.100154,-117.100151,-117.100146,-117.100146,-117.100137,-117.100137,-117.100133,-117.100133,-117.100129,-117.100129,-117.10013,-117.10013,-117.10013,-117.100135,-117.100138,-117.100141,-117.100145,-117.10015,-117.100154,-117.100158,-117.100158,-117.100169,-117.100176,-117.100176,-117.100184,-117.100184,-117.100189,-117.100189,-117.100189,-117.1002,-117.100203,-117.100205,-117.100206,-117.100207,-117.100208,-117.100209,-117.100209,-117.100213,-117.100213,-117.100218,-117.100218,-117.100221,-117.100221,-117.100223,-117.100223,-117.100223,-117.100214,-117.100211,-117.100209,-117.100209,-117.100206,-117.100203,-117.100199,-117.100192,-117.100192,-117.100183,-117.100183,-117.100176,-117.100176,-117.100169,-117.100169,-117.100162,-117.10016,-117.100157,-117.100154,-117.100151,-117.100148,-117.100144,-117.100144,-117.100151,-117.100151,-117.100155,-117.100155,-117.100157,-117.100164,-117.100164,-117.100164,-117.100169,-117.100172,-117.100172,-117.100174,-117.100176,-117.100179,-117.100181,-117.100181,-117.100181,-117.10019,-117.10019,-117.100197,-117.100197,-117.100218,-117.100218,-117.100215,-117.100215,-117.100207,-117.1002,-117.100186,-117.100171,-117.100161,-117.100158,-117.100157,-117.100157,-117.100157,-117.100172,-117.10017,-117.10017,-117.100167,-117.100167,-117.100166,-117.100166,-117.100173,-117.100172,-117.100173,-117.100165,-117.100161,-117.100159,-117.100161,-117.100161,-117.100161,-117.100167,-117.100149,-117.100149,-117.100121,-117.100121,-117.10011,-117.10011,-117.100111,-117.100114,-117.100115,-117.100117,-117.100114,-117.100114,-117.100114,-117.100139,-117.100139,-117.100152,-117.100152,-117.100146,-117.100146,-117.100135,-117.100135,-117.100135,-117.100119,-117.100118,-117.100115,-117.10011,-117.1001,-117.100086,-117.10007,-117.10007,-117.100052,-117.100054,-117.100054,-117.100045,-117.100045,-117.100034,-117.100034,-117.100034,-117.100004,-117.099999,-117.099995,-117.099993,-117.099992,-117.099991,-117.099991,-117.09999,-117.099992,-117.099992,-117.1,-117.1,-117.100021,-117.100021,-117.100041,-117.100038,-117.100037,-117.100029,-117.100017,-117.100004,-117.099997,-117.099997,-117.099984,-117.099984,-117.099979,-117.099979,-117.099965,-117.099965,-117.099957,-117.099957,-117.099957,-117.099957,-117.099955,-117.099952,-117.099946,-117.099939,-117.099932,-117.099924,-117.099924,-117.099908,-117.0999,-117.0999,-117.099892,-117.099892,-117.099884,-117.099884,-117.099884,-117.099873,-117.09987,-117.099866,-117.099862,-117.099858,-117.099854,-117.09985,-117.09985,-117.099839,-117.099839,-117.099831,-117.099831,-117.099824,-117.099824,-117.099816,-117.099816,-117.099816,-117.099806,-117.099803,-117.0998,-117.099799,-117.099796,-117.099792,-117.099788,-117.099788,-117.099788,-117.099777,-117.099777,-117.099768,-117.099768,-117.099761,-117.099761,-117.099751,-117.099751,-117.09974,-117.099737,-117.099733,-117.09973,-117.099728,-117.099726,-117.099721,-117.099721,-117.099721,-117.099705,-117.099705,-117.099704,-117.099704,-117.099694,-117.099694,-117.099676,-117.099673,-117.099669,-117.099666,-117.099663,-117.09966,-117.099656,-117.099656,-117.099656,-117.099648,-117.099642,-117.099642,-117.099636,-117.099636,-117.09963,-117.09963,-117.099624,-117.099623,-117.099621,-117.09962,-117.099619,-117.099618,-117.099617,-117.099611,-117.099611,-117.099591,-117.099578,-117.099578,-117.099573,-117.099573,-117.099566,-117.099566,-117.099566,-117.09956,-117.099559,-117.099557,-117.099551,-117.09954,-117.09954,-117.099536,-117.099534,-117.099529,-117.099529,-117.099521,-117.099521,-117.099521,-117.099515,-117.099513,-117.09951,-117.099507,-117.099504,-117.099501,-117.099497,-117.099481,-117.099474,-117.099467,-117.099467,-117.099461,-117.099461,-117.099461,-117.09945,-117.099446,-117.099443,-117.099439,-117.099436,-117.099434,-117.099431,-117.099431,-117.09942,-117.09942,-117.099413,-117.099406,-117.099406,-117.099397,-117.099397,-117.099397,-117.099383,-117.099379,-117.099374,-117.099371,-117.099365,-117.099363,-117.099363,-117.099349,-117.099349,-117.099341,-117.099341,-117.099334,-117.099334,-117.099328,-117.099328,-117.099328,-117.099316,-117.099312,-117.099307,-117.099304,-117.099299,-117.099295,-117.09929,-117.09929,-117.09929,-117.099273,-117.099264,-117.099264,-117.099255,-117.099255,-117.099248,-117.099248,-117.09924,-117.099236,-117.099232,-117.099228,-117.099223,-117.099218,-117.099214,-117.099214,-117.099214,-117.099196,-117.099185,-117.099185,-117.099175,-117.099175,-117.099165,-117.099165,-117.099155,-117.09915,-117.099146,-117.099142,-117.099138,-117.099135,-117.099131,-117.099131,-117.099131,-117.099122,-117.099122,-117.099117,-117.099112,-117.099105,-117.099105,-117.099099,-117.099096,-117.099092,-117.099089,-117.099086,-117.099081,-117.099075,-117.099075,-117.099075,-117.099059,-117.099059,-117.09905,-117.09905,-117.099045,-117.099045,-117.099036,-117.099036,-117.099028,-117.099028,-117.09902,-117.099015,-117.099013,-117.099009,-117.099004,-117.099,-117.099,-117.098991,-117.098978,-117.098978,-117.098975,-117.099899,-117.09989,-117.099879,-117.099869,-117.099869,-117.099869,-117.099845,-117.099845,-117.099848,-117.099848,-117.099849,-117.099849,-117.099854,-117.099854,-117.099854,-117.099863,-117.099876,-117.099887,-117.099888,-117.099884,-117.099892,-117.099892,-117.099924,-117.099948,-117.099948,-117.099969,-117.099969,-117.099985,-117.099985,-117.100001,-117.10001,-117.100017,-117.100026,-117.100036,-117.100047,-117.100059,-117.10007,-117.10007,-117.100096,-117.100115,-117.100133,-117.100149,-117.100149,-117.100161,-117.100166,-117.10017,-117.100173,-117.100175,-117.100178,-117.100179,-117.100179,-117.100179,-117.10018,-117.100175,-117.100175,-117.100162,-117.100148,-117.100148,-117.100148,-117.100127,-117.100108,-117.100101,-117.100096],\"marker\":{\"color\":\"#EF553B\"},\"mode\":\"markers\",\"name\":\"Transect 2\",\"showlegend\":true,\"subplot\":\"mapbox\",\"type\":\"scattermapbox\"},{\"customdata\":[[1.0,9.059999999999999,27.75,1064.92,\"2022-07-29T14:35:02-07:00\",\"Transect 3\"],[1.0,8.8,27.75,1055.45,\"2022-07-29T14:35:02-07:00\",\"Transect 3\"],[1.0,9.010000000000002,27.75,1048.52,\"2022-07-29T14:35:08-07:00\",\"Transect 3\"],[1.0,8.870000000000001,27.69,1050.74,\"2022-07-29T14:35:12-07:00\",\"Transect 3\"],[1.0,8.989999999999998,27.81,1047.27,\"2022-07-29T14:35:12-07:00\",\"Transect 3\"],[1.0,8.66,27.81,1035.44,\"2022-07-29T14:35:16-07:00\",\"Transect 3\"],[1.0,9.120000000000001,27.81,1047.27,\"2022-07-29T14:35:16-07:00\",\"Transect 3\"],[1.0,8.84,27.88,1044.8,\"2022-07-29T14:35:20-07:00\",\"Transect 3\"],[1.0,8.86,27.81,1050.74,\"2022-07-29T14:35:20-07:00\",\"Transect 3\"],[1.0,8.7,27.81,1046.04,\"2022-07-29T14:35:20-07:00\",\"Transect 3\"],[1.0,8.68,27.81,1050.74,\"2022-07-29T14:35:26-07:00\",\"Transect 3\"],[1.0,8.780000000000001,27.81,1046.04,\"2022-07-29T14:35:28-07:00\",\"Transect 3\"],[1.0,8.600000000000001,27.75,1064.92,\"2022-07-29T14:35:30-07:00\",\"Transect 3\"],[1.0,8.739999999999998,27.81,1049.5,\"2022-07-29T14:35:32-07:00\",\"Transect 3\"],[1.0,9.05,27.75,1055.45,\"2022-07-29T14:35:34-07:00\",\"Transect 3\"],[1.0,8.66,27.75,1058.93,\"2022-07-29T14:35:36-07:00\",\"Transect 3\"],[1.0,8.809999999999999,27.88,1049.5,\"2022-07-29T14:35:38-07:00\",\"Transect 3\"],[1.0,8.780000000000001,27.75,1063.67,\"2022-07-29T14:35:38-07:00\",\"Transect 3\"],[1.0,9.02,27.81,1049.5,\"2022-07-29T14:35:44-07:00\",\"Transect 3\"],[1.0,8.79,27.81,1054.21,\"2022-07-29T14:35:48-07:00\",\"Transect 3\"],[1.0,9.010000000000002,27.75,1044.8,\"2022-07-29T14:35:48-07:00\",\"Transect 3\"],[1.0,8.86,27.75,1044.8,\"2022-07-29T14:35:52-07:00\",\"Transect 3\"],[1.0,9.370000000000001,27.81,1049.5,\"2022-07-29T14:35:52-07:00\",\"Transect 3\"],[1.0,8.89,27.81,1068.42,\"2022-07-29T14:35:56-07:00\",\"Transect 3\"],[1.0,9.100000000000001,27.88,1055.45,\"2022-07-29T14:35:56-07:00\",\"Transect 3\"],[1.0,8.95,27.81,1054.21,\"2022-07-29T14:35:56-07:00\",\"Transect 3\"],[1.0,8.7,27.75,1049.5,\"2022-07-29T14:36:02-07:00\",\"Transect 3\"],[1.0,9.030000000000001,27.75,1044.8,\"2022-07-29T14:36:04-07:00\",\"Transect 3\"],[1.0,8.89,27.81,1054.21,\"2022-07-29T14:36:06-07:00\",\"Transect 3\"],[1.0,8.829999999999998,27.88,1049.5,\"2022-07-29T14:36:08-07:00\",\"Transect 3\"],[1.0,8.870000000000001,27.81,1054.21,\"2022-07-29T14:36:10-07:00\",\"Transect 3\"],[1.0,9.0,27.88,1060.18,\"2022-07-29T14:36:12-07:00\",\"Transect 3\"],[1.0,9.09,27.88,1049.5,\"2022-07-29T14:36:14-07:00\",\"Transect 3\"],[1.0,8.93,27.88,1049.5,\"2022-07-29T14:36:14-07:00\",\"Transect 3\"],[1.0,9.350000000000001,27.75,999.68,\"2022-07-29T14:36:20-07:00\",\"Transect 3\"],[1.0,8.870000000000001,27.88,1058.93,\"2022-07-29T14:36:24-07:00\",\"Transect 3\"],[1.0,8.8,27.88,1062.41,\"2022-07-29T14:36:24-07:00\",\"Transect 3\"],[1.0,9.11,27.88,1044.8,\"2022-07-29T14:36:28-07:00\",\"Transect 3\"],[1.0,9.309999999999999,27.81,1054.21,\"2022-07-29T14:36:28-07:00\",\"Transect 3\"],[1.0,8.780000000000001,27.81,1062.41,\"2022-07-29T14:36:32-07:00\",\"Transect 3\"],[1.0,8.850000000000001,27.88,1052.96,\"2022-07-29T14:36:32-07:00\",\"Transect 3\"],[1.0,8.739999999999998,27.81,1057.68,\"2022-07-29T14:36:32-07:00\",\"Transect 3\"],[1.0,8.850000000000001,27.88,1043.57,\"2022-07-29T14:36:38-07:00\",\"Transect 3\"],[1.0,8.870000000000001,27.94,1057.68,\"2022-07-29T14:36:40-07:00\",\"Transect 3\"],[1.0,8.780000000000001,27.94,1062.41,\"2022-07-29T14:36:42-07:00\",\"Transect 3\"],[1.0,9.129999999999999,27.88,1048.26,\"2022-07-29T14:36:44-07:00\",\"Transect 3\"],[1.0,8.73,27.81,1043.57,\"2022-07-29T14:36:46-07:00\",\"Transect 3\"],[1.0,8.530000000000001,27.94,1048.26,\"2022-07-29T14:36:48-07:00\",\"Transect 3\"],[1.0,8.45,27.94,1052.96,\"2022-07-29T14:36:50-07:00\",\"Transect 3\"],[1.0,9.23,27.94,1057.68,\"2022-07-29T14:36:50-07:00\",\"Transect 3\"],[1.0,8.829999999999998,27.94,1043.57,\"2022-07-29T14:36:56-07:00\",\"Transect 3\"],[1.0,9.079999999999998,27.94,988.21,\"2022-07-29T14:36:56-07:00\",\"Transect 3\"],[1.0,8.809999999999999,27.88,1043.57,\"2022-07-29T14:37:00-07:00\",\"Transect 3\"],[1.0,9.23,27.94,1049.5,\"2022-07-29T14:37:04-07:00\",\"Transect 3\"],[1.0,9.059999999999999,27.94,1043.57,\"2022-07-29T14:37:08-07:00\",\"Transect 3\"],[1.0,9.149999999999999,27.94,1052.96,\"2022-07-29T14:37:08-07:00\",\"Transect 3\"],[1.0,8.77,27.94,1048.26,\"2022-07-29T14:37:08-07:00\",\"Transect 3\"],[1.0,8.920000000000002,27.94,1065.9,\"2022-07-29T14:37:14-07:00\",\"Transect 3\"],[1.0,8.5,27.88,1056.43,\"2022-07-29T14:37:16-07:00\",\"Transect 3\"],[1.0,8.620000000000001,27.88,1047.02,\"2022-07-29T14:37:18-07:00\",\"Transect 3\"],[1.0,8.73,28.0,1042.33,\"2022-07-29T14:37:20-07:00\",\"Transect 3\"],[1.0,8.649999999999999,27.94,1065.9,\"2022-07-29T14:37:22-07:00\",\"Transect 3\"],[1.0,8.52,28.0,1045.79,\"2022-07-29T14:37:24-07:00\",\"Transect 3\"],[1.0,8.260000000000002,28.0,1041.11,\"2022-07-29T14:37:26-07:00\",\"Transect 3\"],[1.0,8.27,27.94,1059.91,\"2022-07-29T14:37:26-07:00\",\"Transect 3\"],[1.0,8.41,27.94,997.32,\"2022-07-29T14:37:32-07:00\",\"Transect 3\"],[1.0,7.859999999999999,28.06,1047.02,\"2022-07-29T14:37:36-07:00\",\"Transect 3\"],[1.0,7.789999999999999,28.0,1056.43,\"2022-07-29T14:37:36-07:00\",\"Transect 3\"],[1.0,7.879999999999999,28.0,1051.72,\"2022-07-29T14:37:40-07:00\",\"Transect 3\"],[1.0,8.0,27.88,1051.72,\"2022-07-29T14:37:44-07:00\",\"Transect 3\"],[1.0,7.66,28.06,1047.02,\"2022-07-29T14:37:44-07:00\",\"Transect 3\"],[1.0,7.690000000000001,27.94,1061.16,\"2022-07-29T14:37:44-07:00\",\"Transect 3\"],[1.0,7.91,27.94,994.97,\"2022-07-29T14:37:50-07:00\",\"Transect 3\"],[1.0,7.809999999999999,28.0,1051.72,\"2022-07-29T14:37:52-07:00\",\"Transect 3\"],[1.0,7.789999999999999,28.0,1056.43,\"2022-07-29T14:37:54-07:00\",\"Transect 3\"],[1.0,7.59,27.88,1042.33,\"2022-07-29T14:37:56-07:00\",\"Transect 3\"],[1.0,7.800000000000001,27.94,1047.02,\"2022-07-29T14:37:58-07:00\",\"Transect 3\"],[1.0,7.710000000000001,27.88,1057.68,\"2022-07-29T14:38:00-07:00\",\"Transect 3\"],[1.0,7.609999999999999,27.94,997.32,\"2022-07-29T14:38:02-07:00\",\"Transect 3\"],[1.0,7.510000000000002,27.94,1057.68,\"2022-07-29T14:38:02-07:00\",\"Transect 3\"],[1.0,7.600000000000001,27.88,1057.68,\"2022-07-29T14:38:08-07:00\",\"Transect 3\"],[1.0,7.800000000000001,27.94,1000.71,\"2022-07-29T14:38:08-07:00\",\"Transect 3\"],[1.0,7.27,27.94,1048.26,\"2022-07-29T14:38:12-07:00\",\"Transect 3\"],[1.0,7.57,27.94,1058.93,\"2022-07-29T14:38:12-07:00\",\"Transect 3\"],[1.0,7.550000000000001,27.94,1056.43,\"2022-07-29T14:38:16-07:00\",\"Transect 3\"],[1.0,7.109999999999999,27.94,1068.42,\"2022-07-29T14:38:16-07:00\",\"Transect 3\"],[1.0,7.09,27.94,1057.68,\"2022-07-29T14:38:20-07:00\",\"Transect 3\"],[1.0,7.210000000000001,28.0,1059.91,\"2022-07-29T14:38:20-07:00\",\"Transect 3\"],[1.0,7.32,28.0,1061.16,\"2022-07-29T14:38:20-07:00\",\"Transect 3\"],[1.0,7.140000000000001,28.06,1065.9,\"2022-07-29T14:38:26-07:00\",\"Transect 3\"],[1.0,7.219999999999999,27.94,1061.16,\"2022-07-29T14:38:28-07:00\",\"Transect 3\"],[1.0,7.120000000000001,27.94,1045.79,\"2022-07-29T14:38:30-07:00\",\"Transect 3\"],[1.0,7.199999999999999,28.06,1045.79,\"2022-07-29T14:38:32-07:00\",\"Transect 3\"],[1.0,6.99,28.06,1050.48,\"2022-07-29T14:38:34-07:00\",\"Transect 3\"],[1.0,7.010000000000002,28.06,1045.79,\"2022-07-29T14:38:36-07:00\",\"Transect 3\"],[1.0,6.93,28.06,1055.19,\"2022-07-29T14:38:38-07:00\",\"Transect 3\"],[1.0,6.91,28.0,1055.19,\"2022-07-29T14:38:38-07:00\",\"Transect 3\"],[1.0,7.059999999999999,28.06,1048.26,\"2022-07-29T14:38:44-07:00\",\"Transect 3\"],[1.0,7.370000000000001,28.06,1047.02,\"2022-07-29T14:38:48-07:00\",\"Transect 3\"],[1.0,6.859999999999999,28.0,1061.16,\"2022-07-29T14:38:48-07:00\",\"Transect 3\"],[1.0,6.73,28.0,1059.91,\"2022-07-29T14:38:52-07:00\",\"Transect 3\"],[1.0,7.100000000000001,28.06,1045.79,\"2022-07-29T14:38:52-07:00\",\"Transect 3\"],[1.0,6.83,28.13,1058.66,\"2022-07-29T14:38:56-07:00\",\"Transect 3\"],[1.0,6.74,28.13,1064.64,\"2022-07-29T14:38:56-07:00\",\"Transect 3\"],[1.0,6.48,28.0,1041.11,\"2022-07-29T14:39:02-07:00\",\"Transect 3\"],[1.0,6.609999999999999,28.06,1053.95,\"2022-07-29T14:39:04-07:00\",\"Transect 3\"],[1.0,6.68,28.0,1045.79,\"2022-07-29T14:39:06-07:00\",\"Transect 3\"],[1.0,6.609999999999999,28.0,1050.48,\"2022-07-29T14:39:08-07:00\",\"Transect 3\"],[1.0,6.5600000000000005,27.94,1050.48,\"2022-07-29T14:39:10-07:00\",\"Transect 3\"],[1.0,6.49,28.06,1055.19,\"2022-07-29T14:39:12-07:00\",\"Transect 3\"],[1.0,6.83,28.06,1059.91,\"2022-07-29T14:39:14-07:00\",\"Transect 3\"],[1.0,7.23,28.06,1058.66,\"2022-07-29T14:39:14-07:00\",\"Transect 3\"],[1.0,6.74,28.13,1065.9,\"2022-07-29T14:39:14-07:00\",\"Transect 3\"],[1.0,7.300000000000001,28.06,1004.1,\"2022-07-29T14:39:22-07:00\",\"Transect 3\"],[1.0,7.23,28.0,1055.19,\"2022-07-29T14:39:26-07:00\",\"Transect 3\"],[1.0,7.41,28.06,1065.9,\"2022-07-29T14:39:26-07:00\",\"Transect 3\"],[1.0,7.52,28.06,1049.25,\"2022-07-29T14:39:30-07:00\",\"Transect 3\"],[1.0,8.2,28.0,1051.72,\"2022-07-29T14:39:30-07:00\",\"Transect 3\"],[1.0,7.940000000000001,28.13,1045.79,\"2022-07-29T14:39:34-07:00\",\"Transect 3\"],[1.0,8.489999999999998,28.13,1063.39,\"2022-07-29T14:39:34-07:00\",\"Transect 3\"],[1.0,8.440000000000001,28.0,1059.91,\"2022-07-29T14:39:38-07:00\",\"Transect 3\"],[1.0,8.329999999999998,28.06,1041.11,\"2022-07-29T14:39:40-07:00\",\"Transect 3\"],[1.0,8.440000000000001,28.0,1050.48,\"2022-07-29T14:39:42-07:00\",\"Transect 3\"],[1.0,8.469999999999999,28.0,1053.95,\"2022-07-29T14:39:44-07:00\",\"Transect 3\"],[1.0,8.98,28.13,1030.57,\"2022-07-29T14:39:46-07:00\",\"Transect 3\"],[1.0,8.82,28.06,1049.25,\"2022-07-29T14:39:48-07:00\",\"Transect 3\"],[1.0,8.989999999999998,28.06,1059.91,\"2022-07-29T14:39:50-07:00\",\"Transect 3\"],[1.0,8.79,28.06,1053.95,\"2022-07-29T14:39:50-07:00\",\"Transect 3\"],[1.0,8.57,28.06,1053.95,\"2022-07-29T14:39:50-07:00\",\"Transect 3\"],[1.0,8.7,28.19,1045.79,\"2022-07-29T14:39:58-07:00\",\"Transect 3\"],[1.0,8.620000000000001,28.06,1038.66,\"2022-07-29T14:40:02-07:00\",\"Transect 3\"],[1.0,8.600000000000001,28.06,993.8,\"2022-07-29T14:40:02-07:00\",\"Transect 3\"],[1.0,8.420000000000002,28.13,1048.01,\"2022-07-29T14:40:06-07:00\",\"Transect 3\"],[1.0,8.48,28.06,1044.56,\"2022-07-29T14:40:06-07:00\",\"Transect 3\"],[1.0,8.43,28.06,1062.14,\"2022-07-29T14:40:10-07:00\",\"Transect 3\"],[1.0,8.559999999999999,28.13,1053.95,\"2022-07-29T14:40:10-07:00\",\"Transect 3\"],[1.0,8.57,28.13,1039.88,\"2022-07-29T14:40:14-07:00\",\"Transect 3\"],[1.0,8.36,28.06,1049.25,\"2022-07-29T14:40:16-07:00\",\"Transect 3\"],[1.0,8.170000000000002,28.0,1041.11,\"2022-07-29T14:40:20-07:00\",\"Transect 3\"],[1.0,8.059999999999999,28.0,1065.9,\"2022-07-29T14:40:22-07:00\",\"Transect 3\"],[1.0,8.280000000000001,28.0,1065.9,\"2022-07-29T14:40:24-07:00\",\"Transect 3\"],[1.0,8.36,28.0,1052.96,\"2022-07-29T14:40:26-07:00\",\"Transect 3\"],[1.0,8.5,27.94,1042.33,\"2022-07-29T14:40:30-07:00\",\"Transect 3\"],[1.0,8.18,27.94,1020.29,\"2022-07-29T14:40:30-07:00\",\"Transect 3\"],[1.0,8.16,27.94,1049.5,\"2022-07-29T14:40:34-07:00\",\"Transect 3\"],[1.0,8.23,27.81,1006.47,\"2022-07-29T14:40:34-07:00\",\"Transect 3\"],[1.0,7.890000000000001,27.81,1048.26,\"2022-07-29T14:40:38-07:00\",\"Transect 3\"],[1.0,8.120000000000001,27.94,1012.26,\"2022-07-29T14:40:38-07:00\",\"Transect 3\"],[1.0,8.420000000000002,27.81,1073.18,\"2022-07-29T14:40:42-07:00\",\"Transect 3\"],[1.0,8.09,27.88,1058.93,\"2022-07-29T14:40:42-07:00\",\"Transect 3\"],[1.0,8.239999999999998,27.94,1057.68,\"2022-07-29T14:40:46-07:00\",\"Transect 3\"],[1.0,8.219999999999999,27.88,1057.68,\"2022-07-29T14:40:46-07:00\",\"Transect 3\"],[1.0,8.07,27.94,1062.41,\"2022-07-29T14:40:50-07:00\",\"Transect 3\"],[1.0,8.39,27.88,1062.41,\"2022-07-29T14:40:52-07:00\",\"Transect 3\"],[1.0,8.170000000000002,27.75,1067.15,\"2022-07-29T14:40:54-07:00\",\"Transect 3\"],[1.0,8.120000000000001,27.81,1052.96,\"2022-07-29T14:40:56-07:00\",\"Transect 3\"],[1.0,7.879999999999999,27.81,1049.5,\"2022-07-29T14:40:58-07:00\",\"Transect 3\"],[1.0,8.11,27.88,1054.21,\"2022-07-29T14:41:00-07:00\",\"Transect 3\"],[1.0,7.899999999999999,27.88,1068.42,\"2022-07-29T14:41:02-07:00\",\"Transect 3\"],[1.0,8.02,27.81,1063.67,\"2022-07-29T14:41:04-07:00\",\"Transect 3\"],[1.0,7.98,27.88,1063.67,\"2022-07-29T14:41:04-07:00\",\"Transect 3\"],[1.0,8.61,27.81,1058.93,\"2022-07-29T14:41:10-07:00\",\"Transect 3\"],[1.0,8.09,27.88,1066.19,\"2022-07-29T14:41:10-07:00\",\"Transect 3\"],[1.0,8.59,27.94,1063.67,\"2022-07-29T14:41:14-07:00\",\"Transect 3\"],[1.0,8.190000000000001,27.88,1060.18,\"2022-07-29T14:41:14-07:00\",\"Transect 3\"],[1.0,8.260000000000002,27.81,1058.93,\"2022-07-29T14:41:18-07:00\",\"Transect 3\"],[1.0,8.14,27.81,1068.42,\"2022-07-29T14:41:18-07:00\",\"Transect 3\"],[1.0,8.14,27.81,1063.67,\"2022-07-29T14:41:22-07:00\",\"Transect 3\"],[1.0,8.36,27.88,1055.45,\"2022-07-29T14:41:22-07:00\",\"Transect 3\"],[1.0,8.059999999999999,27.94,1058.93,\"2022-07-29T14:41:26-07:00\",\"Transect 3\"],[1.0,8.030000000000001,27.81,998.49,\"2022-07-29T14:41:28-07:00\",\"Transect 3\"],[1.0,8.05,27.88,1058.93,\"2022-07-29T14:41:30-07:00\",\"Transect 3\"],[1.0,8.02,27.88,1068.42,\"2022-07-29T14:41:32-07:00\",\"Transect 3\"],[1.0,7.899999999999999,27.81,1054.21,\"2022-07-29T14:41:34-07:00\",\"Transect 3\"],[1.0,8.14,27.94,1073.18,\"2022-07-29T14:41:36-07:00\",\"Transect 3\"],[1.0,8.079999999999998,27.81,1068.42,\"2022-07-29T14:41:38-07:00\",\"Transect 3\"],[1.0,8.239999999999998,27.88,1068.42,\"2022-07-29T14:41:40-07:00\",\"Transect 3\"],[1.0,7.850000000000001,27.81,1054.21,\"2022-07-29T14:41:40-07:00\",\"Transect 3\"],[1.0,8.09,27.88,998.49,\"2022-07-29T14:41:46-07:00\",\"Transect 3\"],[1.0,8.27,27.81,1054.21,\"2022-07-29T14:41:46-07:00\",\"Transect 3\"],[1.0,8.21,27.88,1058.93,\"2022-07-29T14:41:50-07:00\",\"Transect 3\"],[1.0,8.36,27.81,1075.72,\"2022-07-29T14:41:50-07:00\",\"Transect 3\"],[1.0,8.129999999999999,27.81,1063.67,\"2022-07-29T14:41:54-07:00\",\"Transect 3\"],[1.0,8.36,27.88,1061.44,\"2022-07-29T14:41:54-07:00\",\"Transect 3\"],[1.0,8.420000000000002,27.81,1063.67,\"2022-07-29T14:41:58-07:00\",\"Transect 3\"],[1.0,8.760000000000002,27.88,1068.42,\"2022-07-29T14:41:58-07:00\",\"Transect 3\"],[1.0,8.149999999999999,27.81,1058.93,\"2022-07-29T14:41:58-07:00\",\"Transect 3\"],[1.0,7.949999999999999,27.88,1058.93,\"2022-07-29T14:42:04-07:00\",\"Transect 3\"],[1.0,8.370000000000001,27.88,1049.5,\"2022-07-29T14:42:06-07:00\",\"Transect 3\"],[1.0,8.010000000000002,27.81,1068.42,\"2022-07-29T14:42:08-07:00\",\"Transect 3\"],[1.0,8.11,27.81,1054.21,\"2022-07-29T14:42:10-07:00\",\"Transect 3\"],[1.0,8.399999999999999,27.81,1058.93,\"2022-07-29T14:42:12-07:00\",\"Transect 3\"],[1.0,8.559999999999999,27.88,1058.93,\"2022-07-29T14:42:14-07:00\",\"Transect 3\"],[1.0,8.0,27.81,1063.67,\"2022-07-29T14:42:16-07:00\",\"Transect 3\"],[1.0,8.2,27.81,1054.21,\"2022-07-29T14:42:16-07:00\",\"Transect 3\"],[1.0,7.960000000000001,27.81,1056.71,\"2022-07-29T14:42:22-07:00\",\"Transect 3\"],[1.0,8.3,27.88,1063.67,\"2022-07-29T14:42:26-07:00\",\"Transect 3\"],[1.0,8.239999999999998,27.81,1068.42,\"2022-07-29T14:42:26-07:00\",\"Transect 3\"],[1.0,8.16,27.94,1063.67,\"2022-07-29T14:42:30-07:00\",\"Transect 3\"],[1.0,8.079999999999998,27.81,1069.68,\"2022-07-29T14:42:30-07:00\",\"Transect 3\"],[1.0,8.100000000000001,27.88,1058.93,\"2022-07-29T14:42:34-07:00\",\"Transect 3\"],[1.0,8.059999999999999,27.81,1063.67,\"2022-07-29T14:42:34-07:00\",\"Transect 3\"],[1.0,7.82,27.81,1054.21,\"2022-07-29T14:42:34-07:00\",\"Transect 3\"],[1.0,7.829999999999998,27.75,1063.67,\"2022-07-29T14:42:40-07:00\",\"Transect 3\"],[1.0,7.960000000000001,27.88,1063.67,\"2022-07-29T14:42:42-07:00\",\"Transect 3\"],[1.0,7.920000000000002,27.81,1058.93,\"2022-07-29T14:42:44-07:00\",\"Transect 3\"],[1.0,7.870000000000001,27.88,1068.42,\"2022-07-29T14:42:46-07:00\",\"Transect 3\"],[1.0,7.809999999999999,27.81,1058.93,\"2022-07-29T14:42:48-07:00\",\"Transect 3\"],[1.0,7.809999999999999,27.88,1044.8,\"2022-07-29T14:42:50-07:00\",\"Transect 3\"],[1.0,7.699999999999999,27.88,1063.67,\"2022-07-29T14:42:52-07:00\",\"Transect 3\"],[1.0,7.82,27.88,1061.44,\"2022-07-29T14:42:52-07:00\",\"Transect 3\"],[1.0,7.440000000000001,27.81,1073.18,\"2022-07-29T14:42:58-07:00\",\"Transect 3\"],[1.0,7.649999999999999,27.75,1061.44,\"2022-07-29T14:42:58-07:00\",\"Transect 3\"],[1.0,7.440000000000001,27.81,1056.71,\"2022-07-29T14:43:02-07:00\",\"Transect 3\"],[1.0,7.420000000000002,27.94,1058.93,\"2022-07-29T14:43:06-07:00\",\"Transect 3\"],[1.0,7.289999999999999,27.81,1069.68,\"2022-07-29T14:43:06-07:00\",\"Transect 3\"],[1.0,7.23,27.88,1063.67,\"2022-07-29T14:43:10-07:00\",\"Transect 3\"],[1.0,7.84,27.88,1064.92,\"2022-07-29T14:43:10-07:00\",\"Transect 3\"],[1.0,6.98,27.88,1058.93,\"2022-07-29T14:43:10-07:00\",\"Transect 3\"],[1.0,7.359999999999999,27.81,1007.66,\"2022-07-29T14:43:16-07:00\",\"Transect 3\"],[1.0,7.0,27.88,1058.93,\"2022-07-29T14:43:18-07:00\",\"Transect 3\"],[1.0,7.07,27.81,1054.21,\"2022-07-29T14:43:20-07:00\",\"Transect 3\"],[1.0,7.300000000000001,27.88,1054.21,\"2022-07-29T14:43:22-07:00\",\"Transect 3\"],[1.0,7.170000000000002,27.88,1054.21,\"2022-07-29T14:43:24-07:00\",\"Transect 3\"],[1.0,6.75,27.75,1058.93,\"2022-07-29T14:43:26-07:00\",\"Transect 3\"],[1.0,6.92,27.88,1068.42,\"2022-07-29T14:43:28-07:00\",\"Transect 3\"],[1.0,6.880000000000001,27.81,1058.93,\"2022-07-29T14:43:28-07:00\",\"Transect 3\"],[1.0,6.859999999999999,27.88,1054.21,\"2022-07-29T14:43:34-07:00\",\"Transect 3\"],[1.0,7.149999999999999,27.75,1068.42,\"2022-07-29T14:43:38-07:00\",\"Transect 3\"],[1.0,7.379999999999999,27.88,1050.74,\"2022-07-29T14:43:38-07:00\",\"Transect 3\"],[1.0,6.84,27.88,1060.18,\"2022-07-29T14:43:42-07:00\",\"Transect 3\"],[1.0,6.779999999999999,27.81,1021.5,\"2022-07-29T14:43:42-07:00\",\"Transect 3\"],[1.0,6.99,27.88,1069.68,\"2022-07-29T14:43:46-07:00\",\"Transect 3\"],[1.0,7.0,27.88,1060.18,\"2022-07-29T14:43:46-07:00\",\"Transect 3\"],[1.0,6.869999999999999,27.88,1048.26,\"2022-07-29T14:43:46-07:00\",\"Transect 3\"],[1.0,6.710000000000001,27.81,1054.21,\"2022-07-29T14:43:52-07:00\",\"Transect 3\"],[1.0,6.98,27.88,1063.67,\"2022-07-29T14:43:54-07:00\",\"Transect 3\"],[1.0,7.41,27.81,1050.74,\"2022-07-29T14:43:56-07:00\",\"Transect 3\"],[1.0,6.84,27.88,1058.93,\"2022-07-29T14:43:58-07:00\",\"Transect 3\"],[1.0,7.010000000000002,27.88,1079.23,\"2022-07-29T14:44:00-07:00\",\"Transect 3\"],[1.0,7.27,27.88,1068.42,\"2022-07-29T14:44:02-07:00\",\"Transect 3\"],[1.0,7.370000000000001,27.81,1069.68,\"2022-07-29T14:44:04-07:00\",\"Transect 3\"],[1.0,7.73,27.75,1054.21,\"2022-07-29T14:44:04-07:00\",\"Transect 3\"],[1.0,7.960000000000001,27.88,1069.68,\"2022-07-29T14:44:10-07:00\",\"Transect 3\"]],\"hovertemplate\":\"transect category=%{customdata[5]}<br>lat=%{lat}<br>lon=%{lon}<br>boat_id=%{customdata[0]}<br>level=%{customdata[1]}<br>degree=%{customdata[2]}<br>ppm=%{customdata[3]}<br>timestamp=%{customdata[4]}<extra></extra>\",\"lat\":[32.914473,32.914473,32.914504,32.914519,32.914519,32.914535,32.914535,32.914544,32.914544,32.914544,32.914514,32.914506,32.914498,32.914487,32.914477,32.914467,32.914457,32.914457,32.914425,32.914406,32.914406,32.914389,32.914389,32.914373,32.914373,32.914373,32.914347,32.914337,32.914327,32.914318,32.914308,32.914299,32.91429,32.91429,32.914263,32.914244,32.914244,32.914225,32.914225,32.91421,32.91421,32.91421,32.914193,32.914188,32.91418,32.914167,32.914156,32.914147,32.914139,32.914139,32.914115,32.914115,32.914095,32.914077,32.914071,32.914071,32.914071,32.914071,32.914068,32.914063,32.914058,32.914055,32.914057,32.914059,32.914059,32.914071,32.914073,32.914073,32.914073,32.914067,32.914067,32.914067,32.914058,32.914056,32.914052,32.914049,32.914045,32.914038,32.914034,32.914034,32.914035,32.914035,32.914036,32.914036,32.914034,32.914034,32.914035,32.914035,32.914035,32.91405,32.914051,32.914054,32.914053,32.914052,32.914051,32.914051,32.914051,32.914049,32.914052,32.914052,32.914056,32.914056,32.914059,32.914059,32.914069,32.914071,32.914073,32.914072,32.914072,32.914071,32.914078,32.914078,32.914078,32.914073,32.914067,32.914067,32.914058,32.914058,32.914044,32.914044,32.914024,32.914012,32.913999,32.913987,32.913976,32.913973,32.913977,32.913977,32.913977,32.913998,32.914021,32.914021,32.914045,32.914045,32.914068,32.914068,32.914091,32.914102,32.914126,32.914138,32.914149,32.91416,32.914182,32.914182,32.914204,32.914204,32.914226,32.914226,32.914247,32.914247,32.914269,32.914269,32.91429,32.9143,32.914311,32.914322,32.914332,32.914341,32.91435,32.91436,32.91436,32.914389,32.914389,32.914407,32.914407,32.914424,32.914424,32.914441,32.914441,32.914456,32.914463,32.914471,32.914479,32.914486,32.914494,32.914501,32.914507,32.914507,32.91452,32.91452,32.914523,32.914523,32.914524,32.914524,32.914527,32.914527,32.914527,32.91453,32.914532,32.914532,32.914534,32.914536,32.914538,32.914542,32.914542,32.914561,32.914574,32.914574,32.914586,32.914586,32.914591,32.914591,32.914591,32.914596,32.914597,32.914599,32.914601,32.914604,32.914608,32.914611,32.914611,32.914617,32.914617,32.91462,32.914625,32.914625,32.914628,32.914628,32.914628,32.914631,32.914634,32.914637,32.91464,32.914643,32.914645,32.914648,32.914648,32.914655,32.914659,32.914659,32.914664,32.914664,32.914667,32.914667,32.914667,32.914674,32.914676,32.914678,32.914681,32.914682,32.914679,32.914676,32.914676,32.914668],\"legendgroup\":\"Transect 3\",\"lon\":[-117.100092,-117.100092,-117.100077,-117.100068,-117.100068,-117.100052,-117.100052,-117.100031,-117.100031,-117.100031,-117.100034,-117.100045,-117.100051,-117.100052,-117.100055,-117.100058,-117.100059,-117.100059,-117.100056,-117.100055,-117.100055,-117.100054,-117.100054,-117.10006,-117.10006,-117.10006,-117.100066,-117.100066,-117.100067,-117.100068,-117.10007,-117.100071,-117.100072,-117.100072,-117.100071,-117.100069,-117.100069,-117.100065,-117.100065,-117.100071,-117.100071,-117.100071,-117.100093,-117.1001,-117.100101,-117.100088,-117.100078,-117.100074,-117.100073,-117.100073,-117.100078,-117.100078,-117.10007,-117.100051,-117.100047,-117.100047,-117.100047,-117.100046,-117.10005,-117.100047,-117.100041,-117.100043,-117.100048,-117.100054,-117.100054,-117.100058,-117.100058,-117.100058,-117.100062,-117.100071,-117.100071,-117.100071,-117.100085,-117.100084,-117.100084,-117.100092,-117.100096,-117.100095,-117.100094,-117.100094,-117.100091,-117.100091,-117.100087,-117.100087,-117.100087,-117.100087,-117.100091,-117.100091,-117.100091,-117.100092,-117.100091,-117.10009,-117.10009,-117.10009,-117.100091,-117.100093,-117.100093,-117.100093,-117.100088,-117.100088,-117.10009,-117.10009,-117.100086,-117.100086,-117.100086,-117.100084,-117.100083,-117.100082,-117.100079,-117.100075,-117.100071,-117.100071,-117.100071,-117.100082,-117.100104,-117.100104,-117.100128,-117.100128,-117.100145,-117.100145,-117.100152,-117.100146,-117.100134,-117.10012,-117.100106,-117.100099,-117.100095,-117.100095,-117.100095,-117.100063,-117.100072,-117.100072,-117.100083,-117.100083,-117.100092,-117.100092,-117.100099,-117.100102,-117.100107,-117.100108,-117.10011,-117.100113,-117.100115,-117.100115,-117.100117,-117.100117,-117.10012,-117.10012,-117.100124,-117.100124,-117.10013,-117.10013,-117.100139,-117.100143,-117.100146,-117.10015,-117.100154,-117.100158,-117.100162,-117.100165,-117.100165,-117.100176,-117.100176,-117.100188,-117.100188,-117.100199,-117.100199,-117.10021,-117.10021,-117.100224,-117.100232,-117.100239,-117.100246,-117.100253,-117.100261,-117.100268,-117.100276,-117.100276,-117.100303,-117.100303,-117.100321,-117.100321,-117.100341,-117.100341,-117.100361,-117.100361,-117.100361,-117.100391,-117.100402,-117.100412,-117.100423,-117.100433,-117.100443,-117.100453,-117.100453,-117.100475,-117.10048,-117.10048,-117.100475,-117.100475,-117.100475,-117.100475,-117.100475,-117.100472,-117.100471,-117.10047,-117.100468,-117.100467,-117.100465,-117.100464,-117.100464,-117.100461,-117.100461,-117.10046,-117.100458,-117.100458,-117.100452,-117.100452,-117.100452,-117.100443,-117.100441,-117.100441,-117.10044,-117.10044,-117.100439,-117.100439,-117.100439,-117.100434,-117.100429,-117.100429,-117.100425,-117.100425,-117.100422,-117.100422,-117.100422,-117.100415,-117.100414,-117.100412,-117.100411,-117.100409,-117.100395,-117.10038,-117.10038,-117.100337],\"marker\":{\"color\":\"#00cc96\"},\"mode\":\"markers\",\"name\":\"Transect 3\",\"showlegend\":true,\"subplot\":\"mapbox\",\"type\":\"scattermapbox\"}],                        {\"template\":{\"data\":{\"histogram2dcontour\":[{\"type\":\"histogram2dcontour\",\"colorbar\":{\"outlinewidth\":0,\"ticks\":\"\"},\"colorscale\":[[0.0,\"#0d0887\"],[0.1111111111111111,\"#46039f\"],[0.2222222222222222,\"#7201a8\"],[0.3333333333333333,\"#9c179e\"],[0.4444444444444444,\"#bd3786\"],[0.5555555555555556,\"#d8576b\"],[0.6666666666666666,\"#ed7953\"],[0.7777777777777778,\"#fb9f3a\"],[0.8888888888888888,\"#fdca26\"],[1.0,\"#f0f921\"]]}],\"choropleth\":[{\"type\":\"choropleth\",\"colorbar\":{\"outlinewidth\":0,\"ticks\":\"\"}}],\"histogram2d\":[{\"type\":\"histogram2d\",\"colorbar\":{\"outlinewidth\":0,\"ticks\":\"\"},\"colorscale\":[[0.0,\"#0d0887\"],[0.1111111111111111,\"#46039f\"],[0.2222222222222222,\"#7201a8\"],[0.3333333333333333,\"#9c179e\"],[0.4444444444444444,\"#bd3786\"],[0.5555555555555556,\"#d8576b\"],[0.6666666666666666,\"#ed7953\"],[0.7777777777777778,\"#fb9f3a\"],[0.8888888888888888,\"#fdca26\"],[1.0,\"#f0f921\"]]}],\"heatmap\":[{\"type\":\"heatmap\",\"colorbar\":{\"outlinewidth\":0,\"ticks\":\"\"},\"colorscale\":[[0.0,\"#0d0887\"],[0.1111111111111111,\"#46039f\"],[0.2222222222222222,\"#7201a8\"],[0.3333333333333333,\"#9c179e\"],[0.4444444444444444,\"#bd3786\"],[0.5555555555555556,\"#d8576b\"],[0.6666666666666666,\"#ed7953\"],[0.7777777777777778,\"#fb9f3a\"],[0.8888888888888888,\"#fdca26\"],[1.0,\"#f0f921\"]]}],\"heatmapgl\":[{\"type\":\"heatmapgl\",\"colorbar\":{\"outlinewidth\":0,\"ticks\":\"\"},\"colorscale\":[[0.0,\"#0d0887\"],[0.1111111111111111,\"#46039f\"],[0.2222222222222222,\"#7201a8\"],[0.3333333333333333,\"#9c179e\"],[0.4444444444444444,\"#bd3786\"],[0.5555555555555556,\"#d8576b\"],[0.6666666666666666,\"#ed7953\"],[0.7777777777777778,\"#fb9f3a\"],[0.8888888888888888,\"#fdca26\"],[1.0,\"#f0f921\"]]}],\"contourcarpet\":[{\"type\":\"contourcarpet\",\"colorbar\":{\"outlinewidth\":0,\"ticks\":\"\"}}],\"contour\":[{\"type\":\"contour\",\"colorbar\":{\"outlinewidth\":0,\"ticks\":\"\"},\"colorscale\":[[0.0,\"#0d0887\"],[0.1111111111111111,\"#46039f\"],[0.2222222222222222,\"#7201a8\"],[0.3333333333333333,\"#9c179e\"],[0.4444444444444444,\"#bd3786\"],[0.5555555555555556,\"#d8576b\"],[0.6666666666666666,\"#ed7953\"],[0.7777777777777778,\"#fb9f3a\"],[0.8888888888888888,\"#fdca26\"],[1.0,\"#f0f921\"]]}],\"surface\":[{\"type\":\"surface\",\"colorbar\":{\"outlinewidth\":0,\"ticks\":\"\"},\"colorscale\":[[0.0,\"#0d0887\"],[0.1111111111111111,\"#46039f\"],[0.2222222222222222,\"#7201a8\"],[0.3333333333333333,\"#9c179e\"],[0.4444444444444444,\"#bd3786\"],[0.5555555555555556,\"#d8576b\"],[0.6666666666666666,\"#ed7953\"],[0.7777777777777778,\"#fb9f3a\"],[0.8888888888888888,\"#fdca26\"],[1.0,\"#f0f921\"]]}],\"mesh3d\":[{\"type\":\"mesh3d\",\"colorbar\":{\"outlinewidth\":0,\"ticks\":\"\"}}],\"scatter\":[{\"fillpattern\":{\"fillmode\":\"overlay\",\"size\":10,\"solidity\":0.2},\"type\":\"scatter\"}],\"parcoords\":[{\"type\":\"parcoords\",\"line\":{\"colorbar\":{\"outlinewidth\":0,\"ticks\":\"\"}}}],\"scatterpolargl\":[{\"type\":\"scatterpolargl\",\"marker\":{\"colorbar\":{\"outlinewidth\":0,\"ticks\":\"\"}}}],\"bar\":[{\"error_x\":{\"color\":\"#2a3f5f\"},\"error_y\":{\"color\":\"#2a3f5f\"},\"marker\":{\"line\":{\"color\":\"#E5ECF6\",\"width\":0.5},\"pattern\":{\"fillmode\":\"overlay\",\"size\":10,\"solidity\":0.2}},\"type\":\"bar\"}],\"scattergeo\":[{\"type\":\"scattergeo\",\"marker\":{\"colorbar\":{\"outlinewidth\":0,\"ticks\":\"\"}}}],\"scatterpolar\":[{\"type\":\"scatterpolar\",\"marker\":{\"colorbar\":{\"outlinewidth\":0,\"ticks\":\"\"}}}],\"histogram\":[{\"marker\":{\"pattern\":{\"fillmode\":\"overlay\",\"size\":10,\"solidity\":0.2}},\"type\":\"histogram\"}],\"scattergl\":[{\"type\":\"scattergl\",\"marker\":{\"colorbar\":{\"outlinewidth\":0,\"ticks\":\"\"}}}],\"scatter3d\":[{\"type\":\"scatter3d\",\"line\":{\"colorbar\":{\"outlinewidth\":0,\"ticks\":\"\"}},\"marker\":{\"colorbar\":{\"outlinewidth\":0,\"ticks\":\"\"}}}],\"scattermapbox\":[{\"type\":\"scattermapbox\",\"marker\":{\"colorbar\":{\"outlinewidth\":0,\"ticks\":\"\"}}}],\"scatterternary\":[{\"type\":\"scatterternary\",\"marker\":{\"colorbar\":{\"outlinewidth\":0,\"ticks\":\"\"}}}],\"scattercarpet\":[{\"type\":\"scattercarpet\",\"marker\":{\"colorbar\":{\"outlinewidth\":0,\"ticks\":\"\"}}}],\"carpet\":[{\"aaxis\":{\"endlinecolor\":\"#2a3f5f\",\"gridcolor\":\"white\",\"linecolor\":\"white\",\"minorgridcolor\":\"white\",\"startlinecolor\":\"#2a3f5f\"},\"baxis\":{\"endlinecolor\":\"#2a3f5f\",\"gridcolor\":\"white\",\"linecolor\":\"white\",\"minorgridcolor\":\"white\",\"startlinecolor\":\"#2a3f5f\"},\"type\":\"carpet\"}],\"table\":[{\"cells\":{\"fill\":{\"color\":\"#EBF0F8\"},\"line\":{\"color\":\"white\"}},\"header\":{\"fill\":{\"color\":\"#C8D4E3\"},\"line\":{\"color\":\"white\"}},\"type\":\"table\"}],\"barpolar\":[{\"marker\":{\"line\":{\"color\":\"#E5ECF6\",\"width\":0.5},\"pattern\":{\"fillmode\":\"overlay\",\"size\":10,\"solidity\":0.2}},\"type\":\"barpolar\"}],\"pie\":[{\"automargin\":true,\"type\":\"pie\"}]},\"layout\":{\"autotypenumbers\":\"strict\",\"colorway\":[\"#636efa\",\"#EF553B\",\"#00cc96\",\"#ab63fa\",\"#FFA15A\",\"#19d3f3\",\"#FF6692\",\"#B6E880\",\"#FF97FF\",\"#FECB52\"],\"font\":{\"color\":\"#2a3f5f\"},\"hovermode\":\"closest\",\"hoverlabel\":{\"align\":\"left\"},\"paper_bgcolor\":\"white\",\"plot_bgcolor\":\"#E5ECF6\",\"polar\":{\"bgcolor\":\"#E5ECF6\",\"angularaxis\":{\"gridcolor\":\"white\",\"linecolor\":\"white\",\"ticks\":\"\"},\"radialaxis\":{\"gridcolor\":\"white\",\"linecolor\":\"white\",\"ticks\":\"\"}},\"ternary\":{\"bgcolor\":\"#E5ECF6\",\"aaxis\":{\"gridcolor\":\"white\",\"linecolor\":\"white\",\"ticks\":\"\"},\"baxis\":{\"gridcolor\":\"white\",\"linecolor\":\"white\",\"ticks\":\"\"},\"caxis\":{\"gridcolor\":\"white\",\"linecolor\":\"white\",\"ticks\":\"\"}},\"coloraxis\":{\"colorbar\":{\"outlinewidth\":0,\"ticks\":\"\"}},\"colorscale\":{\"sequential\":[[0.0,\"#0d0887\"],[0.1111111111111111,\"#46039f\"],[0.2222222222222222,\"#7201a8\"],[0.3333333333333333,\"#9c179e\"],[0.4444444444444444,\"#bd3786\"],[0.5555555555555556,\"#d8576b\"],[0.6666666666666666,\"#ed7953\"],[0.7777777777777778,\"#fb9f3a\"],[0.8888888888888888,\"#fdca26\"],[1.0,\"#f0f921\"]],\"sequentialminus\":[[0.0,\"#0d0887\"],[0.1111111111111111,\"#46039f\"],[0.2222222222222222,\"#7201a8\"],[0.3333333333333333,\"#9c179e\"],[0.4444444444444444,\"#bd3786\"],[0.5555555555555556,\"#d8576b\"],[0.6666666666666666,\"#ed7953\"],[0.7777777777777778,\"#fb9f3a\"],[0.8888888888888888,\"#fdca26\"],[1.0,\"#f0f921\"]],\"diverging\":[[0,\"#8e0152\"],[0.1,\"#c51b7d\"],[0.2,\"#de77ae\"],[0.3,\"#f1b6da\"],[0.4,\"#fde0ef\"],[0.5,\"#f7f7f7\"],[0.6,\"#e6f5d0\"],[0.7,\"#b8e186\"],[0.8,\"#7fbc41\"],[0.9,\"#4d9221\"],[1,\"#276419\"]]},\"xaxis\":{\"gridcolor\":\"white\",\"linecolor\":\"white\",\"ticks\":\"\",\"title\":{\"standoff\":15},\"zerolinecolor\":\"white\",\"automargin\":true,\"zerolinewidth\":2},\"yaxis\":{\"gridcolor\":\"white\",\"linecolor\":\"white\",\"ticks\":\"\",\"title\":{\"standoff\":15},\"zerolinecolor\":\"white\",\"automargin\":true,\"zerolinewidth\":2},\"scene\":{\"xaxis\":{\"backgroundcolor\":\"#E5ECF6\",\"gridcolor\":\"white\",\"linecolor\":\"white\",\"showbackground\":true,\"ticks\":\"\",\"zerolinecolor\":\"white\",\"gridwidth\":2},\"yaxis\":{\"backgroundcolor\":\"#E5ECF6\",\"gridcolor\":\"white\",\"linecolor\":\"white\",\"showbackground\":true,\"ticks\":\"\",\"zerolinecolor\":\"white\",\"gridwidth\":2},\"zaxis\":{\"backgroundcolor\":\"#E5ECF6\",\"gridcolor\":\"white\",\"linecolor\":\"white\",\"showbackground\":true,\"ticks\":\"\",\"zerolinecolor\":\"white\",\"gridwidth\":2}},\"shapedefaults\":{\"line\":{\"color\":\"#2a3f5f\"}},\"annotationdefaults\":{\"arrowcolor\":\"#2a3f5f\",\"arrowhead\":0,\"arrowwidth\":1},\"geo\":{\"bgcolor\":\"white\",\"landcolor\":\"#E5ECF6\",\"subunitcolor\":\"white\",\"showland\":true,\"showlakes\":true,\"lakecolor\":\"white\"},\"title\":{\"x\":0.05},\"mapbox\":{\"style\":\"light\"}}},\"mapbox\":{\"domain\":{\"x\":[0.0,1.0],\"y\":[0.0,1.0]},\"center\":{\"lat\":32.914545758169936,\"lon\":-117.09997645016338},\"zoom\":8,\"style\":\"open-street-map\"},\"legend\":{\"title\":{\"text\":\"transect category\"},\"tracegroupgap\":0},\"margin\":{\"t\":0,\"r\":0,\"l\":0,\"b\":0},\"height\":600},                        {\"responsive\": true}                    ).then(function(){\n",
       "                            \n",
       "var gd = document.getElementById('2a4d3378-f91b-4633-b40a-a6743080723a');\n",
       "var x = new MutationObserver(function (mutations, observer) {{\n",
       "        var display = window.getComputedStyle(gd).display;\n",
       "        if (!display || display === 'none') {{\n",
       "            console.log([gd, 'removed!']);\n",
       "            Plotly.purge(gd);\n",
       "            observer.disconnect();\n",
       "        }}\n",
       "}});\n",
       "\n",
       "// Listen for the removal of the full notebook cells\n",
       "var notebookContainer = gd.closest('#notebook-container');\n",
       "if (notebookContainer) {{\n",
       "    x.observe(notebookContainer, {childList: true});\n",
       "}}\n",
       "\n",
       "// Listen for the clearing of the current output cell\n",
       "var outputEl = gd.closest('.output');\n",
       "if (outputEl) {{\n",
       "    x.observe(outputEl, {childList: true});\n",
       "}}\n",
       "\n",
       "                        })                };                });            </script>        </div>"
      ]
     },
     "metadata": {},
     "output_type": "display_data"
    }
   ],
   "source": [
    "import plotly.express as px\n",
    "import plotly.graph_objects as go\n",
    "import dash\n",
    "from dash import Dash, dash_table\n",
    "from dash import dcc\n",
    "from dash import html\n",
    "from dash.dependencies import Input, Output, State\n",
    "\n",
    "df_wtr['level'].round(decimals = 2)\n",
    "\n",
    "fig = px.scatter_mapbox(df_wtr, lat=\"lat\", lon=\"lon\", hover_data=[\"boat_id\", \"level\", \"degree\", \"ppm\", \"timestamp\", \"transect category\"], height=600, color=\"transect category\")\n",
    "fig.update_layout(mapbox_style=\"open-street-map\")\n",
    "fig.update_layout(margin={\"r\":0,\"t\":0,\"l\":0,\"b\":0})"
   ]
  },
  {
   "cell_type": "markdown",
   "id": "e44a2396",
   "metadata": {},
   "source": [
    "### Linear Regression"
   ]
  },
  {
   "cell_type": "code",
   "execution_count": 12,
   "id": "43a19866",
   "metadata": {},
   "outputs": [
    {
     "data": {
      "text/html": [
       "<table class=\"simpletable\">\n",
       "<caption>OLS Regression Results</caption>\n",
       "<tr>\n",
       "  <th>Dep. Variable:</th>          <td>level</td>      <th>  R-squared:         </th> <td>   0.038</td>\n",
       "</tr>\n",
       "<tr>\n",
       "  <th>Model:</th>                   <td>OLS</td>       <th>  Adj. R-squared:    </th> <td>   0.037</td>\n",
       "</tr>\n",
       "<tr>\n",
       "  <th>Method:</th>             <td>Least Squares</td>  <th>  F-statistic:       </th> <td>   47.79</td>\n",
       "</tr>\n",
       "<tr>\n",
       "  <th>Date:</th>             <td>Wed, 03 Aug 2022</td> <th>  Prob (F-statistic):</th> <td>7.61e-12</td>\n",
       "</tr>\n",
       "<tr>\n",
       "  <th>Time:</th>                 <td>11:41:59</td>     <th>  Log-Likelihood:    </th> <td> -1726.5</td>\n",
       "</tr>\n",
       "<tr>\n",
       "  <th>No. Observations:</th>      <td>  1224</td>      <th>  AIC:               </th> <td>   3457.</td>\n",
       "</tr>\n",
       "<tr>\n",
       "  <th>Df Residuals:</th>          <td>  1222</td>      <th>  BIC:               </th> <td>   3467.</td>\n",
       "</tr>\n",
       "<tr>\n",
       "  <th>Df Model:</th>              <td>     1</td>      <th>                     </th>     <td> </td>   \n",
       "</tr>\n",
       "<tr>\n",
       "  <th>Covariance Type:</th>      <td>nonrobust</td>    <th>                     </th>     <td> </td>   \n",
       "</tr>\n",
       "</table>\n",
       "<table class=\"simpletable\">\n",
       "<tr>\n",
       "      <td></td>         <th>coef</th>     <th>std err</th>      <th>t</th>      <th>P>|t|</th>  <th>[0.025</th>    <th>0.975]</th>  \n",
       "</tr>\n",
       "<tr>\n",
       "  <th>Intercept</th> <td>   -4.7465</td> <td>    1.773</td> <td>   -2.678</td> <td> 0.008</td> <td>   -8.224</td> <td>   -1.269</td>\n",
       "</tr>\n",
       "<tr>\n",
       "  <th>ppm</th>       <td>    0.0116</td> <td>    0.002</td> <td>    6.913</td> <td> 0.000</td> <td>    0.008</td> <td>    0.015</td>\n",
       "</tr>\n",
       "</table>\n",
       "<table class=\"simpletable\">\n",
       "<tr>\n",
       "  <th>Omnibus:</th>       <td>581.153</td> <th>  Durbin-Watson:     </th> <td>   0.196</td>\n",
       "</tr>\n",
       "<tr>\n",
       "  <th>Prob(Omnibus):</th> <td> 0.000</td>  <th>  Jarque-Bera (JB):  </th> <td>  67.878</td>\n",
       "</tr>\n",
       "<tr>\n",
       "  <th>Skew:</th>          <td>-0.102</td>  <th>  Prob(JB):          </th> <td>1.82e-15</td>\n",
       "</tr>\n",
       "<tr>\n",
       "  <th>Kurtosis:</th>      <td> 1.865</td>  <th>  Cond. No.          </th> <td>6.59e+04</td>\n",
       "</tr>\n",
       "</table><br/><br/>Notes:<br/>[1] Standard Errors assume that the covariance matrix of the errors is correctly specified.<br/>[2] The condition number is large, 6.59e+04. This might indicate that there are<br/>strong multicollinearity or other numerical problems."
      ],
      "text/plain": [
       "<class 'statsmodels.iolib.summary.Summary'>\n",
       "\"\"\"\n",
       "                            OLS Regression Results                            \n",
       "==============================================================================\n",
       "Dep. Variable:                  level   R-squared:                       0.038\n",
       "Model:                            OLS   Adj. R-squared:                  0.037\n",
       "Method:                 Least Squares   F-statistic:                     47.79\n",
       "Date:                Wed, 03 Aug 2022   Prob (F-statistic):           7.61e-12\n",
       "Time:                        11:41:59   Log-Likelihood:                -1726.5\n",
       "No. Observations:                1224   AIC:                             3457.\n",
       "Df Residuals:                    1222   BIC:                             3467.\n",
       "Df Model:                           1                                         \n",
       "Covariance Type:            nonrobust                                         \n",
       "==============================================================================\n",
       "                 coef    std err          t      P>|t|      [0.025      0.975]\n",
       "------------------------------------------------------------------------------\n",
       "Intercept     -4.7465      1.773     -2.678      0.008      -8.224      -1.269\n",
       "ppm            0.0116      0.002      6.913      0.000       0.008       0.015\n",
       "==============================================================================\n",
       "Omnibus:                      581.153   Durbin-Watson:                   0.196\n",
       "Prob(Omnibus):                  0.000   Jarque-Bera (JB):               67.878\n",
       "Skew:                          -0.102   Prob(JB):                     1.82e-15\n",
       "Kurtosis:                       1.865   Cond. No.                     6.59e+04\n",
       "==============================================================================\n",
       "\n",
       "Notes:\n",
       "[1] Standard Errors assume that the covariance matrix of the errors is correctly specified.\n",
       "[2] The condition number is large, 6.59e+04. This might indicate that there are\n",
       "strong multicollinearity or other numerical problems.\n",
       "\"\"\""
      ]
     },
     "execution_count": 12,
     "metadata": {},
     "output_type": "execute_result"
    }
   ],
   "source": [
    "df_wtr2 = df_wtr[df_wtr.boat_id == 1] \n",
    "\n",
    "model2 = ols('level ~ ppm', data=df_wtr2).fit()\n",
    "model2.summary()"
   ]
  },
  {
   "cell_type": "code",
   "execution_count": 13,
   "id": "3f0da042",
   "metadata": {},
   "outputs": [
    {
     "data": {
      "text/plain": [
       "<AxesSubplot:xlabel='ppm', ylabel='level'>"
      ]
     },
     "execution_count": 13,
     "metadata": {},
     "output_type": "execute_result"
    },
    {
     "data": {
      "image/png": "[encoded data removed]",
      "text/plain": [
       "<Figure size 432x288 with 1 Axes>"
      ]
     },
     "metadata": {
      "needs_background": "light"
     },
     "output_type": "display_data"
    }
   ],
   "source": [
    "predx1 = df_wtr['ppm']\n",
    "predx2 = df_wtr['degree']\n",
    "predy = predx1 * 0.0119 + predx2 * 0.9974 - 32.8145\n",
    "# predy = -32 + (coef1 * ppm + coef2 * degree) \n",
    "\n",
    "sns.scatterplot(data = df_wtr, x = 'ppm', y = 'level', palette = ['blue'])\n",
    "sns.scatterplot(x = predx1, y = predy)"
   ]
  },
  {
   "cell_type": "markdown",
   "id": "45ae124f",
   "metadata": {},
   "source": [
    "## Evaluating Goodness of Fit -- Checking Model Assumptions\n",
    "\n",
    "* Independence Assumption\n",
    "* Linearity / Mean Zero Assumption\n",
    "* Constant Variance Assumption\n",
    "* Normality Assumption"
   ]
  },
  {
   "cell_type": "code",
   "execution_count": 15,
   "id": "f4297f0f",
   "metadata": {},
   "outputs": [
    {
     "data": {
      "image/png": "[encoded data removed]",
      "text/plain": [
       "<Figure size 432x288 with 1 Axes>"
      ]
     },
     "metadata": {
      "needs_background": "light"
     },
     "output_type": "display_data"
    }
   ],
   "source": [
    "g = sns.scatterplot(\n",
    "    data=df_wtr,\n",
    "    x='ppm',\n",
    "    y=model2.resid,\n",
    "    hue='boat_id',\n",
    ").set(\n",
    "    title='Residuals vs Total Dissolved Solids',\n",
    "    xlabel='TDS (ppm)',\n",
    "    ylabel='Residuals (pH)'\n",
    ")"
   ]
  },
  {
   "cell_type": "markdown",
   "id": "7b61a2b9",
   "metadata": {},
   "source": [
    "#### Checking Independence Assumption \n",
    "\n",
    "**Are the data independently pulled from the population?  You can't really check for this after the fact.  It should be built into the experiment from the beginning.**\n",
    "\n",
    "There may be some clustering around 1000 ppm and 1060 ppm, so the independence assumption may not hold."
   ]
  },
  {
   "cell_type": "markdown",
   "id": "ee1017e4",
   "metadata": {},
   "source": [
    "#### Constant Variance Assumption\n",
    "\n",
    "**Does the variance of the residuals appear to be the same throughout the residuals graph?**\n",
    "\n",
    "The constant variance assumption appears to hold because there appears to be the same variance at low and high ppm values."
   ]
  },
  {
   "cell_type": "code",
   "execution_count": 16,
   "id": "eae7b544",
   "metadata": {},
   "outputs": [
    {
     "data": {
      "image/png": "[encoded data removed]",
      "text/plain": [
       "<Figure size 432x288 with 1 Axes>"
      ]
     },
     "metadata": {
      "needs_background": "light"
     },
     "output_type": "display_data"
    }
   ],
   "source": [
    "g = sns.histplot(\n",
    "    x = model2.resid\n",
    ")"
   ]
  },
  {
   "cell_type": "code",
   "execution_count": 17,
   "id": "044e21ec",
   "metadata": {},
   "outputs": [
    {
     "data": {
      "image/png": "[encoded data removed]",
      "text/plain": [
       "<Figure size 432x288 with 1 Axes>"
      ]
     },
     "metadata": {
      "needs_background": "light"
     },
     "output_type": "display_data"
    }
   ],
   "source": [
    "g = sm.qqplot(\n",
    "    model2.resid,\n",
    "    line='45'\n",
    ")"
   ]
  },
  {
   "cell_type": "code",
   "execution_count": 18,
   "id": "084db8fe",
   "metadata": {},
   "outputs": [
    {
     "name": "stdout",
     "output_type": "stream",
     "text": [
      "Z-score statistic 581.1532781197341\n",
      "p-value 6.370434963499156e-127\n"
     ]
    }
   ],
   "source": [
    "from scipy.stats import normaltest\n",
    "z_score_stat, p_value = normaltest(model2.resid)\n",
    "print(\"Z-score statistic\",z_score_stat)\n",
    "print(\"p-value\",p_value)"
   ]
  },
  {
   "cell_type": "markdown",
   "id": "f4e94c1d",
   "metadata": {},
   "source": [
    "#### Normality Assumption\n",
    "\n",
    "**Do the residuals appear to come from a normal distribution?**\n",
    "\n",
    "Both the Q-Q Plot and the normality test suggest that the residuals are not pulled from a normal distribution, and the normality assumption may not hold."
   ]
  },
  {
   "cell_type": "markdown",
   "id": "0a022dcf",
   "metadata": {},
   "source": [
    "### Training and Testing"
   ]
  },
  {
   "cell_type": "code",
   "execution_count": 19,
   "id": "0da2645e",
   "metadata": {},
   "outputs": [],
   "source": [
    "from sklearn import tree\n",
    "from sklearn.model_selection import train_test_split\n",
    "from sklearn.tree import DecisionTreeRegressor\n",
    "\n",
    "#features = ['ppm','degree']\n",
    "#X = df_wtr.loc[:, features]\n",
    "X = df_wtr.loc[:, ['ppm']]\n",
    "y = df_wtr.loc[:, ['level']]\n",
    "\n",
    "X_train, X_test, y_train, y_test = train_test_split(X, y, random_state=0, train_size = .80)"
   ]
  },
  {
   "cell_type": "code",
   "execution_count": 21,
   "id": "5df2f762",
   "metadata": {},
   "outputs": [
    {
     "ename": "NameError",
     "evalue": "name 'reg' is not defined",
     "output_type": "error",
     "traceback": [
      "\u001b[1;31m----------------------------------------------------------\u001b[0m",
      "\u001b[1;31mNameError\u001b[0m                Traceback (most recent call last)",
      "Input \u001b[1;32mIn [21]\u001b[0m, in \u001b[0;36m<cell line: 1>\u001b[1;34m()\u001b[0m\n\u001b[1;32m----> 1\u001b[0m \u001b[43mreg\u001b[49m\u001b[38;5;241m.\u001b[39mfit(X_train, y_train)\n",
      "\u001b[1;31mNameError\u001b[0m: name 'reg' is not defined"
     ]
    }
   ],
   "source": [
    "reg.fit(X_train, y_train)"
   ]
  },
  {
   "cell_type": "code",
   "execution_count": 22,
   "id": "ce3b0d3a",
   "metadata": {
    "scrolled": true
   },
   "outputs": [
    {
     "data": {
      "text/html": [
       "<table class=\"simpletable\">\n",
       "<caption>OLS Regression Results</caption>\n",
       "<tr>\n",
       "  <th>Dep. Variable:</th>         <td>y_test</td>      <th>  R-squared:         </th> <td>   0.037</td>\n",
       "</tr>\n",
       "<tr>\n",
       "  <th>Model:</th>                   <td>OLS</td>       <th>  Adj. R-squared:    </th> <td>   0.033</td>\n",
       "</tr>\n",
       "<tr>\n",
       "  <th>Method:</th>             <td>Least Squares</td>  <th>  F-statistic:       </th> <td>   9.207</td>\n",
       "</tr>\n",
       "<tr>\n",
       "  <th>Date:</th>             <td>Wed, 03 Aug 2022</td> <th>  Prob (F-statistic):</th>  <td>0.00267</td>\n",
       "</tr>\n",
       "<tr>\n",
       "  <th>Time:</th>                 <td>11:45:57</td>     <th>  Log-Likelihood:    </th> <td> -338.96</td>\n",
       "</tr>\n",
       "<tr>\n",
       "  <th>No. Observations:</th>      <td>   245</td>      <th>  AIC:               </th> <td>   681.9</td>\n",
       "</tr>\n",
       "<tr>\n",
       "  <th>Df Residuals:</th>          <td>   243</td>      <th>  BIC:               </th> <td>   688.9</td>\n",
       "</tr>\n",
       "<tr>\n",
       "  <th>Df Model:</th>              <td>     1</td>      <th>                     </th>     <td> </td>   \n",
       "</tr>\n",
       "<tr>\n",
       "  <th>Covariance Type:</th>      <td>nonrobust</td>    <th>                     </th>     <td> </td>   \n",
       "</tr>\n",
       "</table>\n",
       "<table class=\"simpletable\">\n",
       "<tr>\n",
       "      <td></td>         <th>coef</th>     <th>std err</th>      <th>t</th>      <th>P>|t|</th>  <th>[0.025</th>    <th>0.975]</th>  \n",
       "</tr>\n",
       "<tr>\n",
       "  <th>Intercept</th> <td>   -3.4042</td> <td>    3.616</td> <td>   -0.942</td> <td> 0.347</td> <td>  -10.526</td> <td>    3.718</td>\n",
       "</tr>\n",
       "<tr>\n",
       "  <th>X_test</th>    <td>    0.0104</td> <td>    0.003</td> <td>    3.034</td> <td> 0.003</td> <td>    0.004</td> <td>    0.017</td>\n",
       "</tr>\n",
       "</table>\n",
       "<table class=\"simpletable\">\n",
       "<tr>\n",
       "  <th>Omnibus:</th>       <td>53.029</td> <th>  Durbin-Watson:     </th> <td>   2.143</td>\n",
       "</tr>\n",
       "<tr>\n",
       "  <th>Prob(Omnibus):</th> <td> 0.000</td> <th>  Jarque-Bera (JB):  </th> <td>  13.457</td>\n",
       "</tr>\n",
       "<tr>\n",
       "  <th>Skew:</th>          <td>-0.253</td> <th>  Prob(JB):          </th> <td> 0.00120</td>\n",
       "</tr>\n",
       "<tr>\n",
       "  <th>Kurtosis:</th>      <td> 1.970</td> <th>  Cond. No.          </th> <td>6.16e+04</td>\n",
       "</tr>\n",
       "</table><br/><br/>Notes:<br/>[1] Standard Errors assume that the covariance matrix of the errors is correctly specified.<br/>[2] The condition number is large, 6.16e+04. This might indicate that there are<br/>strong multicollinearity or other numerical problems."
      ],
      "text/plain": [
       "<class 'statsmodels.iolib.summary.Summary'>\n",
       "\"\"\"\n",
       "                            OLS Regression Results                            \n",
       "==============================================================================\n",
       "Dep. Variable:                 y_test   R-squared:                       0.037\n",
       "Model:                            OLS   Adj. R-squared:                  0.033\n",
       "Method:                 Least Squares   F-statistic:                     9.207\n",
       "Date:                Wed, 03 Aug 2022   Prob (F-statistic):            0.00267\n",
       "Time:                        11:45:57   Log-Likelihood:                -338.96\n",
       "No. Observations:                 245   AIC:                             681.9\n",
       "Df Residuals:                     243   BIC:                             688.9\n",
       "Df Model:                           1                                         \n",
       "Covariance Type:            nonrobust                                         \n",
       "==============================================================================\n",
       "                 coef    std err          t      P>|t|      [0.025      0.975]\n",
       "------------------------------------------------------------------------------\n",
       "Intercept     -3.4042      3.616     -0.942      0.347     -10.526       3.718\n",
       "X_test         0.0104      0.003      3.034      0.003       0.004       0.017\n",
       "==============================================================================\n",
       "Omnibus:                       53.029   Durbin-Watson:                   2.143\n",
       "Prob(Omnibus):                  0.000   Jarque-Bera (JB):               13.457\n",
       "Skew:                          -0.253   Prob(JB):                      0.00120\n",
       "Kurtosis:                       1.970   Cond. No.                     6.16e+04\n",
       "==============================================================================\n",
       "\n",
       "Notes:\n",
       "[1] Standard Errors assume that the covariance matrix of the errors is correctly specified.\n",
       "[2] The condition number is large, 6.16e+04. This might indicate that there are\n",
       "strong multicollinearity or other numerical problems.\n",
       "\"\"\""
      ]
     },
     "execution_count": 22,
     "metadata": {},
     "output_type": "execute_result"
    }
   ],
   "source": [
    "df_wtr3 = X_test\n",
    "\n",
    "model3 = ols('y_test ~ X_test', data=df_wtr3).fit()\n",
    "model3.summary()"
   ]
  },
  {
   "cell_type": "code",
   "execution_count": 23,
   "id": "cd19f233",
   "metadata": {},
   "outputs": [
    {
     "data": {
      "text/plain": [
       "<AxesSubplot:xlabel='ppm', ylabel='level'>"
      ]
     },
     "execution_count": 23,
     "metadata": {},
     "output_type": "execute_result"
    },
    {
     "data": {
      "image/png": "[encoded data removed]",
      "text/plain": [
       "<Figure size 432x288 with 1 Axes>"
      ]
     },
     "metadata": {
      "needs_background": "light"
     },
     "output_type": "display_data"
    }
   ],
   "source": [
    "predictions = X_test\n",
    "predictions['y_hat'] = predictions['ppm'] * 0.0104 - 3.4042\n",
    "sns.scatterplot(data = df_wtr, x = 'ppm', y = 'level', palette = ['blue'])\n",
    "sns.lineplot(data=predictions, x='ppm', y='y_hat')"
   ]
  },
  {
   "cell_type": "markdown",
   "id": "5f720291",
   "metadata": {},
   "source": [
    "The R-Squared value for the entire dataset is 0.037, which means that this model may not be ideal. There were two humps in the residuals, the the smaller first hump may be a result of rounding issues with the sensors. We can clean the data to ignore the values in this smaller hump to see if that model would be better. "
   ]
  },
  {
   "cell_type": "code",
   "execution_count": 26,
   "id": "7be8e556",
   "metadata": {},
   "outputs": [],
   "source": [
    "df_wtr2 = df_wtr2[df_wtr2.degree > 27.5]\n",
    "df_wtr2 = df_wtr2[df_wtr2.ppm > 1025]"
   ]
  },
  {
   "cell_type": "code",
   "execution_count": 27,
   "id": "a0cb2e85",
   "metadata": {},
   "outputs": [
    {
     "data": {
      "text/html": [
       "<table class=\"simpletable\">\n",
       "<caption>OLS Regression Results</caption>\n",
       "<tr>\n",
       "  <th>Dep. Variable:</th>          <td>level</td>      <th>  R-squared:         </th> <td>   0.155</td>\n",
       "</tr>\n",
       "<tr>\n",
       "  <th>Model:</th>                   <td>OLS</td>       <th>  Adj. R-squared:    </th> <td>   0.153</td>\n",
       "</tr>\n",
       "<tr>\n",
       "  <th>Method:</th>             <td>Least Squares</td>  <th>  F-statistic:       </th> <td>   101.2</td>\n",
       "</tr>\n",
       "<tr>\n",
       "  <th>Date:</th>             <td>Wed, 03 Aug 2022</td> <th>  Prob (F-statistic):</th> <td>4.36e-41</td>\n",
       "</tr>\n",
       "<tr>\n",
       "  <th>Time:</th>                 <td>11:47:14</td>     <th>  Log-Likelihood:    </th> <td> -1481.3</td>\n",
       "</tr>\n",
       "<tr>\n",
       "  <th>No. Observations:</th>      <td>  1110</td>      <th>  AIC:               </th> <td>   2969.</td>\n",
       "</tr>\n",
       "<tr>\n",
       "  <th>Df Residuals:</th>          <td>  1107</td>      <th>  BIC:               </th> <td>   2984.</td>\n",
       "</tr>\n",
       "<tr>\n",
       "  <th>Df Model:</th>              <td>     2</td>      <th>                     </th>     <td> </td>   \n",
       "</tr>\n",
       "<tr>\n",
       "  <th>Covariance Type:</th>      <td>nonrobust</td>    <th>                     </th>     <td> </td>   \n",
       "</tr>\n",
       "</table>\n",
       "<table class=\"simpletable\">\n",
       "<tr>\n",
       "      <td></td>         <th>coef</th>     <th>std err</th>      <th>t</th>      <th>P>|t|</th>  <th>[0.025</th>    <th>0.975]</th>  \n",
       "</tr>\n",
       "<tr>\n",
       "  <th>Intercept</th> <td> -100.0278</td> <td>    8.941</td> <td>  -11.187</td> <td> 0.000</td> <td> -117.572</td> <td>  -82.484</td>\n",
       "</tr>\n",
       "<tr>\n",
       "  <th>ppm</th>       <td>    0.0322</td> <td>    0.003</td> <td>   11.324</td> <td> 0.000</td> <td>    0.027</td> <td>    0.038</td>\n",
       "</tr>\n",
       "<tr>\n",
       "  <th>degree</th>    <td>    2.6433</td> <td>    0.301</td> <td>    8.774</td> <td> 0.000</td> <td>    2.052</td> <td>    3.234</td>\n",
       "</tr>\n",
       "</table>\n",
       "<table class=\"simpletable\">\n",
       "<tr>\n",
       "  <th>Omnibus:</th>       <td>165.959</td> <th>  Durbin-Watson:     </th> <td>   0.286</td>\n",
       "</tr>\n",
       "<tr>\n",
       "  <th>Prob(Omnibus):</th> <td> 0.000</td>  <th>  Jarque-Bera (JB):  </th> <td>  40.558</td>\n",
       "</tr>\n",
       "<tr>\n",
       "  <th>Skew:</th>          <td> 0.068</td>  <th>  Prob(JB):          </th> <td>1.56e-09</td>\n",
       "</tr>\n",
       "<tr>\n",
       "  <th>Kurtosis:</th>      <td> 2.073</td>  <th>  Cond. No.          </th> <td>3.43e+05</td>\n",
       "</tr>\n",
       "</table><br/><br/>Notes:<br/>[1] Standard Errors assume that the covariance matrix of the errors is correctly specified.<br/>[2] The condition number is large, 3.43e+05. This might indicate that there are<br/>strong multicollinearity or other numerical problems."
      ],
      "text/plain": [
       "<class 'statsmodels.iolib.summary.Summary'>\n",
       "\"\"\"\n",
       "                            OLS Regression Results                            \n",
       "==============================================================================\n",
       "Dep. Variable:                  level   R-squared:                       0.155\n",
       "Model:                            OLS   Adj. R-squared:                  0.153\n",
       "Method:                 Least Squares   F-statistic:                     101.2\n",
       "Date:                Wed, 03 Aug 2022   Prob (F-statistic):           4.36e-41\n",
       "Time:                        11:47:14   Log-Likelihood:                -1481.3\n",
       "No. Observations:                1110   AIC:                             2969.\n",
       "Df Residuals:                    1107   BIC:                             2984.\n",
       "Df Model:                           2                                         \n",
       "Covariance Type:            nonrobust                                         \n",
       "==============================================================================\n",
       "                 coef    std err          t      P>|t|      [0.025      0.975]\n",
       "------------------------------------------------------------------------------\n",
       "Intercept   -100.0278      8.941    -11.187      0.000    -117.572     -82.484\n",
       "ppm            0.0322      0.003     11.324      0.000       0.027       0.038\n",
       "degree         2.6433      0.301      8.774      0.000       2.052       3.234\n",
       "==============================================================================\n",
       "Omnibus:                      165.959   Durbin-Watson:                   0.286\n",
       "Prob(Omnibus):                  0.000   Jarque-Bera (JB):               40.558\n",
       "Skew:                           0.068   Prob(JB):                     1.56e-09\n",
       "Kurtosis:                       2.073   Cond. No.                     3.43e+05\n",
       "==============================================================================\n",
       "\n",
       "Notes:\n",
       "[1] Standard Errors assume that the covariance matrix of the errors is correctly specified.\n",
       "[2] The condition number is large, 3.43e+05. This might indicate that there are\n",
       "strong multicollinearity or other numerical problems.\n",
       "\"\"\""
      ]
     },
     "execution_count": 27,
     "metadata": {},
     "output_type": "execute_result"
    }
   ],
   "source": [
    "model = ols('level ~ ppm + degree', data=df_wtr2).fit()\n",
    "model.summary()"
   ]
  },
  {
   "cell_type": "code",
   "execution_count": 28,
   "id": "82b2fa5c",
   "metadata": {},
   "outputs": [
    {
     "name": "stderr",
     "output_type": "stream",
     "text": [
      "C:\\Users\\clair\\AppData\\Local\\Programs\\Python\\Python310\\lib\\site-packages\\seaborn\\_decorators.py:36: FutureWarning:\n",
      "\n",
      "Pass the following variables as keyword args: x, y. From version 0.12, the only valid positional argument will be `data`, and passing other arguments without an explicit keyword will result in an error or misinterpretation.\n",
      "\n"
     ]
    },
    {
     "data": {
      "image/png": "[encoded data removed]",
      "text/plain": [
       "<Figure size 432x288 with 1 Axes>"
      ]
     },
     "metadata": {
      "needs_background": "light"
     },
     "output_type": "display_data"
    }
   ],
   "source": [
    "g = sns.scatterplot(df_wtr.degree, model.resid)"
   ]
  },
  {
   "cell_type": "code",
   "execution_count": 29,
   "id": "984611ee",
   "metadata": {
    "scrolled": true
   },
   "outputs": [
    {
     "name": "stderr",
     "output_type": "stream",
     "text": [
      "C:\\Users\\clair\\AppData\\Local\\Programs\\Python\\Python310\\lib\\site-packages\\seaborn\\_decorators.py:36: FutureWarning:\n",
      "\n",
      "Pass the following variables as keyword args: x, y. From version 0.12, the only valid positional argument will be `data`, and passing other arguments without an explicit keyword will result in an error or misinterpretation.\n",
      "\n"
     ]
    },
    {
     "data": {
      "image/png": "[encoded data removed]",
      "text/plain": [
       "<Figure size 432x288 with 1 Axes>"
      ]
     },
     "metadata": {
      "needs_background": "light"
     },
     "output_type": "display_data"
    }
   ],
   "source": [
    "g = sns.scatterplot(df_wtr.ppm, model.resid)"
   ]
  },
  {
   "cell_type": "code",
   "execution_count": 30,
   "id": "fd9238dd",
   "metadata": {},
   "outputs": [
    {
     "data": {
      "text/plain": [
       "<AxesSubplot:ylabel='Count'>"
      ]
     },
     "execution_count": 30,
     "metadata": {},
     "output_type": "execute_result"
    },
    {
     "data": {
      "image/png": "[encoded data removed]",
      "text/plain": [
       "<Figure size 432x288 with 1 Axes>"
      ]
     },
     "metadata": {
      "needs_background": "light"
     },
     "output_type": "display_data"
    }
   ],
   "source": [
    "# \n",
    "sns.histplot(\n",
    "    x=model.resid\n",
    ")"
   ]
  },
  {
   "cell_type": "markdown",
   "id": "9742042b",
   "metadata": {},
   "source": [
    "The R-squared value is now 0.155, which is an improvement from before. This may mean that using the dataset that has been cleaned more may result in a better model. "
   ]
  },
  {
   "cell_type": "code",
   "execution_count": 32,
   "id": "8825e640",
   "metadata": {},
   "outputs": [
    {
     "name": "stderr",
     "output_type": "stream",
     "text": [
      "C:\\Users\\clair\\AppData\\Local\\Temp\\ipykernel_20752\\3952984353.py:2: FutureWarning:\n",
      "\n",
      "this method is deprecated in favour of `Styler.format(precision=..)`\n",
      "\n"
     ]
    },
    {
     "data": {
      "text/html": [
       "<style type=\"text/css\">\n",
       "#T_7fb80_row0_col0, #T_7fb80_row1_col1, #T_7fb80_row2_col2 {\n",
       "  background-color: #b40426;\n",
       "  color: #f1f1f1;\n",
       "}\n",
       "#T_7fb80_row0_col1 {\n",
       "  background-color: #8caffe;\n",
       "  color: #000000;\n",
       "}\n",
       "#T_7fb80_row0_col2 {\n",
       "  background-color: #a5c3fe;\n",
       "  color: #000000;\n",
       "}\n",
       "#T_7fb80_row1_col0, #T_7fb80_row1_col2, #T_7fb80_row2_col1 {\n",
       "  background-color: #3b4cc0;\n",
       "  color: #f1f1f1;\n",
       "}\n",
       "#T_7fb80_row2_col0 {\n",
       "  background-color: #5875e1;\n",
       "  color: #f1f1f1;\n",
       "}\n",
       "</style>\n",
       "<table id=\"T_7fb80\">\n",
       "  <thead>\n",
       "    <tr>\n",
       "      <th class=\"blank level0\" >&nbsp;</th>\n",
       "      <th id=\"T_7fb80_level0_col0\" class=\"col_heading level0 col0\" >level</th>\n",
       "      <th id=\"T_7fb80_level0_col1\" class=\"col_heading level0 col1\" >degree</th>\n",
       "      <th id=\"T_7fb80_level0_col2\" class=\"col_heading level0 col2\" >ppm</th>\n",
       "    </tr>\n",
       "  </thead>\n",
       "  <tbody>\n",
       "    <tr>\n",
       "      <th id=\"T_7fb80_level0_row0\" class=\"row_heading level0 row0\" >level</th>\n",
       "      <td id=\"T_7fb80_row0_col0\" class=\"data row0 col0\" >1.00</td>\n",
       "      <td id=\"T_7fb80_row0_col1\" class=\"data row0 col1\" >0.24</td>\n",
       "      <td id=\"T_7fb80_row0_col2\" class=\"data row0 col2\" >0.31</td>\n",
       "    </tr>\n",
       "    <tr>\n",
       "      <th id=\"T_7fb80_level0_row1\" class=\"row_heading level0 row1\" >degree</th>\n",
       "      <td id=\"T_7fb80_row1_col0\" class=\"data row1 col0\" >0.24</td>\n",
       "      <td id=\"T_7fb80_row1_col1\" class=\"data row1 col1\" >1.00</td>\n",
       "      <td id=\"T_7fb80_row1_col2\" class=\"data row1 col2\" >-0.01</td>\n",
       "    </tr>\n",
       "    <tr>\n",
       "      <th id=\"T_7fb80_level0_row2\" class=\"row_heading level0 row2\" >ppm</th>\n",
       "      <td id=\"T_7fb80_row2_col0\" class=\"data row2 col0\" >0.31</td>\n",
       "      <td id=\"T_7fb80_row2_col1\" class=\"data row2 col1\" >-0.01</td>\n",
       "      <td id=\"T_7fb80_row2_col2\" class=\"data row2 col2\" >1.00</td>\n",
       "    </tr>\n",
       "  </tbody>\n",
       "</table>\n"
      ],
      "text/plain": [
       "<pandas.io.formats.style.Styler at 0x1e44e256f20>"
      ]
     },
     "execution_count": 32,
     "metadata": {},
     "output_type": "execute_result"
    }
   ],
   "source": [
    "corr = df_wtr2[['level', 'degree', 'ppm']].corr()\n",
    "corr.style.background_gradient(cmap='coolwarm').set_precision(2)"
   ]
  },
  {
   "cell_type": "code",
   "execution_count": null,
   "id": "49a1244c",
   "metadata": {},
   "outputs": [],
   "source": []
  }
 ],
 "metadata": {
  "kernelspec": {
   "display_name": "Python 3 (ipykernel)",
   "language": "python",
   "name": "python3"
  },
  "language_info": {
   "codemirror_mode": {
    "name": "ipython",
    "version": 3
   },
   "file_extension": ".py",
   "mimetype": "text/x-python",
   "name": "python",
   "nbconvert_exporter": "python",
   "pygments_lexer": "ipython3",
   "version": "3.10.5"
  }
 },
 "nbformat": 4,
 "nbformat_minor": 5
}
